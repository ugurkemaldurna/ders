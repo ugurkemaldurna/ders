{
 "cells": [
  {
   "cell_type": "markdown",
   "metadata": {},
   "source": [
    "### Çok Boyutlu Veri Tipleri (Dictionary)"
   ]
  },
  {
   "cell_type": "code",
   "execution_count": 1,
   "metadata": {},
   "outputs": [
    {
     "data": {
      "text/plain": [
       "{'isim': 'Uğur Kemal', 'yas': 19, 'lokasyon': 'Türkiye'}"
      ]
     },
     "execution_count": 1,
     "metadata": {},
     "output_type": "execute_result"
    }
   ],
   "source": [
    "dict1 = {\"isim\": \"Uğur Kemal\",\"yas\": 19,\"lokasyon\": \"Türkiye\"}\n",
    "dict1"
   ]
  },
  {
   "cell_type": "code",
   "execution_count": 2,
   "metadata": {},
   "outputs": [
    {
     "data": {
      "text/plain": [
       "{'isim': 'Uğur Kemal',\n",
       " 'yas': 19,\n",
       " 'dogdugu_sehir': 'İstanbul',\n",
       " 'yasadigi_sehir': 'Bursa'}"
      ]
     },
     "execution_count": 2,
     "metadata": {},
     "output_type": "execute_result"
    }
   ],
   "source": [
    "dict2 = {\n",
    "    'isim': 'Uğur Kemal',\n",
    "    'yas': 19,\n",
    "    'dogdugu_sehir': 'İstanbul',\n",
    "    'yasadigi_sehir': 'Bursa'\n",
    "    #'lokasyon': 'Türkiye'\n",
    "}\n",
    "dict2"
   ]
  },
  {
   "cell_type": "code",
   "execution_count": 3,
   "metadata": {},
   "outputs": [
    {
     "data": {
      "text/plain": [
       "{'isim': 'Uğur Kemal',\n",
       " 'yas': 19,\n",
       " 'lokasyon': {'dogdugu_sehir': 'İstanbul', 'yasadigi_sehir': 'Bursa'}}"
      ]
     },
     "execution_count": 3,
     "metadata": {},
     "output_type": "execute_result"
    }
   ],
   "source": [
    "dict3 = {\n",
    "    'isim': 'Uğur Kemal',\n",
    "    'yas': 19,\n",
    "    'lokasyon': {\n",
    "        'dogdugu_sehir': 'İstanbul',\n",
    "        'yasadigi_sehir': 'Bursa'\n",
    "    }\n",
    "}\n",
    "dict3"
   ]
  },
  {
   "cell_type": "code",
   "execution_count": 4,
   "metadata": {},
   "outputs": [
    {
     "data": {
      "text/plain": [
       "19"
      ]
     },
     "execution_count": 4,
     "metadata": {},
     "output_type": "execute_result"
    }
   ],
   "source": [
    "dict2['yas']"
   ]
  },
  {
   "cell_type": "code",
   "execution_count": 5,
   "metadata": {},
   "outputs": [
    {
     "data": {
      "text/plain": [
       "19"
      ]
     },
     "execution_count": 5,
     "metadata": {},
     "output_type": "execute_result"
    }
   ],
   "source": [
    "dict2.get('yas')"
   ]
  },
  {
   "cell_type": "code",
   "execution_count": 6,
   "metadata": {},
   "outputs": [
    {
     "data": {
      "text/plain": [
       "19"
      ]
     },
     "execution_count": 6,
     "metadata": {},
     "output_type": "execute_result"
    }
   ],
   "source": [
    "dict3['yas']"
   ]
  },
  {
   "cell_type": "code",
   "execution_count": 7,
   "metadata": {},
   "outputs": [
    {
     "data": {
      "text/plain": [
       "{'dogdugu_sehir': 'İstanbul', 'yasadigi_sehir': 'Bursa'}"
      ]
     },
     "execution_count": 7,
     "metadata": {},
     "output_type": "execute_result"
    }
   ],
   "source": [
    "dict3['lokasyon']"
   ]
  },
  {
   "cell_type": "code",
   "execution_count": 8,
   "metadata": {},
   "outputs": [
    {
     "data": {
      "text/plain": [
       "'Bursa'"
      ]
     },
     "execution_count": 8,
     "metadata": {},
     "output_type": "execute_result"
    }
   ],
   "source": [
    "dict3['lokasyon']['yasadigi_sehir']"
   ]
  },
  {
   "cell_type": "code",
   "execution_count": 9,
   "metadata": {},
   "outputs": [
    {
     "data": {
      "text/plain": [
       "'Bursa'"
      ]
     },
     "execution_count": 9,
     "metadata": {},
     "output_type": "execute_result"
    }
   ],
   "source": [
    "dict3.get('lokasyon').get('yasadigi_sehir')"
   ]
  },
  {
   "cell_type": "code",
   "execution_count": 10,
   "metadata": {},
   "outputs": [
    {
     "data": {
      "text/plain": [
       "dict_keys(['isim', 'yas', 'dogdugu_sehir', 'yasadigi_sehir'])"
      ]
     },
     "execution_count": 10,
     "metadata": {},
     "output_type": "execute_result"
    }
   ],
   "source": [
    "dict2.keys()"
   ]
  },
  {
   "cell_type": "code",
   "execution_count": 11,
   "metadata": {},
   "outputs": [
    {
     "data": {
      "text/plain": [
       "dict_values(['Uğur Kemal', 19, 'İstanbul', 'Bursa'])"
      ]
     },
     "execution_count": 11,
     "metadata": {},
     "output_type": "execute_result"
    }
   ],
   "source": [
    "dict2.values()"
   ]
  },
  {
   "cell_type": "code",
   "execution_count": 12,
   "metadata": {},
   "outputs": [
    {
     "data": {
      "text/plain": [
       "dict_items([('isim', 'Uğur Kemal'), ('yas', 19), ('dogdugu_sehir', 'İstanbul'), ('yasadigi_sehir', 'Bursa')])"
      ]
     },
     "execution_count": 12,
     "metadata": {},
     "output_type": "execute_result"
    }
   ],
   "source": [
    "dict2.items()"
   ]
  },
  {
   "cell_type": "markdown",
   "metadata": {},
   "source": [
    "### if Sorguları"
   ]
  },
  {
   "cell_type": "code",
   "execution_count": 13,
   "metadata": {},
   "outputs": [
    {
     "name": "stdout",
     "output_type": "stream",
     "text": [
      "Şemsiyeni al!\n"
     ]
    }
   ],
   "source": [
    "hava_durumu = \"yagisli\"\n",
    "\n",
    "if hava_durumu == \"yagisli\":\n",
    "    print(\"Şemsiyeni al!\")"
   ]
  },
  {
   "cell_type": "code",
   "execution_count": 14,
   "metadata": {},
   "outputs": [
    {
     "name": "stdout",
     "output_type": "stream",
     "text": [
      "Sorun yok!\n"
     ]
    }
   ],
   "source": [
    "hava_durumu = \"karli\"\n",
    "\n",
    "if hava_durumu == \"yagisli\":\n",
    "    print(\"Şemsiyeni al!\")\n",
    "else:\n",
    "    print(\"Sorun yok!\")"
   ]
  },
  {
   "cell_type": "code",
   "execution_count": 15,
   "metadata": {},
   "outputs": [
    {
     "name": "stdout",
     "output_type": "stream",
     "text": [
      "Atkını al!\n"
     ]
    }
   ],
   "source": [
    "hava_durumu = \"karli\"\n",
    "\n",
    "if hava_durumu == \"yagisli\":\n",
    "    print(\"Şemsiyeni al!\")\n",
    "elif hava_durumu == \"karli\":\n",
    "    print(\"Atkını al!\")\n",
    "else:\n",
    "    print(\"Sorun yok!\")"
   ]
  },
  {
   "cell_type": "code",
   "execution_count": 16,
   "metadata": {},
   "outputs": [
    {
     "name": "stdout",
     "output_type": "stream",
     "text": [
      "Selam\n"
     ]
    }
   ],
   "source": [
    "yas = 19\n",
    "\n",
    "if yas >18:\n",
    "    print(\"Selam\")\n",
    "else:\n",
    "    print(\"Sen buraya ait değilsin!\")"
   ]
  },
  {
   "cell_type": "code",
   "execution_count": 17,
   "metadata": {},
   "outputs": [
    {
     "name": "stdout",
     "output_type": "stream",
     "text": [
      "Listeye ekledim.\n",
      "Güncel liste ['a', 'b', 'c', 'd']\n"
     ]
    }
   ],
   "source": [
    "liste = ['a','b','c']\n",
    "\n",
    "hedef_harf = 'd'\n",
    "\n",
    "if hedef_harf in liste:\n",
    "    print('Buldum.')\n",
    "else:\n",
    "    liste.append(hedef_harf)\n",
    "    print('Listeye ekledim.')\n",
    "    print('Güncel liste {}'.format(liste))"
   ]
  },
  {
   "cell_type": "code",
   "execution_count": 18,
   "metadata": {},
   "outputs": [
    {
     "name": "stdout",
     "output_type": "stream",
     "text": [
      "Buldum ama ilk konumda değil.\n"
     ]
    }
   ],
   "source": [
    "if (hedef_harf in liste) and (hedef_harf == liste[0]):\n",
    "    print('Buldum ve ilk harf konumunda.')\n",
    "elif hedef_harf in liste:\n",
    "    print('Buldum ama ilk konumda değil.')\n",
    "else:\n",
    "    liste.append(hedef_harf)\n",
    "    print('Listeye ekledim.')\n",
    "    print('Güncel liste {}'.format(liste))"
   ]
  },
  {
   "cell_type": "code",
   "execution_count": 19,
   "metadata": {},
   "outputs": [
    {
     "name": "stdout",
     "output_type": "stream",
     "text": [
      "Buldum ve ilk harf konumunda.\n"
     ]
    }
   ],
   "source": [
    "if hedef_harf in liste:\n",
    "    print('Buldum ve ilk harf konumunda.')\n",
    "elif (hedef_harf in liste) and (hedef_harf == liste[0]):\n",
    "    print('Buldum ama ilk konumda değil.')\n",
    "else:\n",
    "    liste.append(hedef_harf)\n",
    "    print('Listeye ekledim.')\n",
    "    print('Güncel liste {}'.format(liste))"
   ]
  }
 ],
 "metadata": {
  "kernelspec": {
   "display_name": "Python 3.11.0 64-bit (microsoft store)",
   "language": "python",
   "name": "python3"
  },
  "language_info": {
   "codemirror_mode": {
    "name": "ipython",
    "version": 3
   },
   "file_extension": ".py",
   "mimetype": "text/x-python",
   "name": "python",
   "nbconvert_exporter": "python",
   "pygments_lexer": "ipython3",
   "version": "3.11.0"
  },
  "orig_nbformat": 4,
  "vscode": {
   "interpreter": {
    "hash": "4395795c0bc8c4448d773fc2b5b6d7fa347e4114afc3bc6e1097a337bc3c7c3a"
   }
  }
 },
 "nbformat": 4,
 "nbformat_minor": 2
}
