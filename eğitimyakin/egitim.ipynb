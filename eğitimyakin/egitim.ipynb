{
 "cells": [
  {
   "cell_type": "markdown",
   "metadata": {},
   "source": [
    "### Çok Boyutlu Veri Tipleri (Dictionary)"
   ]
  },
  {
   "cell_type": "code",
   "execution_count": 3,
   "metadata": {},
   "outputs": [
    {
     "data": {
      "text/plain": [
       "{'isim': 'Uğur Kemal', 'yas': 19, 'lokasyon': 'Türkiye'}"
      ]
     },
     "execution_count": 3,
     "metadata": {},
     "output_type": "execute_result"
    }
   ],
   "source": [
    "dict1 = {\"isim\": \"Uğur Kemal\",\"yas\": 19,\"lokasyon\": \"Türkiye\"}\n",
    "dict1"
   ]
  },
  {
   "cell_type": "code",
   "execution_count": 4,
   "metadata": {},
   "outputs": [
    {
     "data": {
      "text/plain": [
       "{'isim': 'Uğur Kemal',\n",
       " 'yas': 19,\n",
       " 'dogdugu_sehir': 'İstanbul',\n",
       " 'yasadigi_sehir': 'Bursa'}"
      ]
     },
     "execution_count": 4,
     "metadata": {},
     "output_type": "execute_result"
    }
   ],
   "source": [
    "dict2 = {\n",
    "    'isim': 'Uğur Kemal',\n",
    "    'yas': 19,\n",
    "    'dogdugu_sehir': 'İstanbul',\n",
    "    'yasadigi_sehir': 'Bursa'\n",
    "    #'lokasyon': 'Türkiye'\n",
    "}\n",
    "dict2"
   ]
  },
  {
   "cell_type": "code",
   "execution_count": 5,
   "metadata": {},
   "outputs": [
    {
     "data": {
      "text/plain": [
       "{'isim': 'Uğur Kemal',\n",
       " 'yas': 19,\n",
       " 'lokasyon': {'dogdugu_sehir': 'İstanbul', 'yasadigi_sehir': 'Bursa'}}"
      ]
     },
     "execution_count": 5,
     "metadata": {},
     "output_type": "execute_result"
    }
   ],
   "source": [
    "dict3 = {\n",
    "    'isim': 'Uğur Kemal',\n",
    "    'yas': 19,\n",
    "    'lokasyon': {\n",
    "        'dogdugu_sehir': 'İstanbul',\n",
    "        'yasadigi_sehir': 'Bursa'\n",
    "    }\n",
    "}\n",
    "dict3"
   ]
  },
  {
   "cell_type": "code",
   "execution_count": 6,
   "metadata": {},
   "outputs": [
    {
     "data": {
      "text/plain": [
       "19"
      ]
     },
     "execution_count": 6,
     "metadata": {},
     "output_type": "execute_result"
    }
   ],
   "source": [
    "dict2['yas']"
   ]
  },
  {
   "cell_type": "code",
   "execution_count": 7,
   "metadata": {},
   "outputs": [
    {
     "data": {
      "text/plain": [
       "19"
      ]
     },
     "execution_count": 7,
     "metadata": {},
     "output_type": "execute_result"
    }
   ],
   "source": [
    "dict2.get('yas')"
   ]
  },
  {
   "cell_type": "code",
   "execution_count": 8,
   "metadata": {},
   "outputs": [
    {
     "data": {
      "text/plain": [
       "19"
      ]
     },
     "execution_count": 8,
     "metadata": {},
     "output_type": "execute_result"
    }
   ],
   "source": [
    "dict3['yas']"
   ]
  },
  {
   "cell_type": "code",
   "execution_count": 9,
   "metadata": {},
   "outputs": [
    {
     "data": {
      "text/plain": [
       "{'dogdugu_sehir': 'İstanbul', 'yasadigi_sehir': 'Bursa'}"
      ]
     },
     "execution_count": 9,
     "metadata": {},
     "output_type": "execute_result"
    }
   ],
   "source": [
    "dict3['lokasyon']"
   ]
  },
  {
   "cell_type": "code",
   "execution_count": 10,
   "metadata": {},
   "outputs": [
    {
     "data": {
      "text/plain": [
       "'Bursa'"
      ]
     },
     "execution_count": 10,
     "metadata": {},
     "output_type": "execute_result"
    }
   ],
   "source": [
    "dict3['lokasyon']['yasadigi_sehir']"
   ]
  },
  {
   "cell_type": "code",
   "execution_count": 11,
   "metadata": {},
   "outputs": [
    {
     "data": {
      "text/plain": [
       "'Bursa'"
      ]
     },
     "execution_count": 11,
     "metadata": {},
     "output_type": "execute_result"
    }
   ],
   "source": [
    "dict3.get('lokasyon').get('yasadigi_sehir')"
   ]
  },
  {
   "cell_type": "code",
   "execution_count": 12,
   "metadata": {},
   "outputs": [
    {
     "data": {
      "text/plain": [
       "dict_keys(['isim', 'yas', 'dogdugu_sehir', 'yasadigi_sehir'])"
      ]
     },
     "execution_count": 12,
     "metadata": {},
     "output_type": "execute_result"
    }
   ],
   "source": [
    "dict2.keys()"
   ]
  },
  {
   "cell_type": "code",
   "execution_count": 13,
   "metadata": {},
   "outputs": [
    {
     "data": {
      "text/plain": [
       "dict_values(['Uğur Kemal', 19, 'İstanbul', 'Bursa'])"
      ]
     },
     "execution_count": 13,
     "metadata": {},
     "output_type": "execute_result"
    }
   ],
   "source": [
    "dict2.values()"
   ]
  },
  {
   "cell_type": "code",
   "execution_count": 14,
   "metadata": {},
   "outputs": [
    {
     "data": {
      "text/plain": [
       "dict_items([('isim', 'Uğur Kemal'), ('yas', 19), ('dogdugu_sehir', 'İstanbul'), ('yasadigi_sehir', 'Bursa')])"
      ]
     },
     "execution_count": 14,
     "metadata": {},
     "output_type": "execute_result"
    }
   ],
   "source": [
    "dict2.items()"
   ]
  },
  {
   "cell_type": "markdown",
   "metadata": {},
   "source": [
    "### if Sorguları"
   ]
  },
  {
   "cell_type": "code",
   "execution_count": 15,
   "metadata": {},
   "outputs": [
    {
     "name": "stdout",
     "output_type": "stream",
     "text": [
      "Şemsiyeni al!\n"
     ]
    }
   ],
   "source": [
    "hava_durumu = \"yagisli\"\n",
    "\n",
    "if hava_durumu == \"yagisli\":\n",
    "    print(\"Şemsiyeni al!\")"
   ]
  },
  {
   "cell_type": "code",
   "execution_count": 16,
   "metadata": {},
   "outputs": [
    {
     "name": "stdout",
     "output_type": "stream",
     "text": [
      "Sorun yok!\n"
     ]
    }
   ],
   "source": [
    "hava_durumu = \"karli\"\n",
    "\n",
    "if hava_durumu == \"yagisli\":\n",
    "    print(\"Şemsiyeni al!\")\n",
    "else:\n",
    "    print(\"Sorun yok!\")"
   ]
  },
  {
   "cell_type": "code",
   "execution_count": 17,
   "metadata": {},
   "outputs": [
    {
     "name": "stdout",
     "output_type": "stream",
     "text": [
      "Atkını al!\n"
     ]
    }
   ],
   "source": [
    "hava_durumu = \"karli\"\n",
    "\n",
    "if hava_durumu == \"yagisli\":\n",
    "    print(\"Şemsiyeni al!\")\n",
    "elif hava_durumu == \"karli\":\n",
    "    print(\"Atkını al!\")\n",
    "else:\n",
    "    print(\"Sorun yok!\")"
   ]
  },
  {
   "cell_type": "code",
   "execution_count": 18,
   "metadata": {},
   "outputs": [
    {
     "name": "stdout",
     "output_type": "stream",
     "text": [
      "Selam\n"
     ]
    }
   ],
   "source": [
    "yas = 19\n",
    "\n",
    "if yas >18:\n",
    "    print(\"Selam\")\n",
    "else:\n",
    "    print(\"Sen buraya ait değilsin!\")"
   ]
  },
  {
   "cell_type": "code",
   "execution_count": 19,
   "metadata": {},
   "outputs": [
    {
     "name": "stdout",
     "output_type": "stream",
     "text": [
      "Listeye ekledim.\n",
      "Güncel liste ['a', 'b', 'c', 'd']\n"
     ]
    }
   ],
   "source": [
    "liste = ['a','b','c']\n",
    "\n",
    "hedef_harf = 'd'\n",
    "\n",
    "if hedef_harf in liste:\n",
    "    print('Buldum.')\n",
    "else:\n",
    "    liste.append(hedef_harf)\n",
    "    print('Listeye ekledim.')\n",
    "    print('Güncel liste {}'.format(liste))"
   ]
  },
  {
   "cell_type": "code",
   "execution_count": 20,
   "metadata": {},
   "outputs": [
    {
     "name": "stdout",
     "output_type": "stream",
     "text": [
      "Buldum ama ilk konumda değil.\n"
     ]
    }
   ],
   "source": [
    "if (hedef_harf in liste) and (hedef_harf == liste[0]):\n",
    "    print('Buldum ve ilk harf konumunda.')\n",
    "elif hedef_harf in liste:\n",
    "    print('Buldum ama ilk konumda değil.')\n",
    "else:\n",
    "    liste.append(hedef_harf)\n",
    "    print('Listeye ekledim.')\n",
    "    print('Güncel liste {}'.format(liste))"
   ]
  },
  {
   "cell_type": "code",
   "execution_count": 21,
   "metadata": {},
   "outputs": [
    {
     "name": "stdout",
     "output_type": "stream",
     "text": [
      "Buldum ve ilk harf konumunda.\n"
     ]
    }
   ],
   "source": [
    "if hedef_harf in liste:\n",
    "    print('Buldum ve ilk harf konumunda.')\n",
    "elif (hedef_harf in liste) and (hedef_harf == liste[0]):\n",
    "    print('Buldum ama ilk konumda değil.')\n",
    "else:\n",
    "    liste.append(hedef_harf)\n",
    "    print('Listeye ekledim.')\n",
    "    print('Güncel liste {}'.format(liste))"
   ]
  },
  {
   "cell_type": "markdown",
   "metadata": {},
   "source": [
    "### for Döngüleri"
   ]
  },
  {
   "cell_type": "code",
   "execution_count": 22,
   "metadata": {},
   "outputs": [
    {
     "name": "stdout",
     "output_type": "stream",
     "text": [
      "['Ismail Aydemir', 'Uygar Aydin', 'Naz Yahcioglu', 'Ferhat Ibrik', 'Ulas Acil', 'Bilal Kurucay']\n"
     ]
    }
   ],
   "source": [
    "yorum_birakanlar = [\"Ismail Aydemir\",\"Uygar Aydin\",\"Naz Yahcioglu\",\"Ferhat Ibrik\",\"Ulas Acil\",\"Bilal Kurucay\"]\n",
    "print(yorum_birakanlar)"
   ]
  },
  {
   "cell_type": "code",
   "execution_count": 23,
   "metadata": {},
   "outputs": [
    {
     "name": "stdout",
     "output_type": "stream",
     "text": [
      "Ismail Aydemir\n",
      "Uygar Aydin\n",
      "Naz Yahcioglu\n",
      "Ferhat Ibrik\n",
      "Ulas Acil\n",
      "Bilal Kurucay\n"
     ]
    }
   ],
   "source": [
    "for kullanici in yorum_birakanlar:\n",
    "    print(kullanici)"
   ]
  },
  {
   "cell_type": "code",
   "execution_count": 24,
   "metadata": {},
   "outputs": [
    {
     "name": "stdout",
     "output_type": "stream",
     "text": [
      "Ismail Aydemir 1\n",
      "Uygar Aydin 2\n",
      "Naz Yahcioglu 3\n",
      "Ferhat Ibrik 4\n",
      "Ulas Acil 5\n",
      "Bilal Kurucay 6\n"
     ]
    }
   ],
   "source": [
    "kullanici_sayisi = 0\n",
    "for kullanici in yorum_birakanlar:\n",
    "    kullanici_sayisi = kullanici_sayisi + 1\n",
    "    print(kullanici,kullanici_sayisi)"
   ]
  },
  {
   "cell_type": "code",
   "execution_count": 25,
   "metadata": {},
   "outputs": [
    {
     "name": "stdout",
     "output_type": "stream",
     "text": [
      "Ismail Aydemir\n"
     ]
    }
   ],
   "source": [
    "ad = yorum_birakanlar[0].split()[0]\n",
    "soyad = yorum_birakanlar[0].split()[1]\n",
    "print(ad,soyad)"
   ]
  },
  {
   "cell_type": "code",
   "execution_count": 26,
   "metadata": {},
   "outputs": [
    {
     "name": "stdout",
     "output_type": "stream",
     "text": [
      "Ismail Aydemir\n"
     ]
    }
   ],
   "source": [
    "ad, soyad = yorum_birakanlar[0].split()[0],yorum_birakanlar[0].split()[1]\n",
    "print(ad, soyad)"
   ]
  },
  {
   "cell_type": "code",
   "execution_count": 27,
   "metadata": {},
   "outputs": [
    {
     "name": "stdout",
     "output_type": "stream",
     "text": [
      "1. Kullanicinin Adi Ismail ve Soyadi Aydemir\n",
      "2. Kullanicinin Adi Uygar ve Soyadi Aydin\n",
      "3. Kullanicinin Adi Naz ve Soyadi Yahcioglu\n",
      "4. Kullanicinin Adi Ferhat ve Soyadi Ibrik\n",
      "5. Kullanicinin Adi Ulas ve Soyadi Acil\n",
      "6. Kullanicinin Adi Bilal ve Soyadi Kurucay\n"
     ]
    }
   ],
   "source": [
    "kullanici_sayisi = 0\n",
    "\n",
    "for kullanici in yorum_birakanlar:\n",
    "    kullanici_sayisi = kullanici_sayisi + 1\n",
    "    ad, soyad = kullanici.split()[0],kullanici.split()[1]\n",
    "    print('{0}. Kullanicinin Adi {1} ve Soyadi {2}'.format(kullanici_sayisi,ad,soyad))"
   ]
  },
  {
   "cell_type": "code",
   "execution_count": 28,
   "metadata": {},
   "outputs": [
    {
     "name": "stdout",
     "output_type": "stream",
     "text": [
      "1. Kullanicinin Adi Ismail ve Soyadi Aydemir\n",
      "2. Kullanicinin Adi Uygar ve Soyadi Aydin\n",
      "3. Kullanicinin Adi Naz ve Soyadi Yahcioglu\n",
      "1. Moderatörün Adi Ferhat ve Soyadi Ibrik\n",
      "4. Kullanicinin Adi Ulas ve Soyadi Acil\n",
      "5. Kullanicinin Adi Bilal ve Soyadi Kurucay\n"
     ]
    }
   ],
   "source": [
    "moderator = \"Ferhat Ibrik\"\n",
    "\n",
    "kullanici_sayisi = 0\n",
    "moderator_sayisi = 0\n",
    "for kullanici in yorum_birakanlar:\n",
    "    ad, soyad = kullanici.split()[0],kullanici.split()[1]\n",
    "    if(kullanici == moderator):\n",
    "        moderator_sayisi = moderator_sayisi + 1 \n",
    "        # moderator_sayisi += 1 (aynı kod) \n",
    "        print('{0}. Moderatörün Adi {1} ve Soyadi {2}'.format(moderator_sayisi,ad,soyad))\n",
    "    else:\n",
    "        kullanici_sayisi = kullanici_sayisi + 1\n",
    "        print('{0}. Kullanicinin Adi {1} ve Soyadi {2}'.format(kullanici_sayisi,ad,soyad))"
   ]
  },
  {
   "cell_type": "markdown",
   "metadata": {},
   "source": [
    "### Diğer Iterable Objelerde for Döngüleri"
   ]
  },
  {
   "cell_type": "code",
   "execution_count": 29,
   "metadata": {},
   "outputs": [
    {
     "name": "stdout",
     "output_type": "stream",
     "text": [
      "1\n",
      "3\n",
      "5\n",
      "7\n"
     ]
    }
   ],
   "source": [
    "tup1 = (1,3,5,7)\n",
    "\n",
    "for sayi in tup1:\n",
    "    print(sayi)"
   ]
  },
  {
   "cell_type": "code",
   "execution_count": 30,
   "metadata": {},
   "outputs": [
    {
     "name": "stdout",
     "output_type": "stream",
     "text": [
      "1\n",
      "3\n",
      "5\n",
      "a\n"
     ]
    }
   ],
   "source": [
    "liste = [ [1,2],[3,4],[5,6],['a','b']]\n",
    "\n",
    "for x,y in liste:\n",
    "    print(x)\n"
   ]
  },
  {
   "cell_type": "code",
   "execution_count": 31,
   "metadata": {},
   "outputs": [
    {
     "name": "stdout",
     "output_type": "stream",
     "text": [
      "1 2\n",
      "3 4\n",
      "5 6\n"
     ]
    }
   ],
   "source": [
    "liste = [ [1,2],[3,4],[5,6]]\n",
    "\n",
    "for x,y in liste:\n",
    "    print(x,y)"
   ]
  },
  {
   "cell_type": "code",
   "execution_count": 32,
   "metadata": {},
   "outputs": [
    {
     "name": "stdout",
     "output_type": "stream",
     "text": [
      "2\n",
      "12\n",
      "30\n"
     ]
    }
   ],
   "source": [
    "liste = [ [1,2],[3,4],[5,6]]\n",
    "\n",
    "for x,y in liste:\n",
    "    print(x*y)"
   ]
  },
  {
   "cell_type": "code",
   "execution_count": 33,
   "metadata": {},
   "outputs": [
    {
     "data": {
      "text/plain": [
       "dict_items([('ad', 'Naz'), ('soyad', 'Yagcioglu')])"
      ]
     },
     "execution_count": 33,
     "metadata": {},
     "output_type": "execute_result"
    }
   ],
   "source": [
    "kullanici1 = {\n",
    "    'ad' : 'Naz',\n",
    "    'soyad' : 'Yagcioglu'\n",
    "}\n",
    "kullanici1.items()"
   ]
  },
  {
   "cell_type": "code",
   "execution_count": 34,
   "metadata": {},
   "outputs": [
    {
     "name": "stdout",
     "output_type": "stream",
     "text": [
      "Key: ad \t Value:Naz\n",
      "Key: soyad \t Value:Yagcioglu\n"
     ]
    }
   ],
   "source": [
    "for k, v in kullanici1.items():\n",
    "    print(\"Key: {} \\t Value:{}\".format(k,v))\n"
   ]
  },
  {
   "cell_type": "code",
   "execution_count": 35,
   "metadata": {},
   "outputs": [
    {
     "name": "stdout",
     "output_type": "stream",
     "text": [
      "Key: ad\n",
      "Key: soyad\n"
     ]
    }
   ],
   "source": [
    "for k in kullanici1.keys():\n",
    "    print(\"Key: {}\".format(k))"
   ]
  },
  {
   "cell_type": "markdown",
   "metadata": {},
   "source": [
    "### while Döngüleri"
   ]
  },
  {
   "cell_type": "code",
   "execution_count": 36,
   "metadata": {},
   "outputs": [
    {
     "name": "stdout",
     "output_type": "stream",
     "text": [
      "0 değeri 10'dan küçüktür\n",
      "1 değeri 10'dan küçüktür\n",
      "2 değeri 10'dan küçüktür\n",
      "3 değeri 10'dan küçüktür\n",
      "4 değeri 10'dan küçüktür\n",
      "5 değeri 10'dan küçüktür\n",
      "6 değeri 10'dan küçüktür\n",
      "7 değeri 10'dan küçüktür\n",
      "8 değeri 10'dan küçüktür\n",
      "9 değeri 10'dan küçüktür\n"
     ]
    }
   ],
   "source": [
    "x = 0 \n",
    "\n",
    "while x < 10:\n",
    "    print(\"{} değeri 10'dan küçüktür\".format(x))\n",
    "    x = x + 1"
   ]
  },
  {
   "cell_type": "code",
   "execution_count": 37,
   "metadata": {},
   "outputs": [
    {
     "name": "stdout",
     "output_type": "stream",
     "text": [
      "0 değeri 10'dan küçüktür\n",
      "1 değeri 10'dan küçüktür\n",
      "2 değeri 10'dan küçüktür\n",
      "3 değeri 10'dan küçüktür\n",
      "4 değeri 10'dan küçüktür\n",
      "5 değeri 10'dan küçüktür\n",
      "6 değeri 10'dan küçüktür\n",
      "7 değeri 10'dan küçüktür\n",
      "8 değeri 10'dan küçüktür\n",
      "9 değeri 10'dan küçüktür\n",
      "10 değeri 10'dan küçük değil\n"
     ]
    }
   ],
   "source": [
    "x = 0 \n",
    "\n",
    "while x < 10:\n",
    "    print(\"{} değeri 10'dan küçüktür\".format(x))\n",
    "    x = x + 1\n",
    "else:\n",
    "    print(\"{} değeri 10'dan küçük değil\".format(x))"
   ]
  },
  {
   "cell_type": "code",
   "execution_count": 38,
   "metadata": {},
   "outputs": [
    {
     "name": "stdout",
     "output_type": "stream",
     "text": [
      "720\n"
     ]
    }
   ],
   "source": [
    "sayi = 6\n",
    "sonuc = 1\n",
    "\n",
    "while sayi > 0:\n",
    "    sonuc = sonuc * sayi\n",
    "    sayi = sayi - 1\n",
    "print(sonuc)\n"
   ]
  },
  {
   "attachments": {},
   "cell_type": "markdown",
   "metadata": {},
   "source": [
    "### - enumerate, zip ve range Uygulamaları -"
   ]
  },
  {
   "attachments": {},
   "cell_type": "markdown",
   "metadata": {},
   "source": [
    "### range"
   ]
  },
  {
   "cell_type": "code",
   "execution_count": 39,
   "metadata": {},
   "outputs": [
    {
     "data": {
      "text/plain": [
       "range(0, 10)"
      ]
     },
     "execution_count": 39,
     "metadata": {},
     "output_type": "execute_result"
    }
   ],
   "source": [
    "range(10)"
   ]
  },
  {
   "cell_type": "code",
   "execution_count": 40,
   "metadata": {},
   "outputs": [
    {
     "data": {
      "text/plain": [
       "[0, 1, 2, 3, 4, 5, 6, 7, 8, 9]"
      ]
     },
     "execution_count": 40,
     "metadata": {},
     "output_type": "execute_result"
    }
   ],
   "source": [
    "list(range(10))"
   ]
  },
  {
   "cell_type": "code",
   "execution_count": 41,
   "metadata": {},
   "outputs": [
    {
     "data": {
      "text/plain": [
       "[0, 1, 2, 3, 4, 5, 6, 7, 8, 9]"
      ]
     },
     "execution_count": 41,
     "metadata": {},
     "output_type": "execute_result"
    }
   ],
   "source": [
    "[*range(10)]"
   ]
  },
  {
   "cell_type": "code",
   "execution_count": 42,
   "metadata": {},
   "outputs": [
    {
     "data": {
      "text/plain": [
       "[2, 4, 6]"
      ]
     },
     "execution_count": 42,
     "metadata": {},
     "output_type": "execute_result"
    }
   ],
   "source": [
    "list(range(2,7,2))"
   ]
  },
  {
   "cell_type": "code",
   "execution_count": 43,
   "metadata": {},
   "outputs": [
    {
     "name": "stdout",
     "output_type": "stream",
     "text": [
      "6\n",
      "7\n",
      "8\n",
      "9\n"
     ]
    }
   ],
   "source": [
    "for sayi in range(10):\n",
    "    if sayi > 5:\n",
    "        print(sayi)"
   ]
  },
  {
   "attachments": {},
   "cell_type": "markdown",
   "metadata": {},
   "source": [
    "### enumerate"
   ]
  },
  {
   "cell_type": "code",
   "execution_count": 44,
   "metadata": {},
   "outputs": [
    {
     "name": "stdout",
     "output_type": "stream",
     "text": [
      "(0, 'a')\n",
      "(1, 'b')\n",
      "(2, 'c')\n",
      "(3, 'd')\n",
      "(4, 'e')\n"
     ]
    }
   ],
   "source": [
    "harfler = ['a','b','c','d','e']\n",
    "for harf in enumerate(harfler):\n",
    "    print(harf)"
   ]
  },
  {
   "cell_type": "code",
   "execution_count": 45,
   "metadata": {},
   "outputs": [
    {
     "name": "stdout",
     "output_type": "stream",
     "text": [
      "1. harf : a\n",
      "2. harf : b\n",
      "3. harf : c\n",
      "4. harf : d\n",
      "5. harf : e\n"
     ]
    }
   ],
   "source": [
    "for index,harf in enumerate(harfler):\n",
    "    print(\"{}. harf : {}\".format(index+1,harf))"
   ]
  },
  {
   "attachments": {},
   "cell_type": "markdown",
   "metadata": {},
   "source": [
    "### zip"
   ]
  },
  {
   "cell_type": "code",
   "execution_count": 46,
   "metadata": {},
   "outputs": [
    {
     "name": "stdout",
     "output_type": "stream",
     "text": [
      "('TR', 1)\n",
      "('FR', 2)\n",
      "('DE', 3)\n"
     ]
    }
   ],
   "source": [
    "ulkeler = [\"TR\",\"FR\",\"DE\",]\n",
    "sıralamalar = range(1,4)  \n",
    "\n",
    "for ulke in zip(ulkeler,sıralamalar):\n",
    "    print(ulke)"
   ]
  },
  {
   "attachments": {},
   "cell_type": "markdown",
   "metadata": {},
   "source": [
    "### break"
   ]
  },
  {
   "cell_type": "code",
   "execution_count": 47,
   "metadata": {},
   "outputs": [
    {
     "name": "stdout",
     "output_type": "stream",
     "text": [
      "c harfi 2. indexte tutuluyor\n"
     ]
    }
   ],
   "source": [
    "harfler = ['a','b','c','d','e'] * 100 \n",
    "for index,harf in enumerate(harfler):\n",
    "    if harf == 'c':\n",
    "        print('{} harfi {}. indexte tutuluyor'.format(harf,index))\n",
    "        break\n"
   ]
  },
  {
   "attachments": {},
   "cell_type": "markdown",
   "metadata": {},
   "source": [
    "### continue"
   ]
  },
  {
   "cell_type": "code",
   "execution_count": 48,
   "metadata": {},
   "outputs": [
    {
     "name": "stdout",
     "output_type": "stream",
     "text": [
      "1\n",
      "3\n",
      "5\n"
     ]
    }
   ],
   "source": [
    "for sayi in range(1,6):\n",
    "    if sayi%2==0: # çift sayı sorgulama mantığı\n",
    "        continue\n",
    "    print(sayi)"
   ]
  },
  {
   "cell_type": "code",
   "execution_count": 49,
   "metadata": {},
   "outputs": [
    {
     "name": "stdout",
     "output_type": "stream",
     "text": [
      "1\n",
      "3\n",
      "5\n"
     ]
    }
   ],
   "source": [
    "for sayi in range(1,6):\n",
    "    if sayi%2!=0: # çift sayı sorgulama mantığı\n",
    "        print(sayi)"
   ]
  },
  {
   "attachments": {},
   "cell_type": "markdown",
   "metadata": {},
   "source": [
    "### pass"
   ]
  },
  {
   "cell_type": "code",
   "execution_count": 50,
   "metadata": {},
   "outputs": [
    {
     "name": "stdout",
     "output_type": "stream",
     "text": [
      "1\n",
      "3\n",
      "5\n"
     ]
    }
   ],
   "source": [
    "for sayi in range(1,6):\n",
    "    if sayi%2==0: # çift sayı sorgulama mantığı\n",
    "        pass\n",
    "    else:\n",
    "        print(sayi)"
   ]
  },
  {
   "cell_type": "code",
   "execution_count": 51,
   "metadata": {},
   "outputs": [
    {
     "name": "stdout",
     "output_type": "stream",
     "text": [
      "Hey\n"
     ]
    }
   ],
   "source": [
    "if sayi < 5 : \n",
    "    pass\n",
    "else:\n",
    "    print(\"Hey\")"
   ]
  },
  {
   "attachments": {},
   "cell_type": "markdown",
   "metadata": {},
   "source": [
    "### Fonksiyonlar - 1"
   ]
  },
  {
   "cell_type": "code",
   "execution_count": 52,
   "metadata": {},
   "outputs": [],
   "source": [
    "def bes_bastir():\n",
    "    print(5)"
   ]
  },
  {
   "cell_type": "code",
   "execution_count": 53,
   "metadata": {},
   "outputs": [
    {
     "name": "stdout",
     "output_type": "stream",
     "text": [
      "5\n"
     ]
    }
   ],
   "source": [
    "bes_bastir()"
   ]
  },
  {
   "attachments": {},
   "cell_type": "markdown",
   "metadata": {},
   "source": [
    "### Fonksiyonlarda print ve return farkı"
   ]
  },
  {
   "cell_type": "code",
   "execution_count": 54,
   "metadata": {},
   "outputs": [],
   "source": [
    "def bes_dondur():\n",
    "    return 5"
   ]
  },
  {
   "cell_type": "code",
   "execution_count": 55,
   "metadata": {},
   "outputs": [
    {
     "data": {
      "text/plain": [
       "5"
      ]
     },
     "execution_count": 55,
     "metadata": {},
     "output_type": "execute_result"
    }
   ],
   "source": [
    "bes_dondur()"
   ]
  },
  {
   "cell_type": "code",
   "execution_count": 56,
   "metadata": {},
   "outputs": [
    {
     "name": "stdout",
     "output_type": "stream",
     "text": [
      "5\n",
      "None\n"
     ]
    }
   ],
   "source": [
    "a = bes_bastir()\n",
    "print(a)"
   ]
  },
  {
   "cell_type": "code",
   "execution_count": 57,
   "metadata": {},
   "outputs": [
    {
     "name": "stdout",
     "output_type": "stream",
     "text": [
      "5\n"
     ]
    }
   ],
   "source": [
    "b = bes_dondur()\n",
    "print(b)"
   ]
  },
  {
   "attachments": {},
   "cell_type": "markdown",
   "metadata": {},
   "source": [
    "### Fonksiyonlarda Argümanlar"
   ]
  },
  {
   "cell_type": "code",
   "execution_count": 58,
   "metadata": {},
   "outputs": [],
   "source": [
    "def sayi_dondur(sayi):\n",
    "    return sayi"
   ]
  },
  {
   "cell_type": "code",
   "execution_count": 59,
   "metadata": {},
   "outputs": [
    {
     "data": {
      "text/plain": [
       "100"
      ]
     },
     "execution_count": 59,
     "metadata": {},
     "output_type": "execute_result"
    }
   ],
   "source": [
    "sayi_dondur(100)"
   ]
  },
  {
   "cell_type": "code",
   "execution_count": 60,
   "metadata": {},
   "outputs": [],
   "source": [
    "def sayi_dondur(sayi=250):\n",
    "    return sayi"
   ]
  },
  {
   "cell_type": "code",
   "execution_count": 61,
   "metadata": {},
   "outputs": [
    {
     "data": {
      "text/plain": [
       "250"
      ]
     },
     "execution_count": 61,
     "metadata": {},
     "output_type": "execute_result"
    }
   ],
   "source": [
    "sayi_dondur()"
   ]
  },
  {
   "cell_type": "code",
   "execution_count": 62,
   "metadata": {},
   "outputs": [],
   "source": [
    "def buyuk_sayi_dondur(a,b):\n",
    "    if a>b:\n",
    "        return a\n",
    "    elif b>a:\n",
    "        return b"
   ]
  },
  {
   "cell_type": "code",
   "execution_count": 63,
   "metadata": {},
   "outputs": [
    {
     "data": {
      "text/plain": [
       "10"
      ]
     },
     "execution_count": 63,
     "metadata": {},
     "output_type": "execute_result"
    }
   ],
   "source": [
    "buyuk_sayi_dondur(5,10)"
   ]
  },
  {
   "attachments": {},
   "cell_type": "markdown",
   "metadata": {},
   "source": [
    "### Fonksiyonların Birbiri ile İlişkisi"
   ]
  },
  {
   "cell_type": "code",
   "execution_count": 64,
   "metadata": {},
   "outputs": [],
   "source": [
    "def metin_yazdir(a,b):\n",
    "    buyuk_sayi = buyuk_sayi_dondur(a,b)\n",
    "    sablon_metin = \"{} daha büyük sayidir.\".format(buyuk_sayi)\n",
    "    print(sablon_metin)"
   ]
  },
  {
   "cell_type": "code",
   "execution_count": 65,
   "metadata": {},
   "outputs": [
    {
     "name": "stdout",
     "output_type": "stream",
     "text": [
      "10 daha büyük sayidir.\n"
     ]
    }
   ],
   "source": [
    "metin_yazdir(5,10)"
   ]
  },
  {
   "attachments": {},
   "cell_type": "markdown",
   "metadata": {},
   "source": [
    "### Fonksiyonlar Birden Fazla Sonuç Döndürebilir"
   ]
  },
  {
   "cell_type": "code",
   "execution_count": 66,
   "metadata": {},
   "outputs": [],
   "source": [
    "def isim_soyisim_yazdirma(isim_soyisim):\n",
    "    isim=isim_soyisim.split()[0]\n",
    "    soyisim=isim_soyisim.split()[1]\n",
    "    return isim, soyisim"
   ]
  },
  {
   "cell_type": "code",
   "execution_count": 67,
   "metadata": {},
   "outputs": [
    {
     "data": {
      "text/plain": [
       "('Uğur', 'Durna')"
      ]
     },
     "execution_count": 67,
     "metadata": {},
     "output_type": "execute_result"
    }
   ],
   "source": [
    "isim_soyisim_yazdirma(\"Uğur Durna\")"
   ]
  },
  {
   "cell_type": "code",
   "execution_count": 68,
   "metadata": {},
   "outputs": [
    {
     "name": "stdout",
     "output_type": "stream",
     "text": [
      "Uğur\n",
      "Kemal\n"
     ]
    }
   ],
   "source": [
    "a,b = isim_soyisim_yazdirma(\"Uğur Kemal Durna\")\n",
    "print(a)\n",
    "print(b)"
   ]
  },
  {
   "attachments": {},
   "cell_type": "markdown",
   "metadata": {},
   "source": [
    "### *args Argümanı"
   ]
  },
  {
   "cell_type": "code",
   "execution_count": 69,
   "metadata": {},
   "outputs": [
    {
     "data": {
      "text/plain": [
       "'Uğur-Durna'"
      ]
     },
     "execution_count": 69,
     "metadata": {},
     "output_type": "execute_result"
    }
   ],
   "source": [
    "\"-\".join([\"Uğur\",\"Durna\"])"
   ]
  },
  {
   "cell_type": "code",
   "execution_count": 70,
   "metadata": {},
   "outputs": [],
   "source": [
    "def isim_soyisim_birlestir(isim,soyisim):\n",
    "    return \" \".join([isim,soyisim])"
   ]
  },
  {
   "cell_type": "code",
   "execution_count": 71,
   "metadata": {},
   "outputs": [
    {
     "data": {
      "text/plain": [
       "'Uğur Kemal Durna'"
      ]
     },
     "execution_count": 71,
     "metadata": {},
     "output_type": "execute_result"
    }
   ],
   "source": [
    "isim_soyisim_birlestir(\"Uğur Kemal\",\"Durna\")"
   ]
  },
  {
   "cell_type": "code",
   "execution_count": 72,
   "metadata": {},
   "outputs": [],
   "source": [
    "def isim_soyisim_birlestir(*args):\n",
    "    return \" \".join(args)"
   ]
  },
  {
   "cell_type": "code",
   "execution_count": 73,
   "metadata": {},
   "outputs": [
    {
     "data": {
      "text/plain": [
       "'Uğur Kemal Durna'"
      ]
     },
     "execution_count": 73,
     "metadata": {},
     "output_type": "execute_result"
    }
   ],
   "source": [
    "isim_soyisim_birlestir(\"Uğur\",\"Kemal\",\"Durna\")"
   ]
  },
  {
   "cell_type": "code",
   "execution_count": 74,
   "metadata": {},
   "outputs": [],
   "source": [
    "def gobek_adi_yazdir(**kwargs):\n",
    "    if 'gobekadi' in kwargs:\n",
    "        print(kwargs['gobekadi'])\n",
    "    else:\n",
    "        print(\"Gobekadi yok.\")\n"
   ]
  },
  {
   "cell_type": "code",
   "execution_count": 75,
   "metadata": {},
   "outputs": [
    {
     "name": "stdout",
     "output_type": "stream",
     "text": [
      "Mesut\n"
     ]
    }
   ],
   "source": [
    "gobek_adi_yazdir(adi=\"Erol\",gobekadi=\"Mesut\",soyadi=\"Gün\")"
   ]
  },
  {
   "cell_type": "code",
   "execution_count": 76,
   "metadata": {},
   "outputs": [
    {
     "name": "stdout",
     "output_type": "stream",
     "text": [
      "Gobekadi yok.\n"
     ]
    }
   ],
   "source": [
    "gobek_adi_yazdir(adi=\"Erol\",soyadi=\"Gün\")"
   ]
  },
  {
   "attachments": {},
   "cell_type": "markdown",
   "metadata": {},
   "source": [
    "### map, filter ve lambda İfadeleri"
   ]
  },
  {
   "cell_type": "code",
   "execution_count": 77,
   "metadata": {},
   "outputs": [],
   "source": [
    "def karesini_al(x):\n",
    "    return x**2"
   ]
  },
  {
   "cell_type": "code",
   "execution_count": 78,
   "metadata": {},
   "outputs": [
    {
     "data": {
      "text/plain": [
       "25"
      ]
     },
     "execution_count": 78,
     "metadata": {},
     "output_type": "execute_result"
    }
   ],
   "source": [
    "karesini_al(5)"
   ]
  },
  {
   "cell_type": "code",
   "execution_count": 79,
   "metadata": {},
   "outputs": [
    {
     "data": {
      "text/plain": [
       "[1, 2, 3, 4, 5]"
      ]
     },
     "execution_count": 79,
     "metadata": {},
     "output_type": "execute_result"
    }
   ],
   "source": [
    "sayilar = [*range(1,6)]\n",
    "sayilar"
   ]
  },
  {
   "cell_type": "code",
   "execution_count": 80,
   "metadata": {},
   "outputs": [
    {
     "name": "stdout",
     "output_type": "stream",
     "text": [
      "[1, 2, 3, 4, 5]\n",
      "[1, 4, 9, 16, 25]\n"
     ]
    }
   ],
   "source": [
    "sayilar = [*range(1,6)]\n",
    "print(sayilar)\n",
    "for index in range(len(sayilar)):\n",
    "    sayilar[index] = karesini_al(sayilar[index])\n",
    "print(sayilar)"
   ]
  },
  {
   "cell_type": "code",
   "execution_count": 81,
   "metadata": {},
   "outputs": [
    {
     "data": {
      "text/plain": [
       "[1, 4, 9, 16, 25]"
      ]
     },
     "execution_count": 81,
     "metadata": {},
     "output_type": "execute_result"
    }
   ],
   "source": [
    "sayilar = [*range(1,6)]\n",
    "[*map(karesini_al, sayilar)]"
   ]
  },
  {
   "cell_type": "code",
   "execution_count": 82,
   "metadata": {},
   "outputs": [],
   "source": [
    "def cift_sayilari_filtrele(x):\n",
    "    if x%2 == 0:\n",
    "        return x\n",
    "    # else:\n",
    "    #     return None\n"
   ]
  },
  {
   "cell_type": "code",
   "execution_count": 83,
   "metadata": {},
   "outputs": [
    {
     "data": {
      "text/plain": [
       "4"
      ]
     },
     "execution_count": 83,
     "metadata": {},
     "output_type": "execute_result"
    }
   ],
   "source": [
    "cift_sayilari_filtrele(4)"
   ]
  },
  {
   "cell_type": "code",
   "execution_count": 84,
   "metadata": {},
   "outputs": [],
   "source": [
    "def cift_sayilari_filtrele(x):\n",
    "    # if x%2 == 0:\n",
    "        # return x\n",
    "    return x if x%2 == 0 else None"
   ]
  },
  {
   "cell_type": "code",
   "execution_count": 85,
   "metadata": {},
   "outputs": [
    {
     "data": {
      "text/plain": [
       "4"
      ]
     },
     "execution_count": 85,
     "metadata": {},
     "output_type": "execute_result"
    }
   ],
   "source": [
    "cift_sayilari_filtrele(4)"
   ]
  },
  {
   "cell_type": "code",
   "execution_count": 86,
   "metadata": {},
   "outputs": [
    {
     "data": {
      "text/plain": [
       "[2, 4]"
      ]
     },
     "execution_count": 86,
     "metadata": {},
     "output_type": "execute_result"
    }
   ],
   "source": [
    "sayilar = [*range(1,6)]\n",
    "[*filter(cift_sayilari_filtrele,sayilar)]"
   ]
  },
  {
   "cell_type": "code",
   "execution_count": 87,
   "metadata": {},
   "outputs": [],
   "source": [
    "def karesini_al(x):\n",
    "    return x**2"
   ]
  },
  {
   "cell_type": "code",
   "execution_count": 88,
   "metadata": {},
   "outputs": [
    {
     "data": {
      "text/plain": [
       "[1, 4, 9, 16, 25]"
      ]
     },
     "execution_count": 88,
     "metadata": {},
     "output_type": "execute_result"
    }
   ],
   "source": [
    "sayilar = [*range(1,6)]\n",
    "list(map(lambda sayi: sayi**2, sayilar)) #veya [*map(lambda sayi**2, sayilar)]"
   ]
  },
  {
   "cell_type": "code",
   "execution_count": 89,
   "metadata": {},
   "outputs": [
    {
     "data": {
      "text/plain": [
       "[2, 4]"
      ]
     },
     "execution_count": 89,
     "metadata": {},
     "output_type": "execute_result"
    }
   ],
   "source": [
    "sayilar = [*range(1,6)]\n",
    "[*filter(lambda x: x if x%2 == 0 else None, sayilar)]"
   ]
  },
  {
   "attachments": {},
   "cell_type": "markdown",
   "metadata": {},
   "source": [
    "### Kullanıcı Girdisi"
   ]
  },
  {
   "cell_type": "code",
   "execution_count": 90,
   "metadata": {},
   "outputs": [
    {
     "data": {
      "text/plain": [
       "'1'"
      ]
     },
     "execution_count": 90,
     "metadata": {},
     "output_type": "execute_result"
    }
   ],
   "source": [
    "input(\"Bir sayı giriniz:\")"
   ]
  },
  {
   "cell_type": "code",
   "execution_count": 91,
   "metadata": {},
   "outputs": [
    {
     "data": {
      "text/plain": [
       "str"
      ]
     },
     "execution_count": 91,
     "metadata": {},
     "output_type": "execute_result"
    }
   ],
   "source": [
    "girdi = input(\"Bir sayi giriniz:\")\n",
    "type(girdi)"
   ]
  },
  {
   "cell_type": "code",
   "execution_count": 92,
   "metadata": {},
   "outputs": [
    {
     "data": {
      "text/plain": [
       "int"
      ]
     },
     "execution_count": 92,
     "metadata": {},
     "output_type": "execute_result"
    }
   ],
   "source": [
    "girdi = input(\"Bir sayi giriniz:\")\n",
    "type(int(girdi))"
   ]
  },
  {
   "cell_type": "code",
   "execution_count": 93,
   "metadata": {},
   "outputs": [
    {
     "data": {
      "text/plain": [
       "'Evet 1 bir tek sayidir.'"
      ]
     },
     "execution_count": 93,
     "metadata": {},
     "output_type": "execute_result"
    }
   ],
   "source": [
    "def uygulama():\n",
    "    girdi = input(\"Bir sayi giriniz:\")\n",
    "    islem = input(\"Verinin tek mi cift mi oldugunu sorgula:\")\n",
    "\n",
    "    if islem=='cift':\n",
    "        if int(girdi)%2==0:\n",
    "            return 'Evet {} bir cift sayidir.'.format(girdi)\n",
    "        else:\n",
    "            return 'Hayir {} bir cift sayi degildir.'.format(girdi)\n",
    "    elif islem=='tek':\n",
    "        if int(girdi)%2==1:\n",
    "            return 'Evet {} bir tek sayidir.'.format(girdi)\n",
    "        else:\n",
    "            return 'Hayir {} bir tek sayi degildir'.format(girdi)\n",
    "uygulama()\n"
   ]
  },
  {
   "attachments": {},
   "cell_type": "markdown",
   "metadata": {},
   "source": [
    "### Kullanıcı Girdisini Onaylamak"
   ]
  },
  {
   "cell_type": "code",
   "execution_count": 94,
   "metadata": {},
   "outputs": [],
   "source": [
    "def sayi_girdisi_kontrol():\n",
    "    girdi = input(\"Bir sayi giriniz.\")\n",
    "\n",
    "    if girdi.isdigit():\n",
    "        print(\"Tebrikler Sayi tipi deger girdiniz...\")\n",
    "    else:\n",
    "        print(\"Üzgünüm! Bu bir Sayi tipi degisken degildir...\")"
   ]
  },
  {
   "cell_type": "code",
   "execution_count": 95,
   "metadata": {},
   "outputs": [
    {
     "name": "stdout",
     "output_type": "stream",
     "text": [
      "Tebrikler Sayi tipi deger girdiniz...\n"
     ]
    }
   ],
   "source": [
    "sayi_girdisi_kontrol()"
   ]
  },
  {
   "cell_type": "code",
   "execution_count": 96,
   "metadata": {},
   "outputs": [],
   "source": [
    "def sayi_girdisi_kontrol_dongu():\n",
    "    girdi = input(\"Bir sayi giriniz.\")\n",
    "\n",
    "    while not girdi.isdigit():\n",
    "        print(\"Üzgünüm! Bu bir Sayi tipi degisken degildir...\")\n",
    "        girdi = input(\"Bir sayi giriniz.\")\n",
    "\n",
    "    else:\n",
    "        print(\"Tebrikler Sayi tipi deger girdiniz...\")"
   ]
  },
  {
   "cell_type": "code",
   "execution_count": 97,
   "metadata": {},
   "outputs": [
    {
     "name": "stdout",
     "output_type": "stream",
     "text": [
      "Tebrikler Sayi tipi deger girdiniz...\n"
     ]
    }
   ],
   "source": [
    "sayi_girdisi_kontrol_dongu()"
   ]
  },
  {
   "cell_type": "code",
   "execution_count": 98,
   "metadata": {},
   "outputs": [],
   "source": [
    "def eposta_kontrol():\n",
    "    girdi = input(\"Gecerli bir eposta adresi giriniz.\")\n",
    "\n",
    "    while not (('.' in girdi) and ('@' in girdi)):\n",
    "        print(\"Üzgünüm! Bu gecerli bir eposta adresi degildir.\")\n",
    "        girdi = input(\"Gecerli bir eposta adresi giriniz.\")\n",
    "    else:\n",
    "        print(\"Tebrikler eposta adresinizle basariyla giris yaptiniz.\")"
   ]
  },
  {
   "cell_type": "code",
   "execution_count": 99,
   "metadata": {},
   "outputs": [
    {
     "name": "stdout",
     "output_type": "stream",
     "text": [
      "Tebrikler eposta adresinizle basariyla giris yaptiniz.\n"
     ]
    }
   ],
   "source": [
    "eposta_kontrol()"
   ]
  },
  {
   "attachments": {},
   "cell_type": "markdown",
   "metadata": {},
   "source": [
    "### Try, Except ve Finally Komutları"
   ]
  },
  {
   "cell_type": "code",
   "execution_count": 100,
   "metadata": {},
   "outputs": [
    {
     "data": {
      "text/plain": [
       "1"
      ]
     },
     "execution_count": 100,
     "metadata": {},
     "output_type": "execute_result"
    }
   ],
   "source": [
    "round(1.3)"
   ]
  },
  {
   "cell_type": "code",
   "execution_count": 101,
   "metadata": {},
   "outputs": [],
   "source": [
    "def tam_sayiya_cevir():\n",
    "    girdi = input(\"Bir ondalik sayi giriniz:\")\n",
    "\n",
    "    print(\"Yuvarlama isleminin sonucu : {}\".format(round(float(girdi))))"
   ]
  },
  {
   "cell_type": "code",
   "execution_count": 102,
   "metadata": {},
   "outputs": [
    {
     "name": "stdout",
     "output_type": "stream",
     "text": [
      "Yuvarlama isleminin sonucu : 2\n"
     ]
    }
   ],
   "source": [
    "tam_sayiya_cevir()"
   ]
  },
  {
   "cell_type": "code",
   "execution_count": 103,
   "metadata": {},
   "outputs": [],
   "source": [
    "def tam_sayiya_cevir():\n",
    "    girdi = input(\"Bir ondalik sayi giriniz:\")\n",
    "\n",
    "    # print(\"Yuvarlama isleminin sonucu : {}\".format(round(float(girdi))))\n",
    "\n",
    "    try:\n",
    "        girdi = float(girdi)\n",
    "        print(\"Yuvarlama isleminin sonucu : {}\".format(girdi))\n",
    "    except:\n",
    "        print(\"{} girdisi ondalik tipe cevrilemiyor\".format(girdi))"
   ]
  },
  {
   "cell_type": "code",
   "execution_count": 104,
   "metadata": {},
   "outputs": [],
   "source": [
    "def tam_sayiya_cevir():\n",
    "    girdi = input(\"Bir ondalik sayi giriniz:\")\n",
    "\n",
    "    try:\n",
    "        girdi = float(girdi)\n",
    "    except:\n",
    "        print(\"{} girdisi ondalik tipe cevrilemiyor\".format(girdi))\n",
    "    else:\n",
    "        print(\"Yuvarlama isleminin sonucu : {}\".format(round(girdi)))"
   ]
  },
  {
   "cell_type": "code",
   "execution_count": 105,
   "metadata": {},
   "outputs": [
    {
     "name": "stdout",
     "output_type": "stream",
     "text": [
      "Yuvarlama isleminin sonucu : 2\n"
     ]
    }
   ],
   "source": [
    "tam_sayiya_cevir()"
   ]
  },
  {
   "cell_type": "code",
   "execution_count": 106,
   "metadata": {},
   "outputs": [],
   "source": [
    "def tam_sayiya_cevir():\n",
    "    girdi = input(\"Bir ondalik sayi giriniz:\")\n",
    "\n",
    "    status = ''\n",
    "\n",
    "    try:\n",
    "        girdi = float(girdi)\n",
    "        print(\"Yuvarlama isleminin sonucu : {}\".format(round(girdi)))\n",
    "        status = 'basarili'\n",
    "    except:\n",
    "        print(\"{} girdisi ondalik tipe cevrilemiyor\".format(girdi))\n",
    "        status = 'basarisiz'\n",
    "    finally:\n",
    "        print('Tam sayiya cevirme islemi {} olarak tamamlandı'.format(status))"
   ]
  },
  {
   "cell_type": "code",
   "execution_count": 107,
   "metadata": {},
   "outputs": [
    {
     "name": "stdout",
     "output_type": "stream",
     "text": [
      "Yuvarlama isleminin sonucu : 2\n",
      "Tam sayiya cevirme islemi basarili olarak tamamlandı\n"
     ]
    }
   ],
   "source": [
    "tam_sayiya_cevir()"
   ]
  },
  {
   "cell_type": "code",
   "execution_count": 108,
   "metadata": {},
   "outputs": [],
   "source": [
    "def tam_sayiya_cevir_dongu():\n",
    "    while True:\n",
    "        girdi = input(\"Bir ondalik sayi giriniz:\")\n",
    "\n",
    "        try:\n",
    "            girdi = float(girdi)\n",
    "            print(\"Yuvarlama isleminin sonucu : {}\".format(round(girdi)))\n",
    "            break\n",
    "        except:\n",
    "            print(\"{} girdisi ondalik tipe cevrilemiyor\".format(girdi))\n",
    "            pass"
   ]
  },
  {
   "cell_type": "code",
   "execution_count": 109,
   "metadata": {},
   "outputs": [
    {
     "name": "stdout",
     "output_type": "stream",
     "text": [
      "Yuvarlama isleminin sonucu : 2\n"
     ]
    }
   ],
   "source": [
    "tam_sayiya_cevir_dongu()"
   ]
  },
  {
   "cell_type": "code",
   "execution_count": 110,
   "metadata": {},
   "outputs": [],
   "source": [
    "list = []"
   ]
  },
  {
   "cell_type": "code",
   "execution_count": 111,
   "metadata": {},
   "outputs": [
    {
     "ename": "IndexError",
     "evalue": "list index out of range",
     "output_type": "error",
     "traceback": [
      "\u001b[1;31m---------------------------------------------------------------------------\u001b[0m",
      "\u001b[1;31mIndexError\u001b[0m                                Traceback (most recent call last)",
      "Cell \u001b[1;32mIn [111], line 1\u001b[0m\n\u001b[1;32m----> 1\u001b[0m liste[\u001b[39m4\u001b[39;49m]\n",
      "\u001b[1;31mIndexError\u001b[0m: list index out of range"
     ]
    }
   ],
   "source": [
    "liste[4]"
   ]
  },
  {
   "cell_type": "code",
   "execution_count": null,
   "metadata": {},
   "outputs": [
    {
     "ename": "NameError",
     "evalue": "name 'PASS_NO' is not defined",
     "output_type": "error",
     "traceback": [
      "\u001b[1;31m---------------------------------------------------------------------------\u001b[0m",
      "\u001b[1;31mNameError\u001b[0m                                 Traceback (most recent call last)",
      "Cell \u001b[1;32mIn [60], line 6\u001b[0m\n\u001b[0;32m      1\u001b[0m vatandas \u001b[39m=\u001b[39m {\n\u001b[0;32m      2\u001b[0m     \u001b[39m'\u001b[39m\u001b[39mAD\u001b[39m\u001b[39m'\u001b[39m : \u001b[39m'\u001b[39m\u001b[39mUGUR\u001b[39m\u001b[39m'\u001b[39m,\n\u001b[0;32m      3\u001b[0m     \u001b[39m'\u001b[39m\u001b[39mTC_NO\u001b[39m\u001b[39m'\u001b[39m : \u001b[39m1231312\u001b[39m\n\u001b[0;32m      4\u001b[0m \n\u001b[0;32m      5\u001b[0m }\n\u001b[1;32m----> 6\u001b[0m vatandas[PASS_NO]\n",
      "\u001b[1;31mNameError\u001b[0m: name 'PASS_NO' is not defined"
     ]
    }
   ],
   "source": [
    "vatandas = {\n",
    "    'AD' : 'UGUR',\n",
    "    'TC_NO' : 1231312\n",
    "\n",
    "}\n",
    "vatandas[PASS_NO]"
   ]
  },
  {
   "cell_type": "code",
   "execution_count": null,
   "metadata": {},
   "outputs": [
    {
     "ename": "TypeError",
     "evalue": "unsupported operand type(s) for +: 'int' and 'str'",
     "output_type": "error",
     "traceback": [
      "\u001b[1;31m---------------------------------------------------------------------------\u001b[0m",
      "\u001b[1;31mTypeError\u001b[0m                                 Traceback (most recent call last)",
      "Cell \u001b[1;32mIn [61], line 1\u001b[0m\n\u001b[1;32m----> 1\u001b[0m \u001b[39m5\u001b[39;49m \u001b[39m+\u001b[39;49m \u001b[39m'\u001b[39;49m\u001b[39ma\u001b[39;49m\u001b[39m'\u001b[39;49m\n",
      "\u001b[1;31mTypeError\u001b[0m: unsupported operand type(s) for +: 'int' and 'str'"
     ]
    }
   ],
   "source": [
    "5 + 'a'"
   ]
  },
  {
   "cell_type": "code",
   "execution_count": null,
   "metadata": {},
   "outputs": [
    {
     "name": "stdout",
     "output_type": "stream",
     "text": [
      "Verilen verilerle islem yapilamiyor.\n"
     ]
    }
   ],
   "source": [
    "try:\n",
    "    5 + 'a'\n",
    "except TypeError:\n",
    "    print('Verilen verilerle islem yapilamiyor.')\n"
   ]
  },
  {
   "cell_type": "code",
   "execution_count": null,
   "metadata": {},
   "outputs": [
    {
     "name": "stdout",
     "output_type": "stream",
     "text": [
      "Kod düzgün çalışmıyor\n"
     ]
    }
   ],
   "source": [
    "try:\n",
    "    5 + 'a'\n",
    "except IndexError:\n",
    "    print('Verilen verilerle islem yapilamiyor.')\n",
    "except:\n",
    "    print('Kod düzgün çalışmıyor')"
   ]
  },
  {
   "cell_type": "code",
   "execution_count": null,
   "metadata": {},
   "outputs": [
    {
     "name": "stdout",
     "output_type": "stream",
     "text": [
      "Indexlemeye calistiginiz eleman listenin disinda.\n"
     ]
    }
   ],
   "source": [
    "liste = []\n",
    "\n",
    "try:\n",
    "    liste[-1]\n",
    "except IndexError:\n",
    "    print('Indexlemeye calistiginiz eleman listenin disinda.')\n",
    "except:\n",
    "    print('Kod düzgün çalışmıyor')"
   ]
  },
  {
   "cell_type": "code",
   "execution_count": null,
   "metadata": {},
   "outputs": [
    {
     "name": "stdout",
     "output_type": "stream",
     "text": [
      "Aranan dictionaryde verilen anahtar degeri mevcut degil.\n"
     ]
    }
   ],
   "source": [
    "vatandas = {\n",
    "    'AD' : 'UGUR',\n",
    "    'TC_NO' : 1231312\n",
    "}\n",
    "\n",
    "try:\n",
    "    vatandas['PASS_NO']\n",
    "except IndexError:\n",
    "    print('Indexlemeye calistiginiz eleman listenin disinda.')\n",
    "except KeyError:\n",
    "    print('Aranan dictionaryde verilen anahtar degeri mevcut degil.')\n",
    "except:\n",
    "    print('Kod düzgün çalışmıyor')"
   ]
  },
  {
   "attachments": {},
   "cell_type": "markdown",
   "metadata": {},
   "source": [
    "### class Oluşturma, Attribute'lar ve Method'lar "
   ]
  },
  {
   "cell_type": "code",
   "execution_count": null,
   "metadata": {},
   "outputs": [],
   "source": [
    "class Ucus():\n",
    "    havayolu = \"THY\""
   ]
  },
  {
   "cell_type": "code",
   "execution_count": null,
   "metadata": {},
   "outputs": [],
   "source": [
    "ucus1 = Ucus()"
   ]
  },
  {
   "cell_type": "code",
   "execution_count": null,
   "metadata": {},
   "outputs": [
    {
     "data": {
      "text/plain": [
       "'THY'"
      ]
     },
     "execution_count": 95,
     "metadata": {},
     "output_type": "execute_result"
    }
   ],
   "source": [
    "ucus1.havayolu"
   ]
  },
  {
   "cell_type": "code",
   "execution_count": null,
   "metadata": {},
   "outputs": [],
   "source": [
    "class Ucus():\n",
    "    havayolu = \"THY\"\n",
    "\n",
    "    def __init__(self, kod, kalkis, varis, sure, kapasite, yolcu):\n",
    "        self.kod = kod\n",
    "        self.kalkis = kalkis\n",
    "        self.varis = varis\n",
    "        self.sure = sure\n",
    "        self.kapasite = kapasite\n",
    "        self.yolcu = yolcu"
   ]
  },
  {
   "cell_type": "code",
   "execution_count": null,
   "metadata": {},
   "outputs": [
    {
     "ename": "TypeError",
     "evalue": "Ucus.__init__() missing 6 required positional arguments: 'kod', 'kalkis', 'varis', 'sure', 'kapasite', and 'yolcu'",
     "output_type": "error",
     "traceback": [
      "\u001b[1;31m---------------------------------------------------------------------------\u001b[0m",
      "\u001b[1;31mTypeError\u001b[0m                                 Traceback (most recent call last)",
      "Cell \u001b[1;32mIn [110], line 1\u001b[0m\n\u001b[1;32m----> 1\u001b[0m ucus2 \u001b[39m=\u001b[39m Ucus()\n",
      "\u001b[1;31mTypeError\u001b[0m: Ucus.__init__() missing 6 required positional arguments: 'kod', 'kalkis', 'varis', 'sure', 'kapasite', and 'yolcu'"
     ]
    }
   ],
   "source": [
    "ucus2 = Ucus()"
   ]
  },
  {
   "cell_type": "code",
   "execution_count": null,
   "metadata": {},
   "outputs": [],
   "source": [
    "ucus2 = Ucus('TK123', 'IST', 'ANK', 60, 300, 50)"
   ]
  },
  {
   "cell_type": "code",
   "execution_count": null,
   "metadata": {},
   "outputs": [
    {
     "data": {
      "text/plain": [
       "'TK123'"
      ]
     },
     "execution_count": 99,
     "metadata": {},
     "output_type": "execute_result"
    }
   ],
   "source": [
    "ucus2.kod"
   ]
  },
  {
   "cell_type": "code",
   "execution_count": null,
   "metadata": {},
   "outputs": [
    {
     "data": {
      "text/plain": [
       "'IST'"
      ]
     },
     "execution_count": 100,
     "metadata": {},
     "output_type": "execute_result"
    }
   ],
   "source": [
    "ucus2.kalkis"
   ]
  },
  {
   "cell_type": "code",
   "execution_count": null,
   "metadata": {},
   "outputs": [
    {
     "data": {
      "text/plain": [
       "'THY'"
      ]
     },
     "execution_count": 102,
     "metadata": {},
     "output_type": "execute_result"
    }
   ],
   "source": [
    "ucus2.havayolu"
   ]
  },
  {
   "cell_type": "code",
   "execution_count": null,
   "metadata": {},
   "outputs": [],
   "source": [
    "ucus3 = Ucus('TK223', 'BOD', 'ANT', 40, 250, 250)"
   ]
  },
  {
   "cell_type": "code",
   "execution_count": null,
   "metadata": {},
   "outputs": [
    {
     "data": {
      "text/plain": [
       "'BOD'"
      ]
     },
     "execution_count": 104,
     "metadata": {},
     "output_type": "execute_result"
    }
   ],
   "source": [
    "ucus3.kalkis"
   ]
  },
  {
   "cell_type": "code",
   "execution_count": null,
   "metadata": {},
   "outputs": [
    {
     "data": {
      "text/plain": [
       "'THY'"
      ]
     },
     "execution_count": 103,
     "metadata": {},
     "output_type": "execute_result"
    }
   ],
   "source": [
    "ucus3.havayolu"
   ]
  },
  {
   "cell_type": "code",
   "execution_count": null,
   "metadata": {},
   "outputs": [],
   "source": [
    "class Ucus():\n",
    "    havayolu = \"THY\"\n",
    "\n",
    "    def __init__(self, kod, kalkis, varis, sure, kapasite, yolcu):\n",
    "        self.kod = kod\n",
    "        self.kalkis = kalkis\n",
    "        self.varis = varis\n",
    "        self.sure = sure\n",
    "        self.kapasite = kapasite\n",
    "        self.yolcu = yolcu\n",
    "    def anons_yap(self):\n",
    "        return \"{} sefer sayili {}--{} ucusumuz {} dakika surecektir.\".format(\n",
    "            self.kod,\n",
    "            self.kalkis,\n",
    "            self.varis,\n",
    "            self.sure)"
   ]
  },
  {
   "cell_type": "code",
   "execution_count": null,
   "metadata": {},
   "outputs": [],
   "source": [
    "ucus3 = Ucus('TK223', 'BOD', 'ANT', 40, 250, 250)"
   ]
  },
  {
   "cell_type": "code",
   "execution_count": null,
   "metadata": {},
   "outputs": [
    {
     "data": {
      "text/plain": [
       "'TK223 sefer sayili BOD--ANT ucusumuz 40 dakika surecektir.'"
      ]
     },
     "execution_count": 107,
     "metadata": {},
     "output_type": "execute_result"
    }
   ],
   "source": [
    "ucus3.anons_yap()"
   ]
  },
  {
   "cell_type": "code",
   "execution_count": null,
   "metadata": {},
   "outputs": [],
   "source": [
    "class Ucus():\n",
    "    havayolu = \"THY\"\n",
    "\n",
    "    def __init__(self, kod, kalkis, varis, sure, kapasite, yolcu):\n",
    "        self.kod = kod\n",
    "        self.kalkis = kalkis\n",
    "        self.varis = varis\n",
    "        self.sure = sure\n",
    "        self.kapasite = kapasite\n",
    "        self.yolcu = yolcu\n",
    "    def anons_yap(self):\n",
    "        return \"{} sefer sayili {}--{} ucusumuz {} dakika surecektir.\".format(\n",
    "            self.kod,\n",
    "            self.kalkis,\n",
    "            self.varis,\n",
    "            self.sure)\n",
    "\n",
    "    def koltuk_sayisi_guncelleme(self):\n",
    "        return self.kapasite - self.yolcu\n",
    "\n",
    "    def bilet_satis(self, bilet_adedi=1):\n",
    "        if self.yolcu + bilet_adedi <= self.kapasite:\n",
    "            self.yolcu += bilet_adedi\n",
    "            # self.yolcu = self.yolcu + bilet_adedi\n",
    "            self.koltuk_sayisi_guncelleme() \n",
    "            print('{} adet bilet satilmistir, kalan koltuk sayisi {}'.format(\n",
    "                bilet_adedi,\n",
    "                self.koltuk_sayisi_guncelleme()))\n",
    "        else:\n",
    "            print('Islem gerceklestirilemedi, yetersiz koltuk sayisi.')\n",
    "\n",
    "    def bilet_iptal(self, bilet_adedi=1):\n",
    "        if self.yolcu >= bilet_adedi:\n",
    "            self.yolcu -=bilet_adedi\n",
    "            print('{} adet bilet iptal edilmistir, güncel koltuk sayisi {}'.format(\n",
    "                bilet_adedi,\n",
    "                self.koltuk_sayisi_guncelleme()))\n",
    "        else:\n",
    "            print('Islem gerceklestirilemedi, iptal edilecek kadar yolcu yok.')"
   ]
  },
  {
   "cell_type": "code",
   "execution_count": null,
   "metadata": {},
   "outputs": [],
   "source": [
    "ucus3 = Ucus('TK223', 'BOD', 'ANT', 40, 250, 200)"
   ]
  },
  {
   "cell_type": "code",
   "execution_count": null,
   "metadata": {},
   "outputs": [
    {
     "data": {
      "text/plain": [
       "50"
      ]
     },
     "execution_count": 110,
     "metadata": {},
     "output_type": "execute_result"
    }
   ],
   "source": [
    "ucus3.koltuk_sayisi_guncelleme()"
   ]
  },
  {
   "cell_type": "code",
   "execution_count": null,
   "metadata": {},
   "outputs": [
    {
     "name": "stdout",
     "output_type": "stream",
     "text": [
      "5 adet bilet satilmistir, kalan koltuk sayisi 45\n"
     ]
    }
   ],
   "source": [
    "ucus3.bilet_satis(5)"
   ]
  },
  {
   "cell_type": "code",
   "execution_count": null,
   "metadata": {},
   "outputs": [
    {
     "name": "stdout",
     "output_type": "stream",
     "text": [
      "5 adet bilet satilmistir, kalan koltuk sayisi 40\n"
     ]
    }
   ],
   "source": [
    "ucus3.bilet_satis(5)"
   ]
  },
  {
   "cell_type": "code",
   "execution_count": null,
   "metadata": {},
   "outputs": [
    {
     "name": "stdout",
     "output_type": "stream",
     "text": [
      "1 adet bilet iptal edilmistir, güncel koltuk sayisi 241\n"
     ]
    }
   ],
   "source": [
    "ucus3.bilet_iptal(1)"
   ]
  },
  {
   "cell_type": "code",
   "execution_count": null,
   "metadata": {},
   "outputs": [
    {
     "name": "stdout",
     "output_type": "stream",
     "text": [
      "200 adet bilet iptal edilmistir, güncel koltuk sayisi 240\n"
     ]
    }
   ],
   "source": [
    "ucus3.bilet_iptal(200)"
   ]
  },
  {
   "cell_type": "code",
   "execution_count": null,
   "metadata": {},
   "outputs": [
    {
     "name": "stdout",
     "output_type": "stream",
     "text": [
      "50 adet bilet satilmistir, kalan koltuk sayisi 141\n"
     ]
    }
   ],
   "source": [
    "ucus3.bilet_satis(50)"
   ]
  },
  {
   "cell_type": "code",
   "execution_count": null,
   "metadata": {},
   "outputs": [
    {
     "data": {
      "text/plain": [
       "191"
      ]
     },
     "execution_count": 116,
     "metadata": {},
     "output_type": "execute_result"
    }
   ],
   "source": [
    "ucus3.koltuk_sayisi_guncelleme()"
   ]
  },
  {
   "attachments": {},
   "cell_type": "markdown",
   "metadata": {},
   "source": [
    "### Dunder Method'lar (Double Under Score)"
   ]
  },
  {
   "cell_type": "code",
   "execution_count": null,
   "metadata": {},
   "outputs": [],
   "source": [
    "ucus3 = Ucus('TK223', 'BOD', 'ANT', 40, 250, 250)"
   ]
  },
  {
   "cell_type": "code",
   "execution_count": null,
   "metadata": {},
   "outputs": [
    {
     "data": {
      "text/plain": [
       "<__main__.Ucus at 0x1422c164d10>"
      ]
     },
     "execution_count": 119,
     "metadata": {},
     "output_type": "execute_result"
    }
   ],
   "source": [
    "ucus3"
   ]
  },
  {
   "cell_type": "code",
   "execution_count": null,
   "metadata": {},
   "outputs": [],
   "source": [
    "class Ucus():\n",
    "    havayolu = \"THY\"\n",
    "\n",
    "    def __init__(self, kod, kalkis, varis, sure, kapasite, yolcu):\n",
    "        self.kod = kod\n",
    "        self.kalkis = kalkis\n",
    "        self.varis = varis\n",
    "        self.sure = sure\n",
    "        self.kapasite = kapasite\n",
    "        self.yolcu = yolcu\n",
    "\n",
    "    def __repr__(self):\n",
    "        return \"{} sefer sayili ucus, sistemde olusturulmustur.\".format(self.kod)\n",
    "    def anons_yap(self):\n",
    "        return \"{} sefer sayili {}--{} ucusumuz {} dakika surecektir.\".format(\n",
    "            self.kod,\n",
    "            self.kalkis,\n",
    "            self.varis,\n",
    "            self.sure)\n",
    "\n",
    "    def koltuk_sayisi_guncelleme(self):\n",
    "        return self.kapasite - self.yolcu\n",
    "\n",
    "    def bilet_satis(self, bilet_adedi=1):\n",
    "        if self.yolcu + bilet_adedi <= self.kapasite:\n",
    "            self.yolcu += bilet_adedi\n",
    "            # self.yolcu = self.yolcu + bilet_adedi\n",
    "            self.koltuk_sayisi_guncelleme() \n",
    "            print('{} adet bilet satilmistir, kalan koltuk sayisi {}'.format(\n",
    "                bilet_adedi,\n",
    "                self.koltuk_sayisi_guncelleme()))\n",
    "        else:\n",
    "            print('Islem gerceklestirilemedi, yetersiz koltuk sayisi.')\n",
    "\n",
    "    def bilet_iptal(self, bilet_adedi=1):\n",
    "        if self.yolcu >= bilet_adedi:\n",
    "            self.yolcu -=bilet_adedi\n",
    "            print('{} adet bilet iptal edilmistir, güncel koltuk sayisi {}'.format(\n",
    "                bilet_adedi,\n",
    "                self.koltuk_sayisi_guncelleme()))\n",
    "        else:\n",
    "            print('Islem gerceklestirilemedi, iptal edilecek kadar yolcu yok.')"
   ]
  },
  {
   "cell_type": "code",
   "execution_count": null,
   "metadata": {},
   "outputs": [],
   "source": [
    "ucus3 = Ucus('TK223', 'BOD', 'ANT', 40, 250, 250)"
   ]
  },
  {
   "cell_type": "code",
   "execution_count": null,
   "metadata": {},
   "outputs": [
    {
     "data": {
      "text/plain": [
       "TK223 sefer sayili ucus, sistemde olusturulmustur."
      ]
     },
     "execution_count": 122,
     "metadata": {},
     "output_type": "execute_result"
    }
   ],
   "source": [
    "ucus3"
   ]
  },
  {
   "cell_type": "code",
   "execution_count": null,
   "metadata": {},
   "outputs": [
    {
     "data": {
      "text/plain": [
       "['kod',\n",
       " 'kalkis',\n",
       " 'varis',\n",
       " 'sure',\n",
       " 'kapasite',\n",
       " 'yolcu',\n",
       " '__module__',\n",
       " 'havayolu',\n",
       " '__init__',\n",
       " '__repr__',\n",
       " 'anons_yap',\n",
       " 'koltuk_sayisi_guncelleme',\n",
       " 'bilet_satis',\n",
       " 'bilet_iptal',\n",
       " '__dict__',\n",
       " '__weakref__',\n",
       " '__doc__',\n",
       " '__new__',\n",
       " '__hash__',\n",
       " '__str__',\n",
       " '__getattribute__',\n",
       " '__setattr__',\n",
       " '__delattr__',\n",
       " '__lt__',\n",
       " '__le__',\n",
       " '__eq__',\n",
       " '__ne__',\n",
       " '__gt__',\n",
       " '__ge__',\n",
       " '__reduce_ex__',\n",
       " '__reduce__',\n",
       " '__getstate__',\n",
       " '__subclasshook__',\n",
       " '__init_subclass__',\n",
       " '__format__',\n",
       " '__sizeof__',\n",
       " '__dir__',\n",
       " '__class__']"
      ]
     },
     "execution_count": 123,
     "metadata": {},
     "output_type": "execute_result"
    }
   ],
   "source": [
    "ucus3.__dir__()"
   ]
  },
  {
   "attachments": {},
   "cell_type": "markdown",
   "metadata": {},
   "source": [
    "### Inheritance(Kalıtım)"
   ]
  },
  {
   "cell_type": "code",
   "execution_count": null,
   "metadata": {},
   "outputs": [],
   "source": [
    "class Seyahat():\n",
    "\n",
    "    def __init__(self, kalkis, varis):\n",
    "        self.kalkis = kalkis\n",
    "        self.varis = varis\n",
    "\n",
    "    def anons(self):\n",
    "        return \"{}-{} seyahatine hosgeldiniz.\".format(self.kalkis, self.varis)\n",
    "\n",
    "class Otobus(Seyahat):\n",
    "\n",
    "    def __init__(self, mola_duraklari, kalkis, varis):\n",
    "        Seyahat.__init__(self, kalkis, varis)\n",
    "        self.mola_duraklari = mola_duraklari"
   ]
  },
  {
   "cell_type": "code",
   "execution_count": null,
   "metadata": {},
   "outputs": [
    {
     "data": {
      "text/plain": [
       "'ANT-BOD seyahatine hosgeldiniz.'"
      ]
     },
     "execution_count": 128,
     "metadata": {},
     "output_type": "execute_result"
    }
   ],
   "source": [
    "seyahat1 = Seyahat('ANT', 'BOD')\n",
    "seyahat1.anons()"
   ]
  },
  {
   "cell_type": "code",
   "execution_count": null,
   "metadata": {},
   "outputs": [],
   "source": [
    "oto1 = Otobus(['FET', 'ALAN'], 'ANT', 'BOD')"
   ]
  },
  {
   "cell_type": "code",
   "execution_count": null,
   "metadata": {},
   "outputs": [
    {
     "data": {
      "text/plain": [
       "['FET', 'ALAN']"
      ]
     },
     "execution_count": 136,
     "metadata": {},
     "output_type": "execute_result"
    }
   ],
   "source": [
    "oto1.mola_duraklari"
   ]
  },
  {
   "cell_type": "code",
   "execution_count": null,
   "metadata": {},
   "outputs": [
    {
     "data": {
      "text/plain": [
       "'ANT'"
      ]
     },
     "execution_count": 137,
     "metadata": {},
     "output_type": "execute_result"
    }
   ],
   "source": [
    "oto1.kalkis"
   ]
  },
  {
   "cell_type": "code",
   "execution_count": null,
   "metadata": {},
   "outputs": [
    {
     "data": {
      "text/plain": [
       "'ANT-BOD seyahatine hosgeldiniz.'"
      ]
     },
     "execution_count": 138,
     "metadata": {},
     "output_type": "execute_result"
    }
   ],
   "source": [
    "oto1.anons()"
   ]
  },
  {
   "attachments": {},
   "cell_type": "markdown",
   "metadata": {},
   "source": [
    "### Magic Commands"
   ]
  },
  {
   "cell_type": "code",
   "execution_count": null,
   "metadata": {},
   "outputs": [
    {
     "name": "stdout",
     "output_type": "stream",
     "text": [
      " Volume in drive C has no label.\n",
      " Volume Serial Number is 2681-06EB\n",
      "\n",
      " Directory of c:\\Users\\ugurd\\Documents\\GitHub\\ders\\e�itimyakin\n",
      "\n",
      "09.12.2022  21:50    <DIR>          .\n",
      "09.12.2022  21:50    <DIR>          ..\n",
      "18.12.2022  23:21            65.989 egitim.ipynb\n",
      "               1 File(s)         65.989 bytes\n",
      "               2 Dir(s)  412.754.612.224 bytes free\n"
     ]
    }
   ],
   "source": [
    "%ls"
   ]
  },
  {
   "cell_type": "code",
   "execution_count": null,
   "metadata": {},
   "outputs": [
    {
     "data": {
      "text/plain": [
       "'c:\\\\Users\\\\ugurd\\\\Documents\\\\GitHub\\\\ders\\\\eğitimyakin'"
      ]
     },
     "execution_count": 111,
     "metadata": {},
     "output_type": "execute_result"
    }
   ],
   "source": [
    "%pwd"
   ]
  },
  {
   "attachments": {},
   "cell_type": "markdown",
   "metadata": {},
   "source": [
    "### OS Modülü"
   ]
  },
  {
   "attachments": {},
   "cell_type": "markdown",
   "metadata": {},
   "source": [
    "### Navigasyon ve İçerik Listeleme"
   ]
  },
  {
   "cell_type": "code",
   "execution_count": null,
   "metadata": {},
   "outputs": [],
   "source": [
    "import os"
   ]
  },
  {
   "cell_type": "code",
   "execution_count": null,
   "metadata": {},
   "outputs": [
    {
     "data": {
      "text/plain": [
       "'c:\\\\Users\\\\ugurd\\\\Documents\\\\GitHub\\\\ders\\\\eğitimyakin'"
      ]
     },
     "execution_count": 113,
     "metadata": {},
     "output_type": "execute_result"
    }
   ],
   "source": [
    "os.getcwd()"
   ]
  },
  {
   "cell_type": "code",
   "execution_count": null,
   "metadata": {},
   "outputs": [
    {
     "data": {
      "text/plain": [
       "['egitim.ipynb']"
      ]
     },
     "execution_count": 114,
     "metadata": {},
     "output_type": "execute_result"
    }
   ],
   "source": [
    "os.listdir()"
   ]
  },
  {
   "cell_type": "code",
   "execution_count": null,
   "metadata": {},
   "outputs": [
    {
     "data": {
      "text/plain": [
       "['All Users', 'Default', 'Default User', 'desktop.ini', 'Public', 'ugurd']"
      ]
     },
     "execution_count": 116,
     "metadata": {},
     "output_type": "execute_result"
    }
   ],
   "source": [
    "os.listdir('c:\\\\Users')"
   ]
  },
  {
   "cell_type": "code",
   "execution_count": null,
   "metadata": {},
   "outputs": [],
   "source": [
    "os.chdir('c:\\\\Users')"
   ]
  },
  {
   "cell_type": "code",
   "execution_count": null,
   "metadata": {},
   "outputs": [
    {
     "data": {
      "text/plain": [
       "['All Users', 'Default', 'Default User', 'desktop.ini', 'Public', 'ugurd']"
      ]
     },
     "execution_count": 118,
     "metadata": {},
     "output_type": "execute_result"
    }
   ],
   "source": [
    "os.listdir()"
   ]
  },
  {
   "cell_type": "code",
   "execution_count": null,
   "metadata": {},
   "outputs": [],
   "source": [
    "os.chdir('c:\\\\Users\\\\ugurd\\\\Documents\\\\GitHub\\\\ders\\\\eğitimyakin')"
   ]
  },
  {
   "cell_type": "code",
   "execution_count": null,
   "metadata": {},
   "outputs": [
    {
     "data": {
      "text/plain": [
       "['egitim.ipynb']"
      ]
     },
     "execution_count": 120,
     "metadata": {},
     "output_type": "execute_result"
    }
   ],
   "source": [
    "os.listdir()"
   ]
  },
  {
   "cell_type": "code",
   "execution_count": null,
   "metadata": {},
   "outputs": [
    {
     "name": "stdout",
     "output_type": "stream",
     "text": [
      "egitim.ipynbUğur\n"
     ]
    }
   ],
   "source": [
    "dosyalar = os.listdir()\n",
    "for eleman in dosyalar:\n",
    "    print(eleman + 'Uğur')"
   ]
  },
  {
   "attachments": {},
   "cell_type": "markdown",
   "metadata": {},
   "source": [
    "### Yeni Eleman Oluşturma, İsim Değiştirme ve Silme "
   ]
  },
  {
   "cell_type": "code",
   "execution_count": null,
   "metadata": {},
   "outputs": [],
   "source": [
    "os.mkdir('c:\\\\Users\\\\ugurd\\\\Documents\\\\GitHub\\\\ders\\\\eğitimyakin\\\\deneme_klasoru')"
   ]
  },
  {
   "cell_type": "code",
   "execution_count": null,
   "metadata": {},
   "outputs": [
    {
     "data": {
      "text/plain": [
       "['deneme_klasoru', 'egitim.ipynb']"
      ]
     },
     "execution_count": 124,
     "metadata": {},
     "output_type": "execute_result"
    }
   ],
   "source": [
    "os.listdir()"
   ]
  },
  {
   "cell_type": "code",
   "execution_count": null,
   "metadata": {},
   "outputs": [],
   "source": [
    "os.rmdir('c:\\\\Users\\\\ugurd\\\\Documents\\\\GitHub\\\\ders\\\\eğitimyakin\\\\deneme_klasoru')"
   ]
  },
  {
   "cell_type": "code",
   "execution_count": null,
   "metadata": {},
   "outputs": [
    {
     "data": {
      "text/plain": [
       "['egitim.ipynb']"
      ]
     },
     "execution_count": 126,
     "metadata": {},
     "output_type": "execute_result"
    }
   ],
   "source": [
    "os.listdir()"
   ]
  },
  {
   "attachments": {},
   "cell_type": "markdown",
   "metadata": {},
   "source": [
    "### os.O_RDONLY - Read Only - Sadece Oku\n",
    "### os.O_WRONLY - Write Only - Sadece Yaz\n",
    "### os.O_RDWR - Read and Write - Oku ve Yaz\n",
    "### os.O_CREAT - Create - Oluştur"
   ]
  },
  {
   "cell_type": "code",
   "execution_count": null,
   "metadata": {},
   "outputs": [],
   "source": [
    "yeni_dosya = os.open('yeni_dosya.txt', os.O_RDWR|os.O_CREAT)\n",
    "os.write(yeni_dosya, 'Merhaba Dünya!'.encode())\n",
    "os.close(yeni_dosya)"
   ]
  },
  {
   "cell_type": "code",
   "execution_count": null,
   "metadata": {},
   "outputs": [
    {
     "name": "stdout",
     "output_type": "stream",
     "text": [
      "Merhaba Dünya!\n"
     ]
    }
   ],
   "source": [
    "yeni_dosya = os.open('yeni_dosya.txt', os.O_RDONLY)\n",
    "uzunluk = os.stat(yeni_dosya).st_size\n",
    "icerik = os.read(yeni_dosya, uzunluk)\n",
    "print(icerik.decode())\n",
    "os.close(yeni_dosya)"
   ]
  },
  {
   "cell_type": "code",
   "execution_count": null,
   "metadata": {},
   "outputs": [
    {
     "ename": "PermissionError",
     "evalue": "[WinError 32] Dosya başka bir işlem tarafından kullanıldığından bu işlem dosyaya erişemiyor: 'yeni_dosya.txt'",
     "output_type": "error",
     "traceback": [
      "\u001b[1;31m---------------------------------------------------------------------------\u001b[0m",
      "\u001b[1;31mPermissionError\u001b[0m                           Traceback (most recent call last)",
      "Cell \u001b[1;32mIn [135], line 1\u001b[0m\n\u001b[1;32m----> 1\u001b[0m os\u001b[39m.\u001b[39;49munlink(\u001b[39m'\u001b[39;49m\u001b[39myeni_dosya.txt\u001b[39;49m\u001b[39m'\u001b[39;49m)\n",
      "\u001b[1;31mPermissionError\u001b[0m: [WinError 32] Dosya başka bir işlem tarafından kullanıldığından bu işlem dosyaya erişemiyor: 'yeni_dosya.txt'"
     ]
    }
   ],
   "source": [
    "os.unlink('yeni_dosya.txt')"
   ]
  },
  {
   "cell_type": "code",
   "execution_count": null,
   "metadata": {},
   "outputs": [],
   "source": [
    "os.mkdir(\"deneme_yeni\")"
   ]
  },
  {
   "cell_type": "code",
   "execution_count": null,
   "metadata": {},
   "outputs": [
    {
     "data": {
      "text/plain": [
       "['deneme_yeni', 'egitim.ipynb', 'yeni_dosya.txt']"
      ]
     },
     "execution_count": 137,
     "metadata": {},
     "output_type": "execute_result"
    }
   ],
   "source": [
    "os.listdir()"
   ]
  },
  {
   "cell_type": "code",
   "execution_count": null,
   "metadata": {},
   "outputs": [],
   "source": [
    "os.rename(\"deneme_yeni\",\"deneme_eski\")"
   ]
  },
  {
   "cell_type": "code",
   "execution_count": null,
   "metadata": {},
   "outputs": [
    {
     "data": {
      "text/plain": [
       "['deneme_eski', 'egitim.ipynb', 'yeni_dosya.txt']"
      ]
     },
     "execution_count": 139,
     "metadata": {},
     "output_type": "execute_result"
    }
   ],
   "source": [
    "os.listdir()"
   ]
  },
  {
   "attachments": {},
   "cell_type": "markdown",
   "metadata": {},
   "source": [
    "### Regular Expressions ( REGEX )"
   ]
  },
  {
   "cell_type": "code",
   "execution_count": null,
   "metadata": {},
   "outputs": [],
   "source": [
    "import re"
   ]
  },
  {
   "cell_type": "code",
   "execution_count": null,
   "metadata": {},
   "outputs": [
    {
     "data": {
      "text/plain": [
       "<re.Match object; span=(23, 27), match='Türk'>"
      ]
     },
     "execution_count": 5,
     "metadata": {},
     "output_type": "execute_result"
    }
   ],
   "source": [
    "cumle = \"Mustafa Kemal Atatürk, Türk asker, devlet adamı ve Türkiye Cumhuriyeti'nin kurucusudur.\"\n",
    "\n",
    "patern = \"Türk\"\n",
    "\n",
    "re.search(patern, cumle)"
   ]
  },
  {
   "cell_type": "code",
   "execution_count": null,
   "metadata": {},
   "outputs": [
    {
     "data": {
      "text/plain": [
       "(23, 27)"
      ]
     },
     "execution_count": 6,
     "metadata": {},
     "output_type": "execute_result"
    }
   ],
   "source": [
    "durum = re.search(patern, cumle)\n",
    "durum.span()"
   ]
  },
  {
   "cell_type": "code",
   "execution_count": null,
   "metadata": {},
   "outputs": [
    {
     "data": {
      "text/plain": [
       "['__class__',\n",
       " '__class_getitem__',\n",
       " '__copy__',\n",
       " '__deepcopy__',\n",
       " '__delattr__',\n",
       " '__dir__',\n",
       " '__doc__',\n",
       " '__eq__',\n",
       " '__format__',\n",
       " '__ge__',\n",
       " '__getattribute__',\n",
       " '__getitem__',\n",
       " '__getstate__',\n",
       " '__gt__',\n",
       " '__hash__',\n",
       " '__init__',\n",
       " '__init_subclass__',\n",
       " '__le__',\n",
       " '__lt__',\n",
       " '__module__',\n",
       " '__ne__',\n",
       " '__new__',\n",
       " '__reduce__',\n",
       " '__reduce_ex__',\n",
       " '__repr__',\n",
       " '__setattr__',\n",
       " '__sizeof__',\n",
       " '__str__',\n",
       " '__subclasshook__',\n",
       " 'end',\n",
       " 'endpos',\n",
       " 'expand',\n",
       " 'group',\n",
       " 'groupdict',\n",
       " 'groups',\n",
       " 'lastgroup',\n",
       " 'lastindex',\n",
       " 'pos',\n",
       " 're',\n",
       " 'regs',\n",
       " 'span',\n",
       " 'start',\n",
       " 'string']"
      ]
     },
     "execution_count": 7,
     "metadata": {},
     "output_type": "execute_result"
    }
   ],
   "source": [
    "dir(durum)"
   ]
  },
  {
   "cell_type": "code",
   "execution_count": null,
   "metadata": {},
   "outputs": [
    {
     "data": {
      "text/plain": [
       "23"
      ]
     },
     "execution_count": 9,
     "metadata": {},
     "output_type": "execute_result"
    }
   ],
   "source": [
    "durum.start()"
   ]
  },
  {
   "cell_type": "code",
   "execution_count": null,
   "metadata": {},
   "outputs": [
    {
     "data": {
      "text/plain": [
       "27"
      ]
     },
     "execution_count": 8,
     "metadata": {},
     "output_type": "execute_result"
    }
   ],
   "source": [
    "durum.end()"
   ]
  },
  {
   "cell_type": "code",
   "execution_count": null,
   "metadata": {},
   "outputs": [
    {
     "data": {
      "text/plain": [
       "'Türk'"
      ]
     },
     "execution_count": 10,
     "metadata": {},
     "output_type": "execute_result"
    }
   ],
   "source": [
    "durum.group()"
   ]
  },
  {
   "attachments": {},
   "cell_type": "markdown",
   "metadata": {},
   "source": [
    "### Çoklu Eşleşmelerde (match)"
   ]
  },
  {
   "cell_type": "code",
   "execution_count": null,
   "metadata": {},
   "outputs": [
    {
     "name": "stdout",
     "output_type": "stream",
     "text": [
      "Türk\n",
      "Türk\n"
     ]
    }
   ],
   "source": [
    "for eslesme in re.findall(patern, cumle):\n",
    "    print(eslesme)"
   ]
  },
  {
   "cell_type": "code",
   "execution_count": null,
   "metadata": {},
   "outputs": [
    {
     "name": "stdout",
     "output_type": "stream",
     "text": [
      "(23, 27) Türk\n",
      "(51, 55) Türk\n"
     ]
    }
   ],
   "source": [
    "for eslesme in re.finditer(patern, cumle):\n",
    "    print(eslesme.span(), eslesme.group())"
   ]
  },
  {
   "attachments": {},
   "cell_type": "markdown",
   "metadata": {},
   "source": [
    "### Dinamik Kullanım"
   ]
  },
  {
   "cell_type": "code",
   "execution_count": null,
   "metadata": {},
   "outputs": [
    {
     "data": {
      "text/plain": [
       "<re.Match object; span=(18, 24), match='base42'>"
      ]
     },
     "execution_count": 13,
     "metadata": {},
     "output_type": "execute_result"
    }
   ],
   "source": [
    "ornek = \"En sevdiğim kanal base42\"\n",
    "patern = r\"base\\d\\d\"\n",
    "re.search(patern, ornek)"
   ]
  },
  {
   "cell_type": "code",
   "execution_count": null,
   "metadata": {},
   "outputs": [
    {
     "data": {
      "text/plain": [
       "<re.Match object; span=(29, 41), match='0539-8411619'>"
      ]
     },
     "execution_count": 14,
     "metadata": {},
     "output_type": "execute_result"
    }
   ],
   "source": [
    "cumle = \"Selam, benim telefon numaram 0539-8411619.\"\n",
    "# patern = r\"\\d\\d\\d\\d-\\d\\d\\d\\d\\d\\d\\d\"\n",
    "patern = r\"\\d{3,4}-\\d{7}\"\n",
    "re.search(patern, cumle)"
   ]
  },
  {
   "cell_type": "code",
   "execution_count": null,
   "metadata": {},
   "outputs": [
    {
     "name": "stdout",
     "output_type": "stream",
     "text": [
      " sevdiğim (2, 11)\n",
      " kanal (11, 17)\n",
      " base42 (17, 24)\n"
     ]
    }
   ],
   "source": [
    "cumle = \"En sevdiğim kanal base42.\"\n",
    "patern = r\"\\s\\w{5,}\"\n",
    "\n",
    "for eslesme in re.finditer(patern, cumle):\n",
    "    print(eslesme.group(), eslesme.span())"
   ]
  },
  {
   "cell_type": "code",
   "execution_count": null,
   "metadata": {},
   "outputs": [
    {
     "name": "stdout",
     "output_type": "stream",
     "text": [
      " (0, 0)\n",
      " (1, 1)\n",
      " (2, 2)\n",
      " (3, 3)\n",
      " (4, 4)\n",
      " (5, 5)\n",
      " (6, 6)\n",
      " (7, 7)\n",
      " (8, 8)\n",
      " (9, 9)\n",
      " (10, 10)\n",
      " (11, 11)\n",
      " (12, 12)\n",
      " (13, 13)\n",
      " (14, 14)\n",
      " (15, 15)\n",
      " (16, 16)\n",
      " (17, 17)\n",
      " (18, 18)\n",
      " (19, 19)\n",
      " (20, 20)\n",
      " (21, 21)\n",
      "4 (22, 23)\n",
      "2 (23, 24)\n",
      " (24, 24)\n",
      " (25, 25)\n"
     ]
    }
   ],
   "source": [
    "patern = r\"\\d?\"\n",
    "\n",
    "for eslesme in re.finditer(patern, cumle):\n",
    "    print(eslesme.group(), eslesme.span())"
   ]
  },
  {
   "cell_type": "code",
   "execution_count": null,
   "metadata": {},
   "outputs": [
    {
     "name": "stdout",
     "output_type": "stream",
     "text": [
      "42 (22, 24)\n"
     ]
    }
   ],
   "source": [
    "patern = r\"\\d+\"\n",
    "\n",
    "for eslesme in re.finditer(patern, cumle):\n",
    "    print(eslesme.group(), eslesme.span())"
   ]
  },
  {
   "cell_type": "code",
   "execution_count": null,
   "metadata": {},
   "outputs": [
    {
     "name": "stdout",
     "output_type": "stream",
     "text": [
      "base42 (18, 24)\n"
     ]
    }
   ],
   "source": [
    "patern = r\"\\w*\\d+\"\n",
    "\n",
    "for eslesme in re.finditer(patern, cumle):\n",
    "    print(eslesme.group(), eslesme.span())"
   ]
  },
  {
   "cell_type": "code",
   "execution_count": null,
   "metadata": {},
   "outputs": [],
   "source": [
    "cumle = \"En sevdiğim kanal 42base.\""
   ]
  },
  {
   "cell_type": "code",
   "execution_count": null,
   "metadata": {},
   "outputs": [
    {
     "name": "stdout",
     "output_type": "stream",
     "text": [
      "42 (18, 20)\n"
     ]
    }
   ],
   "source": [
    "patern = r\"\\w*\\d+\"\n",
    "\n",
    "for eslesme in re.finditer(patern, cumle):\n",
    "    print(eslesme.group(), eslesme.span())"
   ]
  },
  {
   "cell_type": "code",
   "execution_count": null,
   "metadata": {},
   "outputs": [],
   "source": [
    "### GSM Operatörleri:\n",
    "# 54...          -> Vodafone\n",
    "# 501,505,506    -> AVEA\n",
    "# 53...          -> Turkcell\n",
    "\n",
    "def gsm_operator_bul(tel_no):\n",
    "    patern = r\"(\\d{3})-(\\d{7})\"\n",
    "    eslesme = re.search(patern, tel_no)\n",
    "\n",
    "    if eslesme:\n",
    "        gsm_kod = eslesme.groups()[0]\n",
    "        print(gsm_kod)\n",
    "        if gsm_kod.startswith(\"54\"):\n",
    "            return \"Vodafone\"\n",
    "        elif gsm_kod.startswith(\"501\") or gsm_kod.startswith(\"505\") or gsm_kod.startswith(\"506\"):\n",
    "            return \"AVEA\"\n",
    "        elif gsm_kod.startswith(\"53\"):\n",
    "            return \"Turkcell\"\n",
    "        else: \n",
    "            return \"Sebeke bulunamadi.\"\n",
    "    else:\n",
    "        return \"Patern bulunamadi.\""
   ]
  },
  {
   "cell_type": "code",
   "execution_count": null,
   "metadata": {},
   "outputs": [
    {
     "name": "stdout",
     "output_type": "stream",
     "text": [
      "539\n"
     ]
    },
    {
     "data": {
      "text/plain": [
       "'Turkcell'"
      ]
     },
     "execution_count": 44,
     "metadata": {},
     "output_type": "execute_result"
    }
   ],
   "source": [
    "tel_no = \"Selam, benim telefon numaram 0539-8411619.\"\n",
    "gsm_operator_bul(tel_no)"
   ]
  },
  {
   "cell_type": "code",
   "execution_count": null,
   "metadata": {},
   "outputs": [],
   "source": [
    "import re\n",
    "\n",
    "def mesaj_hissi_bul(mesaj):\n",
    "    hisler = []\n",
    "\n",
    "\n",
    "    pozitif_patern = r\"(merhaba|selam|ask|sevgi|dost|kardes|:\\)+)\"\n",
    "    negatif_patern = r\"(lan|aptal|abv|yeter|birak)\"\n",
    "\n",
    "    heyecanli_patern = r\"!|[!|?]{2,}$\"\n",
    "    sakin_patern = r\"^[Tabi+|Hayhay]\"\n",
    "\n",
    "    emin_patern = r\"[K|k]esin|[T|t]abi|[E|e]lbet\"\n",
    "    kararsiz_patern = r\"[B|b]elki|[S|s]anirim\"\n",
    "\n",
    "    if re.search(pozitif_patern, mesaj):\n",
    "        hisler.append(\"Pozitif\")\n",
    "    if re.search(negatif_patern, mesaj):\n",
    "        hisler.append(\"Negatif\")\n",
    "    if re.search(heyecanli_patern, mesaj):\n",
    "        hisler.append(\"Heyecanli\")\n",
    "    if re.search(sakin_patern, mesaj):\n",
    "        hisler.append(\"Sakin\")\n",
    "    if re.search(emin_patern, mesaj):\n",
    "        hisler.append(\"Emin\")\n",
    "    if re.search(kararsiz_patern, mesaj):\n",
    "        hisler.append(\"Kararsiz\")\n",
    "\n",
    "    return hisler"
   ]
  },
  {
   "cell_type": "code",
   "execution_count": null,
   "metadata": {},
   "outputs": [
    {
     "name": "stdout",
     "output_type": "stream",
     "text": [
      "Naber abi? :)              \t ['Pozitif']\n",
      "Tabiii ki buyrun           \t ['Sakin', 'Emin']\n",
      "Sacmalamayi birak artik!   \t ['Negatif', 'Heyecanli']\n",
      "Belki yarindan da yakin... \t ['Kararsiz']\n",
      "Elbet bir gün bulusacagiz  \t ['Emin']\n"
     ]
    }
   ],
   "source": [
    "cumle1 = \"Naber abi? :)             \"\n",
    "cumle2 = \"Tabiii ki buyrun          \"\n",
    "cumle3 = \"Sacmalamayi birak artik!  \"\n",
    "cumle4 = \"Belki yarindan da yakin...\"\n",
    "cumle5 = \"Elbet bir gün bulusacagiz \"\n",
    "cumleler = [cumle1, cumle2, cumle3, cumle4, cumle5]\n",
    "for cumle in cumleler:\n",
    "    print(cumle, '\\t', mesaj_hissi_bul(cumle))\n"
   ]
  },
  {
   "cell_type": "code",
   "execution_count": null,
   "metadata": {},
   "outputs": [
    {
     "data": {
      "text/plain": [
       "<re.Match object; span=(29, 41), match='0539-8411619'>"
      ]
     },
     "execution_count": 54,
     "metadata": {},
     "output_type": "execute_result"
    }
   ],
   "source": [
    "cumle = \"Selam, benim telefon numaram 0539-8411619.\"\n",
    "# patern = r\"\\d\\d\\d\\d-\\d\\d\\d\\d\\d\\d\\d\"\n",
    "patern = r\"\\d{3,4}-\\d{7}\"\n",
    "re.search(patern, cumle)"
   ]
  },
  {
   "attachments": {},
   "cell_type": "markdown",
   "metadata": {},
   "source": [
    "### Random Module'ü"
   ]
  },
  {
   "cell_type": "code",
   "execution_count": null,
   "metadata": {},
   "outputs": [],
   "source": [
    "import random"
   ]
  },
  {
   "cell_type": "code",
   "execution_count": null,
   "metadata": {},
   "outputs": [
    {
     "data": {
      "text/plain": [
       "0.48964976454440223"
      ]
     },
     "execution_count": 115,
     "metadata": {},
     "output_type": "execute_result"
    }
   ],
   "source": [
    "random.random()"
   ]
  },
  {
   "cell_type": "code",
   "execution_count": null,
   "metadata": {},
   "outputs": [
    {
     "data": {
      "text/plain": [
       "9.495584925075129"
      ]
     },
     "execution_count": 116,
     "metadata": {},
     "output_type": "execute_result"
    }
   ],
   "source": [
    "random.uniform(5,10)"
   ]
  },
  {
   "cell_type": "code",
   "execution_count": null,
   "metadata": {},
   "outputs": [
    {
     "data": {
      "text/plain": [
       "9"
      ]
     },
     "execution_count": 118,
     "metadata": {},
     "output_type": "execute_result"
    }
   ],
   "source": [
    "random.randint(5,10)"
   ]
  },
  {
   "cell_type": "code",
   "execution_count": null,
   "metadata": {},
   "outputs": [
    {
     "data": {
      "text/plain": [
       "0"
      ]
     },
     "execution_count": 121,
     "metadata": {},
     "output_type": "execute_result"
    }
   ],
   "source": [
    "[*range(10)]\n",
    "random.choice([*range(10)])"
   ]
  },
  {
   "cell_type": "code",
   "execution_count": null,
   "metadata": {},
   "outputs": [
    {
     "data": {
      "text/plain": [
       "[7, 5, 2, 1]"
      ]
     },
     "execution_count": 122,
     "metadata": {},
     "output_type": "execute_result"
    }
   ],
   "source": [
    "random.sample(range(10), k=4)"
   ]
  },
  {
   "cell_type": "code",
   "execution_count": null,
   "metadata": {},
   "outputs": [
    {
     "name": "stdout",
     "output_type": "stream",
     "text": [
      "[0, 1, 2, 3, 4, 5, 6, 7, 8, 9]\n",
      "[1, 7, 2, 4, 6, 9, 8, 5, 3, 0]\n"
     ]
    }
   ],
   "source": [
    "liste = [*range(10)]\n",
    "print(liste)\n",
    "random.shuffle(liste)\n",
    "print(liste)"
   ]
  },
  {
   "attachments": {},
   "cell_type": "markdown",
   "metadata": {},
   "source": [
    "### Math Module'ü"
   ]
  },
  {
   "cell_type": "code",
   "execution_count": null,
   "metadata": {},
   "outputs": [],
   "source": [
    "import math"
   ]
  },
  {
   "cell_type": "code",
   "execution_count": null,
   "metadata": {},
   "outputs": [
    {
     "data": {
      "text/plain": [
       "8"
      ]
     },
     "execution_count": 125,
     "metadata": {},
     "output_type": "execute_result"
    }
   ],
   "source": [
    "math.ceil(7.6)"
   ]
  },
  {
   "cell_type": "code",
   "execution_count": null,
   "metadata": {},
   "outputs": [
    {
     "data": {
      "text/plain": [
       "8"
      ]
     },
     "execution_count": 127,
     "metadata": {},
     "output_type": "execute_result"
    }
   ],
   "source": [
    "round(7.6)"
   ]
  },
  {
   "cell_type": "code",
   "execution_count": null,
   "metadata": {},
   "outputs": [
    {
     "data": {
      "text/plain": [
       "7"
      ]
     },
     "execution_count": 128,
     "metadata": {},
     "output_type": "execute_result"
    }
   ],
   "source": [
    "round(7.1)"
   ]
  },
  {
   "cell_type": "code",
   "execution_count": null,
   "metadata": {},
   "outputs": [
    {
     "data": {
      "text/plain": [
       "7"
      ]
     },
     "execution_count": 126,
     "metadata": {},
     "output_type": "execute_result"
    }
   ],
   "source": [
    "math.floor(7.6)"
   ]
  },
  {
   "cell_type": "code",
   "execution_count": null,
   "metadata": {},
   "outputs": [
    {
     "data": {
      "text/plain": [
       "24"
      ]
     },
     "execution_count": 130,
     "metadata": {},
     "output_type": "execute_result"
    }
   ],
   "source": [
    "math.factorial(4)"
   ]
  },
  {
   "cell_type": "code",
   "execution_count": null,
   "metadata": {},
   "outputs": [
    {
     "data": {
      "text/plain": [
       "9.0"
      ]
     },
     "execution_count": 131,
     "metadata": {},
     "output_type": "execute_result"
    }
   ],
   "source": [
    "math.pow(3,2)"
   ]
  },
  {
   "cell_type": "code",
   "execution_count": null,
   "metadata": {},
   "outputs": [
    {
     "data": {
      "text/plain": [
       "9"
      ]
     },
     "execution_count": 132,
     "metadata": {},
     "output_type": "execute_result"
    }
   ],
   "source": [
    "3**2"
   ]
  },
  {
   "attachments": {},
   "cell_type": "markdown",
   "metadata": {},
   "source": [
    "### collections (Counter) Module'ü"
   ]
  },
  {
   "cell_type": "code",
   "execution_count": null,
   "metadata": {},
   "outputs": [],
   "source": [
    "from collections import Counter\n",
    "import random"
   ]
  },
  {
   "cell_type": "code",
   "execution_count": null,
   "metadata": {},
   "outputs": [
    {
     "name": "stdout",
     "output_type": "stream",
     "text": [
      "[[2, 5, 8, 9], [4, 9, 6, 2], [5, 6, 1, 9], [7, 0, 3, 8]]\n",
      "[2, 5, 8, 9, 4, 9, 6, 2, 5, 6, 1, 9, 7, 0, 3, 8]\n"
     ]
    }
   ],
   "source": [
    "list1 = random.sample(range(10), k=4)\n",
    "list2 = random.sample(range(10), k=4)\n",
    "list3 = random.sample(range(10), k=4)\n",
    "list4 = random.sample(range(10), k=4)\n",
    "\n",
    "liste_listesi = [list1, list2, list3, list4]\n",
    "list_toplam = list1 + list2 + list3 + list4\n",
    "\n",
    "print(liste_listesi)\n",
    "print(list_toplam)"
   ]
  },
  {
   "cell_type": "code",
   "execution_count": null,
   "metadata": {},
   "outputs": [
    {
     "name": "stdout",
     "output_type": "stream",
     "text": [
      "1. liste \t [2, 5, 8, 9]\n",
      "2. liste \t [4, 9, 6, 2]\n",
      "3. liste \t [5, 6, 1, 9]\n",
      "4. liste \t [7, 0, 3, 8]\n"
     ]
    },
    {
     "data": {
      "text/plain": [
       "Counter({2: 2, 5: 2, 8: 2, 9: 3, 4: 1, 6: 2, 1: 1, 7: 1, 0: 1, 3: 1})"
      ]
     },
     "execution_count": 20,
     "metadata": {},
     "output_type": "execute_result"
    }
   ],
   "source": [
    "for index, liste in enumerate(liste_listesi):\n",
    "    print('{}. liste \\t {}'.format(index+1, liste))\n",
    "Counter(list_toplam)"
   ]
  },
  {
   "cell_type": "code",
   "execution_count": null,
   "metadata": {},
   "outputs": [
    {
     "data": {
      "text/plain": [
       "Counter({'a': 3, 's': 2, 'd': 2, 'v': 3})"
      ]
     },
     "execution_count": 21,
     "metadata": {},
     "output_type": "execute_result"
    }
   ],
   "source": [
    "Counter(\"asdvasvadv\")"
   ]
  },
  {
   "cell_type": "code",
   "execution_count": null,
   "metadata": {},
   "outputs": [
    {
     "name": "stdout",
     "output_type": "stream",
     "text": [
      "Umut durur, yakar durur içim\n",
      "Sevdiğimi düşünür\n",
      "Ölüm gelir, alır gider seni\n",
      "Üşürüm\n"
     ]
    }
   ],
   "source": [
    "sarki = \"\"\"Umut durur, yakar durur içim\n",
    "Sevdiğimi düşünür\n",
    "Ölüm gelir, alır gider seni\n",
    "Üşürüm\"\"\"\n",
    "print(sarki)"
   ]
  },
  {
   "cell_type": "code",
   "execution_count": null,
   "metadata": {},
   "outputs": [
    {
     "data": {
      "text/plain": [
       "Counter({'U': 1,\n",
       "         'm': 5,\n",
       "         'u': 5,\n",
       "         't': 1,\n",
       "         ' ': 9,\n",
       "         'd': 5,\n",
       "         'r': 10,\n",
       "         ',': 2,\n",
       "         'y': 1,\n",
       "         'a': 3,\n",
       "         'k': 1,\n",
       "         'i': 8,\n",
       "         'ç': 1,\n",
       "         '\\n': 3,\n",
       "         'S': 1,\n",
       "         'e': 4,\n",
       "         'v': 1,\n",
       "         'ğ': 1,\n",
       "         'ü': 6,\n",
       "         'ş': 2,\n",
       "         'n': 2,\n",
       "         'Ö': 1,\n",
       "         'l': 3,\n",
       "         'g': 2,\n",
       "         'ı': 1,\n",
       "         's': 1,\n",
       "         'Ü': 1})"
      ]
     },
     "execution_count": 25,
     "metadata": {},
     "output_type": "execute_result"
    }
   ],
   "source": [
    "Counter(sarki)"
   ]
  },
  {
   "cell_type": "code",
   "execution_count": null,
   "metadata": {},
   "outputs": [
    {
     "data": {
      "text/plain": [
       "['Umut',\n",
       " 'durur,',\n",
       " 'yakar',\n",
       " 'durur',\n",
       " 'içim',\n",
       " 'Sevdiğimi',\n",
       " 'düşünür',\n",
       " 'Ölüm',\n",
       " 'gelir,',\n",
       " 'alır',\n",
       " 'gider',\n",
       " 'seni',\n",
       " 'Üşürüm']"
      ]
     },
     "execution_count": 26,
     "metadata": {},
     "output_type": "execute_result"
    }
   ],
   "source": [
    "sarki.split()"
   ]
  },
  {
   "cell_type": "code",
   "execution_count": null,
   "metadata": {},
   "outputs": [
    {
     "data": {
      "text/plain": [
       "Counter({'Umut': 1,\n",
       "         'durur,': 1,\n",
       "         'yakar': 1,\n",
       "         'durur': 1,\n",
       "         'içim': 1,\n",
       "         'Sevdiğimi': 1,\n",
       "         'düşünür': 1,\n",
       "         'Ölüm': 1,\n",
       "         'gelir,': 1,\n",
       "         'alır': 1,\n",
       "         'gider': 1,\n",
       "         'seni': 1,\n",
       "         'Üşürüm': 1})"
      ]
     },
     "execution_count": 28,
     "metadata": {},
     "output_type": "execute_result"
    }
   ],
   "source": [
    "Counter(sarki.split())"
   ]
  },
  {
   "cell_type": "code",
   "execution_count": null,
   "metadata": {},
   "outputs": [
    {
     "data": {
      "text/plain": [
       "'umut durur, yakar durur içim\\nsevdiğimi düşünür\\nölüm gelir, alır gider seni\\nüşürüm'"
      ]
     },
     "execution_count": 29,
     "metadata": {},
     "output_type": "execute_result"
    }
   ],
   "source": [
    "sarki.lower()"
   ]
  },
  {
   "cell_type": "code",
   "execution_count": null,
   "metadata": {},
   "outputs": [
    {
     "data": {
      "text/plain": [
       "['umut',\n",
       " 'durur,',\n",
       " 'yakar',\n",
       " 'durur',\n",
       " 'içim',\n",
       " 'sevdiğimi',\n",
       " 'düşünür',\n",
       " 'ölüm',\n",
       " 'gelir,',\n",
       " 'alır',\n",
       " 'gider',\n",
       " 'seni',\n",
       " 'üşürüm']"
      ]
     },
     "execution_count": 31,
     "metadata": {},
     "output_type": "execute_result"
    }
   ],
   "source": [
    "sarki.lower().split()"
   ]
  },
  {
   "cell_type": "code",
   "execution_count": null,
   "metadata": {},
   "outputs": [
    {
     "data": {
      "text/plain": [
       "Counter({'umut': 1,\n",
       "         'durur,': 1,\n",
       "         'yakar': 1,\n",
       "         'durur': 1,\n",
       "         'içim': 1,\n",
       "         'sevdiğimi': 1,\n",
       "         'düşünür': 1,\n",
       "         'ölüm': 1,\n",
       "         'gelir,': 1,\n",
       "         'alır': 1,\n",
       "         'gider': 1,\n",
       "         'seni': 1,\n",
       "         'üşürüm': 1})"
      ]
     },
     "execution_count": 32,
     "metadata": {},
     "output_type": "execute_result"
    }
   ],
   "source": [
    "Counter(sarki.lower().split())"
   ]
  },
  {
   "cell_type": "code",
   "execution_count": null,
   "metadata": {},
   "outputs": [
    {
     "data": {
      "text/plain": [
       "[('umut', 1), ('durur,', 1)]"
      ]
     },
     "execution_count": 35,
     "metadata": {},
     "output_type": "execute_result"
    }
   ],
   "source": [
    "Counter(sarki.lower().split()).most_common(2)"
   ]
  },
  {
   "attachments": {},
   "cell_type": "markdown",
   "metadata": {},
   "source": [
    "### Datetime ve Time Module'leri"
   ]
  },
  {
   "cell_type": "code",
   "execution_count": null,
   "metadata": {},
   "outputs": [],
   "source": [
    "import datetime"
   ]
  },
  {
   "attachments": {},
   "cell_type": "markdown",
   "metadata": {},
   "source": [
    "## datetime.date"
   ]
  },
  {
   "cell_type": "code",
   "execution_count": null,
   "metadata": {},
   "outputs": [],
   "source": [
    "from datetime import date"
   ]
  },
  {
   "cell_type": "code",
   "execution_count": null,
   "metadata": {},
   "outputs": [
    {
     "name": "stdout",
     "output_type": "stream",
     "text": [
      "2022-12-28\n"
     ]
    }
   ],
   "source": [
    "bugun = date.today()\n",
    "print(bugun)"
   ]
  },
  {
   "cell_type": "code",
   "execution_count": null,
   "metadata": {},
   "outputs": [
    {
     "name": "stdout",
     "output_type": "stream",
     "text": [
      "2022-12-27\n"
     ]
    }
   ],
   "source": [
    "dun = date(2022,12,27)\n",
    "print(dun)"
   ]
  },
  {
   "cell_type": "code",
   "execution_count": null,
   "metadata": {},
   "outputs": [
    {
     "data": {
      "text/plain": [
       "datetime.timedelta(days=1)"
      ]
     },
     "execution_count": 6,
     "metadata": {},
     "output_type": "execute_result"
    }
   ],
   "source": [
    "bugun - dun"
   ]
  },
  {
   "cell_type": "code",
   "execution_count": null,
   "metadata": {},
   "outputs": [
    {
     "name": "stdout",
     "output_type": "stream",
     "text": [
      "2022-12-29\n"
     ]
    }
   ],
   "source": [
    "yarin = bugun + datetime.timedelta(days = 1)\n",
    "print(yarin)"
   ]
  },
  {
   "cell_type": "code",
   "execution_count": null,
   "metadata": {},
   "outputs": [
    {
     "data": {
      "text/plain": [
       "1"
      ]
     },
     "execution_count": 10,
     "metadata": {},
     "output_type": "execute_result"
    }
   ],
   "source": [
    "zaman_araligi = bugun - dun \n",
    "zaman_araligi.days"
   ]
  },
  {
   "cell_type": "code",
   "execution_count": null,
   "metadata": {},
   "outputs": [
    {
     "data": {
      "text/plain": [
       "True"
      ]
     },
     "execution_count": 11,
     "metadata": {},
     "output_type": "execute_result"
    }
   ],
   "source": [
    "dun < bugun "
   ]
  },
  {
   "cell_type": "code",
   "execution_count": null,
   "metadata": {},
   "outputs": [
    {
     "data": {
      "text/plain": [
       "False"
      ]
     },
     "execution_count": 12,
     "metadata": {},
     "output_type": "execute_result"
    }
   ],
   "source": [
    "dun > bugun"
   ]
  },
  {
   "cell_type": "code",
   "execution_count": null,
   "metadata": {},
   "outputs": [
    {
     "data": {
      "text/plain": [
       "2022"
      ]
     },
     "execution_count": 13,
     "metadata": {},
     "output_type": "execute_result"
    }
   ],
   "source": [
    "bugun.year"
   ]
  },
  {
   "cell_type": "code",
   "execution_count": null,
   "metadata": {},
   "outputs": [
    {
     "data": {
      "text/plain": [
       "12"
      ]
     },
     "execution_count": 14,
     "metadata": {},
     "output_type": "execute_result"
    }
   ],
   "source": [
    "bugun.month"
   ]
  },
  {
   "cell_type": "code",
   "execution_count": null,
   "metadata": {},
   "outputs": [
    {
     "data": {
      "text/plain": [
       "12"
      ]
     },
     "execution_count": 15,
     "metadata": {},
     "output_type": "execute_result"
    }
   ],
   "source": [
    "bugun.__getattribute__('month')"
   ]
  },
  {
   "cell_type": "code",
   "execution_count": null,
   "metadata": {},
   "outputs": [
    {
     "data": {
      "text/plain": [
       "datetime.IsoCalendarDate(year=2022, week=52, weekday=3)"
      ]
     },
     "execution_count": 22,
     "metadata": {},
     "output_type": "execute_result"
    }
   ],
   "source": [
    "date.isocalendar(bugun)"
   ]
  },
  {
   "cell_type": "code",
   "execution_count": null,
   "metadata": {},
   "outputs": [
    {
     "data": {
      "text/plain": [
       "2"
      ]
     },
     "execution_count": 18,
     "metadata": {},
     "output_type": "execute_result"
    }
   ],
   "source": [
    "date.weekday(bugun)"
   ]
  },
  {
   "cell_type": "code",
   "execution_count": null,
   "metadata": {},
   "outputs": [
    {
     "data": {
      "text/plain": [
       "'Wed Dec 28 00:00:00 2022'"
      ]
     },
     "execution_count": 23,
     "metadata": {},
     "output_type": "execute_result"
    }
   ],
   "source": [
    "date.ctime(bugun)"
   ]
  },
  {
   "attachments": {},
   "cell_type": "markdown",
   "metadata": {},
   "source": [
    "## datetime.time"
   ]
  },
  {
   "cell_type": "code",
   "execution_count": null,
   "metadata": {},
   "outputs": [],
   "source": [
    "from datetime import time"
   ]
  },
  {
   "cell_type": "code",
   "execution_count": null,
   "metadata": {},
   "outputs": [
    {
     "name": "stdout",
     "output_type": "stream",
     "text": [
      "21:15:05\n"
     ]
    }
   ],
   "source": [
    "zaman =  time(21,15,5)\n",
    "print(zaman)"
   ]
  },
  {
   "cell_type": "code",
   "execution_count": null,
   "metadata": {},
   "outputs": [
    {
     "data": {
      "text/plain": [
       "21"
      ]
     },
     "execution_count": 30,
     "metadata": {},
     "output_type": "execute_result"
    }
   ],
   "source": [
    "zaman.hour"
   ]
  },
  {
   "cell_type": "code",
   "execution_count": null,
   "metadata": {},
   "outputs": [
    {
     "data": {
      "text/plain": [
       "15"
      ]
     },
     "execution_count": 31,
     "metadata": {},
     "output_type": "execute_result"
    }
   ],
   "source": [
    "zaman.minute"
   ]
  },
  {
   "cell_type": "code",
   "execution_count": null,
   "metadata": {},
   "outputs": [
    {
     "data": {
      "text/plain": [
       "5"
      ]
     },
     "execution_count": 32,
     "metadata": {},
     "output_type": "execute_result"
    }
   ],
   "source": [
    "zaman.second"
   ]
  },
  {
   "attachments": {},
   "cell_type": "markdown",
   "metadata": {},
   "source": [
    "## datetime.datetime"
   ]
  },
  {
   "cell_type": "code",
   "execution_count": null,
   "metadata": {},
   "outputs": [
    {
     "name": "stdout",
     "output_type": "stream",
     "text": [
      "2020-10-21 11:05:02\n"
     ]
    }
   ],
   "source": [
    "dt = datetime.datetime(2020, 10, 21, 11, 5, 2)\n",
    "print(dt)"
   ]
  },
  {
   "cell_type": "code",
   "execution_count": null,
   "metadata": {},
   "outputs": [
    {
     "data": {
      "text/plain": [
       "21"
      ]
     },
     "execution_count": 36,
     "metadata": {},
     "output_type": "execute_result"
    }
   ],
   "source": [
    "dt.day"
   ]
  },
  {
   "attachments": {},
   "cell_type": "markdown",
   "metadata": {},
   "source": [
    "## time"
   ]
  },
  {
   "cell_type": "code",
   "execution_count": null,
   "metadata": {},
   "outputs": [],
   "source": [
    "import time"
   ]
  },
  {
   "cell_type": "code",
   "execution_count": null,
   "metadata": {},
   "outputs": [
    {
     "data": {
      "text/plain": [
       "1672260736.0316665"
      ]
     },
     "execution_count": 39,
     "metadata": {},
     "output_type": "execute_result"
    }
   ],
   "source": [
    "time.time()"
   ]
  },
  {
   "cell_type": "code",
   "execution_count": null,
   "metadata": {},
   "outputs": [
    {
     "name": "stdout",
     "output_type": "stream",
     "text": [
      "Baslama Zamani:\t1672261016.2695131\n",
      "Bitis Zamani:\t1672261021.2703912\n",
      "Calisma Zamani:\t5\n"
     ]
    }
   ],
   "source": [
    "baslangic_zamani = time.time()\n",
    "print(\"Baslama Zamani:\\t{}\".format(baslangic_zamani))\n",
    "time.sleep(5)\n",
    "bitis_zamani = time.time()\n",
    "print((\"Bitis Zamani:\\t{}\".format(bitis_zamani)))\n",
    "print((\"Calisma Zamani:\\t{}\".format(round(bitis_zamani-baslangic_zamani))))"
   ]
  },
  {
   "attachments": {},
   "cell_type": "markdown",
   "metadata": {},
   "source": [
    "### Decorator Prensibi"
   ]
  },
  {
   "cell_type": "code",
   "execution_count": null,
   "metadata": {},
   "outputs": [
    {
     "ename": "SyntaxError",
     "evalue": "incomplete input (866680510.py, line 1)",
     "output_type": "error",
     "traceback": [
      "\u001b[1;36m  Cell \u001b[1;32mIn [1], line 1\u001b[1;36m\u001b[0m\n\u001b[1;33m    @decorator\u001b[0m\n\u001b[1;37m              ^\u001b[0m\n\u001b[1;31mSyntaxError\u001b[0m\u001b[1;31m:\u001b[0m incomplete input\n"
     ]
    }
   ],
   "source": [
    "@decorator\n",
    "def..."
   ]
  },
  {
   "cell_type": "code",
   "execution_count": null,
   "metadata": {},
   "outputs": [],
   "source": [
    "def deneme():\n",
    "    print('abc')"
   ]
  },
  {
   "cell_type": "code",
   "execution_count": null,
   "metadata": {},
   "outputs": [
    {
     "name": "stdout",
     "output_type": "stream",
     "text": [
      "abc\n"
     ]
    }
   ],
   "source": [
    "deneme()"
   ]
  },
  {
   "cell_type": "code",
   "execution_count": null,
   "metadata": {},
   "outputs": [],
   "source": [
    "f = deneme"
   ]
  },
  {
   "cell_type": "code",
   "execution_count": null,
   "metadata": {},
   "outputs": [
    {
     "name": "stdout",
     "output_type": "stream",
     "text": [
      "abc\n"
     ]
    }
   ],
   "source": [
    "f()"
   ]
  },
  {
   "attachments": {},
   "cell_type": "markdown",
   "metadata": {},
   "source": [
    "### Fonksiyon İçinde Fonksiyon"
   ]
  },
  {
   "cell_type": "code",
   "execution_count": null,
   "metadata": {},
   "outputs": [],
   "source": [
    "def deneme():\n",
    "    print(\"Deneme fonksiyonu calisiyor.\")\n",
    "\n",
    "    def test():\n",
    "        return \"test fonksiyonu calisiyor.\"\n",
    "\n",
    "    print(test())"
   ]
  },
  {
   "cell_type": "code",
   "execution_count": null,
   "metadata": {},
   "outputs": [
    {
     "name": "stdout",
     "output_type": "stream",
     "text": [
      "Deneme fonksiyonu calisiyor.\n",
      "test fonksiyonu calisiyor.\n"
     ]
    }
   ],
   "source": [
    "deneme()"
   ]
  },
  {
   "cell_type": "code",
   "execution_count": null,
   "metadata": {},
   "outputs": [],
   "source": [
    "def deneme():\n",
    "    print(\"Deneme fonksiyonu calisiyor.\")\n",
    "\n",
    "    def test():\n",
    "        return \"test fonksiyonu calisiyor.\"\n",
    "\n",
    "    return test"
   ]
  },
  {
   "cell_type": "code",
   "execution_count": null,
   "metadata": {},
   "outputs": [
    {
     "name": "stdout",
     "output_type": "stream",
     "text": [
      "Deneme fonksiyonu calisiyor.\n"
     ]
    },
    {
     "data": {
      "text/plain": [
       "<function __main__.deneme.<locals>.test()>"
      ]
     },
     "execution_count": 11,
     "metadata": {},
     "output_type": "execute_result"
    }
   ],
   "source": [
    "deneme()"
   ]
  },
  {
   "cell_type": "code",
   "execution_count": null,
   "metadata": {},
   "outputs": [
    {
     "name": "stdout",
     "output_type": "stream",
     "text": [
      "Deneme fonksiyonu calisiyor.\n"
     ]
    },
    {
     "data": {
      "text/plain": [
       "'test fonksiyonu calisiyor.'"
      ]
     },
     "execution_count": 13,
     "metadata": {},
     "output_type": "execute_result"
    }
   ],
   "source": [
    "f = deneme()\n",
    "f()"
   ]
  },
  {
   "cell_type": "code",
   "execution_count": null,
   "metadata": {},
   "outputs": [
    {
     "name": "stdout",
     "output_type": "stream",
     "text": [
      "Deneme fonksiyonu calisiyor.\n",
      "test fonksiyonu calisiyor.\n"
     ]
    }
   ],
   "source": [
    "f = deneme()\n",
    "print(f())"
   ]
  },
  {
   "attachments": {},
   "cell_type": "markdown",
   "metadata": {},
   "source": [
    "### Decorator"
   ]
  },
  {
   "cell_type": "code",
   "execution_count": null,
   "metadata": {},
   "outputs": [],
   "source": [
    "def deneme():\n",
    "    return \"deneme fonksiyonu calisiyor.\""
   ]
  },
  {
   "cell_type": "code",
   "execution_count": null,
   "metadata": {},
   "outputs": [],
   "source": [
    "def ikinci(f):\n",
    "    print(\"İkinci fonksiyon calisiyor.\")\n",
    "\n",
    "    print(f())"
   ]
  },
  {
   "cell_type": "code",
   "execution_count": null,
   "metadata": {},
   "outputs": [
    {
     "name": "stdout",
     "output_type": "stream",
     "text": [
      "İkinci fonksiyon calisiyor.\n",
      "deneme fonksiyonu calisiyor.\n"
     ]
    }
   ],
   "source": [
    "ikinci(deneme)"
   ]
  },
  {
   "cell_type": "code",
   "execution_count": null,
   "metadata": {},
   "outputs": [],
   "source": [
    "def deco(f):\n",
    "\n",
    "    def wrapper():\n",
    "        print(\"Baslangic\")\n",
    "\n",
    "        f()\n",
    "\n",
    "        print(\"Bitis\")\n",
    "\n",
    "    return wrapper"
   ]
  },
  {
   "cell_type": "code",
   "execution_count": null,
   "metadata": {},
   "outputs": [],
   "source": [
    "def yazdir():\n",
    "    print(\"yazdir\")"
   ]
  },
  {
   "cell_type": "code",
   "execution_count": null,
   "metadata": {},
   "outputs": [],
   "source": [
    "def yazdir2():\n",
    "    print(\"yazdir\")"
   ]
  },
  {
   "cell_type": "code",
   "execution_count": null,
   "metadata": {},
   "outputs": [
    {
     "ename": "TypeError",
     "evalue": "deco() missing 1 required positional argument: 'f'",
     "output_type": "error",
     "traceback": [
      "\u001b[1;31m---------------------------------------------------------------------------\u001b[0m",
      "\u001b[1;31mTypeError\u001b[0m                                 Traceback (most recent call last)",
      "Cell \u001b[1;32mIn [48], line 1\u001b[0m\n\u001b[1;32m----> 1\u001b[0m yazdir2 \u001b[39m=\u001b[39m deco()\n",
      "\u001b[1;31mTypeError\u001b[0m: deco() missing 1 required positional argument: 'f'"
     ]
    }
   ],
   "source": [
    "yazdir2 = deco()"
   ]
  },
  {
   "cell_type": "code",
   "execution_count": null,
   "metadata": {},
   "outputs": [
    {
     "name": "stdout",
     "output_type": "stream",
     "text": [
      "yazdir\n"
     ]
    }
   ],
   "source": [
    "yazdir2()"
   ]
  },
  {
   "cell_type": "code",
   "execution_count": null,
   "metadata": {},
   "outputs": [
    {
     "ename": "TypeError",
     "evalue": "deco() missing 1 required positional argument: 'f'",
     "output_type": "error",
     "traceback": [
      "\u001b[1;31m---------------------------------------------------------------------------\u001b[0m",
      "\u001b[1;31mTypeError\u001b[0m                                 Traceback (most recent call last)",
      "Cell \u001b[1;32mIn [50], line 1\u001b[0m\n\u001b[1;32m----> 1\u001b[0m yazdir \u001b[39m=\u001b[39m deco()\n",
      "\u001b[1;31mTypeError\u001b[0m: deco() missing 1 required positional argument: 'f'"
     ]
    }
   ],
   "source": [
    "yazdir = deco()"
   ]
  },
  {
   "cell_type": "code",
   "execution_count": null,
   "metadata": {},
   "outputs": [
    {
     "name": "stdout",
     "output_type": "stream",
     "text": [
      "yazdir\n"
     ]
    }
   ],
   "source": [
    "yazdir()"
   ]
  },
  {
   "cell_type": "code",
   "execution_count": null,
   "metadata": {},
   "outputs": [],
   "source": [
    "deco\n",
    "def yazdir():\n",
    "    print(\"yazdir\")"
   ]
  },
  {
   "cell_type": "code",
   "execution_count": null,
   "metadata": {},
   "outputs": [
    {
     "name": "stdout",
     "output_type": "stream",
     "text": [
      "yazdir\n"
     ]
    }
   ],
   "source": [
    "yazdir()"
   ]
  },
  {
   "cell_type": "code",
   "execution_count": null,
   "metadata": {},
   "outputs": [],
   "source": [
    "deco\n",
    "def toplama(a, b):\n",
    "    print(a+b)"
   ]
  },
  {
   "cell_type": "code",
   "execution_count": null,
   "metadata": {},
   "outputs": [
    {
     "name": "stdout",
     "output_type": "stream",
     "text": [
      "9\n"
     ]
    }
   ],
   "source": [
    "toplama(4,5)"
   ]
  },
  {
   "attachments": {},
   "cell_type": "markdown",
   "metadata": {},
   "source": [
    "### Argüman Alan Fonksiyonlarda Decorator"
   ]
  },
  {
   "cell_type": "code",
   "execution_count": null,
   "metadata": {},
   "outputs": [],
   "source": [
    "def deco(f):\n",
    "\n",
    "    def wrapper(*args):\n",
    "        print(\"Baslangic\")\n",
    "\n",
    "        f(*args)\n",
    "\n",
    "        print(\"Bitis\")\n",
    "\n",
    "    return wrapper"
   ]
  },
  {
   "cell_type": "code",
   "execution_count": null,
   "metadata": {},
   "outputs": [],
   "source": [
    "deco\n",
    "def toplama(a, b):\n",
    "    print(a+b)"
   ]
  },
  {
   "cell_type": "code",
   "execution_count": null,
   "metadata": {},
   "outputs": [
    {
     "name": "stdout",
     "output_type": "stream",
     "text": [
      "9\n"
     ]
    }
   ],
   "source": [
    "toplama(4,5)"
   ]
  },
  {
   "attachments": {},
   "cell_type": "markdown",
   "metadata": {},
   "source": [
    "### GET Metodu"
   ]
  },
  {
   "cell_type": "code",
   "execution_count": 1,
   "metadata": {},
   "outputs": [],
   "source": [
    "import requests"
   ]
  },
  {
   "cell_type": "code",
   "execution_count": 3,
   "metadata": {},
   "outputs": [],
   "source": [
    "bolgeler_URL = 'https://data.police.uk/api/forces'\n",
    "response = requests.get(bolgeler_URL)"
   ]
  },
  {
   "cell_type": "code",
   "execution_count": 4,
   "metadata": {},
   "outputs": [
    {
     "name": "stdout",
     "output_type": "stream",
     "text": [
      "Help on Response in module requests.models object:\n",
      "\n",
      "class Response(builtins.object)\n",
      " |  The :class:`Response <Response>` object, which contains a\n",
      " |  server's response to an HTTP request.\n",
      " |  \n",
      " |  Methods defined here:\n",
      " |  \n",
      " |  __bool__(self)\n",
      " |      Returns True if :attr:`status_code` is less than 400.\n",
      " |      \n",
      " |      This attribute checks if the status code of the response is between\n",
      " |      400 and 600 to see if there was a client error or a server error. If\n",
      " |      the status code, is between 200 and 400, this will return True. This\n",
      " |      is **not** a check to see if the response code is ``200 OK``.\n",
      " |  \n",
      " |  __enter__(self)\n",
      " |  \n",
      " |  __exit__(self, *args)\n",
      " |  \n",
      " |  __getstate__(self)\n",
      " |      Helper for pickle.\n",
      " |  \n",
      " |  __init__(self)\n",
      " |      Initialize self.  See help(type(self)) for accurate signature.\n",
      " |  \n",
      " |  __iter__(self)\n",
      " |      Allows you to use a response as an iterator.\n",
      " |  \n",
      " |  __nonzero__(self)\n",
      " |      Returns True if :attr:`status_code` is less than 400.\n",
      " |      \n",
      " |      This attribute checks if the status code of the response is between\n",
      " |      400 and 600 to see if there was a client error or a server error. If\n",
      " |      the status code, is between 200 and 400, this will return True. This\n",
      " |      is **not** a check to see if the response code is ``200 OK``.\n",
      " |  \n",
      " |  __repr__(self)\n",
      " |      Return repr(self).\n",
      " |  \n",
      " |  __setstate__(self, state)\n",
      " |  \n",
      " |  close(self)\n",
      " |      Releases the connection back to the pool. Once this method has been\n",
      " |      called the underlying ``raw`` object must not be accessed again.\n",
      " |      \n",
      " |      *Note: Should not normally need to be called explicitly.*\n",
      " |  \n",
      " |  iter_content(self, chunk_size=1, decode_unicode=False)\n",
      " |      Iterates over the response data.  When stream=True is set on the\n",
      " |      request, this avoids reading the content at once into memory for\n",
      " |      large responses.  The chunk size is the number of bytes it should\n",
      " |      read into memory.  This is not necessarily the length of each item\n",
      " |      returned as decoding can take place.\n",
      " |      \n",
      " |      chunk_size must be of type int or None. A value of None will\n",
      " |      function differently depending on the value of `stream`.\n",
      " |      stream=True will read data as it arrives in whatever size the\n",
      " |      chunks are received. If stream=False, data is returned as\n",
      " |      a single chunk.\n",
      " |      \n",
      " |      If decode_unicode is True, content will be decoded using the best\n",
      " |      available encoding based on the response.\n",
      " |  \n",
      " |  iter_lines(self, chunk_size=512, decode_unicode=False, delimiter=None)\n",
      " |      Iterates over the response data, one line at a time.  When\n",
      " |      stream=True is set on the request, this avoids reading the\n",
      " |      content at once into memory for large responses.\n",
      " |      \n",
      " |      .. note:: This method is not reentrant safe.\n",
      " |  \n",
      " |  json(self, **kwargs)\n",
      " |      Returns the json-encoded content of a response, if any.\n",
      " |      \n",
      " |      :param \\*\\*kwargs: Optional arguments that ``json.loads`` takes.\n",
      " |      :raises requests.exceptions.JSONDecodeError: If the response body does not\n",
      " |          contain valid json.\n",
      " |  \n",
      " |  raise_for_status(self)\n",
      " |      Raises :class:`HTTPError`, if one occurred.\n",
      " |  \n",
      " |  ----------------------------------------------------------------------\n",
      " |  Readonly properties defined here:\n",
      " |  \n",
      " |  apparent_encoding\n",
      " |      The apparent encoding, provided by the charset_normalizer or chardet libraries.\n",
      " |  \n",
      " |  content\n",
      " |      Content of the response, in bytes.\n",
      " |  \n",
      " |  is_permanent_redirect\n",
      " |      True if this Response one of the permanent versions of redirect.\n",
      " |  \n",
      " |  is_redirect\n",
      " |      True if this Response is a well-formed HTTP redirect that could have\n",
      " |      been processed automatically (by :meth:`Session.resolve_redirects`).\n",
      " |  \n",
      " |  links\n",
      " |      Returns the parsed header links of the response, if any.\n",
      " |  \n",
      " |  next\n",
      " |      Returns a PreparedRequest for the next request in a redirect chain, if there is one.\n",
      " |  \n",
      " |  ok\n",
      " |      Returns True if :attr:`status_code` is less than 400, False if not.\n",
      " |      \n",
      " |      This attribute checks if the status code of the response is between\n",
      " |      400 and 600 to see if there was a client error or a server error. If\n",
      " |      the status code is between 200 and 400, this will return True. This\n",
      " |      is **not** a check to see if the response code is ``200 OK``.\n",
      " |  \n",
      " |  text\n",
      " |      Content of the response, in unicode.\n",
      " |      \n",
      " |      If Response.encoding is None, encoding will be guessed using\n",
      " |      ``charset_normalizer`` or ``chardet``.\n",
      " |      \n",
      " |      The encoding of the response content is determined based solely on HTTP\n",
      " |      headers, following RFC 2616 to the letter. If you can take advantage of\n",
      " |      non-HTTP knowledge to make a better guess at the encoding, you should\n",
      " |      set ``r.encoding`` appropriately before accessing this property.\n",
      " |  \n",
      " |  ----------------------------------------------------------------------\n",
      " |  Data descriptors defined here:\n",
      " |  \n",
      " |  __dict__\n",
      " |      dictionary for instance variables (if defined)\n",
      " |  \n",
      " |  __weakref__\n",
      " |      list of weak references to the object (if defined)\n",
      " |  \n",
      " |  ----------------------------------------------------------------------\n",
      " |  Data and other attributes defined here:\n",
      " |  \n",
      " |  __attrs__ = ['_content', 'status_code', 'headers', 'url', 'history', '...\n",
      "\n"
     ]
    }
   ],
   "source": [
    "help(response)"
   ]
  },
  {
   "cell_type": "code",
   "execution_count": 5,
   "metadata": {},
   "outputs": [
    {
     "data": {
      "text/plain": [
       "200"
      ]
     },
     "execution_count": 5,
     "metadata": {},
     "output_type": "execute_result"
    }
   ],
   "source": [
    "response.status_code"
   ]
  },
  {
   "cell_type": "code",
   "execution_count": 6,
   "metadata": {},
   "outputs": [
    {
     "data": {
      "text/plain": [
       "'https://data.police.uk/api/forces'"
      ]
     },
     "execution_count": 6,
     "metadata": {},
     "output_type": "execute_result"
    }
   ],
   "source": [
    "response.url"
   ]
  },
  {
   "cell_type": "code",
   "execution_count": 7,
   "metadata": {},
   "outputs": [
    {
     "data": {
      "text/plain": [
       "'[{\"id\":\"avon-and-somerset\",\"name\":\"Avon and Somerset Constabulary\"},{\"id\":\"bedfordshire\",\"name\":\"Bedfordshire Police\"},{\"id\":\"cambridgeshire\",\"name\":\"Cambridgeshire Constabulary\"},{\"id\":\"cheshire\",\"name\":\"Cheshire Constabulary\"},{\"id\":\"city-of-london\",\"name\":\"City of London Police\"},{\"id\":\"cleveland\",\"name\":\"Cleveland Police\"},{\"id\":\"cumbria\",\"name\":\"Cumbria Constabulary\"},{\"id\":\"derbyshire\",\"name\":\"Derbyshire Constabulary\"},{\"id\":\"devon-and-cornwall\",\"name\":\"Devon & Cornwall Police\"},{\"id\":\"dorset\",\"name\":\"Dorset Police\"},{\"id\":\"durham\",\"name\":\"Durham Constabulary\"},{\"id\":\"dyfed-powys\",\"name\":\"Dyfed-Powys Police\"},{\"id\":\"essex\",\"name\":\"Essex Police\"},{\"id\":\"gloucestershire\",\"name\":\"Gloucestershire Constabulary\"},{\"id\":\"greater-manchester\",\"name\":\"Greater Manchester Police\"},{\"id\":\"gwent\",\"name\":\"Gwent Police\"},{\"id\":\"hampshire\",\"name\":\"Hampshire Constabulary\"},{\"id\":\"hertfordshire\",\"name\":\"Hertfordshire Constabulary\"},{\"id\":\"humberside\",\"name\":\"Humberside Police\"},{\"id\":\"kent\",\"name\":\"Kent Police\"},{\"id\":\"lancashire\",\"name\":\"Lancashire Constabulary\"},{\"id\":\"leicestershire\",\"name\":\"Leicestershire Police\"},{\"id\":\"lincolnshire\",\"name\":\"Lincolnshire Police\"},{\"id\":\"merseyside\",\"name\":\"Merseyside Police\"},{\"id\":\"metropolitan\",\"name\":\"Metropolitan Police Service\"},{\"id\":\"norfolk\",\"name\":\"Norfolk Constabulary\"},{\"id\":\"north-wales\",\"name\":\"North Wales Police\"},{\"id\":\"north-yorkshire\",\"name\":\"North Yorkshire Police\"},{\"id\":\"northamptonshire\",\"name\":\"Northamptonshire Police\"},{\"id\":\"northumbria\",\"name\":\"Northumbria Police\"},{\"id\":\"nottinghamshire\",\"name\":\"Nottinghamshire Police\"},{\"id\":\"northern-ireland\",\"name\":\"Police Service of Northern Ireland\"},{\"id\":\"south-wales\",\"name\":\"South Wales Police\"},{\"id\":\"south-yorkshire\",\"name\":\"South Yorkshire Police\"},{\"id\":\"staffordshire\",\"name\":\"Staffordshire Police\"},{\"id\":\"suffolk\",\"name\":\"Suffolk Constabulary\"},{\"id\":\"surrey\",\"name\":\"Surrey Police\"},{\"id\":\"sussex\",\"name\":\"Sussex Police\"},{\"id\":\"thames-valley\",\"name\":\"Thames Valley Police\"},{\"id\":\"warwickshire\",\"name\":\"Warwickshire Police\"},{\"id\":\"west-mercia\",\"name\":\"West Mercia Police\"},{\"id\":\"west-midlands\",\"name\":\"West Midlands Police\"},{\"id\":\"west-yorkshire\",\"name\":\"West Yorkshire Police\"},{\"id\":\"wiltshire\",\"name\":\"Wiltshire Police\"}]'"
      ]
     },
     "execution_count": 7,
     "metadata": {},
     "output_type": "execute_result"
    }
   ],
   "source": [
    "response.text"
   ]
  },
  {
   "cell_type": "code",
   "execution_count": 8,
   "metadata": {},
   "outputs": [
    {
     "data": {
      "text/plain": [
       "[{'id': 'avon-and-somerset', 'name': 'Avon and Somerset Constabulary'},\n",
       " {'id': 'bedfordshire', 'name': 'Bedfordshire Police'},\n",
       " {'id': 'cambridgeshire', 'name': 'Cambridgeshire Constabulary'},\n",
       " {'id': 'cheshire', 'name': 'Cheshire Constabulary'},\n",
       " {'id': 'city-of-london', 'name': 'City of London Police'},\n",
       " {'id': 'cleveland', 'name': 'Cleveland Police'},\n",
       " {'id': 'cumbria', 'name': 'Cumbria Constabulary'},\n",
       " {'id': 'derbyshire', 'name': 'Derbyshire Constabulary'},\n",
       " {'id': 'devon-and-cornwall', 'name': 'Devon & Cornwall Police'},\n",
       " {'id': 'dorset', 'name': 'Dorset Police'},\n",
       " {'id': 'durham', 'name': 'Durham Constabulary'},\n",
       " {'id': 'dyfed-powys', 'name': 'Dyfed-Powys Police'},\n",
       " {'id': 'essex', 'name': 'Essex Police'},\n",
       " {'id': 'gloucestershire', 'name': 'Gloucestershire Constabulary'},\n",
       " {'id': 'greater-manchester', 'name': 'Greater Manchester Police'},\n",
       " {'id': 'gwent', 'name': 'Gwent Police'},\n",
       " {'id': 'hampshire', 'name': 'Hampshire Constabulary'},\n",
       " {'id': 'hertfordshire', 'name': 'Hertfordshire Constabulary'},\n",
       " {'id': 'humberside', 'name': 'Humberside Police'},\n",
       " {'id': 'kent', 'name': 'Kent Police'},\n",
       " {'id': 'lancashire', 'name': 'Lancashire Constabulary'},\n",
       " {'id': 'leicestershire', 'name': 'Leicestershire Police'},\n",
       " {'id': 'lincolnshire', 'name': 'Lincolnshire Police'},\n",
       " {'id': 'merseyside', 'name': 'Merseyside Police'},\n",
       " {'id': 'metropolitan', 'name': 'Metropolitan Police Service'},\n",
       " {'id': 'norfolk', 'name': 'Norfolk Constabulary'},\n",
       " {'id': 'north-wales', 'name': 'North Wales Police'},\n",
       " {'id': 'north-yorkshire', 'name': 'North Yorkshire Police'},\n",
       " {'id': 'northamptonshire', 'name': 'Northamptonshire Police'},\n",
       " {'id': 'northumbria', 'name': 'Northumbria Police'},\n",
       " {'id': 'nottinghamshire', 'name': 'Nottinghamshire Police'},\n",
       " {'id': 'northern-ireland', 'name': 'Police Service of Northern Ireland'},\n",
       " {'id': 'south-wales', 'name': 'South Wales Police'},\n",
       " {'id': 'south-yorkshire', 'name': 'South Yorkshire Police'},\n",
       " {'id': 'staffordshire', 'name': 'Staffordshire Police'},\n",
       " {'id': 'suffolk', 'name': 'Suffolk Constabulary'},\n",
       " {'id': 'surrey', 'name': 'Surrey Police'},\n",
       " {'id': 'sussex', 'name': 'Sussex Police'},\n",
       " {'id': 'thames-valley', 'name': 'Thames Valley Police'},\n",
       " {'id': 'warwickshire', 'name': 'Warwickshire Police'},\n",
       " {'id': 'west-mercia', 'name': 'West Mercia Police'},\n",
       " {'id': 'west-midlands', 'name': 'West Midlands Police'},\n",
       " {'id': 'west-yorkshire', 'name': 'West Yorkshire Police'},\n",
       " {'id': 'wiltshire', 'name': 'Wiltshire Police'}]"
      ]
     },
     "execution_count": 8,
     "metadata": {},
     "output_type": "execute_result"
    }
   ],
   "source": [
    "response.json()"
   ]
  },
  {
   "cell_type": "code",
   "execution_count": 10,
   "metadata": {},
   "outputs": [],
   "source": [
    "# https://data.police.uk/api/crime-categories?date=2011-08\n",
    "\n",
    "suc_kategorileri_URL = 'https://data.police.uk/api/crime-categories'\n",
    "payload = {'date': '2020-01'}\n",
    "response = requests.get(suc_kategorileri_URL, params=payload)"
   ]
  },
  {
   "cell_type": "code",
   "execution_count": 11,
   "metadata": {},
   "outputs": [
    {
     "data": {
      "text/plain": [
       "200"
      ]
     },
     "execution_count": 11,
     "metadata": {},
     "output_type": "execute_result"
    }
   ],
   "source": [
    "response.status_code"
   ]
  },
  {
   "cell_type": "code",
   "execution_count": 12,
   "metadata": {},
   "outputs": [
    {
     "data": {
      "text/plain": [
       "'https://data.police.uk/api/crime-categories?date=2020-01'"
      ]
     },
     "execution_count": 12,
     "metadata": {},
     "output_type": "execute_result"
    }
   ],
   "source": [
    "response.url"
   ]
  },
  {
   "cell_type": "code",
   "execution_count": 13,
   "metadata": {},
   "outputs": [
    {
     "data": {
      "text/plain": [
       "[{'url': 'all-crime', 'name': 'All crime'},\n",
       " {'url': 'anti-social-behaviour', 'name': 'Anti-social behaviour'},\n",
       " {'url': 'bicycle-theft', 'name': 'Bicycle theft'},\n",
       " {'url': 'burglary', 'name': 'Burglary'},\n",
       " {'url': 'criminal-damage-arson', 'name': 'Criminal damage and arson'},\n",
       " {'url': 'drugs', 'name': 'Drugs'},\n",
       " {'url': 'other-theft', 'name': 'Other theft'},\n",
       " {'url': 'possession-of-weapons', 'name': 'Possession of weapons'},\n",
       " {'url': 'public-order', 'name': 'Public order'},\n",
       " {'url': 'robbery', 'name': 'Robbery'},\n",
       " {'url': 'shoplifting', 'name': 'Shoplifting'},\n",
       " {'url': 'theft-from-the-person', 'name': 'Theft from the person'},\n",
       " {'url': 'vehicle-crime', 'name': 'Vehicle crime'},\n",
       " {'url': 'violent-crime', 'name': 'Violence and sexual offences'},\n",
       " {'url': 'other-crime', 'name': 'Other crime'}]"
      ]
     },
     "execution_count": 13,
     "metadata": {},
     "output_type": "execute_result"
    }
   ],
   "source": [
    "response.json()"
   ]
  },
  {
   "cell_type": "code",
   "execution_count": 16,
   "metadata": {},
   "outputs": [],
   "source": [
    "suc_URL = 'https://data.police.uk/api/crimes-no-location'\n",
    "\n",
    "payload = {\n",
    "    'category': 'all-crime',\n",
    "    'force': 'city-of-london',\n",
    "    'date': '2020-01'\n",
    "}\n",
    "response = requests.get(suc_URL, params=payload)"
   ]
  },
  {
   "cell_type": "code",
   "execution_count": 17,
   "metadata": {},
   "outputs": [
    {
     "data": {
      "text/plain": [
       "[{'category': 'anti-social-behaviour',\n",
       "  'location_type': None,\n",
       "  'location': None,\n",
       "  'context': '',\n",
       "  'outcome_status': None,\n",
       "  'persistent_id': '',\n",
       "  'id': 80721793,\n",
       "  'location_subtype': '',\n",
       "  'month': '2020-01'},\n",
       " {'category': 'anti-social-behaviour',\n",
       "  'location_type': None,\n",
       "  'location': None,\n",
       "  'context': '',\n",
       "  'outcome_status': None,\n",
       "  'persistent_id': '',\n",
       "  'id': 80721237,\n",
       "  'location_subtype': '',\n",
       "  'month': '2020-01'},\n",
       " {'category': 'anti-social-behaviour',\n",
       "  'location_type': None,\n",
       "  'location': None,\n",
       "  'context': '',\n",
       "  'outcome_status': None,\n",
       "  'persistent_id': '',\n",
       "  'id': 80721883,\n",
       "  'location_subtype': '',\n",
       "  'month': '2020-01'},\n",
       " {'category': 'anti-social-behaviour',\n",
       "  'location_type': None,\n",
       "  'location': None,\n",
       "  'context': '',\n",
       "  'outcome_status': None,\n",
       "  'persistent_id': '',\n",
       "  'id': 80721359,\n",
       "  'location_subtype': '',\n",
       "  'month': '2020-01'},\n",
       " {'category': 'anti-social-behaviour',\n",
       "  'location_type': None,\n",
       "  'location': None,\n",
       "  'context': '',\n",
       "  'outcome_status': None,\n",
       "  'persistent_id': '',\n",
       "  'id': 80721386,\n",
       "  'location_subtype': '',\n",
       "  'month': '2020-01'},\n",
       " {'category': 'anti-social-behaviour',\n",
       "  'location_type': None,\n",
       "  'location': None,\n",
       "  'context': '',\n",
       "  'outcome_status': None,\n",
       "  'persistent_id': '',\n",
       "  'id': 80721412,\n",
       "  'location_subtype': '',\n",
       "  'month': '2020-01'},\n",
       " {'category': 'anti-social-behaviour',\n",
       "  'location_type': None,\n",
       "  'location': None,\n",
       "  'context': '',\n",
       "  'outcome_status': None,\n",
       "  'persistent_id': '',\n",
       "  'id': 80721710,\n",
       "  'location_subtype': '',\n",
       "  'month': '2020-01'},\n",
       " {'category': 'anti-social-behaviour',\n",
       "  'location_type': None,\n",
       "  'location': None,\n",
       "  'context': '',\n",
       "  'outcome_status': None,\n",
       "  'persistent_id': '',\n",
       "  'id': 80721788,\n",
       "  'location_subtype': '',\n",
       "  'month': '2020-01'},\n",
       " {'category': 'anti-social-behaviour',\n",
       "  'location_type': None,\n",
       "  'location': None,\n",
       "  'context': '',\n",
       "  'outcome_status': None,\n",
       "  'persistent_id': '',\n",
       "  'id': 80721946,\n",
       "  'location_subtype': '',\n",
       "  'month': '2020-01'},\n",
       " {'category': 'anti-social-behaviour',\n",
       "  'location_type': None,\n",
       "  'location': None,\n",
       "  'context': '',\n",
       "  'outcome_status': None,\n",
       "  'persistent_id': '',\n",
       "  'id': 80721911,\n",
       "  'location_subtype': '',\n",
       "  'month': '2020-01'},\n",
       " {'category': 'anti-social-behaviour',\n",
       "  'location_type': None,\n",
       "  'location': None,\n",
       "  'context': '',\n",
       "  'outcome_status': None,\n",
       "  'persistent_id': '',\n",
       "  'id': 80721263,\n",
       "  'location_subtype': '',\n",
       "  'month': '2020-01'},\n",
       " {'category': 'anti-social-behaviour',\n",
       "  'location_type': None,\n",
       "  'location': None,\n",
       "  'context': '',\n",
       "  'outcome_status': None,\n",
       "  'persistent_id': '',\n",
       "  'id': 80721264,\n",
       "  'location_subtype': '',\n",
       "  'month': '2020-01'},\n",
       " {'category': 'anti-social-behaviour',\n",
       "  'location_type': None,\n",
       "  'location': None,\n",
       "  'context': '',\n",
       "  'outcome_status': None,\n",
       "  'persistent_id': '',\n",
       "  'id': 80721316,\n",
       "  'location_subtype': '',\n",
       "  'month': '2020-01'},\n",
       " {'category': 'anti-social-behaviour',\n",
       "  'location_type': None,\n",
       "  'location': None,\n",
       "  'context': '',\n",
       "  'outcome_status': None,\n",
       "  'persistent_id': '',\n",
       "  'id': 80721413,\n",
       "  'location_subtype': '',\n",
       "  'month': '2020-01'},\n",
       " {'category': 'bicycle-theft',\n",
       "  'location_type': None,\n",
       "  'location': None,\n",
       "  'context': '',\n",
       "  'outcome_status': {'category': 'Investigation complete; no suspect identified',\n",
       "   'date': '2020-01'},\n",
       "  'persistent_id': '74b38832e0cc62af7cbd5cde4b784ad2578fbf489fa40db4f49f3274ea2a996f',\n",
       "  'id': 80721759,\n",
       "  'location_subtype': '',\n",
       "  'month': '2020-01'},\n",
       " {'category': 'burglary',\n",
       "  'location_type': None,\n",
       "  'location': None,\n",
       "  'context': '',\n",
       "  'outcome_status': {'category': 'Investigation complete; no suspect identified',\n",
       "   'date': '2020-01'},\n",
       "  'persistent_id': '7eccf964ded0c63a4e84e8865451ba7d1b1f8655f9e516c6613fddb62d70bb1e',\n",
       "  'id': 80721589,\n",
       "  'location_subtype': '',\n",
       "  'month': '2020-01'},\n",
       " {'category': 'burglary',\n",
       "  'location_type': None,\n",
       "  'location': None,\n",
       "  'context': '',\n",
       "  'outcome_status': {'category': 'Unable to prosecute suspect',\n",
       "   'date': '2020-09'},\n",
       "  'persistent_id': '66cdf400ea9ab411be85ded2e1b436782be206673e8565a471ebe64a2f50a69e',\n",
       "  'id': 80721588,\n",
       "  'location_subtype': '',\n",
       "  'month': '2020-01'},\n",
       " {'category': 'burglary',\n",
       "  'location_type': None,\n",
       "  'location': None,\n",
       "  'context': '',\n",
       "  'outcome_status': {'category': 'Investigation complete; no suspect identified',\n",
       "   'date': '2020-02'},\n",
       "  'persistent_id': 'c9a9cbbf3842711c51ceafd35102a0d1f3cbe1d25d7d688afe493d6727dc9325',\n",
       "  'id': 80721537,\n",
       "  'location_subtype': '',\n",
       "  'month': '2020-01'},\n",
       " {'category': 'criminal-damage-arson',\n",
       "  'location_type': None,\n",
       "  'location': None,\n",
       "  'context': '',\n",
       "  'outcome_status': {'category': 'Status update unavailable',\n",
       "   'date': '2020-05'},\n",
       "  'persistent_id': '311e136635b128e8685cdd0cccb90b1ded2ec4ab5b85bfc8361f06e3e1f41950',\n",
       "  'id': 80721538,\n",
       "  'location_subtype': '',\n",
       "  'month': '2020-01'},\n",
       " {'category': 'drugs',\n",
       "  'location_type': None,\n",
       "  'location': None,\n",
       "  'context': '',\n",
       "  'outcome_status': {'category': 'Court result unavailable',\n",
       "   'date': '2020-08'},\n",
       "  'persistent_id': 'c8ccb38b3e9946cbc6061421520e304ae56424307fd784b5e81d2fa2f98087a2',\n",
       "  'id': 80721286,\n",
       "  'location_subtype': '',\n",
       "  'month': '2020-01'},\n",
       " {'category': 'drugs',\n",
       "  'location_type': None,\n",
       "  'location': None,\n",
       "  'context': '',\n",
       "  'outcome_status': {'category': 'Court result unavailable',\n",
       "   'date': '2020-08'},\n",
       "  'persistent_id': '8ec48429615168edb7599db1d95ec937caa2350aa355435788d13139c8f6a98c',\n",
       "  'id': 80721318,\n",
       "  'location_subtype': '',\n",
       "  'month': '2020-01'},\n",
       " {'category': 'drugs',\n",
       "  'location_type': None,\n",
       "  'location': None,\n",
       "  'context': '',\n",
       "  'outcome_status': {'category': 'Formal action is not in the public interest',\n",
       "   'date': '2020-02'},\n",
       "  'persistent_id': 'bb42cac3a457628b3dceee5a7c8ad24a03bc2b8dabd76da8234b974e841a2b67',\n",
       "  'id': 80721882,\n",
       "  'location_subtype': '',\n",
       "  'month': '2020-01'},\n",
       " {'category': 'drugs',\n",
       "  'location_type': None,\n",
       "  'location': None,\n",
       "  'context': '',\n",
       "  'outcome_status': {'category': 'Offender given a caution',\n",
       "   'date': '2020-07'},\n",
       "  'persistent_id': 'b7d6c4fdfe6779c6b6d2db0c3f8f42ac0dc2326b8ba904e5fd90afb612096bb1',\n",
       "  'id': 80721512,\n",
       "  'location_subtype': '',\n",
       "  'month': '2020-01'},\n",
       " {'category': 'drugs',\n",
       "  'location_type': None,\n",
       "  'location': None,\n",
       "  'context': '',\n",
       "  'outcome_status': {'category': 'Court result unavailable',\n",
       "   'date': '2020-07'},\n",
       "  'persistent_id': '3db1cdc0c10c64c65b1e24450b271fbd9b3bd7893fa7bac57b9ac85ce43131c5',\n",
       "  'id': 80721388,\n",
       "  'location_subtype': '',\n",
       "  'month': '2020-01'},\n",
       " {'category': 'other-theft',\n",
       "  'location_type': None,\n",
       "  'location': None,\n",
       "  'context': '',\n",
       "  'outcome_status': {'category': 'Offender given a caution',\n",
       "   'date': '2020-03'},\n",
       "  'persistent_id': '4403bd3529ecf6c6676845085fd69d313ce4688930a6dee24171f52b09b36755',\n",
       "  'id': 80721513,\n",
       "  'location_subtype': '',\n",
       "  'month': '2020-01'},\n",
       " {'category': 'other-theft',\n",
       "  'location_type': None,\n",
       "  'location': None,\n",
       "  'context': '',\n",
       "  'outcome_status': {'category': 'Investigation complete; no suspect identified',\n",
       "   'date': '2020-03'},\n",
       "  'persistent_id': '0b48956d131846ec3d76707ffcaee8c6b7a29cf90a4b8aa9239a3fc5df5fbf35',\n",
       "  'id': 80721681,\n",
       "  'location_subtype': '',\n",
       "  'month': '2020-01'},\n",
       " {'category': 'other-theft',\n",
       "  'location_type': None,\n",
       "  'location': None,\n",
       "  'context': '',\n",
       "  'outcome_status': {'category': 'Unable to prosecute suspect',\n",
       "   'date': '2021-06'},\n",
       "  'persistent_id': '678f9a511288b2ee3ea8b3b5a9ba7a311fce71fdeea903dbea9451cf444f0ae2',\n",
       "  'id': 80721884,\n",
       "  'location_subtype': '',\n",
       "  'month': '2020-01'},\n",
       " {'category': 'other-theft',\n",
       "  'location_type': None,\n",
       "  'location': None,\n",
       "  'context': '',\n",
       "  'outcome_status': {'category': 'Investigation complete; no suspect identified',\n",
       "   'date': '2020-01'},\n",
       "  'persistent_id': 'c619e0625ef6067ff68e5f99f5eab04f6ebbf5ab79232c29f11b7617ed640b8f',\n",
       "  'id': 80721711,\n",
       "  'location_subtype': '',\n",
       "  'month': '2020-01'},\n",
       " {'category': 'other-theft',\n",
       "  'location_type': None,\n",
       "  'location': None,\n",
       "  'context': '',\n",
       "  'outcome_status': {'category': 'Further investigation is not in the public interest',\n",
       "   'date': '2020-01'},\n",
       "  'persistent_id': 'acd1dfc648d0e0ef41c1f86854f4c04941d8e4f2736d49190c2c2db6624a54dd',\n",
       "  'id': 80721315,\n",
       "  'location_subtype': '',\n",
       "  'month': '2020-01'},\n",
       " {'category': 'other-theft',\n",
       "  'location_type': None,\n",
       "  'location': None,\n",
       "  'context': '',\n",
       "  'outcome_status': {'category': 'Investigation complete; no suspect identified',\n",
       "   'date': '2020-01'},\n",
       "  'persistent_id': '978fc64dd12331d7fa77e4ffe2bfd66cc79a78f16bd438b912aeb64bc912c795',\n",
       "  'id': 80721791,\n",
       "  'location_subtype': '',\n",
       "  'month': '2020-01'},\n",
       " {'category': 'other-theft',\n",
       "  'location_type': None,\n",
       "  'location': None,\n",
       "  'context': '',\n",
       "  'outcome_status': {'category': 'Investigation complete; no suspect identified',\n",
       "   'date': '2020-01'},\n",
       "  'persistent_id': 'b5e0b3a2f625aa0cfb3175a2ab68d69f3159e1435c6e86bf1b77005167ff5075',\n",
       "  'id': 80721514,\n",
       "  'location_subtype': '',\n",
       "  'month': '2020-01'},\n",
       " {'category': 'other-theft',\n",
       "  'location_type': None,\n",
       "  'location': None,\n",
       "  'context': '',\n",
       "  'outcome_status': {'category': 'Investigation complete; no suspect identified',\n",
       "   'date': '2020-01'},\n",
       "  'persistent_id': '054fc78e5bb03867d2ac8264ce6d64594f400b9ca85d21bc5f555b7ec88dd5c3',\n",
       "  'id': 80721287,\n",
       "  'location_subtype': '',\n",
       "  'month': '2020-01'},\n",
       " {'category': 'other-theft',\n",
       "  'location_type': None,\n",
       "  'location': None,\n",
       "  'context': '',\n",
       "  'outcome_status': {'category': 'Investigation complete; no suspect identified',\n",
       "   'date': '2020-01'},\n",
       "  'persistent_id': '7239150dba80611e6c06153cab32e33566ab4267b18ad050f2d1a5fb9fec2368',\n",
       "  'id': 80721238,\n",
       "  'location_subtype': '',\n",
       "  'month': '2020-01'},\n",
       " {'category': 'other-theft',\n",
       "  'location_type': None,\n",
       "  'location': None,\n",
       "  'context': '',\n",
       "  'outcome_status': {'category': 'Investigation complete; no suspect identified',\n",
       "   'date': '2020-01'},\n",
       "  'persistent_id': '213739311d8242c2b9a9ece1621de396a58e075094e1bd401759b815713264b4',\n",
       "  'id': 80721456,\n",
       "  'location_subtype': '',\n",
       "  'month': '2020-01'},\n",
       " {'category': 'other-theft',\n",
       "  'location_type': None,\n",
       "  'location': None,\n",
       "  'context': '',\n",
       "  'outcome_status': {'category': 'Investigation complete; no suspect identified',\n",
       "   'date': '2020-01'},\n",
       "  'persistent_id': 'e333dff315006dd1f2a758ce10d9f7ce0f0adcd4f9efc26a280b6c8b5885864b',\n",
       "  'id': 80722009,\n",
       "  'location_subtype': '',\n",
       "  'month': '2020-01'},\n",
       " {'category': 'other-theft',\n",
       "  'location_type': None,\n",
       "  'location': None,\n",
       "  'context': '',\n",
       "  'outcome_status': {'category': 'Unable to prosecute suspect',\n",
       "   'date': '2021-03'},\n",
       "  'persistent_id': '7b324525cd639be1271e516843ae3bfa307520346336c195f13dd5a64439afc8',\n",
       "  'id': 80721709,\n",
       "  'location_subtype': '',\n",
       "  'month': '2020-01'},\n",
       " {'category': 'other-theft',\n",
       "  'location_type': None,\n",
       "  'location': None,\n",
       "  'context': '',\n",
       "  'outcome_status': {'category': 'Status update unavailable',\n",
       "   'date': '2020-05'},\n",
       "  'persistent_id': '788448c0193241e5f5c536ed16736fd70e890aaa3dd3ef12d8f3924ad61e3f00',\n",
       "  'id': 80721317,\n",
       "  'location_subtype': '',\n",
       "  'month': '2020-01'},\n",
       " {'category': 'other-theft',\n",
       "  'location_type': None,\n",
       "  'location': None,\n",
       "  'context': '',\n",
       "  'outcome_status': {'category': 'Status update unavailable',\n",
       "   'date': '2020-05'},\n",
       "  'persistent_id': '844724ff10dbfb0a51aad15f23eb66cbe674cbb4f58ec69ecb1610a6c6f0153e',\n",
       "  'id': 80721912,\n",
       "  'location_subtype': '',\n",
       "  'month': '2020-01'},\n",
       " {'category': 'other-theft',\n",
       "  'location_type': None,\n",
       "  'location': None,\n",
       "  'context': '',\n",
       "  'outcome_status': {'category': 'Investigation complete; no suspect identified',\n",
       "   'date': '2020-01'},\n",
       "  'persistent_id': 'e82990d98a37125f4985ce9433e0788e44f9d5fb5189d39f075582003f896d4c',\n",
       "  'id': 80721653,\n",
       "  'location_subtype': '',\n",
       "  'month': '2020-01'},\n",
       " {'category': 'other-theft',\n",
       "  'location_type': None,\n",
       "  'location': None,\n",
       "  'context': '',\n",
       "  'outcome_status': {'category': 'Investigation complete; no suspect identified',\n",
       "   'date': '2020-01'},\n",
       "  'persistent_id': '0b4a092a58ba0664aef4f4eeae5503ee4b1c3d8181bd01fd31486eedfe27b07d',\n",
       "  'id': 80721790,\n",
       "  'location_subtype': '',\n",
       "  'month': '2020-01'},\n",
       " {'category': 'public-order',\n",
       "  'location_type': None,\n",
       "  'location': None,\n",
       "  'context': '',\n",
       "  'outcome_status': {'category': 'Investigation complete; no suspect identified',\n",
       "   'date': '2020-04'},\n",
       "  'persistent_id': '05a1260c0f9bf1f0ed82999dade3a17c3d90b98d1cc427e49099da9e61639fde',\n",
       "  'id': 80721361,\n",
       "  'location_subtype': '',\n",
       "  'month': '2020-01'},\n",
       " {'category': 'public-order',\n",
       "  'location_type': None,\n",
       "  'location': None,\n",
       "  'context': '',\n",
       "  'outcome_status': {'category': 'Status update unavailable',\n",
       "   'date': '2020-05'},\n",
       "  'persistent_id': '200af083133bc5deaa625e80c6598d3ea7b8c33ef1c72868ffbd6560e3fb540a',\n",
       "  'id': 80721789,\n",
       "  'location_subtype': '',\n",
       "  'month': '2020-01'},\n",
       " {'category': 'public-order',\n",
       "  'location_type': None,\n",
       "  'location': None,\n",
       "  'context': '',\n",
       "  'outcome_status': {'category': 'Court result unavailable',\n",
       "   'date': '2020-07'},\n",
       "  'persistent_id': '6edbb1d6b4481228acf35f703692c8cb71997d70f1102fe49a63056438419b9b',\n",
       "  'id': 80721792,\n",
       "  'location_subtype': '',\n",
       "  'month': '2020-01'},\n",
       " {'category': 'shoplifting',\n",
       "  'location_type': None,\n",
       "  'location': None,\n",
       "  'context': '',\n",
       "  'outcome_status': {'category': 'Offender given a caution',\n",
       "   'date': '2020-02'},\n",
       "  'persistent_id': 'f4e75526f93f7c28f9b320aed205ec9325becde2d5a40f29966d293efbecf7f1',\n",
       "  'id': 80721682,\n",
       "  'location_subtype': '',\n",
       "  'month': '2020-01'},\n",
       " {'category': 'shoplifting',\n",
       "  'location_type': None,\n",
       "  'location': None,\n",
       "  'context': '',\n",
       "  'outcome_status': {'category': 'Investigation complete; no suspect identified',\n",
       "   'date': '2020-01'},\n",
       "  'persistent_id': '0be8d871ee00e9966202f7320227be162e0d53e80b5c8e81dd659ad3a61bbb13',\n",
       "  'id': 80721360,\n",
       "  'location_subtype': '',\n",
       "  'month': '2020-01'},\n",
       " {'category': 'shoplifting',\n",
       "  'location_type': None,\n",
       "  'location': None,\n",
       "  'context': '',\n",
       "  'outcome_status': {'category': 'Court result unavailable',\n",
       "   'date': '2020-07'},\n",
       "  'persistent_id': 'fed107976d3964ac0bae13b9c1f33bd0ccb8652b7e88eaa21afa1fbedea3752f',\n",
       "  'id': 80721568,\n",
       "  'location_subtype': '',\n",
       "  'month': '2020-01'},\n",
       " {'category': 'shoplifting',\n",
       "  'location_type': None,\n",
       "  'location': None,\n",
       "  'context': '',\n",
       "  'outcome_status': {'category': 'Status update unavailable',\n",
       "   'date': '2020-05'},\n",
       "  'persistent_id': '80ae835765245e775baeb43cdf8c8bef354af5b7c86ab7f20e72dbf4e41f5b46',\n",
       "  'id': 80721569,\n",
       "  'location_subtype': '',\n",
       "  'month': '2020-01'},\n",
       " {'category': 'shoplifting',\n",
       "  'location_type': None,\n",
       "  'location': None,\n",
       "  'context': '',\n",
       "  'outcome_status': {'category': 'Investigation complete; no suspect identified',\n",
       "   'date': '2020-01'},\n",
       "  'persistent_id': 'da4605ba352d3c5573fceac405fe7c38af4190d24f5f6fbb4949102124fd731a',\n",
       "  'id': 80721618,\n",
       "  'location_subtype': '',\n",
       "  'month': '2020-01'},\n",
       " {'category': 'theft-from-the-person',\n",
       "  'location_type': None,\n",
       "  'location': None,\n",
       "  'context': '',\n",
       "  'outcome_status': {'category': 'Investigation complete; no suspect identified',\n",
       "   'date': '2020-01'},\n",
       "  'persistent_id': '6f9372afda5894701a33cbd86cc5343467d70af3a13d04db88815f59a2cd579a',\n",
       "  'id': 80721387,\n",
       "  'location_subtype': '',\n",
       "  'month': '2020-01'},\n",
       " {'category': 'theft-from-the-person',\n",
       "  'location_type': None,\n",
       "  'location': None,\n",
       "  'context': '',\n",
       "  'outcome_status': {'category': 'Investigation complete; no suspect identified',\n",
       "   'date': '2020-01'},\n",
       "  'persistent_id': 'a2fd4713b7fc26d56a3f850c9de90726c4d8b3be89aa5d480f5141f2b460cb53',\n",
       "  'id': 80721945,\n",
       "  'location_subtype': '',\n",
       "  'month': '2020-01'},\n",
       " {'category': 'theft-from-the-person',\n",
       "  'location_type': None,\n",
       "  'location': None,\n",
       "  'context': '',\n",
       "  'outcome_status': {'category': 'Investigation complete; no suspect identified',\n",
       "   'date': '2020-01'},\n",
       "  'persistent_id': '7622c7b9285516539fb187769ae5b7abec9b6b6f8a9ce2d5d0f18c5661b35361',\n",
       "  'id': 80721414,\n",
       "  'location_subtype': '',\n",
       "  'month': '2020-01'},\n",
       " {'category': 'theft-from-the-person',\n",
       "  'location_type': None,\n",
       "  'location': None,\n",
       "  'context': '',\n",
       "  'outcome_status': {'category': 'Investigation complete; no suspect identified',\n",
       "   'date': '2020-01'},\n",
       "  'persistent_id': 'fcaa00872983974ea91084b36e1bb7b868247df5ceb299a5fa7ec9f62a690860',\n",
       "  'id': 80721288,\n",
       "  'location_subtype': '',\n",
       "  'month': '2020-01'},\n",
       " {'category': 'theft-from-the-person',\n",
       "  'location_type': None,\n",
       "  'location': None,\n",
       "  'context': '',\n",
       "  'outcome_status': {'category': 'Investigation complete; no suspect identified',\n",
       "   'date': '2020-01'},\n",
       "  'persistent_id': '098c771d27064c9c795817b63116c03fedf9ac7b65c99024d21898e2b87b20c3',\n",
       "  'id': 80721617,\n",
       "  'location_subtype': '',\n",
       "  'month': '2020-01'},\n",
       " {'category': 'theft-from-the-person',\n",
       "  'location_type': None,\n",
       "  'location': None,\n",
       "  'context': '',\n",
       "  'outcome_status': {'category': 'Investigation complete; no suspect identified',\n",
       "   'date': '2020-01'},\n",
       "  'persistent_id': 'c23fc5f9c5654c8f20e4be618e8f6986c6414d5e087cab97ad7032bf49b73858',\n",
       "  'id': 80721587,\n",
       "  'location_subtype': '',\n",
       "  'month': '2020-01'},\n",
       " {'category': 'vehicle-crime',\n",
       "  'location_type': None,\n",
       "  'location': None,\n",
       "  'context': '',\n",
       "  'outcome_status': {'category': 'Status update unavailable',\n",
       "   'date': '2020-05'},\n",
       "  'persistent_id': '512906eb174830cc15766f90e613e6048b844d8b4976d373b362946ff4e48a36',\n",
       "  'id': 80721846,\n",
       "  'location_subtype': '',\n",
       "  'month': '2020-01'},\n",
       " {'category': 'vehicle-crime',\n",
       "  'location_type': None,\n",
       "  'location': None,\n",
       "  'context': '',\n",
       "  'outcome_status': {'category': 'Investigation complete; no suspect identified',\n",
       "   'date': '2020-01'},\n",
       "  'persistent_id': 'e0414be6cc7f8fd5e03ac9e7aea8888590ae331733cd624247d544137fb134a2',\n",
       "  'id': 80721331,\n",
       "  'location_subtype': '',\n",
       "  'month': '2020-01'},\n",
       " {'category': 'violent-crime',\n",
       "  'location_type': None,\n",
       "  'location': None,\n",
       "  'context': '',\n",
       "  'outcome_status': {'category': 'Status update unavailable',\n",
       "   'date': '2020-05'},\n",
       "  'persistent_id': 'f4371d135549714330e28aeb061ed366c02b75bbbcb0bb46e4076e67952c297e',\n",
       "  'id': 80721941,\n",
       "  'location_subtype': '',\n",
       "  'month': '2020-01'},\n",
       " {'category': 'violent-crime',\n",
       "  'location_type': None,\n",
       "  'location': None,\n",
       "  'context': '',\n",
       "  'outcome_status': {'category': 'Status update unavailable',\n",
       "   'date': '2020-05'},\n",
       "  'persistent_id': 'c41e990b2258cfb649caf5b22abc634a12f592415c3585b0bd35ecb0e4bd8885',\n",
       "  'id': 80721944,\n",
       "  'location_subtype': '',\n",
       "  'month': '2020-01'},\n",
       " {'category': 'violent-crime',\n",
       "  'location_type': None,\n",
       "  'location': None,\n",
       "  'context': '',\n",
       "  'outcome_status': {'category': 'Unable to prosecute suspect',\n",
       "   'date': '2020-02'},\n",
       "  'persistent_id': '05e69e8ed5beafcef77eb0a08eef371b2e0c88cbaf213594149f7ab12adfc346',\n",
       "  'id': 80721436,\n",
       "  'location_subtype': '',\n",
       "  'month': '2020-01'},\n",
       " {'category': 'violent-crime',\n",
       "  'location_type': None,\n",
       "  'location': None,\n",
       "  'context': '',\n",
       "  'outcome_status': {'category': 'Status update unavailable',\n",
       "   'date': '2020-05'},\n",
       "  'persistent_id': '3acd69aab7098d02500814e16816dd0f5f3efe596f37e0f38cff1f7792f61004',\n",
       "  'id': 80721881,\n",
       "  'location_subtype': '',\n",
       "  'month': '2020-01'},\n",
       " {'category': 'violent-crime',\n",
       "  'location_type': None,\n",
       "  'location': None,\n",
       "  'context': '',\n",
       "  'outcome_status': {'category': 'Status update unavailable',\n",
       "   'date': '2020-05'},\n",
       "  'persistent_id': 'd901837987fd929c9dfc1020a05f85771a5447262a834c1ecf5403ac83c2a324',\n",
       "  'id': 80721975,\n",
       "  'location_subtype': '',\n",
       "  'month': '2020-01'},\n",
       " {'category': 'violent-crime',\n",
       "  'location_type': None,\n",
       "  'location': None,\n",
       "  'context': '',\n",
       "  'outcome_status': {'category': 'Status update unavailable',\n",
       "   'date': '2020-05'},\n",
       "  'persistent_id': 'efdcc2833f5dfc8ae5732e277f71b40b04c1c00d6ae15d59e79f176800061332',\n",
       "  'id': 80721942,\n",
       "  'location_subtype': '',\n",
       "  'month': '2020-01'},\n",
       " {'category': 'violent-crime',\n",
       "  'location_type': None,\n",
       "  'location': None,\n",
       "  'context': '',\n",
       "  'outcome_status': {'category': 'Status update unavailable',\n",
       "   'date': '2020-05'},\n",
       "  'persistent_id': 'e0ab84fecfd71f6481dbd079f51b5e70bb1ba68fb93080a8b3fd8b9b85a0f1e3',\n",
       "  'id': 80721943,\n",
       "  'location_subtype': '',\n",
       "  'month': '2020-01'},\n",
       " {'category': 'other-crime',\n",
       "  'location_type': None,\n",
       "  'location': None,\n",
       "  'context': '',\n",
       "  'outcome_status': {'category': 'Status update unavailable',\n",
       "   'date': '2020-05'},\n",
       "  'persistent_id': '295d1dac24600a390016952a8e612d1f2d22270784da88f4a54f82a552c0e2cf',\n",
       "  'id': 80721478,\n",
       "  'location_subtype': '',\n",
       "  'month': '2020-01'},\n",
       " {'category': 'other-crime',\n",
       "  'location_type': None,\n",
       "  'location': None,\n",
       "  'context': '',\n",
       "  'outcome_status': {'category': 'Investigation complete; no suspect identified',\n",
       "   'date': '2021-07'},\n",
       "  'persistent_id': 'ebd23a8f2377aee9e1b1a09df0f02f3065275efab170fb579334620c4c67af91',\n",
       "  'id': 80721977,\n",
       "  'location_subtype': '',\n",
       "  'month': '2020-01'},\n",
       " {'category': 'other-crime',\n",
       "  'location_type': None,\n",
       "  'location': None,\n",
       "  'context': '',\n",
       "  'outcome_status': {'category': 'Investigation complete; no suspect identified',\n",
       "   'date': '2020-03'},\n",
       "  'persistent_id': '095dfa4b8a07684dec597af8df4a80366ace8cd6a7d4bae8cfe58cb3c0f72725',\n",
       "  'id': 80721976,\n",
       "  'location_subtype': '',\n",
       "  'month': '2020-01'},\n",
       " {'category': 'other-crime',\n",
       "  'location_type': None,\n",
       "  'location': None,\n",
       "  'context': '',\n",
       "  'outcome_status': {'category': 'Local resolution', 'date': '2020-03'},\n",
       "  'persistent_id': 'c12c84ade24eb9c15f311c8d7fdabf32a73b576f855b90be47f2a884a412cf93',\n",
       "  'id': 80721362,\n",
       "  'location_subtype': '',\n",
       "  'month': '2020-01'},\n",
       " {'category': 'other-crime',\n",
       "  'location_type': None,\n",
       "  'location': None,\n",
       "  'context': '',\n",
       "  'outcome_status': {'category': 'Unable to prosecute suspect',\n",
       "   'date': '2022-01'},\n",
       "  'persistent_id': '579b6100a5d1f6a960cbe5601f24a35b07da5914e608545a410e5a3e5e308923',\n",
       "  'id': 80721567,\n",
       "  'location_subtype': '',\n",
       "  'month': '2020-01'}]"
      ]
     },
     "execution_count": 17,
     "metadata": {},
     "output_type": "execute_result"
    }
   ],
   "source": [
    "response.json()"
   ]
  },
  {
   "cell_type": "code",
   "execution_count": 41,
   "metadata": {},
   "outputs": [],
   "source": [
    "from collections import Counter\n",
    "class SucRaporu():\n",
    "    def __init__(self, bolge, tarih, suc_tipi='all-crime'):\n",
    "        self.bolge = bolge\n",
    "        self.tarih = tarih\n",
    "        self.suc_tipi = suc_tipi\n",
    "        self.suclar = self.suclari_bul()\n",
    "\n",
    "    def suclari_bul(self):\n",
    "        suc_URL = 'https://data.police.uk/api/crimes-no-location'\n",
    "\n",
    "        payload = {\n",
    "            'category': self.suc_tipi,\n",
    "            'force': self.bolge,\n",
    "            'date': self.tarih}\n",
    "        response = requests.get(suc_URL, params=payload)\n",
    "\n",
    "        if response.status_code == 200:\n",
    "            return response.json()\n",
    "        else:\n",
    "            return None\n",
    "    \n",
    "    def suclari_raporla(self):\n",
    "        suclar_listesi = []\n",
    "\n",
    "        if self.suclar is not None:\n",
    "            for suc in self.suclar:\n",
    "                suclar_listesi.append(suc['category'])\n",
    "\n",
    "            return Counter(suclar_listesi)"
   ]
  },
  {
   "cell_type": "code",
   "execution_count": 49,
   "metadata": {},
   "outputs": [],
   "source": [
    "sr = SucRaporu('norfolk', '2020-02', 'bicycle-theft')"
   ]
  },
  {
   "cell_type": "code",
   "execution_count": 43,
   "metadata": {},
   "outputs": [
    {
     "data": {
      "text/plain": [
       "[{'category': 'anti-social-behaviour',\n",
       "  'location_type': None,\n",
       "  'location': None,\n",
       "  'context': '',\n",
       "  'outcome_status': None,\n",
       "  'persistent_id': '',\n",
       "  'id': 80721793,\n",
       "  'location_subtype': '',\n",
       "  'month': '2020-01'},\n",
       " {'category': 'anti-social-behaviour',\n",
       "  'location_type': None,\n",
       "  'location': None,\n",
       "  'context': '',\n",
       "  'outcome_status': None,\n",
       "  'persistent_id': '',\n",
       "  'id': 80721237,\n",
       "  'location_subtype': '',\n",
       "  'month': '2020-01'},\n",
       " {'category': 'anti-social-behaviour',\n",
       "  'location_type': None,\n",
       "  'location': None,\n",
       "  'context': '',\n",
       "  'outcome_status': None,\n",
       "  'persistent_id': '',\n",
       "  'id': 80721883,\n",
       "  'location_subtype': '',\n",
       "  'month': '2020-01'},\n",
       " {'category': 'anti-social-behaviour',\n",
       "  'location_type': None,\n",
       "  'location': None,\n",
       "  'context': '',\n",
       "  'outcome_status': None,\n",
       "  'persistent_id': '',\n",
       "  'id': 80721359,\n",
       "  'location_subtype': '',\n",
       "  'month': '2020-01'},\n",
       " {'category': 'anti-social-behaviour',\n",
       "  'location_type': None,\n",
       "  'location': None,\n",
       "  'context': '',\n",
       "  'outcome_status': None,\n",
       "  'persistent_id': '',\n",
       "  'id': 80721386,\n",
       "  'location_subtype': '',\n",
       "  'month': '2020-01'},\n",
       " {'category': 'anti-social-behaviour',\n",
       "  'location_type': None,\n",
       "  'location': None,\n",
       "  'context': '',\n",
       "  'outcome_status': None,\n",
       "  'persistent_id': '',\n",
       "  'id': 80721412,\n",
       "  'location_subtype': '',\n",
       "  'month': '2020-01'},\n",
       " {'category': 'anti-social-behaviour',\n",
       "  'location_type': None,\n",
       "  'location': None,\n",
       "  'context': '',\n",
       "  'outcome_status': None,\n",
       "  'persistent_id': '',\n",
       "  'id': 80721710,\n",
       "  'location_subtype': '',\n",
       "  'month': '2020-01'},\n",
       " {'category': 'anti-social-behaviour',\n",
       "  'location_type': None,\n",
       "  'location': None,\n",
       "  'context': '',\n",
       "  'outcome_status': None,\n",
       "  'persistent_id': '',\n",
       "  'id': 80721788,\n",
       "  'location_subtype': '',\n",
       "  'month': '2020-01'},\n",
       " {'category': 'anti-social-behaviour',\n",
       "  'location_type': None,\n",
       "  'location': None,\n",
       "  'context': '',\n",
       "  'outcome_status': None,\n",
       "  'persistent_id': '',\n",
       "  'id': 80721946,\n",
       "  'location_subtype': '',\n",
       "  'month': '2020-01'},\n",
       " {'category': 'anti-social-behaviour',\n",
       "  'location_type': None,\n",
       "  'location': None,\n",
       "  'context': '',\n",
       "  'outcome_status': None,\n",
       "  'persistent_id': '',\n",
       "  'id': 80721911,\n",
       "  'location_subtype': '',\n",
       "  'month': '2020-01'},\n",
       " {'category': 'anti-social-behaviour',\n",
       "  'location_type': None,\n",
       "  'location': None,\n",
       "  'context': '',\n",
       "  'outcome_status': None,\n",
       "  'persistent_id': '',\n",
       "  'id': 80721263,\n",
       "  'location_subtype': '',\n",
       "  'month': '2020-01'},\n",
       " {'category': 'anti-social-behaviour',\n",
       "  'location_type': None,\n",
       "  'location': None,\n",
       "  'context': '',\n",
       "  'outcome_status': None,\n",
       "  'persistent_id': '',\n",
       "  'id': 80721264,\n",
       "  'location_subtype': '',\n",
       "  'month': '2020-01'},\n",
       " {'category': 'anti-social-behaviour',\n",
       "  'location_type': None,\n",
       "  'location': None,\n",
       "  'context': '',\n",
       "  'outcome_status': None,\n",
       "  'persistent_id': '',\n",
       "  'id': 80721316,\n",
       "  'location_subtype': '',\n",
       "  'month': '2020-01'},\n",
       " {'category': 'anti-social-behaviour',\n",
       "  'location_type': None,\n",
       "  'location': None,\n",
       "  'context': '',\n",
       "  'outcome_status': None,\n",
       "  'persistent_id': '',\n",
       "  'id': 80721413,\n",
       "  'location_subtype': '',\n",
       "  'month': '2020-01'},\n",
       " {'category': 'bicycle-theft',\n",
       "  'location_type': None,\n",
       "  'location': None,\n",
       "  'context': '',\n",
       "  'outcome_status': {'category': 'Investigation complete; no suspect identified',\n",
       "   'date': '2020-01'},\n",
       "  'persistent_id': '74b38832e0cc62af7cbd5cde4b784ad2578fbf489fa40db4f49f3274ea2a996f',\n",
       "  'id': 80721759,\n",
       "  'location_subtype': '',\n",
       "  'month': '2020-01'},\n",
       " {'category': 'burglary',\n",
       "  'location_type': None,\n",
       "  'location': None,\n",
       "  'context': '',\n",
       "  'outcome_status': {'category': 'Investigation complete; no suspect identified',\n",
       "   'date': '2020-01'},\n",
       "  'persistent_id': '7eccf964ded0c63a4e84e8865451ba7d1b1f8655f9e516c6613fddb62d70bb1e',\n",
       "  'id': 80721589,\n",
       "  'location_subtype': '',\n",
       "  'month': '2020-01'},\n",
       " {'category': 'burglary',\n",
       "  'location_type': None,\n",
       "  'location': None,\n",
       "  'context': '',\n",
       "  'outcome_status': {'category': 'Unable to prosecute suspect',\n",
       "   'date': '2020-09'},\n",
       "  'persistent_id': '66cdf400ea9ab411be85ded2e1b436782be206673e8565a471ebe64a2f50a69e',\n",
       "  'id': 80721588,\n",
       "  'location_subtype': '',\n",
       "  'month': '2020-01'},\n",
       " {'category': 'burglary',\n",
       "  'location_type': None,\n",
       "  'location': None,\n",
       "  'context': '',\n",
       "  'outcome_status': {'category': 'Investigation complete; no suspect identified',\n",
       "   'date': '2020-02'},\n",
       "  'persistent_id': 'c9a9cbbf3842711c51ceafd35102a0d1f3cbe1d25d7d688afe493d6727dc9325',\n",
       "  'id': 80721537,\n",
       "  'location_subtype': '',\n",
       "  'month': '2020-01'},\n",
       " {'category': 'criminal-damage-arson',\n",
       "  'location_type': None,\n",
       "  'location': None,\n",
       "  'context': '',\n",
       "  'outcome_status': {'category': 'Status update unavailable',\n",
       "   'date': '2020-05'},\n",
       "  'persistent_id': '311e136635b128e8685cdd0cccb90b1ded2ec4ab5b85bfc8361f06e3e1f41950',\n",
       "  'id': 80721538,\n",
       "  'location_subtype': '',\n",
       "  'month': '2020-01'},\n",
       " {'category': 'drugs',\n",
       "  'location_type': None,\n",
       "  'location': None,\n",
       "  'context': '',\n",
       "  'outcome_status': {'category': 'Court result unavailable',\n",
       "   'date': '2020-08'},\n",
       "  'persistent_id': 'c8ccb38b3e9946cbc6061421520e304ae56424307fd784b5e81d2fa2f98087a2',\n",
       "  'id': 80721286,\n",
       "  'location_subtype': '',\n",
       "  'month': '2020-01'},\n",
       " {'category': 'drugs',\n",
       "  'location_type': None,\n",
       "  'location': None,\n",
       "  'context': '',\n",
       "  'outcome_status': {'category': 'Court result unavailable',\n",
       "   'date': '2020-08'},\n",
       "  'persistent_id': '8ec48429615168edb7599db1d95ec937caa2350aa355435788d13139c8f6a98c',\n",
       "  'id': 80721318,\n",
       "  'location_subtype': '',\n",
       "  'month': '2020-01'},\n",
       " {'category': 'drugs',\n",
       "  'location_type': None,\n",
       "  'location': None,\n",
       "  'context': '',\n",
       "  'outcome_status': {'category': 'Formal action is not in the public interest',\n",
       "   'date': '2020-02'},\n",
       "  'persistent_id': 'bb42cac3a457628b3dceee5a7c8ad24a03bc2b8dabd76da8234b974e841a2b67',\n",
       "  'id': 80721882,\n",
       "  'location_subtype': '',\n",
       "  'month': '2020-01'},\n",
       " {'category': 'drugs',\n",
       "  'location_type': None,\n",
       "  'location': None,\n",
       "  'context': '',\n",
       "  'outcome_status': {'category': 'Offender given a caution',\n",
       "   'date': '2020-07'},\n",
       "  'persistent_id': 'b7d6c4fdfe6779c6b6d2db0c3f8f42ac0dc2326b8ba904e5fd90afb612096bb1',\n",
       "  'id': 80721512,\n",
       "  'location_subtype': '',\n",
       "  'month': '2020-01'},\n",
       " {'category': 'drugs',\n",
       "  'location_type': None,\n",
       "  'location': None,\n",
       "  'context': '',\n",
       "  'outcome_status': {'category': 'Court result unavailable',\n",
       "   'date': '2020-07'},\n",
       "  'persistent_id': '3db1cdc0c10c64c65b1e24450b271fbd9b3bd7893fa7bac57b9ac85ce43131c5',\n",
       "  'id': 80721388,\n",
       "  'location_subtype': '',\n",
       "  'month': '2020-01'},\n",
       " {'category': 'other-theft',\n",
       "  'location_type': None,\n",
       "  'location': None,\n",
       "  'context': '',\n",
       "  'outcome_status': {'category': 'Offender given a caution',\n",
       "   'date': '2020-03'},\n",
       "  'persistent_id': '4403bd3529ecf6c6676845085fd69d313ce4688930a6dee24171f52b09b36755',\n",
       "  'id': 80721513,\n",
       "  'location_subtype': '',\n",
       "  'month': '2020-01'},\n",
       " {'category': 'other-theft',\n",
       "  'location_type': None,\n",
       "  'location': None,\n",
       "  'context': '',\n",
       "  'outcome_status': {'category': 'Investigation complete; no suspect identified',\n",
       "   'date': '2020-03'},\n",
       "  'persistent_id': '0b48956d131846ec3d76707ffcaee8c6b7a29cf90a4b8aa9239a3fc5df5fbf35',\n",
       "  'id': 80721681,\n",
       "  'location_subtype': '',\n",
       "  'month': '2020-01'},\n",
       " {'category': 'other-theft',\n",
       "  'location_type': None,\n",
       "  'location': None,\n",
       "  'context': '',\n",
       "  'outcome_status': {'category': 'Unable to prosecute suspect',\n",
       "   'date': '2021-06'},\n",
       "  'persistent_id': '678f9a511288b2ee3ea8b3b5a9ba7a311fce71fdeea903dbea9451cf444f0ae2',\n",
       "  'id': 80721884,\n",
       "  'location_subtype': '',\n",
       "  'month': '2020-01'},\n",
       " {'category': 'other-theft',\n",
       "  'location_type': None,\n",
       "  'location': None,\n",
       "  'context': '',\n",
       "  'outcome_status': {'category': 'Investigation complete; no suspect identified',\n",
       "   'date': '2020-01'},\n",
       "  'persistent_id': 'c619e0625ef6067ff68e5f99f5eab04f6ebbf5ab79232c29f11b7617ed640b8f',\n",
       "  'id': 80721711,\n",
       "  'location_subtype': '',\n",
       "  'month': '2020-01'},\n",
       " {'category': 'other-theft',\n",
       "  'location_type': None,\n",
       "  'location': None,\n",
       "  'context': '',\n",
       "  'outcome_status': {'category': 'Further investigation is not in the public interest',\n",
       "   'date': '2020-01'},\n",
       "  'persistent_id': 'acd1dfc648d0e0ef41c1f86854f4c04941d8e4f2736d49190c2c2db6624a54dd',\n",
       "  'id': 80721315,\n",
       "  'location_subtype': '',\n",
       "  'month': '2020-01'},\n",
       " {'category': 'other-theft',\n",
       "  'location_type': None,\n",
       "  'location': None,\n",
       "  'context': '',\n",
       "  'outcome_status': {'category': 'Investigation complete; no suspect identified',\n",
       "   'date': '2020-01'},\n",
       "  'persistent_id': '978fc64dd12331d7fa77e4ffe2bfd66cc79a78f16bd438b912aeb64bc912c795',\n",
       "  'id': 80721791,\n",
       "  'location_subtype': '',\n",
       "  'month': '2020-01'},\n",
       " {'category': 'other-theft',\n",
       "  'location_type': None,\n",
       "  'location': None,\n",
       "  'context': '',\n",
       "  'outcome_status': {'category': 'Investigation complete; no suspect identified',\n",
       "   'date': '2020-01'},\n",
       "  'persistent_id': 'b5e0b3a2f625aa0cfb3175a2ab68d69f3159e1435c6e86bf1b77005167ff5075',\n",
       "  'id': 80721514,\n",
       "  'location_subtype': '',\n",
       "  'month': '2020-01'},\n",
       " {'category': 'other-theft',\n",
       "  'location_type': None,\n",
       "  'location': None,\n",
       "  'context': '',\n",
       "  'outcome_status': {'category': 'Investigation complete; no suspect identified',\n",
       "   'date': '2020-01'},\n",
       "  'persistent_id': '054fc78e5bb03867d2ac8264ce6d64594f400b9ca85d21bc5f555b7ec88dd5c3',\n",
       "  'id': 80721287,\n",
       "  'location_subtype': '',\n",
       "  'month': '2020-01'},\n",
       " {'category': 'other-theft',\n",
       "  'location_type': None,\n",
       "  'location': None,\n",
       "  'context': '',\n",
       "  'outcome_status': {'category': 'Investigation complete; no suspect identified',\n",
       "   'date': '2020-01'},\n",
       "  'persistent_id': '7239150dba80611e6c06153cab32e33566ab4267b18ad050f2d1a5fb9fec2368',\n",
       "  'id': 80721238,\n",
       "  'location_subtype': '',\n",
       "  'month': '2020-01'},\n",
       " {'category': 'other-theft',\n",
       "  'location_type': None,\n",
       "  'location': None,\n",
       "  'context': '',\n",
       "  'outcome_status': {'category': 'Investigation complete; no suspect identified',\n",
       "   'date': '2020-01'},\n",
       "  'persistent_id': '213739311d8242c2b9a9ece1621de396a58e075094e1bd401759b815713264b4',\n",
       "  'id': 80721456,\n",
       "  'location_subtype': '',\n",
       "  'month': '2020-01'},\n",
       " {'category': 'other-theft',\n",
       "  'location_type': None,\n",
       "  'location': None,\n",
       "  'context': '',\n",
       "  'outcome_status': {'category': 'Investigation complete; no suspect identified',\n",
       "   'date': '2020-01'},\n",
       "  'persistent_id': 'e333dff315006dd1f2a758ce10d9f7ce0f0adcd4f9efc26a280b6c8b5885864b',\n",
       "  'id': 80722009,\n",
       "  'location_subtype': '',\n",
       "  'month': '2020-01'},\n",
       " {'category': 'other-theft',\n",
       "  'location_type': None,\n",
       "  'location': None,\n",
       "  'context': '',\n",
       "  'outcome_status': {'category': 'Unable to prosecute suspect',\n",
       "   'date': '2021-03'},\n",
       "  'persistent_id': '7b324525cd639be1271e516843ae3bfa307520346336c195f13dd5a64439afc8',\n",
       "  'id': 80721709,\n",
       "  'location_subtype': '',\n",
       "  'month': '2020-01'},\n",
       " {'category': 'other-theft',\n",
       "  'location_type': None,\n",
       "  'location': None,\n",
       "  'context': '',\n",
       "  'outcome_status': {'category': 'Status update unavailable',\n",
       "   'date': '2020-05'},\n",
       "  'persistent_id': '788448c0193241e5f5c536ed16736fd70e890aaa3dd3ef12d8f3924ad61e3f00',\n",
       "  'id': 80721317,\n",
       "  'location_subtype': '',\n",
       "  'month': '2020-01'},\n",
       " {'category': 'other-theft',\n",
       "  'location_type': None,\n",
       "  'location': None,\n",
       "  'context': '',\n",
       "  'outcome_status': {'category': 'Status update unavailable',\n",
       "   'date': '2020-05'},\n",
       "  'persistent_id': '844724ff10dbfb0a51aad15f23eb66cbe674cbb4f58ec69ecb1610a6c6f0153e',\n",
       "  'id': 80721912,\n",
       "  'location_subtype': '',\n",
       "  'month': '2020-01'},\n",
       " {'category': 'other-theft',\n",
       "  'location_type': None,\n",
       "  'location': None,\n",
       "  'context': '',\n",
       "  'outcome_status': {'category': 'Investigation complete; no suspect identified',\n",
       "   'date': '2020-01'},\n",
       "  'persistent_id': 'e82990d98a37125f4985ce9433e0788e44f9d5fb5189d39f075582003f896d4c',\n",
       "  'id': 80721653,\n",
       "  'location_subtype': '',\n",
       "  'month': '2020-01'},\n",
       " {'category': 'other-theft',\n",
       "  'location_type': None,\n",
       "  'location': None,\n",
       "  'context': '',\n",
       "  'outcome_status': {'category': 'Investigation complete; no suspect identified',\n",
       "   'date': '2020-01'},\n",
       "  'persistent_id': '0b4a092a58ba0664aef4f4eeae5503ee4b1c3d8181bd01fd31486eedfe27b07d',\n",
       "  'id': 80721790,\n",
       "  'location_subtype': '',\n",
       "  'month': '2020-01'},\n",
       " {'category': 'public-order',\n",
       "  'location_type': None,\n",
       "  'location': None,\n",
       "  'context': '',\n",
       "  'outcome_status': {'category': 'Investigation complete; no suspect identified',\n",
       "   'date': '2020-04'},\n",
       "  'persistent_id': '05a1260c0f9bf1f0ed82999dade3a17c3d90b98d1cc427e49099da9e61639fde',\n",
       "  'id': 80721361,\n",
       "  'location_subtype': '',\n",
       "  'month': '2020-01'},\n",
       " {'category': 'public-order',\n",
       "  'location_type': None,\n",
       "  'location': None,\n",
       "  'context': '',\n",
       "  'outcome_status': {'category': 'Status update unavailable',\n",
       "   'date': '2020-05'},\n",
       "  'persistent_id': '200af083133bc5deaa625e80c6598d3ea7b8c33ef1c72868ffbd6560e3fb540a',\n",
       "  'id': 80721789,\n",
       "  'location_subtype': '',\n",
       "  'month': '2020-01'},\n",
       " {'category': 'public-order',\n",
       "  'location_type': None,\n",
       "  'location': None,\n",
       "  'context': '',\n",
       "  'outcome_status': {'category': 'Court result unavailable',\n",
       "   'date': '2020-07'},\n",
       "  'persistent_id': '6edbb1d6b4481228acf35f703692c8cb71997d70f1102fe49a63056438419b9b',\n",
       "  'id': 80721792,\n",
       "  'location_subtype': '',\n",
       "  'month': '2020-01'},\n",
       " {'category': 'shoplifting',\n",
       "  'location_type': None,\n",
       "  'location': None,\n",
       "  'context': '',\n",
       "  'outcome_status': {'category': 'Offender given a caution',\n",
       "   'date': '2020-02'},\n",
       "  'persistent_id': 'f4e75526f93f7c28f9b320aed205ec9325becde2d5a40f29966d293efbecf7f1',\n",
       "  'id': 80721682,\n",
       "  'location_subtype': '',\n",
       "  'month': '2020-01'},\n",
       " {'category': 'shoplifting',\n",
       "  'location_type': None,\n",
       "  'location': None,\n",
       "  'context': '',\n",
       "  'outcome_status': {'category': 'Investigation complete; no suspect identified',\n",
       "   'date': '2020-01'},\n",
       "  'persistent_id': '0be8d871ee00e9966202f7320227be162e0d53e80b5c8e81dd659ad3a61bbb13',\n",
       "  'id': 80721360,\n",
       "  'location_subtype': '',\n",
       "  'month': '2020-01'},\n",
       " {'category': 'shoplifting',\n",
       "  'location_type': None,\n",
       "  'location': None,\n",
       "  'context': '',\n",
       "  'outcome_status': {'category': 'Court result unavailable',\n",
       "   'date': '2020-07'},\n",
       "  'persistent_id': 'fed107976d3964ac0bae13b9c1f33bd0ccb8652b7e88eaa21afa1fbedea3752f',\n",
       "  'id': 80721568,\n",
       "  'location_subtype': '',\n",
       "  'month': '2020-01'},\n",
       " {'category': 'shoplifting',\n",
       "  'location_type': None,\n",
       "  'location': None,\n",
       "  'context': '',\n",
       "  'outcome_status': {'category': 'Status update unavailable',\n",
       "   'date': '2020-05'},\n",
       "  'persistent_id': '80ae835765245e775baeb43cdf8c8bef354af5b7c86ab7f20e72dbf4e41f5b46',\n",
       "  'id': 80721569,\n",
       "  'location_subtype': '',\n",
       "  'month': '2020-01'},\n",
       " {'category': 'shoplifting',\n",
       "  'location_type': None,\n",
       "  'location': None,\n",
       "  'context': '',\n",
       "  'outcome_status': {'category': 'Investigation complete; no suspect identified',\n",
       "   'date': '2020-01'},\n",
       "  'persistent_id': 'da4605ba352d3c5573fceac405fe7c38af4190d24f5f6fbb4949102124fd731a',\n",
       "  'id': 80721618,\n",
       "  'location_subtype': '',\n",
       "  'month': '2020-01'},\n",
       " {'category': 'theft-from-the-person',\n",
       "  'location_type': None,\n",
       "  'location': None,\n",
       "  'context': '',\n",
       "  'outcome_status': {'category': 'Investigation complete; no suspect identified',\n",
       "   'date': '2020-01'},\n",
       "  'persistent_id': '6f9372afda5894701a33cbd86cc5343467d70af3a13d04db88815f59a2cd579a',\n",
       "  'id': 80721387,\n",
       "  'location_subtype': '',\n",
       "  'month': '2020-01'},\n",
       " {'category': 'theft-from-the-person',\n",
       "  'location_type': None,\n",
       "  'location': None,\n",
       "  'context': '',\n",
       "  'outcome_status': {'category': 'Investigation complete; no suspect identified',\n",
       "   'date': '2020-01'},\n",
       "  'persistent_id': 'a2fd4713b7fc26d56a3f850c9de90726c4d8b3be89aa5d480f5141f2b460cb53',\n",
       "  'id': 80721945,\n",
       "  'location_subtype': '',\n",
       "  'month': '2020-01'},\n",
       " {'category': 'theft-from-the-person',\n",
       "  'location_type': None,\n",
       "  'location': None,\n",
       "  'context': '',\n",
       "  'outcome_status': {'category': 'Investigation complete; no suspect identified',\n",
       "   'date': '2020-01'},\n",
       "  'persistent_id': '7622c7b9285516539fb187769ae5b7abec9b6b6f8a9ce2d5d0f18c5661b35361',\n",
       "  'id': 80721414,\n",
       "  'location_subtype': '',\n",
       "  'month': '2020-01'},\n",
       " {'category': 'theft-from-the-person',\n",
       "  'location_type': None,\n",
       "  'location': None,\n",
       "  'context': '',\n",
       "  'outcome_status': {'category': 'Investigation complete; no suspect identified',\n",
       "   'date': '2020-01'},\n",
       "  'persistent_id': 'fcaa00872983974ea91084b36e1bb7b868247df5ceb299a5fa7ec9f62a690860',\n",
       "  'id': 80721288,\n",
       "  'location_subtype': '',\n",
       "  'month': '2020-01'},\n",
       " {'category': 'theft-from-the-person',\n",
       "  'location_type': None,\n",
       "  'location': None,\n",
       "  'context': '',\n",
       "  'outcome_status': {'category': 'Investigation complete; no suspect identified',\n",
       "   'date': '2020-01'},\n",
       "  'persistent_id': '098c771d27064c9c795817b63116c03fedf9ac7b65c99024d21898e2b87b20c3',\n",
       "  'id': 80721617,\n",
       "  'location_subtype': '',\n",
       "  'month': '2020-01'},\n",
       " {'category': 'theft-from-the-person',\n",
       "  'location_type': None,\n",
       "  'location': None,\n",
       "  'context': '',\n",
       "  'outcome_status': {'category': 'Investigation complete; no suspect identified',\n",
       "   'date': '2020-01'},\n",
       "  'persistent_id': 'c23fc5f9c5654c8f20e4be618e8f6986c6414d5e087cab97ad7032bf49b73858',\n",
       "  'id': 80721587,\n",
       "  'location_subtype': '',\n",
       "  'month': '2020-01'},\n",
       " {'category': 'vehicle-crime',\n",
       "  'location_type': None,\n",
       "  'location': None,\n",
       "  'context': '',\n",
       "  'outcome_status': {'category': 'Status update unavailable',\n",
       "   'date': '2020-05'},\n",
       "  'persistent_id': '512906eb174830cc15766f90e613e6048b844d8b4976d373b362946ff4e48a36',\n",
       "  'id': 80721846,\n",
       "  'location_subtype': '',\n",
       "  'month': '2020-01'},\n",
       " {'category': 'vehicle-crime',\n",
       "  'location_type': None,\n",
       "  'location': None,\n",
       "  'context': '',\n",
       "  'outcome_status': {'category': 'Investigation complete; no suspect identified',\n",
       "   'date': '2020-01'},\n",
       "  'persistent_id': 'e0414be6cc7f8fd5e03ac9e7aea8888590ae331733cd624247d544137fb134a2',\n",
       "  'id': 80721331,\n",
       "  'location_subtype': '',\n",
       "  'month': '2020-01'},\n",
       " {'category': 'violent-crime',\n",
       "  'location_type': None,\n",
       "  'location': None,\n",
       "  'context': '',\n",
       "  'outcome_status': {'category': 'Status update unavailable',\n",
       "   'date': '2020-05'},\n",
       "  'persistent_id': 'f4371d135549714330e28aeb061ed366c02b75bbbcb0bb46e4076e67952c297e',\n",
       "  'id': 80721941,\n",
       "  'location_subtype': '',\n",
       "  'month': '2020-01'},\n",
       " {'category': 'violent-crime',\n",
       "  'location_type': None,\n",
       "  'location': None,\n",
       "  'context': '',\n",
       "  'outcome_status': {'category': 'Status update unavailable',\n",
       "   'date': '2020-05'},\n",
       "  'persistent_id': 'c41e990b2258cfb649caf5b22abc634a12f592415c3585b0bd35ecb0e4bd8885',\n",
       "  'id': 80721944,\n",
       "  'location_subtype': '',\n",
       "  'month': '2020-01'},\n",
       " {'category': 'violent-crime',\n",
       "  'location_type': None,\n",
       "  'location': None,\n",
       "  'context': '',\n",
       "  'outcome_status': {'category': 'Unable to prosecute suspect',\n",
       "   'date': '2020-02'},\n",
       "  'persistent_id': '05e69e8ed5beafcef77eb0a08eef371b2e0c88cbaf213594149f7ab12adfc346',\n",
       "  'id': 80721436,\n",
       "  'location_subtype': '',\n",
       "  'month': '2020-01'},\n",
       " {'category': 'violent-crime',\n",
       "  'location_type': None,\n",
       "  'location': None,\n",
       "  'context': '',\n",
       "  'outcome_status': {'category': 'Status update unavailable',\n",
       "   'date': '2020-05'},\n",
       "  'persistent_id': '3acd69aab7098d02500814e16816dd0f5f3efe596f37e0f38cff1f7792f61004',\n",
       "  'id': 80721881,\n",
       "  'location_subtype': '',\n",
       "  'month': '2020-01'},\n",
       " {'category': 'violent-crime',\n",
       "  'location_type': None,\n",
       "  'location': None,\n",
       "  'context': '',\n",
       "  'outcome_status': {'category': 'Status update unavailable',\n",
       "   'date': '2020-05'},\n",
       "  'persistent_id': 'd901837987fd929c9dfc1020a05f85771a5447262a834c1ecf5403ac83c2a324',\n",
       "  'id': 80721975,\n",
       "  'location_subtype': '',\n",
       "  'month': '2020-01'},\n",
       " {'category': 'violent-crime',\n",
       "  'location_type': None,\n",
       "  'location': None,\n",
       "  'context': '',\n",
       "  'outcome_status': {'category': 'Status update unavailable',\n",
       "   'date': '2020-05'},\n",
       "  'persistent_id': 'efdcc2833f5dfc8ae5732e277f71b40b04c1c00d6ae15d59e79f176800061332',\n",
       "  'id': 80721942,\n",
       "  'location_subtype': '',\n",
       "  'month': '2020-01'},\n",
       " {'category': 'violent-crime',\n",
       "  'location_type': None,\n",
       "  'location': None,\n",
       "  'context': '',\n",
       "  'outcome_status': {'category': 'Status update unavailable',\n",
       "   'date': '2020-05'},\n",
       "  'persistent_id': 'e0ab84fecfd71f6481dbd079f51b5e70bb1ba68fb93080a8b3fd8b9b85a0f1e3',\n",
       "  'id': 80721943,\n",
       "  'location_subtype': '',\n",
       "  'month': '2020-01'},\n",
       " {'category': 'other-crime',\n",
       "  'location_type': None,\n",
       "  'location': None,\n",
       "  'context': '',\n",
       "  'outcome_status': {'category': 'Status update unavailable',\n",
       "   'date': '2020-05'},\n",
       "  'persistent_id': '295d1dac24600a390016952a8e612d1f2d22270784da88f4a54f82a552c0e2cf',\n",
       "  'id': 80721478,\n",
       "  'location_subtype': '',\n",
       "  'month': '2020-01'},\n",
       " {'category': 'other-crime',\n",
       "  'location_type': None,\n",
       "  'location': None,\n",
       "  'context': '',\n",
       "  'outcome_status': {'category': 'Investigation complete; no suspect identified',\n",
       "   'date': '2021-07'},\n",
       "  'persistent_id': 'ebd23a8f2377aee9e1b1a09df0f02f3065275efab170fb579334620c4c67af91',\n",
       "  'id': 80721977,\n",
       "  'location_subtype': '',\n",
       "  'month': '2020-01'},\n",
       " {'category': 'other-crime',\n",
       "  'location_type': None,\n",
       "  'location': None,\n",
       "  'context': '',\n",
       "  'outcome_status': {'category': 'Investigation complete; no suspect identified',\n",
       "   'date': '2020-03'},\n",
       "  'persistent_id': '095dfa4b8a07684dec597af8df4a80366ace8cd6a7d4bae8cfe58cb3c0f72725',\n",
       "  'id': 80721976,\n",
       "  'location_subtype': '',\n",
       "  'month': '2020-01'},\n",
       " {'category': 'other-crime',\n",
       "  'location_type': None,\n",
       "  'location': None,\n",
       "  'context': '',\n",
       "  'outcome_status': {'category': 'Local resolution', 'date': '2020-03'},\n",
       "  'persistent_id': 'c12c84ade24eb9c15f311c8d7fdabf32a73b576f855b90be47f2a884a412cf93',\n",
       "  'id': 80721362,\n",
       "  'location_subtype': '',\n",
       "  'month': '2020-01'},\n",
       " {'category': 'other-crime',\n",
       "  'location_type': None,\n",
       "  'location': None,\n",
       "  'context': '',\n",
       "  'outcome_status': {'category': 'Unable to prosecute suspect',\n",
       "   'date': '2022-01'},\n",
       "  'persistent_id': '579b6100a5d1f6a960cbe5601f24a35b07da5914e608545a410e5a3e5e308923',\n",
       "  'id': 80721567,\n",
       "  'location_subtype': '',\n",
       "  'month': '2020-01'}]"
      ]
     },
     "execution_count": 43,
     "metadata": {},
     "output_type": "execute_result"
    }
   ],
   "source": [
    "sr.suclar"
   ]
  },
  {
   "cell_type": "code",
   "execution_count": 50,
   "metadata": {},
   "outputs": [
    {
     "data": {
      "text/plain": [
       "Counter({'bicycle-theft': 2})"
      ]
     },
     "execution_count": 50,
     "metadata": {},
     "output_type": "execute_result"
    }
   ],
   "source": [
    "sr.suclari_raporla()"
   ]
  },
  {
   "attachments": {},
   "cell_type": "markdown",
   "metadata": {},
   "source": [
    "### Post Metodu"
   ]
  },
  {
   "cell_type": "code",
   "execution_count": 1,
   "metadata": {},
   "outputs": [],
   "source": [
    "import requests"
   ]
  },
  {
   "cell_type": "code",
   "execution_count": 2,
   "metadata": {},
   "outputs": [],
   "source": [
    "grafik_URL = 'https://image-charts.com/chart'\n",
    "\n",
    "# https://image-charts.com/chart.js/2.8.0?bkg=white&c=%7B%0A%20%20type%3A%20%27pie%27%2C%0A%20%20data%3A%20%7B%0A%20%20%20%20datasets%3A%20%5B%0A%20%20%20%20%20%20%7B%0A%20%20%20%20%20%20%20%20data%3A%20%5B84%2C%2028%2C%2057%2C%2019%2C%2097%5D%2C%0A%20%20%20%20%20%20%20%20backgroundColor%3A%20%5B%0A%20%20%20%20%20%20%20%20%20%20%27rgb(255%2C%2099%2C%20132)%27%2C%0A%20%20%20%20%20%20%20%20%20%20%27rgb(255%2C%20159%2C%2064)%27%2C%0A%20%20%20%20%20%20%20%20%20%20%27rgb(255%2C%20205%2C%2086)%27%2C%0A%20%20%20%20%20%20%20%20%20%20%27rgb(75%2C%20192%2C%20192)%27%2C%0A%20%20%20%20%20%20%20%20%20%20%27rgb(54%2C%20162%2C%20235)%27%2C%0A%20%20%20%20%20%20%20%20%5D%2C%0A%20%20%20%20%20%20%20%20label%3A%20%27Dataset%201%27%2C%0A%20%20%20%20%20%20%7D%2C%0A%20%20%20%20%5D%2C%0A%20%20%20%20labels%3A%20%5B%27Red%27%2C%20%27Orange%27%2C%20%27Yellow%27%2C%20%27Green%27%2C%20%27Blue%27%5D%2C%0A%20%20%7D%2C%0A%7D%0A\n",
    "payload = {\n",
    "    'chs': '700x190',\n",
    "    'chd': '60,40',\n",
    "    'cht': 'p3',\n",
    "    'ch1': 'Hello|World',\n",
    "    'chan' : None,\n",
    "    'chf' : 'ps0-0,lg,45,ff3b3b,0.2,f44336,1|ps0-1,lg,45,8bc34a,0.2,009688,1'\n",
    "}\n",
    "\n",
    "response = requests.post(grafik_URL, data=payload)"
   ]
  },
  {
   "cell_type": "code",
   "execution_count": 3,
   "metadata": {},
   "outputs": [
    {
     "data": {
      "text/plain": [
       "400"
      ]
     },
     "execution_count": 3,
     "metadata": {},
     "output_type": "execute_result"
    }
   ],
   "source": [
    "response.status_code"
   ]
  },
  {
   "cell_type": "code",
   "execution_count": 4,
   "metadata": {},
   "outputs": [
    {
     "data": {
      "text/plain": [
       "b'\\x89PNG\\r\\n\\x1a\\n\\x00\\x00\\x00\\rIHDR\\x00\\x00\\x04\\x00\\x00\\x00\\x03 \\x08\\x06\\x00\\x00\\x00\\xbd\\x16\\x10;\\x00\\x00\\x00\\x06bKGD\\x00\\xff\\x00\\xff\\x00\\xff\\xa0\\xbd\\xa7\\x93\\x00\\x00 \\x00IDATx^\\xec\\xddyt\\x14\\xd5\\xba6\\xf0\\xa7:s\\x02\\t\\x92\\x10\\x86@0\\x06\\x10\\x0c\\x01\\x83\\x13\"3D\\x85\\x83\\x98xa\\x012k@D\\xf4\\xc0\\xa7\\xe0QA\\xd6=\\x882j\\x8e\\xc4\\xa5\\x06P\\xe1\\xa0\\xf7\\x80\\x1c%\\x80F\\xc4\\x11\\xb9\\x8a$\\x82\\x82\\xcc\\x93\\x90\\x10d\\x08`&B\\xa6\\xf7\\xfb\\xc3t\\xdd\\xeeJOU\\xe9N:\\'\\xcfo\\xad^\\xca~wU\\xbd\\xbdk\\xd7\\xae\\xea\\xdd\\x9d*ED\\x04DDDDDDD\\xf4\\x1f\\xcd\\xa4- \"\"\"\"\"\"\\xa2\\xff<\\x9c\\x00 \"\"\"\"\"\"j\\x048\\x01@DDDDDD\\xd4\\x08p\\x02\\x80\\x88\\x88\\x88\\x88\\x88\\x88\\xa8\\x11\\xe0\\x04\\x00\\x11\\x11\\x11\\x11\\x11\\x11Q#\\xc0\\t\\x00\"\"\"\"\"\"\\xa2F\\x80\\x13\\x00DDDDDDD\\x8d\\x00\\'\\x00\\x88\\x88\\x88\\x88\\x88\\x88\\x88\\x1a\\x01N\\x00\\x10\\x11\\x11\\x11\\x11\\x11\\x115\\x02\\x9c\\x00 \"\"\"\"\"\"j\\x048\\x01@DDDDDD\\xd4\\x08p\\x02\\x80\\x88\\x88\\x88\\x88\\x88\\x88\\xa8\\x11\\xd05\\x01\\xf0\\xfb\\xef\\xbfCQ\\x14]\\xaf\\x8d\\x1b7\\xaa\\xcb_\\xbat\\xa9F\\\\\\xfb\\n\\x0f\\x0fG\\xa7N\\x9d0|\\xf8pdffZm\\xdf]\\xeb\\xd0:r\\xe4\\x08\\x9ey\\xe6\\x19$$$ <<\\x1c~~~h\\xd3\\xa6\\r\\x06\\x0f\\x1e\\x8c\\xd4\\xd4T\\x14\\x15\\x15i\\x17Qy\"\\x1f\"\"\"\"\"\"\"wSDD\\xb4\\x85\\xf6\\xfc\\xfe\\xfb\\xefh\\xdd\\xba\\xb5\\xb6\\xd8\\xa1\\x0f?\\xfc\\x10#F\\x8c\\x00\\xaa?,\\xb7h\\xd1B[\\xc5\\xa1\\x97_~\\x19\\xcf=\\xf7\\x9c\\xfaow\\xac\\xc3\\xac\\xa2\\xa2\\x02\\xb3g\\xcf\\xc6\\x8a\\x15+PYY\\xa9\\r\\xabZ\\xb4h\\x81\\xd5\\xabW\\xe3\\x81\\x07\\x1e\\xd0\\x86\\xdc\\x9a\\x0f\\x11\\x11\\x11\\x11\\x11\\x11\\x91\\xa7\\xe8\\xfa\\x05\\x80\\xa5\\xfd\\xfb\\xf7CD\\x9c\\xbe\\xcc\\x1f\\xfe\\xb5\\xb2\\xb2\\xb2j\\xd4\\xad\\xaa\\xaa\\xc2\\xb9s\\xe7\\xf0\\xc9\\'\\x9f !!\\x01\\x000o\\xde<\\x1c:tH\\xbb8P\\xcbuTUU\\xe1\\xa1\\x87\\x1eBjj**++\\xf1\\xe0\\x83\\x0f\"33\\x13\\x97.]Byy9rrr\\xf0\\xce;\\xef\\xa0s\\xe7\\xce\\xb8x\\xf1\"\\x92\\x92\\x92\\xf0\\xde{\\xefY\\xadC\\xab6\\xf9\\x10\\x11\\x11\\x11\\x11\\x11\\x11y\\x92\\xe1\\t\\x00OP\\x14\\x05\\xadZ\\xb5\\xc2\\xd0\\xa1C\\xb1}\\xfbv\\xdcp\\xc3\\r\\xa8\\xac\\xac\\xc4\\x86\\r\\x1b\\xb4U\\xedru\\x1d\\x0b\\x17.\\xc4\\x96-[\\xe0\\xe3\\xe3\\x835k\\xd6`\\xd3\\xa6M\\xb8\\xff\\xfe\\xfb\\x11\\x1e\\x1e\\x0e___\\xb4m\\xdb\\x16\\x93\\'O\\xc6\\xcf?\\xff\\x8c\\xd1\\xa3G\\xa3\\xaa\\xaa\\n\\xd3\\xa6M\\xc3\\xcf?\\xffl\\xb5\\x1eg\\\\\\xcd\\x87\\x88\\x88\\x88\\x88\\x88\\x88\\xc8\\x93\\xbcj\\x02\\xc0Rxx8\\xbau\\xeb\\x06\\x008s\\xe6\\x8c6\\xec\\x12{\\xeb\\xc8\\xcf\\xcf\\xc7\\x92%K\\x00\\x00\\xcf?\\xff<&L\\x98\\xa0\\xc6\\xb4\\x02\\x02\\x02\\xb0f\\xcd\\x1a\\xf4\\xe8\\xd1\\x03\\xd7\\xaf_\\xc7\\xf3\\xcf?\\xaf\\xad\\xe22{\\xf9\\x10\\x11\\x11\\x11\\x11\\x11\\x11y\\x9a\\xd7N\\x00\\\\\\xbdz\\x15\\xfb\\xf7\\xef\\x07\\x00\\xb4i\\xd3F\\x1bv\\x89\\xbdul\\xd8\\xb0\\x01EEEh\\xd2\\xa4\\t\\x9e~\\xfai\\x8b%l\\xf3\\xf7\\xf7\\xc7\\xdc\\xb9s\\x01\\x00\\x99\\x99\\x998{\\xf6\\xac\\xb6\\x8aK\\xec\\xe5CDDDDDD\\xe4i^5\\x01PRR\\x82\\x93\\'O\"33\\x13\\x89\\x89\\x89\\xb8|\\xf92|||0z\\xf4hmU\\xbb\\\\Y\\xc7\\xb7\\xdf~\\x0b\\x00\\xe8\\xd5\\xab\\x17\\xc2\\xc2\\xc2,\\x96\\xb6\\xef\\xbe\\xfb\\xee\\x83\\xbf\\xbf?\\x00\\xe0\\x9bo\\xbe\\xd1\\x86\\xedr%\\x1f\"\"\"\"\"\"\"O\\xf3\\xd5\\x16\\xb8*>>^[T\\xc3\\x88\\x11#\\xf0\\xe1\\x87\\x1fj\\x8b\\x01\\x00w\\xdcq\\x87\\xb6\\xa8\\x06\\x7f\\x7f\\x7f\\xbc\\xf9\\xe6\\x9b\\x88\\x8b\\x8b\\xd3\\x86\\x80Z\\xac\\xe3\\xd4\\xa9S\\x00\\x80[n\\xb9\\xc5\\xa2\\xa6c\\xc1\\xc1\\xc1h\\xdf\\xbe=\\x8e\\x1d;\\x86\\xd3\\xa7Ok\\xc3@-\\xf2!\"\"\"\"\"\"\\xf24\\xc3\\x13\\x00\\x9e\\xe2\\xe3\\xe3\\x83\\xdbo\\xbf\\x1d\\xfd\\xfa\\xf5\\xc3\\xa3\\x8f>\\x8aN\\x9d:i\\xab8\\xe5l\\x1dW\\xae\\\\\\x01\\x00\\x84\\x86\\x86Z\\x95;c\\xae\\x7f\\xf5\\xeaUm\\xc8!g\\xf9\\x10\\x11\\x11\\x11\\x11\\x11\\x11y\\x9a\\xe1?\\x01p\\xe51\\x80\\xf6\\xbe\\xfd\\x87\\xe6\\x91y\\x97/_\\xc6\\xae]\\xbb0d\\xc8\\x10\\x88\\x08\\xa2\\xa3\\xa31g\\xce\\x1c\\xa7\\x1f\\x94\\x8d\\xae\\xa3I\\x93&\\x00\\x80k\\xd7\\xaeiC\\x0e\\xfd\\xf1\\xc7\\x1f\\x00`\\xf7\\xcf\\x06\\x8c\\xe6CDDDDDD\\xe4i\\x86\\'\\x00\\xdc\\xe9\\x86\\x1bn\\xc0]w\\xdd\\x85-[\\xb6\\xe0\\xa1\\x87\\x1e\\xc2\\x87\\x1f~\\x88~\\xfd\\xfa\\xa9\\xdf\\xd4\\xbbB\\xcf:\\xda\\xb7o\\x0f\\x008z\\xf4\\xa86dWqq\\xb1\\xfa\\xd3\\x7f\\xf3\\xf2\\x8e\\xe8\\xc9\\x87\\x88\\x88\\x88\\x88\\x88\\x88\\xc8\\xd3\\xbcb\\x02\\xc0\\xcc\\xc7\\xc7\\x07\\xabV\\xadB\\xeb\\xd6\\xadq\\xe0\\xc0\\x01\\xa4\\xa4\\xa4h\\xab8\\xe5\\xca:\\x06\\r\\x1a\\x04\\x00\\xf8\\xfa\\xeb\\xafQPP\\xa0\\r\\xdb\\x94\\x99\\x99\\x89\\xf2\\xf2r\\x00\\xc0\\x80\\x01\\x03\\xb4a\\xbb\\\\\\xc9\\x87\\x88\\x88\\x88\\x88\\x88\\x88\\xc8\\xd3\\xbcj\\x02\\x00\\xd5?\\xaf\\x7f\\xf9\\xe5\\x97\\x01\\x00\\x1f}\\xf4\\x116n\\xdc\\xa8\\xad\\xe2\\x94\\xb3u<\\xfc\\xf0\\xc3\\x08\\r\\rEAA\\x01^y\\xe5\\x15\\xab\\x98-\\xd7\\xaf_\\xc7\\x82\\x05\\x0b\\x00\\x00C\\x86\\x0cATT\\x94\\xb6\\x8aC\\xce\\xf2!\"\"\"\"\"\"\\xf24\\xaf\\x9b\\x00\\x00\\x80\\t\\x13&\\xe0\\xf6\\xdbo\\x07\\x00\\xcc\\x9a5\\x0bEEE\\xda*N9ZG\\xf3\\xe6\\xcd\\xf1\\xe2\\x8b/\\x02\\x00\\x96,Y\\x82U\\xabV\\xa91\\xad\\xeb\\xd7\\xafc\\xd2\\xa4I\\xd8\\xb7o\\x1f\\x02\\x02\\x02\\xd4\\x0f\\xf2z9\\xca\\x87\\x88\\x88\\x88\\x88\\x88\\x88\\xc8\\xd3\\xbcr\\x02\\xc0d2!55\\x15\\x8a\\xa2 77\\x17\\xff\\xfd\\xdf\\xff\\xad\\xad\\xe2\\x94\\xb3u\\xfc\\xbf\\xff\\xf7\\xff0j\\xd4(TUUa\\xca\\x94)HJJ\\xc2g\\x9f}\\x86\\x8b\\x17/\\xa2\\xbc\\xbc\\x1c\\xa7O\\x9f\\xc6;\\xef\\xbc\\x83[o\\xbd\\x15\\xff\\xfa\\xd7\\xbf`2\\x99\\xf0\\xf6\\xdbo\\xe3\\xd6[o\\xb5Z\\x8f\\xab\\x9c\\xe5CDDDDDD\\xe4I\\x86\\'\\x00\\xe2\\xe3\\xe3\\xa1(\\x8a\\xd3Wbb\\xa2vQ\\x97\\xdcs\\xcf=\\x185j\\x14\\x00\\xe0\\x1f\\xff\\xf8\\x07\\x0e\\x1c8\\xa0\\xad\\xe2\\x94\\xa3u(\\x8a\\x82\\xf7\\xdf\\x7f\\x1fs\\xe6\\xcc\\x81\\x9f\\x9f\\x1f2220d\\xc8\\x10DFF\\xc2\\xdf\\xdf\\x1f7\\xdex#\\x1e}\\xf4Q\\x1c>|\\x18\\x91\\x91\\x91\\xc8\\xc8\\xc8\\xc0\\xc4\\x89\\x13-\\xd6\\xae\\x9f\\xa3|\\x88\\x88\\x88\\x88\\x88\\x88\\x88<\\xc9\\xf0\\x04@]X\\xbcx1\\x82\\x82\\x82P^^\\x8e\\xe9\\xd3\\xa7CD\\xb4U\\x9cr\\xb4\\x0e\\x1f\\x1f\\x1f,^\\xbc\\x18\\x07\\x0e\\x1c\\xc0\\x9c9s\\x90\\x90\\x90\\x80\\x88\\x88\\x08\\xf8\\xfa\\xfa\\xa2u\\xeb\\xd6\\x18<x0RSSq\\xe2\\xc4\\t\\x0c\\x1b6\\xccj\\xbdF9\\xca\\x87\\x88\\x88\\x88\\x88\\x88\\x88\\xc8S\\x14\\xe1\\'P\"\"\"\"\"\"\\xa2\\xffx^\\xfd\\x0b\\x00\"\"\"\"\"\"\"r\\x0fN\\x00\\x10\\x11\\x11\\x11\\x11\\x11\\x115\\x02\\x9c\\x00 \"\"\"\"\"\"j\\x048\\x01@DDDDDD\\xd4\\x08p\\x02\\x80\\x88\\x88\\x88\\x88\\x88\\x88\\xa8\\x11\\xe0\\x04\\x00\\x11\\x11\\x11\\x11\\x11\\x11Q#\\xc0\\t\\x00\"\"\"\"\"\"\\xa2F\\x80\\x13\\x00DDDDDDD\\x8d\\x00\\'\\x00\\x88\\x88\\x88\\x88\\x88\\x88\\x88\\x1a\\x01N\\x00\\x10\\x11\\x11\\x11\\x11\\x11\\x115\\x02\\x9c\\x00 \"\"\"\"\"\"j\\x048\\x01@DDDDDD\\xd4\\x08p\\x02\\x80\\x88\\x88\\x88\\x88\\x88\\x88\\xa8\\x11\\xe0\\x04\\x00\\x11\\x11\\x11\\x11\\x11\\x11Q#\\xc0\\t\\x00\"\"\"\"\"\"\\xa2F\\x80\\x13\\x00DDDDDDD\\x8d\\x00\\'\\x00\\x88\\x88\\x88\\x88\\x88\\x88\\x88\\x1a\\x01N\\x00\\x10\\x11\\x11\\x11\\x11\\x11\\x115\\x02\\x9c\\x00 \"\"\"\"\"\"j\\x048\\x01@DDDDDD\\xd4\\x08p\\x02\\x80\\x88\\x88\\x88\\x88\\x88\\x88\\xa8\\x11\\xe0\\x04\\x00\\x11\\x11\\x11\\x11\\x11\\x11Q#\\xc0\\t\\x00\"\"\"\"\"\"\\xa2F\\x80\\x13\\x00DDDDDDD\\x8d\\x00\\'\\x00\\x88\\x88\\x88\\x88\\x88\\x88\\x88\\x1a\\x01N\\x00\\x10\\x11\\x11\\x11\\x11\\x11\\x115\\x02\\x9c\\x00 \"\"\"\"\"\"j\\x048\\x01@DDDDDD\\xd4\\x08p\\x02\\x80\\x88\\x88\\x88\\x88\\x88\\x88\\xa8\\x11\\xe0\\x04\\x00\\x11\\x11\\x11\\x11\\x11\\x11Q#\\xc0\\t\\x00\"\"\"\"\"\"\\xa2F\\x80\\x13\\x00DDDDDDD\\x8d\\x00\\'\\x00\\x88\\x88\\x88\\x88\\x88\\x88\\x88\\x1a\\x01N\\x00\\x10\\x11\\x11\\x11\\x11\\x11\\x115\\x02\\x9c\\x00 \"\"\"\"\"\"j\\x048\\x01@DDDDDD\\xd4\\x08p\\x02\\x80\\x88\\x88\\x88\\x88\\x88\\x88\\xa8\\x11\\xe0\\x04\\x00\\x11\\x11\\x11\\x11\\x11\\x11Q#\\xc0\\t\\x00\"\"\"\"\"\"\\xa2F\\x80\\x13\\x00DDDDDDD\\x8d\\x00\\'\\x00\\x88\\x88\\x88\\x88\\x88\\x88\\x88\\x1a\\x01N\\x00\\x10\\x11\\x11\\x11\\x11\\x11\\x115\\x02.O\\x00TTT@Q\\x14(\\x8a\\x82U\\xabV\\x01\\x00\\xda\\xb5k\\x07EQ0o\\xde<mu\\x97\\xadZ\\xb5\\n\\x8a\\xa2`\\xc8\\x90!\\xda\\x90a\\xcb\\x96-\\x83\\xa2(\\x183f\\x0c\\xe0\\xc1\\xdc\\xf5\\xd2\\xfb^\\xf5\\xd6\\xf7\\x06\\xde\\x98\\xb3\\xde\\xfd/\"X\\xbdz5\\xfa\\xf4\\xe9\\x83\\xe6\\xcd\\x9b\\xa3i\\xd3\\xa6\\xe8\\xde\\xbd;^~\\xf9e\\x14\\x14\\x14h\\xab\\x03\\x00\\xfe\\xf8\\xe3\\x0f\\xcc\\x993\\x07\\x1d:t@@@\\x00Z\\xb6l\\x89\\xa4\\xa4$\\xec\\xda\\xb5K[\\xd5\\x90\\xbd{\\xf7\"  \\x00-Z\\xb4\\xd0\\x86T\\xae\\xe6\\xa0\\xb7=\\xec)//\\xc7\\x9c9s\\x10\\x1d\\x1d\\x8d\\x80\\x80\\x00DEEa\\xe3\\xc6\\x8d\\xdaj.\\xb1\\xd5ol\\x95\\x91w\\xa8\\xcb}S\\x97\\xdbr\\xc4\\x9d\\xfd\\x9d\\xfe\\x8f\\xb7\\xec_[\\x8c\\xe4\\xa6\\xbd\\xfep\\xc6\\xc86<IDp\\xdf}\\xf7!..\\x0e\\x15\\x15\\x15\\xda0\\xfd\\x07\\xd2\\xdbg\\x8d\\xd2n\\xa7\\xa2\\xa2\\x02]\\xbbv\\xc5\\xd0\\xa1C!\"\\xda\\xea\\x0e\\xb9\\xeb:\\xc6\\x1by\\xdb\\x98\\x80\\x06\\x96\\xd3\\x1dw\\xdc\\x01EQPZZjU\\xeei\\xf6\\xf2\\xf1V.O\\x00\\x90\\xe7\\x1c9r\\x04\\xc9\\xc9\\xc9\\xb8z\\xf5\\xaa6Du\\xac\\xbc\\xbc\\x1c\\xc3\\x87\\x0fGJJ\\nv\\xee\\xdc\\x89+W\\xae\\xa0\\xa8\\xa8\\x08\\xfb\\xf6\\xed\\xc3\\x0b/\\xbc\\x80\\x1e=z\\xe0\\xfc\\xf9\\xf3V\\xcb\\\\\\xb8p\\x01\\xb7\\xdf~;\\x96.]\\x8a\\x13\\'N\\xa0\\xac\\xac\\x0c\\x17.\\\\@FF\\x06\\xfa\\xf4\\xe9\\x83\\r\\x1b6X\\xd5\\xd7\\xab\\xa4\\xa4\\x04c\\xc7\\x8eEYY\\x996\\xa4\\xf2t\\x0e\\xb6\\xbc\\xf8\\xe2\\x8bX\\xbat)rrrPVV\\x86\\xbc\\xbc<DFFj\\xaby\\xb5\\xc6v\\xecy\\xf3\\xfb\\xf5\\xe6\\xdc\\xf0\\x1f\\xd2\\xdf\\xf5\\xf2\\xf6}B\\xee\\x97\\x9e\\x9e\\x8e\\xcf?\\xff\\x1cK\\x97.\\x85\\xaf\\xaf\\xaf6L\\xe46\\xbe\\xbe\\xbeX\\xb2d\\t233\\x91\\x9e\\x9e\\xae\\r\\x13\\x91\\x07\\xb9<\\x01`\\x9ei\\x03\\x00\\x93\\xe9\\xcf\\xc5\\xcc\\xff6\\xff\\xd7[yK\\xee)))\\x10\\x11dff\\xaae%%%\\x88\\x8f\\x8f\\xc7\\xa6M\\x9b\\xac\\xea\\x92\\xfb\\xe8\\xd9\\xff\\xf3\\xe6\\xcd\\xc3\\xd6\\xad[\\x11\\x1c\\x1c\\x8c\\xd7_\\x7f\\x1d\\xf9\\xf9\\xf9(((\\xc0\\xc7\\x1f\\x7f\\x8c\\xc8\\xc8H\\x9c8q\\x02\\xcf>\\xfb\\xac\\xd52S\\xa7N\\xc5\\xf1\\xe3\\xc7\\x11\\x1b\\x1b\\x8bo\\xbe\\xf9\\x06%%%8|\\xf80\\x92\\x93\\x93QQQ\\x81G\\x1ey\\x04\\xbf\\xff\\xfe\\xbb\\xd52z<\\xfd\\xf4\\xd38t\\xe8\\x90\\xb6\\xd8\\x8a\\x9e\\x1c\\xf4\\xb4\\x87#\\x9f~\\xfa)\\x00`\\xfa\\xf4\\xe9(((\\x80\\x88\\xa0o\\xdf\\xbe\\xdaj.\\xb1ulxZc;\\xf6\\xbc\\xf9\\xfdzsnf\\xee\\xec\\xef\\rAC\\xd8\\'\\xe4^yyy\\x98={6\\x06\\r\\x1a\\x84\\xa1C\\x87j\\xc3Dn7t\\xe8P\\x0c\\x1a4\\x08\\xcf<\\xf3\\x0crrr\\xb4a\\xbb\\xdcu\\x1dC\\xd4X\\xb9<\\x01\\xe0\\xe3\\xe3\\x83v\\xed\\xda\\x01\\x00\\xa2\\xa3\\xa3\\x01\\x00111V\\xff\\xf6V\\xde\\x9c{UU\\x15\\xca\\xcb\\xcb\\xb5\\xc5\\xe4F\\xae\\xee\\xffs\\xe7\\xce!55\\x15\\x8a\\xa2`\\xc3\\x86\\rx\\xf2\\xc9\\'\\xd5?\\x01HJJ\\xc2\\xea\\xd5\\xab\\x11\\x12\\x12\\x82\\x9f~\\xfaI\\xfd\\xb9\\xda\\xaf\\xbf\\xfe\\x8a\\x8c\\x8c\\x0c\\xf8\\xf8\\xf8`\\xf3\\xe6\\xcd\\xe8\\xd7\\xaf\\x1f\\x82\\x82\\x82p\\xf3\\xcd7c\\xfd\\xfa\\xf5HHH@qq1\\xd2\\xd2\\xd2\\xd4\\xed\\xe8\\xb1y\\xf3f\\xbc\\xf5\\xd6[\\x88\\x8d\\x8d\\xd5\\x86Tzsp\\xb5=\\x9c1O(L\\x980\\x01M\\x9b6\\xd5\\x86\\xbd^c;\\xf6\\xbc\\xf9\\xfdzsnf\\r\\xbd\\xbf\\xeb\\xd5\\x10\\xf6\\t\\xb9\\xd7+\\xaf\\xbc\\x82\\xc2\\xc2B\\xbc\\xf8\\xe2\\x8b\\xda\\x10\\x91\\xc7\\xcc\\x9c9\\x13EEEX\\xb2d\\x896d\\x97\\xbb\\xaec\\x88\\x1a+\\x97\\'\\x00\\x00\\xa0[\\xb7n\\x00\\x80.]\\xba\\x00\\x00\\xe2\\xe3\\xe3\\xad\\xfe\\xed\\xcd\\x1ar\\xeeT{\\xae\\xec\\xff\\x8f>\\xfa\\x08\\xd7\\xaf_\\xc7\\xd0\\xa1C\\xf1\\x97\\xbf\\xfcE-7\\x1b6l\\x18\\x8a\\x8a\\x8a\\xb0\\x7f\\xff~u\\x869##\\x03\\x00p\\xef\\xbd\\xf7\\xe2\\x96[n\\xb1\\xaa\\xef\\xe7\\xe7\\x87\\'\\x9f|\\x12\\xa8\\xfe \\xaf\\xd7\\xb9s\\xe7\\x90\\x92\\x92\\x82\\x16-Z8\\x9c@0\\x92\\x83+\\xed\\xe1\\x8c\\xf9O\\x12BBB\\xb4!\\xa2\\xff8\\xec\\xef\\xf4\\x9f,77\\x17+W\\xaeD\\xc7\\x8e\\x1d\\xd1\\xa7O\\x1fm\\x98\\xc8c\\x86\\x0c\\x19\\x82\\xb6m\\xdbb\\xf5\\xea\\xd55\\xfe\\xc4\\xd2\\x11w\\\\\\xc7\\x105V\\xba&\\x00\\xe2\\xe3\\xe3\\x11\\x16\\x16\\x86\\xa8\\xa8(\\xf5\\xdf\\x00j|\\xe8\\x00\\x80\\xec\\xecl\\x8c\\x1f?\\x1e\\xed\\xda\\xb5C`` \\xda\\xb7o\\x8f\\xe4\\xe4d\\xec\\xdc\\xb9S[Uu\\xe6\\xcc\\x19L\\x992\\x05QQQ\\xf0\\xf7\\xf7Gtt4\\xa6N\\x9d\\x8a\\xd3\\xa7Ok\\xab\\x02\\x006n\\xdc\\x88\\xfe\\xfd\\xfb#44\\x14!!!HLLDvv\\xb6\\xb6\\x1a\\xa03w\\xad!C\\x86@Q\\x14,[\\xb6L\\x1b\\xc2K/\\xbd\\x04EQ\\x10\\x16\\x16V\\xe3\\x869EEE\\x08\\n\\nB@@\\x00\\xae^\\xbdZ\\xe3\\x06\\x11\\x8f?\\xfe\\xb8\\xd57I7\\xdcp\\x03\\x14E\\xc1\\xaf\\xbf\\xfej\\xb1\\x96?\\xe9m\\x1b\\xad\\x05\\x0b\\x16@Q\\x14$&&jC\\xaaq\\xe3\\xc6AQ\\x14\\xcc\\x9f?\\xdf\\xaa<##\\x03\\x0f>\\xf8 :w\\xee\\x8c\\x90\\x90\\x104m\\xda\\x14\\xb1\\xb1\\xb1HII\\xc1\\x91#G\\xac\\xea\\xda\\x92\\x96\\x96\\x06EQ\\x90\\x9c\\x9c\\xac\\r\\x01N\\xe2\\x07\\x0f\\x1e\\xc4#\\x8f<\\x82\\xf6\\xed\\xdb#  \\x00\\x11\\x11\\x11\\x180`\\x00\\xd2\\xd3\\xd3k\\xb4\\xb7#\\xae\\xec\\xffo\\xbe\\xf9\\x06\\x00\\xf0_\\xff\\xf5_j\\x993?\\xfd\\xf4\\x13\\x00\\xd8\\xbd`\\xea\\xdd\\xbb7\\x00\\xe0\\xc0\\x81\\x03\\xbanH\"\"\\x98<y2.^\\xbc\\x88\\x95+W\\xa2U\\xabV\\xda**#9\\xb8\\xd2\\x1e\\xf6$$$@Q\\x14\\xf5\\xef\\x82\\xe3\\xe3\\xe3\\xa1(\\x8a:\\xd1`\\xa6\\xa7\\xdfh\\x8f\\rG~\\xfe\\xf9g\\x8c\\x1a5\\n\\x9d:uBPP\\x10\\xda\\xb4i\\x83\\xde\\xbd{\\xe3\\xcd7\\xdft\\xb9O\\xb8z\\xeceeea\\xec\\xd8\\xb1h\\xdb\\xb6-\\xfc\\xfc\\xfc\\xd0\\xbcys\\x0c\\x1c8\\x10k\\xd7\\xaeEUU\\x95U]G\\xcc\\xbf,Y\\xb6l\\x19\\x0e\\x1c8\\x80\\x87\\x1ez\\x08\\x11\\x11\\x11\\x08\\n\\nB||<\\xdez\\xeb-\\xa0\\xfaC\\xe6\\x82\\x05\\x0b\\xd4\\xf7\\x16\\x1b\\x1b\\x8b\\xf1\\xe3\\xc7#//O\\xbbJ@G\\x1b\\xbb\\xfa~\\xebb\\xdc\\xd6r57\\x18\\xd8\\x96;\\xc6\\x0fW\\xfb\\xbb\\x9e\\xbe\\xb2h\\xd1\"\\xb5?|\\xfc\\xf1\\xc7\\x88\\x89\\x89AHH\\x08\\xfa\\xf6\\xed\\x8b\\xdc\\xdc\\xdc\\x06\\xd3_\\xec1z\\x8c\\xea\\xdd\\xbfz\\xda\\xdc\\xd1y\\x06.\\xc4\\xb5\\xf4\\\\\\x7f\\xb8\\xea\\xe2\\xc5\\x8b\\x988q\"\\xc2\\xc3\\xc3\\xd5}\\xbdx\\xf1b\\xbb\\xe7\\x0ew\\xf4o\\xb3\\xb4\\xb44\\\\\\xbf~\\x1d\\x93\\'O\\x86\\xa2\\xf9\\t\\xb5\\xb3\\xfejf$\\x1f\\xbdc\\x8e\\x9e}\\xee\\xee\\xe3\\xc8\\xdd\\xeb3\\xd3\\xd3n\\xef\\xbd\\xf7\\x1e\\x14E\\xc1s\\xcf=\\x87\\xbc\\xbc<L\\x9d:\\x15\\xed\\xda\\xb5S\\x8f\\x97\\x94\\x94\\x14\\x9c:u\\xcaj\\x193#}VOnfz\\xb7\\xe3\\xe3\\xe3\\x83\\xf1\\xe3\\xc7\\xe3\\xda\\xb5k\\xba\\xee\\x05\\xa0\\xe7:\\xc6\\xd5\\xb1\\xcf\\xacK\\x97.P\\x14\\x05\\xb3f\\xcdR\\xcb\\xea\\xf3:\\xda\\x1e\\xe6\\xe4\\x9c\\xb7\\xe5\\x83Z\\xe6\\xe46\\xe2\\x01iii\\xe2\\xe3\\xe3#\\x00l\\xbe^z\\xe9%\\xb5\\xee\\xca\\x95+\\x05\\x80\\xc4\\xc6\\xc6J\\xf3\\xe6\\xcdk\\xd4\\x05 \\x11\\x11\\x11r\\xf6\\xecY\\xabm\\xcc\\x9e=\\xbbF=\\x00\\x12\\x14\\x14$\\xe3\\xc7\\x8f\\x17\\x002z\\xf4h\\xabe\\x8cz\\xfb\\xed\\xb7\\x05\\x80\\x0c\\x180@\\x1b\\x92{\\xee\\xb9G\\xdd\\xf6\\xce\\x9d;\\xadb\\xff\\xfe\\xf7\\xbf\\x05\\x80\\x0c\\x192D\\xc4\\xe2\\xbd\\xde\\x7f\\xff\\xfd\"\"2m\\xda\\xb4\\x1a\\xf9\\x03\\x90\\xfd\\xfb\\xf7[\\xd5\\xd7\\xdb6\\xb6\\xe4\\xe4\\xe4\\x88\\x8f\\x8f\\x8f\\x98L&9s\\xe6\\x8c6,W\\xaf^\\x95\\xe0\\xe0`1\\x99Lr\\xea\\xd4)\\xb5\\xfc\\xb1\\xc7\\x1e\\xab\\xb1M\\xcbWhh\\xa8\\x9c8qB\\xad\\xaf}\\x8f\"\"+V\\xac\\x10\\x00\\x92\\x94\\x94\\xa4\\x96Y\\xb2\\x17\\xdf\\xb8q\\xa3\\x04\\x04\\x04\\xd4\\xd8\\xa6\\xf9\\xd5\\xabW/),,\\xb4Z\\xa66\\xe2\\xe2\\xe2\\x04\\x80dgg\\xcb\\x9e={$99Y\"##\\xc5\\xdf\\xdf_\\xbat\\xe9\"\\x8b\\x16-\\x92\\xd2\\xd2R\\xabe\\xe2\\xe3\\xe3\\x05\\x80\\xbc\\xfb\\xee\\xbbV\\xe5f\\x95\\x95\\x95\\xe2\\xeb\\xeb+\\x00\\xe4\\xe0\\xc1\\x83\\xda\\xb0]\\xaf\\xbd\\xf6\\x9a\\x00\\x90\\xa9S\\xa7\\x8a\\x88\\xc8\\xde\\xbd{\\x05\\xd5\\xfb[\\xcbS9\\xd8s\\xeb\\xad\\xb7\\xd6\\xd8\\x17\\x00d\\xc6\\x8c\\x19j\\x1dw\\xf4\\x1b[e\\x9f\\x7f\\xfe\\xb9\\xc3>1r\\xe4H\\xb5\\xae#\\xce\\x8e=\\x11\\x91\\xa5K\\x97:\\x1c\\xc7\\x12\\x13\\x13\\xa5\\xb8\\xb8\\xd8j\\xbd\\xf6\\x98\\xf7\\xe7\\x981c$$$\\xa4\\xc6\\xba\\x00\\xc8\\xf2\\xe5\\xcbe\\xe0\\xc0\\x815\\xca\\x01H\\xd7\\xae]\\xa5\\xbc\\xbc\\xdcj\\x9dz\\xda\\xd8\\x95\\xf7[\\x17\\xe3\\xb6-\\xcer3\\xba-w\\x8d\\x1f\\xae\\xf4w\\xbd}\\xe5\\x95W^\\x11\\x002v\\xecX\\xf5\\xd8\\x04 \\xdd\\xbau\\x93\\xaa\\xaa\\xaa\\x06\\xd1_\\xec\\xd1{\\x8c\\x1a\\xdd\\xbfz\\xdb\\xdc\\xdey\\xc6\\xccV\\xdc\\xd6\\x18$n\\xbe\\xfe0o\\xa3w\\xef\\xder\\xcb-\\xb7\\xd4X\\'\\xaa\\xfbjQQ\\x91\\xd5r\\xee\\xea\\xdf\"\"UUU\\xd2\\xb6m[A\\xf5\\xf9O\\xcbY\\x7f\\x15\\x83\\xf9\\xe8\\x19s\\xc4\\xc0>w\\xf7q\\xe4\\xee\\xf5\\x89\\x81v{\\xf7\\xddw\\x05\\xd5\\xc7Q\\xcb\\x96-k\\xd4\\x07 -Z\\xb4\\x90\\xdc\\xdc\\\\\\xab\\xed\\x18\\xe9\\xb3zs\\x13\\x83\\xdb\\x11\\x11\\xd9\\xbe}\\xbb\\x00\\x90\\xbb\\xee\\xbaK\\x1b\\xaa5=c\\x9fY\\xe7\\xce\\x9d\\x05\\x80\\xcc\\x9c9S-\\xab\\xcf\\xebh{\\x98S\\xcd\\x9cn\\xbf\\xfdv\\x01 \\xd7\\xae]\\x13\\xf1\\x82|l1\\x9a\\x93;\\xb9}\\x02`\\xd7\\xae]\\xea\\x00=n\\xdc8\\xc9\\xca\\xca\\x92\\xe2\\xe2b9}\\xfa\\xb4<\\xf5\\xd4S\\x02@L&\\x93\\xec\\xdb\\xb7O\\xc4\\xa2\\xc1P}\\x92_\\xb9r\\xa5\\x9c?\\x7f^\\xf2\\xf3\\xf3%==]\\xfc\\xfc\\xfc\\x04\\x80\\xfc\\xfd\\xef\\x7fW\\xb7\\xb1u\\xebVu\\x99\\xd9\\xb3gKNN\\x8e\\x94\\x95\\x95Ivv\\xb6\\xf4\\xed\\xdbW\\x8d\\xd9\\x1ad\\x8c\\xf8\\xfd\\xf7\\xdf\\xc5d2\\x89\\xbf\\xbf\\xbf\\xfc\\xf1\\xc7\\x1fj\\xf9\\xe5\\xcb\\x97\\xc5\\xc7\\xc7G}\\xbf\\xf3\\xe7\\xcf\\xb7Zn\\xc2\\x84\\t\\x02@V\\xadZ%b\\xa7s\\x14\\x16\\x16\\xaa\\xf9^\\xb9r\\xc5bicm\\xe3\\xc8\\xb0a\\xc3\\x04\\x80,\\\\\\xb8P\\x1b\\x92\\xf4\\xf4t\\x01 \\xf7\\xde{\\xafZ\\x96\\x91\\x91!\\x00\\xc4\\xcf\\xcfO\\x96/_.\\xb9\\xb9\\xb9RVV&yyy\\xb2u\\xebV\\x89\\x89\\x89\\x11\\x002w\\xee\\\\u\\x19[\\xef\\xd1\\xd6\\x85\\x95%[\\xf1#G\\x8eHpp\\xb0\\xf8\\xfa\\xfa\\xca\\xf3\\xcf?/\\x87\\x0e\\x1d\\x92k\\xd7\\xaeI~~\\xbedffJ\\xaf^\\xbd\\xdc\\xba\\x8fED\"\"\"\\x04\\x80\\xacX\\xb1B\\xfc\\xfd\\xfd\\xd5\\xb6\\xb7|\\xdds\\xcf=V\\x17b\\xed\\xdb\\xb7\\x17\\x00\\x92\\x91\\x91a\\xb5.K\\xcd\\x9a5\\x13\\x00\\xf2\\xc3\\x0f?hC6\\xfd\\xf2\\xcb/\\x12\\x18\\x18(\\x9d:uR\\xb7\\xe5h\\x02\\xc0\\x139\\xb8\\xc2\\xbcN\\xed\\x87\\x02w\\xf5\\x1b[ew\\xdey\\xa7\\xa0\\xfaB\\xf4\\xd0\\xa1CRZZ*\\x17/^\\x94\\xd7_\\x7f]\\xbd0\\xfd\\xee\\xbb\\xef\\xd4\\xfa\\x8e8:\\xf6\\xb6n\\xdd*\\x8a\\xa2\\x08\\x00\\x19:t\\xa8\\xec\\xde\\xbd[\\n\\x0b\\x0b\\xe5\\xd8\\xb1c2o\\xde<\\xb5\\x7fL\\x9a4\\xc9j9{\\xcc\\x17\\x8e\\xa8\\xfe\\xa0\\xf3\\xc9\\'\\x9fHAA\\x81\\x9c<yR\\x12\\x13\\x13\\x05\\x80(\\x8a\"\\x01\\x01\\x01\\xb2h\\xd1\"\\xc9\\xcd\\xcd\\x95\\xc2\\xc2BIKKS\\xf3\\xd8\\xb1c\\x87\\xba>#m\\xec\\xe8\\xfd\\xd6\\xc5\\xb8\\xed\\x88\\xa3\\xdc\\x8cl\\xcb\\x13\\xe3\\x87\\xbd\\xfen\\xa4\\xaf\\x98?P\\xa1z\\xcc=y\\xf2\\xa4\\xd5:\\xbd\\xbd\\xbf8\\xa2\\xf7\\x185\\xb2\\x7f\\x8d\\xb4\\xb9\\xad\\xf3\\x8c%[q[c\\x90\\xbb\\xaf?,\\xdf\\x7fdd\\xa4|\\xf8\\xe1\\x87RTT$999\\xf2\\xd6[oIpp\\xb0@3\\xe1\\xe4\\xee\\xfe}\\xf0\\xe0A\\x01 \\x81\\x81\\x81RVV\\xa6\\r;\\xed\\xafF\\xf2\\xd1;\\xe6\\x18\\xd9\\xe7\\xee>\\x8e\\xdc\\xbd>#\\xedf\\x9e\\x00\\x00 QQQ\\xf2\\xc1\\x07\\x1f\\xc8\\x95+W\\xe4\\xf2\\xe5\\xcb\\xb2j\\xd5*\\xf5xy\\xf6\\xd9g\\xd5e\\x8c\\xf4Y#\\xb9\\x19\\xd9\\x8eYaa\\xa1\\xf8\\xfa\\xfa\\x8a\\xc9d\\x92\\x0b\\x17.h\\xc3\\x86\\x19\\x19\\xfb\\x1c\\xa9\\xaf\\xebhG\\x98\\x93\\xe3\\t\\x00\\xa9\\xe7|\\xec\\xd1\\x9b\\x93\\xbb\\xb9}\\x02`\\xcc\\x981\\x02@\\x86\\r\\x1b\\xa6\\r\\x89\\x88\\xc8\\xf0\\xe1\\xc3\\xa5C\\x87\\x0e\\xb2n\\xdd:\\x11\\x8b\\x06S\\x14Ev\\xed\\xda\\xa5\\xad.S\\xa6L\\x11\\x00\\x92\\x9c\\x9c\\xac\\x96\\x99gWG\\x8c\\x18aUWD\\xa4\\xa8\\xa8H\"##\\x05v\\x06\\x19\\xa3z\\xf7\\xee-\\x00\\xe4\\xa3\\x8f>R\\xcb\\xd6\\xaf_/\\xa8>y\\xa1\\xfa\\xc3\\xa1Yyy\\xb9\\x84\\x87\\x87\\x8b\\xaf\\xaf\\xaf\\\\\\xbcxQ\\xc4N\\xe7pt\\x91e\\xa4m\\x1c1w\\xe8\\x9bo\\xbeY\\x1b\\x92\\xbb\\xef\\xbe[\\x00\\xc8\\xfa\\xf5\\xeb\\xd5\\xb2\\x05\\x0b\\x16HTT\\x94<\\xfd\\xf4\\xd3Vu\\xcd\\x96/_^\\xa3\\x9dm\\xbdG[\\x17V\\x96l\\xc5SRR\\x04\\x80,[\\xb6\\xcc\\xaa\\xaeYii\\xa9DDD\\x88\\xc9d\\x92s\\xe7\\xcei\\xc3\\x86\\x04\\x05\\x05\\t\\x00\\xf1\\xf7\\xf7\\x97\\x8e\\x1d;\\xca\\x96-[\\xe4\\xca\\x95+r\\xfa\\xf4iY\\xbe|\\xb9\\x04\\x06\\x06\\n\\x00\\x996m\\x9a\\xba\\x8cy\\x06\\xfe\\xeb\\xaf\\xbf\\xb6Z\\x97\\xa5V\\xadZ\\t\\x00\\xf9\\xea\\xab\\xaf\\xb4\\xa1\\x1a\\xae]\\xbb&]\\xbbv\\x15???\\xd9\\xbd{\\xb7Z\\xeeh\\x02\\xc0\\xdd9\\xb8\\xca\\xde\\x07\"w\\xf5\\x1b[e\\xe6A\\xd7\\xde\\xf1\\x10\\x1b\\x1b+\\xef\\xbc\\xf3\\x8e6d\\x93\\xa3c\\xcf|\\xbck\\xbf\\xad4\\xdb\\xb0a\\x83\\xa0\\xfa\\x02\\xf5\\xf4\\xe9\\xd3\\xdap\\r\\xe6\\x0bG\\x93\\xc9$G\\x8f\\x1e\\xb5\\x8aegg\\xaby,^\\xbc\\xd8*&\"\\xd2\\xa3G\\x0f\\x01 +W\\xaeT\\xcb\\x8c\\xb4\\xb1\\xa3\\xf7[\\x17\\xe3\\xb6#\\x8er3\\xb2-O\\x8c\\x1f\\xf6\\xfa\\xbb\\x91\\xbeb\\xfe@\\xe5\\xe7\\xe7\\'\\xe7\\xcf\\x9f\\xd7.\\xe2\\xf5\\xfd\\xc5\\x11\\xbd\\xc7\\xa8\\x91\\xfdk\\xa4\\xcdm\\x9dg,\\xd9\\x8a\\xdb\\x1a\\x83\\xdc}\\xfda\\xde\\x06\\xec\\x8c\\xcfiii\\x82\\xea\\x0f\\xe7W\\xaf^\\x15\\xf1@\\xff~\\xff\\xfd\\xf7\\x05\\x80$$$hC\".\\xf4W#\\xf9\\xe8\\x1ds\\x8c\\xecsw\\x1fG\\xee^\\x9f\\x91v\\xb3\\x9c\\x00\\xd8\\xbbw\\xafv\\x11\\x99<y\\xb2\\x00\\x90\\x87\\x1ezH-3\\xd2g\\x8d\\xe4fd;\\x96\\xcc\\xbf\\x80\\xd9\\xb2e\\x8b6d\\x98\\x91\\xb1\\xcf\\x91\\xfa\\xba\\x8ev\\x8499\\x9f\\x00\\xa8\\xcf|\\xec\\xd1\\x9b\\x93\\xbb\\xb9}\\x02\\xa0u\\xeb\\xd6\\x02@6o\\xde\\xac\\r\\xd9dn\\xb0\\xa8\\xa8(mH\\xc4\\xe2\\xe7\\xf7\\xfd\\xfa\\xf5\\x13\\x11\\x91\\xb2\\xb22\\xf5\\x83\\xd8\\xb7\\xdf~\\xab\\xad.\"\"/\\xbc\\xf0B\\x8d\\x1dS[\\xe6\\x9d=e\\xca\\x14\\xb5l\\xd2\\xa4I\\x02@~\\xf9\\xe5\\x17\\t\\x0b\\x0b\\x13___\\xf5\\x17\\x02_\\x7f\\xfd\\xb5\\x00\\x90A\\x83\\x06\\xa9\\xf5mu\\x0eG\\x17Yz\\xdb\\xc6\\x99\\xf2\\xf2ri\\xd3\\xa6\\x8d@\\xf3M\\xf0\\xe1\\xc3\\x87\\x05\\xd5\\x1f.\\xaf_\\xbfn\\xb5\\x8cYII\\x89\\xec\\xdc\\xb9S\\xd2\\xd3\\xd3e\\xce\\x9c9\\xd2\\xbf\\x7f\\x7f\\xf5\\x9b\\x89\\x07\\x1ex@\\xadg\\xeb=\\xda\\xba\\xb0\\xb2d+\\x1e\\x15\\x15\\xa5\\xb6\\x8b\\xb3\\x97\\xad\\x8b&#\\xcc?\\xe9\\xb3\\xf5sS\\x11\\x917\\xdf|SP}\\x11d\\xdeW\\xd1\\xd1\\xd1\\x02@>\\xfb\\xec3mu\\x95yb\\xc1\\x95o\\xdf\\x9f|\\xf2I\\x81\\x8d\\x9f>:\\x9a\\x00pw\\x0e\\xae\\xb2\\xf7\\x81\\xc8Rm\\xfa\\x8d\\xad2\\xf3O\\x93[\\xb6l)S\\xa7N\\x95\\r\\x1b6\\xc8\\xa5K\\x97\\xd4\\xb8\\x1e\\xf6\\x8e\\xbd\\x92\\x92\\x12\\xf5\\x9bJ\\xed\\x9f\\xf5X\\x8a\\x8d\\x8d\\x15\\x00\\xf2\\xde{\\xefiC5\\x98/\\x1c;w\\xee\\xac\\r\\xc9\\xe5\\xcb\\x97\\xd5<l]\\xd0%%%\\t\\x00Y\\xbat\\xa96$\\xa2\\xa3\\x8d\\xed\\xbd_\\xa9\\x83q\\xdb\\x19G\\xb9\\x19\\xd9\\x96\\'\\xc6\\x0f[\\xfd\\xddh_1\\x7f\\xa0\\xea\\xd5\\xab\\x97\\xb6\\xaaH\\x03\\xe8/\\x8e\\xe8=F\\xf5\\xee_\\xa3mn\\xeb<c\\xc9V\\\\;\\x06y\\xe2\\xfa\\xc3\\xbc\\x8d\\x9e={jC\"\"r\\xfd\\xfaui\\xd2\\xa4\\x89\\xc0b\\x8cww\\xff^\\xb0`\\x81\\xc0\\xc1\\xb7M\\xce\\xfa\\xab\\x91|\\xf4\\x8c9F\\xf7\\xb9\\xbb\\x8f#w\\xaf\\xcfH\\xbb\\x99\\'\\x00l}h\\x10\\x11y\\xfd\\xf5\\xd7\\x05\\x16\\x7f\\xb2j\\xb4\\xcf\\xea\\xcd\\xcd\\xe8v,\\xf5\\xef\\xdf_\\x00\\xc8\\xdbo\\xbf\\xad\\r\\xb9\\x85\\xabc\\x9f#\\xf5u\\x1d\\xed\\x08sr>\\x01P\\x9f\\xf9\\xd8S\\x9b\\x9c\\xdc\\xc1W{O\\x80\\xda(//W\\xef\\xe0\\xd9\\xb1cGm\\xd8\\xa1\\x9bn\\xbaI[\\x04\\x00\\x08\\x0e\\x0e\\x06\\x00TVV\\x02\\x00\\xf2\\xf3\\xf3\\xd5\\x1b\\xe2t\\xea\\xd4\\xc9\\xaa\\xaeY\\\\\\\\\\x9c\\xb6\\xa8\\xd6\\x92\\x93\\x93\\xf1\\xf4\\xd3O#33S}\\x04\\xdc\\xb6m\\xdb\\x10\\x15\\x15\\x85n\\xdd\\xbaa\\xc0\\x80\\x01\\xd8\\xb4i\\x13\\xbe\\xf9\\xe6\\x1b\\x0c\\x1f>\\\\\\xbd3\\xbb\\x9e\\x1b\\xca\\xd9\\xe3j\\xdb8\\xe3\\xeb\\xeb\\x8b\\xc9\\x93\\'c\\xe1\\xc2\\x85X\\xb3f\\rz\\xf6\\xec\\tT\\xdfT\\x06\\xd5\\x8f\\xb7\\xf2\\xf7\\xf7\\xb7Z&##\\x03K\\x96,AVV\\x96\\xddGB\\x99\\xdb\\xc3]\\xca\\xcb\\xcbq\\xf6\\xecYm\\xb1]\\xf6n\\xac\\xa3W\\xd3\\xa6MQ\\\\\\\\\\x8c\\x91#G\\xa2M\\x9b6\\xda0RRR0k\\xd6,\\x94\\x96\\x96\"++\\x0b\\x89\\x89\\x89\\x08\\r\\r\\x05\\x00\\x14\\x16\\x16j\\xab\\x03\\xd5\\xcf\\xd2\\xbev\\xed\\x1a\\x00 ,,L\\x1b\\xb6\\x92\\x99\\x99\\x89\\xb4\\xb44\\xf4\\xee\\xdd\\x1b\\x7f\\xfb\\xdb\\xdf\\xb4a\\xbb\\xdc\\x99\\x83\\xbbx\\xaa\\xdf,^\\xbc\\x18\\xc5\\xc5\\xc5X\\xb7n\\x1d\\xd2\\xd3\\xd3\\x91\\x9e\\x9e\\x0e\\x93\\xc9\\x84\\xee\\xdd\\xbbc\\xe0\\xc0\\x81\\x988q\\xa2z# \\xa3.\\\\\\xb8\\xa0\\xde\\xdc\\xa8s\\xe7\\xce\\xda\\xb0\\xaak\\xd7\\xae8q\\xe2\\x04\\xce\\x9d;\\xa7\\r\\xd9\\xd5\\xb6m[m\\x11\\xfc\\xfc\\xfc\\xd4\\xff7?\\xd6\\xc8R``\\xa0\\xb6\\x08pc\\x1b\\xd7\\xc5\\xb8\\xed\\x0e\\xaen\\xab.\\xc7\\x8f\\xda\\xf6\\x15[\\xe3\\x8c%o\\xec/\\xce\\x18=F]\\xdd\\xbf\\xb5m\\xf3\\xda\\xf0\\xe4\\xf5G\\xd7\\xae]\\xb5E\\x00\\x00\\x7f\\x7f\\x7f\\xc4\\xc6\\xc6\\xe2\\x97_~A^^\\x9eG\\xfawAA\\x01P}\\xb3GGl\\xf5W#\\xf9\\xe8\\x1dsj\\xbb\\xcf\\xddy\\x1c\\xc1M\\xeb3\\xd2n\\x96\\xec\\xdd\\x18\\xd8\\xbc\\x0f\\xcd\\xc7\\xb8\\x91>k$7#\\xdb\\xd1j\\xd1\\xa2\\x05P\\xfd\\x04$wr\\xe7\\xd8\\xe7\\x8d\\xd7\\xd1\\xcc\\xc99o\\xcb\\x07\\x06sr\\']O\\x01p\\xa6\\xb2\\xb2R\\xbd\\x0b\\xab\\xdeFq\\xf5\\xd1J&\\xd3\\xff\\xa5\\xec\\xebk{\\xfeB;\\xd0\\xbaCLL\\x0c\\x12\\x12\\x12\\x90\\x9b\\x9b\\x8b\\xfd\\xfb\\xf7\\xe3\\x97_~\\xc1\\xb9s\\xe70x\\xf0`\\xa0\\xfa\\x11l\\x00\\xf0\\xc5\\x17_\\x00\\xd5\\x1d\\xc7d2\\xb9|GaG\\\\m\\x1bW<\\xfa\\xe8\\xa30\\x99LX\\xbf~=JKKQYY\\x89\\xb5k\\xd7\\xaa1K\\xe9\\xe9\\xe9HJJ\\xc2\\xf7\\xdf\\x7f\\x8f\\xa6M\\x9bb\\xf0\\xe0\\xc1\\x98>}:RSS\\xb1c\\xc7\\x0e\\x9bOEp\\xc4\\xde\\x1dc\\xcd\\x8f\\xd72\\xb3\\xfc\\xd0\\xb0g\\xcf\\x1eT\\xffR\\xc5\\xeek\\xec\\xd8\\xb1V\\xcb\\x1be~v\\xac\\xad\\x8b\\x1cT\\xf7\\xb7\\xd6\\xad[\\x03\\x16\\x1f\\xb6;t\\xe8\\x00\\x008|\\xf8\\xb0U]3\\xf3\\x89\\xcc\\xc7\\xc7G}F\\xad=\\x1f|\\xf0\\x01D\\x04;w\\xee\\x84\\xaf\\xaf/\\x14EQ_\\t\\t\\t\\x00\\x80K\\x97.\\xa9e\\xe6\\xbb$\\xbb3\\x07wpw\\xbf\\xb1\\x14\\x1a\\x1a\\x8a\\xb5k\\xd7\\xe2\\xf8\\xf1\\xe3X\\xb1b\\x05\\x86\\r\\x1b\\x86f\\xcd\\x9aa\\xef\\xde\\xbdX\\xbe|9n\\xbd\\xf5V\\xbc\\xfb\\xee\\xbb\\xda\\xc5<\\xa2\\xa8\\xa8\\x08\\xa8\\xbe@wU\\xb3f\\xcd\\xb4EV|||\\xb4E6\\xb9\\xb3\\x8d\\xebb\\xdcv\\x07W\\xb7U_\\xe3\\x87#\\xf6\\xfa\\x8a\\xb3s\\x957\\xf6\\x17g\\x8c\\x1e\\xa3\\xae\\xee_W\\xd9ksW\\xcfC\\xb6x\\xf2\\xfaC\\x9b\\xa7%\\xf3\\xf1\\x19\\x10\\x10\\xe0\\x91\\xfe\\x1d\\x10\\x10\\x00Xl\\xc7\\x1e[\\xef\\xcdH>\\xb5\\x19s\\x1c\\xb1\\xb7\\xcf\\xddu\\x1c\\x99\\xb9c}F\\xda\\xcd\\x92\\xe5\\x84\\x83#F\\xfa\\xac\\x91\\xdc\\x8clG\\xcb\\xbc\\x0eW\\x8eEWyb\\xec\\xab\\xcf\\xebh{\\x98\\x93s\\xde\\x96\\x0ft\\xe6\\xe4n\\xb6\\x8fR\\x83\\x02\\x03\\x03\\x11\\x11\\x11\\x81K\\x97.\\xe1\\xd8\\xb1c\\x1ey\\x16gxx8\\x9a4i\\x82\\xa2\\xa2\"\\x1c8p\\x00\\xfd\\xfa\\xf5\\xd3V\\xc1\\xd1\\xa3G\\xb5En\\x91\\x94\\x94\\x84\\xbd{\\xf7\"33S=y\\x99\\x1f\\xe1p\\xdf}\\xf7\\x01\\x00\\xbe\\xfc\\xf2K\\xec\\xdb\\xb7\\x0f\\xa7N\\x9dB\\x9f>}\\xec\\xce\\xd2\\xd6\\x97\\x98\\x98\\x18\\x0c\\x1a4\\x08\\xdb\\xb7o\\xc7\\xb6m\\xdb\\x10\\x10\\x10\\x80\\xbc\\xbc<\\xf4\\xea\\xd5\\xab\\xc6\\xa3S^~\\xf9e\\x00\\xc0\\x13O<\\x81W_}\\xb5\\xc6Iu\\xdb\\xb6m\\x80\\x0b\\xdf\\xf2\\x99OT\\x97/_\\xd6\\x86\\x80\\xeaG?Y\\n\\x0c\\x0cDxx8\\xf2\\xf3\\xf3\\xb1g\\xcf\\x1e\\xf5\\xc3\\xaf\\xa7%$$`\\xf7\\xee\\xddv\\x1fuu\\xed\\xda5\\xe4\\xe4\\xe4\\x00\\x80:\\x11\\xd0\\xa3G\\x0fl\\xda\\xb4\\t\\xdf}\\xf7\\x9d\\xa6\\xf6\\x9fv\\xec\\xd8\\x01T?\\x96\\xc6\\xd9\\xc9\\xcf(o\\xc8\\xc1\\x92\\xbb\\xfa\\x8d#7\\xddt\\x13f\\xcc\\x98\\x81\\x193f@Dp\\xf0\\xe0A\\xbc\\xf4\\xd2K\\xf8\\xd7\\xbf\\xfe\\x859s\\xe6`\\xf2\\xe4\\xc9\\xdaE\\\\\\x16\\x19\\x19\\t___TTT\\xe0\\xf0\\xe1\\xc3\\xb8\\xe7\\x9e{\\xb4UPYY\\x89C\\x87\\x0e\\x01v\\xbe\\r\\xf24w\\xb6q]\\x8c\\xdbu\\xa9.\\xc7\\x8f\\x86\\xd0W\\xe0\\xe6\\xfe\\xe2*O\\x1d\\xa3F\\xdb\\\\\\xefy\\xc8\\x16O^\\x7f\\xd8{\\xd4ayy9N\\x9c8\\x01\\x00\\xb8\\xf1\\xc6\\x1b=\\xd2\\xbf\\xcd\\xd7)\\x97.]\\xd2\\x86\\x9c2\\x92\\x8f\\xde1\\xc7\\xe8>\\xf7fF\\xda\\xcd\\x08#}\\xd6HnF\\xb6\\xa3e>6\\xdd\\xf9KEO\\x8c}\\xf5q\\x1d\\xed\\x0csr\\xce\\xdb\\xf2\\x81\\xce\\x9c\\xdc\\xcd\\xad\\xbf\\x00\\x00\\x80A\\x83\\x06\\x01\\x00V\\xaf^\\xad\\r\\x01\\x00\\xe6\\xce\\x9d\\x8bV\\xadZa\\xe6\\xcc\\x99\\xda\\x90K|||\\xd4o\\xdd_}\\xf5Um\\x18\\xd7\\xaf_\\xc7\\xbau\\xeb\\xb4\\xc5na\\xfe6\\xff\\xd3O?\\xc5\\xf6\\xed\\xdb\\xa1(\\x8a\\x9a\\xcbM7\\xdd\\x84\\x0e\\x1d:\\xe0\\xd0\\xa1C\\xea\\xb3`]\\xf9\\xf9\\xbf\\xe5\\xac\\xa9;g=\\x1d\\x992e\\n\\x00\\xe0\\xc3\\x0f?\\xc4\\xfa\\xf5\\xeb\\x01\\x1b3M\\xc5\\xc5\\xc5\\xea\\x05\\xc9\\xe8\\xd1\\xa3kt\\xfe\\xc2\\xc2B|\\xf0\\xc1\\x07\\x00`\\xf7\\x19\\xc5f\\xe6\\xd9\\xf2\\x9c\\x9c\\x9c\\x1a\\xdf0\\x94\\x96\\x96b\\xd3\\xa6MVe\\x00\\xd4vM\\xb7\\xf3\\xac\\xd9S\\xa7N\\xe1\\x86\\x1bn@\\x97.]p\\xf2\\xe4Im\\xd8\\x90\\x11#F\\x00\\x00>\\xfa\\xe8#\\xec\\xdb\\xb7O\\x1b\\xc6?\\xfe\\xf1\\x0fTTT\\xa0y\\xf3\\xe6\\xb8\\xed\\xb6\\xdb\\x00\\x00\\xc3\\x87\\x0f\\x07\\xaa\\x7f\\xf9\\xb1\\x7f\\xff~\\xab\\xfa\\x15\\x15\\x15x\\xe3\\x8d7\\x00\\x8b\\xbe\\xe3\\xc8?\\xff\\xf9\\xcf\\x1a3\\xeb\\xe6\\xd7\\xde\\xbd{\\x01\\x00\\x11\\x11\\x11jY\\xef\\xde\\xbd\\x017\\xe7P[\\xee\\xec7Z\\'O\\x9eDBB\\x02\"##\\xd5g\\xb2\\x03\\x80\\xa2(\\x88\\x8b\\x8b\\xc3\\xdc\\xb9s\\x81\\xea\\x8bXW\\xd6m\\xef\\xd8\\x0b\\n\\nR\\x7f\\x8a\\x95\\x9a\\x9a\\xaa\\x96[Z\\xb3f\\r\\xf2\\xf2\\xf2\\xe0\\xe3\\xe3\\x83>}\\xfah\\xc3\\x1ee\\xb4\\x8d\\xed\\xbd_\\xd4\\xc1\\xb8\\xed\\x8c\\xa3\\xdc\\x8c\\xa8\\xab\\xf1\\xc3\\xdb\\xfb\\n<\\xd4_\\xecq\\xf71j\\x8b\\xd167r\\x1e\\xd2\\xf2\\xe4\\xf5\\xc7\\x97_~i\\xf3\\x03\\xd2;\\xef\\xbc\\x83\\x92\\x92\\x12\\xab\\xf3\\x8e\\xbb\\xfb\\xb7\\xf9Wo\\x17/^\\xd4\\x86\\\\b$\\x1f=c\\x8e\\xd1}\\xee\\xed\\x8c\\xb4\\x9b^F\\xfb\\xac\\xde\\xdc\\x8cn\\xc7\\x92\\xb9\\xff\\xd9\\xfbs \\xbd\\x8c\\x8e}\\xae\\xa8\\xeb\\xebhW0\\'\\xe7\\xbc-\\x1f\\xb8\\x98\\x93\\'\\xb8}\\x02\\xe0\\x99g\\x9e\\x81\\xaf\\xaf/6o\\xde\\x8cI\\x93&a\\xcf\\x9e=\\xb8v\\xed\\x1a\\xce\\x9e=\\x8b\\xd7^{\\rK\\x97.\\xc5\\xf9\\xf3\\xe7\\xd5\\x0f/F<\\xf7\\xdcs\\xea6\\x1e~\\xf8a\\x1c<x\\x10%%%\\xf8\\xe1\\x87\\x1f0h\\xd0 \\xbb?\\x85\\xae\\xad\\xf8\\xf8xt\\xec\\xd8\\x11?\\xfc\\xf0\\x03\\xbe\\xff\\xfe{t\\xeb\\xd6\\r-[\\xb6T\\xe3\\xf7\\xddw\\x1fD\\x04\\xe9\\xe9\\xe9P\\x14\\x05\\x0f=\\xf4\\x90\\xd5\\xf2\\xb6\\x04\\x07\\x07\\xab?\\xbf\\xfb\\xdf\\xff\\xfd_m\\xd8#\\x1e|\\xf0ADFFb\\xcb\\x96-\\xd8\\xb4i\\x13\\x9a6m\\x8aQ\\xa3FY\\xd5\\t\\x0e\\x0eV\\xff\\x1ek\\xee\\xdc\\xb9\\xd8\\xbf\\x7f?\\xae_\\xbf\\x8e\\x9c\\x9c\\x1c\\xac]\\xbb\\x16={\\xf6\\xc4\\xa9S\\xa7\\x80\\xea\\x81\\xdd\\x91\\x1e=z\\x00\\xd5\\x17^\\x8f?\\xfe8N\\x9f>\\x8d\\xe2\\xe2b|\\xf5\\xd5W\\x184h\\x90\\xcdo>\\x9e}\\xf6Y\\xf8\\xf9\\xf9a\\xf7\\xee\\xdd\\x988q\"\\xae\\\\\\xb9\\xa2\\xc6\\x8e\\x1f?\\x8e\\xe4\\xe4d\\\\\\xbdzM\\xf9\\x1f\\xdb\\x00\\x00 \\x00IDAT\\x15\\xadZ\\xb5r\\xdb\\xc9b\\xe0\\xc0\\x81\\xe8\\xd3\\xa7\\x0f\\xca\\xcb\\xcb1h\\xd0 \\xbc\\xff\\xfe\\xfb\\xb8x\\xf1\"\\xce\\x9c9\\x83\\x85\\x0b\\x17b\\xde\\xbcy\\x00\\x809s\\xe6\\xa8\\x03B\\xf7\\xee\\xddq\\xff\\xfd\\xf7\\xa3\\xaa\\xaa\\nIII\\xf8\\xfc\\xf3\\xcfQRR\\x82c\\xc7\\x8e\\xe1\\xe1\\x87\\x1f\\xc6O?\\xfd\\x84\\xd0\\xd0P\\xcc\\x981C\\xb35\\xf7\\xf1\\x86\\x1c\\xcc\\xdc\\xd9o\\xb4\\xa2\\xa3\\xa3q\\xf5\\xeaU\\\\\\xbcx\\x11\\xc3\\x87\\x0f\\xc7w\\xdf}\\x87\\xa2\\xa2\"\\x94\\x94\\x94`\\xd7\\xae]x\\xfc\\xf1\\xc7\\x81\\xea\\xf6p\\xe5\\x97\\x0e\\x8e\\x8e\\xbd\\xbf\\xfd\\xedoP\\x14\\x05\\x1b7n\\xc4_\\xfe\\xf2\\x17\\xfc\\xf8\\xe3\\x8f())\\xc1\\xb9s\\xe7\\xb0b\\xc5\\n\\xb5-\\'L\\x98\\xa0\\xfe\\x1a\\xa4\\xae\\x18mcG\\xef\\xb7.\\xc6mG\\x1c\\xe5fD]\\x8e\\x1f\\xde\\xdcW\\xe0\\xa1\\xfeb\\x8f\\xbb\\x8fQ{\\x8c\\xb4\\xb9\\x91\\xf3\\x90-\\x9e\\xba\\xfe(//\\xc7\\x80\\x01\\x03\\xf0\\xef\\x7f\\xff\\x1b\\x85\\x85\\x85\\xf8\\xed\\xb7\\xdf\\xf0\\xd2K/\\xe1\\xc9\\'\\x9f\\x04\\x00\\xcc\\x9e=[\\xdd\\x1f\\xee\\xee\\xdf={\\xf6\\x84\\xa2(8r\\xe4\\x08JJJ\\xb4a\\xa7\\x8c\\xe4\\xa3w\\xcc1\\xb2\\xcf\\xbd\\x9d\\x91v3\\xc2H\\x9f5\\x92\\x9b\\x91\\xed\\x98\\x95\\x95\\x95\\xa9\\xbf\\xe0p\\xe5\\x17\\x07\\xae0:\\xf6\\xb9\\xa2\\xae\\xaf\\xa3]\\xc1\\x9c\\x9c\\xf3\\xb6|\\xe0bN\\x1e\\xa1\\xbd+\\xa0;\\xbc\\xf1\\xc6\\x1bb2\\x99\\x046\\xee\\x16\\n@\\x1e{\\xec1\\xb5\\xae\\xb3\\xbb&\\xfe\\xf3\\x9f\\xff\\x14\\x00\\xd2\\xbbwo\\xab\\xf27\\xdf|\\xd3\\xe66\\x02\\x02\\x02\\xe4\\xf9\\xe7\\x9f\\x178\\xb8\\xd3hm\\xcc\\x993G\\xdd\\xd63\\xcf<c\\x153?\\xd2\\x01\\x80\\xdcu\\xd7]V1q\\xf0^o\\xbe\\xf9f\\xab\\xf7`~N\\xac\\xbd\\xfaf\\xf6\\xda\\xc6\\x15\\xcf<\\xf3\\x8c\\xba\\xbd\\xa9S\\xa7j\\xc3\"\\xd5\\xfb\\xd12/\\xcbWXX\\x98\\xbc\\xf8\\xe2\\x8b\\x02\\xcd\\x1dq\\xed\\xe5l~T\\xa2\\xf6\\xe5\\xe7\\xe7\\xa7\\xaeG{w\\xe65k\\xd6\\xa8\\xcf\\xf6\\xf5\\xf5\\xf5\\x95\\xf8\\xf8x\\xe9\\xda\\xb5\\xab\\xfa\\xec\\xe0\\x98\\x98\\x189u\\xea\\x94\\xd52\\xb5\\x95\\x9b\\x9b+\\xdd\\xbbw\\xaf\\x91\\xa7\\xf95b\\xc4\\x08\\xa9\\xa8\\xa8\\xa8\\xb1\\x8c\\xf9N\\xfc\\xda\\x97\\x9f\\x9f\\x9fdddX\\xd5\\x17\\x11\\xe9\\xdc\\xb9\\xb3\\x00\\x90\\x993gjC69z\\n\\x80\\x18\\xcc\\xa1\\xb6l\\xdd\\x15]\\xdc\\xd8ol\\x95}\\xf1\\xc5\\x17\\xea\\x13\\rl\\xbd\\xc2\\xc2\\xc2\\xe4\\xc7\\x1f\\x7fT\\xeb;c\\xef\\xd8\\x13\\x11y\\xf5\\xd5W\\xd5;O\\xdbz\\xddw\\xdf}R\\\\\\\\l\\xb5>{\\xccw\\x8f\\xb6\\xf5x$gw[\\x1f=z\\xb4@s\\xf7h#m,N\\xdeo]\\x8c\\xdb\\x8e\\xd8\\xcb\\xcd\\xe8\\xb6\\xdc=~\\xd8\\xeb\\xefb\\xa0\\xaf\\x98\\xef\\xaa>n\\xdc8\\xab\\xf5\\x985\\x84\\xfeb\\x8f\\xdec\\xd4\\xe8\\xfe\\xd5\\xdb\\xe6b\\xe0<d/7w^\\x7f\\x98\\xb71a\\xc2\\x04\\xe9\\xd8\\xb1c\\x8du\\xa2\\xba\\x9fTVVZ-\\xe7\\xee\\xfem~L\\xdd\\x97_~\\xa9\\r9\\xed\\xafb0\\x1f=c\\x8e\\x18\\xd8\\xe7\\xee>\\x8e\\xdc\\xbd>1\\xd0n\\xe6\\xa7\\x00\\x0c\\x1e<\\xd8j=f\\xf6\\x8e\\x17#}Vonbp;\"\"\\xbbw\\xef\\x16\\x00r\\xd3M7iC\\xb5bt\\xecs\\xe5\\x1a\\xad\\xae\\xaf\\xa3\\x99\\x93k9\\xd9z\\n\\x80\\xa5\\xba\\xce\\xc7]m\\xe4nn\\xff\\x05\\x00\\x00L\\x9f>\\x1d;w\\xee\\xc4\\xc8\\x91#\\xd1\\xbauk\\xf8\\xfb\\xfb#::\\x1a\\x0f>\\xf8 \\xb6m\\xdb\\xa6\\xfeD\\xbe6\\xa6M\\x9b\\x86\\x1d;v`\\xd8\\xb0ah\\xde\\xbc9\\x82\\x82\\x82\\xd0\\xaf_?|\\xf9\\xe5\\x97\\xb8\\xe3\\x8e;\\xb4\\xd5\\xdd&))I\\xfd\\x7f\\xf3\\xdf\\xff\\x9b\\r\\x180@\\xfdf\\xd8\\x95\\x9f\\xff\\x9b\\xad\\\\\\xb9\\x12\\xb7\\xddv\\x1b\\x82\\x82\\x82\\x10\\x1e\\x1e\\x8e\\x0b\\x17.h\\xab\\xb8]JJ\\n\\x14E\\x01\\x1c\\xfc\\xd4d\\xfa\\xf4\\xe9\\xd8\\xb0a\\x03\\xfa\\xf7\\xef\\x8f\\x96-[\"00\\x10qqqx\\xee\\xb9\\xe7p\\xf4\\xe8Q\\xcc\\x9f?\\x1f\\xcd\\x9a5\\xc3\\x91#G\\x1c\\xce\\xec\\xa2\\xfa\\xae\\x96\\xa9\\xa9\\xa9HHHP\\xdf\\xe7\\xf0\\xe1\\xc3\\xf1\\xfd\\xf7\\xdf\\xe3\\x81\\x07\\x1e\\xd0V\\x07\\xaag\\xf2\\x7f\\xfa\\xe9\\'<\\xfa\\xe8\\xa3h\\xd7\\xae\\x1d\\x8e\\x1d;\\x86\\xdf\\x7f\\xff\\x1d\\t\\t\\tX\\xbe|9~\\xf9\\xe5\\x17\\xdcx\\xe3\\x8d\\xda\\xc5j%**\\n\\xbbv\\xed\\xc2\\xb2e\\xcbp\\xdbm\\xb7!88\\x18!!!\\xe8\\xd9\\xb3\\'V\\xaf^\\x8d\\xf5\\xeb\\xd7\\xd7\\xb8\\xc1OTT\\x14\\xf6\\xee\\xdd\\x8bY\\xb3f!66\\x16\\xfe\\xfe\\xfeh\\xd5\\xaa\\x15F\\x8c\\x18\\x81\\x1f\\x7f\\xfcQ\\xfd\\x89\\xbe\\'yC\\x0ef\\xee\\xec7Z\\x83\\x06\\rR\\xfbD\\\\\\\\\\x1c\\xc2\\xc2\\xc2\\x10\\x1a\\x1a\\x8a\\xee\\xdd\\xbb\\xe3\\x89\\'\\x9e\\xc0/\\xbf\\xfc\\x82;\\xef\\xbcS\\xbb\\x98]\\x8e\\x8e\\xbdY\\xb3f!++\\x0b\\x13\\'NDtt4\\xfc\\xfc\\xfc\\x10\\x1e\\x1e\\x8e{\\xef\\xbd\\x17\\x1b6l@ff\\xa6z\\x87\\xf2\\xbaf\\xb4\\x8d\\x1d\\xbd\\xdf\\xba\\x18\\xb7\\x1dq\\x94\\x9b\\x11u9~xs_\\x81\\x87\\xfa\\x8b=\\xee>F\\xed1\\xd2\\xe6F\\xceC\\xb6x\\xe2\\xfa#44\\x14;v\\xec\\xc0\\xc3\\x0f?\\x8c\\xe6\\xcd\\x9b#$$\\x04\\xf7\\xdcs\\x0f>\\xf8\\xe0\\x03\\xac]\\xbb\\xd6\\xeaO2\\xe0\\x81\\xfem~\\xff_\\x7f\\xfd\\xb56\\xe4\\x12#\\xf9\\xe8\\x1ds\\x8c\\xecsog\\xa4\\xdd\\x8c0\\xd2g\\x8d\\xe4fd;\\xb0\\xf8\\x9b\\xea\\x87\\x1f~X\\x1b\\xaa\\x15\\xa3c\\x9f+\\xea\\xfa:\\xda\\x15\\xcc\\xc99o\\xcb\\x07.\\xe6\\xe4n\\x8a\\x88\\x1bo\\xc1JD.\\x1b<x0\\xfa\\xf4\\xe9\\x83\\xf9\\xf3\\xe7kCDDDu&//\\x0f\\xb1\\xb1\\xb1\\x88\\x8c\\x8cT\\xff\\xa6\\x9b\\xa8.\\x88\\x08:v\\xec\\x88\\xbc\\xbc<\\x1c?~\\xdc\\xee\\x93\\x98\\xc8;\\xaf\\x1b\\xbd-\\xa7;\\xee\\xb8\\x03\\xd9\\xd9\\xd9\\xb8v\\xedZ\\xad\\xfe\\xd4\\xcc\\x9d\\xbc\\xad\\x8d\\xe0\\x89{\\x00\\x10\\x91s\\x9f|\\xf2\\t\\xbe\\xfd\\xf6[\\xf5FHDDD\\xf5\\xa5M\\x9b6\\x984i\\x12\\xce\\x9c9\\xa3~\\x1bKT\\x17\\xbe\\xfe\\xfak\\x9c8q\\x02\\xd3\\xa6M\\xe3\\x87\\x7f\\x07\\xbc\\xf1\\xba\\xd1\\x1bs\\xf26\\xde\\xdaF\\xfc\\x05\\x00Q=x\\xf8\\xe1\\x87\\xd1\\xb3gO<\\xf5\\xd4S\\xda\\x10\\x11\\x11Q\\x9d;}\\xfa4\\xe2\\xe2\\xe2p\\xf7\\xddwc\\xfb\\xf6\\xed\\xda0\\x91G\\x0c\\x180\\x00{\\xf7\\xee\\xc5\\x91#G\\xacn\\xacM\\xd6\\xbc\\xf1\\xba\\xd1\\x1bs\\xf2\\xb6_\\x00xc\\x1b\\x81\\x13\\x00DDDD\\x04\\x00o\\xbc\\xf1\\x06f\\xcc\\x98\\x81O?\\xfd\\x14C\\x86\\x0c\\xd1\\x86\\x89\\xdcj\\xcb\\x96-\\x18>|8V\\xaf^\\x8dG\\x1eyD\\x1b&\\xd2\\xcd\\xdb&\\x00\\xbc\\x15\\'\\x00\\x88\\x88\\x88\\x88\\x08\"\\x82\\xbf\\xfc\\xe5/\\xf8\\xed\\xb7\\xdf\\xb0o\\xdf>\\xf8\\xfa\\xfaj\\xab\\x10\\xb9Eee%\\xbaw\\xef\\x8e6m\\xda`\\xdb\\xb6m\\xeaM\\xd0\\x88j\\x83\\x13\\x00\\xae\\xe1\\x04\\x00\\x11\\x11\\x11\\x11\\x11\\x11Q#\\xc0\\x9b\\x00\\x12\\x11\\x11\\x11\\x11\\x11\\x115\\x02\\x9c\\x00 \"\"\"\"\"\"j\\x048\\x01@DDDDDD\\xd4\\x08p\\x02\\x80\\x88\\x88\\x88\\x88\\x88\\x88\\xa8\\x11\\xe0\\x04\\x00\\x11\\x11\\x11\\x11\\x11\\x11Q#\\xc0\\t\\x00\"\"\"\"\"\"\\xa2F\\x80\\x13\\x00DDDDDDD\\x8d\\x80\\xc7\\'\\x00V\\xadZ\\x05EQ0d\\xc8\\x10m\\xa8\\xdehs\\xaa\\xa8\\xa8\\x80\\xa2(P\\x14\\x05\\xabV\\xad\\x02\\x00\\xb4k\\xd7\\x0e\\x8a\\xa2`\\xde\\xbcy\\x9a\\xa5kGDp\\xdf}\\xf7!..\\x0e\\x15\\x15\\x15\\x80\\x8d|\\xec\\x95\\xb9[]l\\xc3\\x99e\\xcb\\x96AQ\\x14\\x8c\\x193F\\x1b\\xf2\\x1a\\x7f\\xfc\\xf1\\x07\\xe6\\xcc\\x99\\x83\\x0e\\x1d:   \\x00-[\\xb6DRR\\x12v\\xed\\xda\\xa5\\xadj\\x88\\xb9O(\\x8a\\xa2\\rY1\\x92\\x87\\x91e\\xea\\x8b7\\xf4GWTTT\\xa0k\\xd7\\xae\\x18:t(DD\\x1bv\\xa8.\\xc7\\x1aO\\xf1\\xc6\\xfd\\xd4\\x90r\\xba\\xe3\\x8e;\\xa0(\\nJKK\\xad\\xca=\\xcd^>\\xf5\\xa9!\\xe4\\xe4\\xc9c\\xd6\\x93\\xeb&B\\x03\\xb9\\xc6\\xa2\\xfa\\xa3\\xed\\x1f\\rmLjh\\xf9z\\x13\\x8fO\\x00\\x90\\xb5\\xf4\\xf4t|\\xfe\\xf9\\xe7X\\xbat)|}}\\xb5a\\xafp\\xe4\\xc8\\x11$\\'\\'\\xe3\\xea\\xd5\\xab\\xda\\x90W\\xa8\\xcb\\xfc.\\\\\\xb8\\x80\\xdbo\\xbf\\x1dK\\x97.\\xc5\\x89\\x13\\'PVV\\x86\\x0b\\x17. ##\\x03}\\xfa\\xf4\\xc1\\x86\\r\\x1b\\xb4\\x8b\\xe8\"\"\\x985k\\x16>\\xff\\xfcsm\\xc8\\x8a\\x91<\\x8c,C\\xce\\xf9\\xfa\\xfab\\xc9\\x92%\\xc8\\xcc\\xccDzz\\xba6\\xec6u\\xd9\\xcf\\x89\\x88\\x88\\x88\\xa8q\\xe0\\x04\\x00\\xa0\\xce\\x1e\\x01\\x80\\xc9\\xf4g\\x93\\x98\\xffm\\xfe\\xaf;\\xe4\\xe5\\xe5a\\xf6\\xec\\xd9\\x184h\\x10\\x86\\x0e\\x1d\\xaa\\r[III\\x81\\x88 33S\\x1br\\x1b[\\xdb())A||<6m\\xdadU\\xd7[\\xd4u~S\\xa7N\\xc5\\xf1\\xe3\\xc7\\x11\\x1b\\x1b\\x8bo\\xbe\\xf9\\x06%%%8|\\xf80\\x92\\x93\\x93QQQ\\x81G\\x1ey\\x04\\xbf\\xff\\xfe\\xbbv1\\x97\\xe4\\xe7\\xe7c\\xd4\\xa8Q\\xf8\\xc7?\\xfe\\xa1\\r\\xd5`$\\x0f#\\xcb\\x90k\\x86\\x0e\\x1d\\x8aA\\x83\\x06\\xe1\\x99g\\x9eANN\\x8e6l\\x97\\xabcM]\\xf7s\"\\xb2\\xcd\\xd5c\\xd6\\x08O\\xae\\x9b\\x88H\\xaf\\x866&5\\xb4|\\xbd\\t\\'\\x00\\x00\\xf8\\xf8\\xf8\\xa0]\\xbbv\\x00\\x80\\xe8\\xe8h\\x00@LL\\x8c\\xd5\\xbf\\xdd\\xe1\\x95W^Aaa!^|\\xf1Em\\xc8kTUU\\xa1\\xbc\\xbc\\\\[\\xec5\\xea2\\xbf_\\x7f\\xfd\\x15\\x19\\x19\\x19\\xf0\\xf1\\xf1\\xc1\\xe6\\xcd\\x9b\\xd1\\xaf_?\\x04\\x05\\x05\\xe1\\xe6\\x9bo\\xc6\\xfa\\xf5\\xeb\\x91\\x90\\x90\\x80\\xe2\\xe2b\\xa4\\xa5\\xa5i\\x17u\\xa8\\xb4\\xb4\\x14\\xaf\\xbf\\xfe:\\xe2\\xe2\\xe2\\xb0y\\xf3f,Y\\xb2D[\\xc5\\x8a\\x91<\\x8c,C\\xfa\\xcc\\x9c9\\x13EEEN\\xf7\\x9f%W\\xc7\\x9a\\xba\\xec\\xe7Dd\\x9f\\xab\\xc7\\xac\\x11\\x9e\\\\7\\x11\\x91^\\rmLjh\\xf9z\\x13N\\x00T\\xeb\\xd6\\xad\\x1b\\x00\\xa0K\\x97.\\x00\\x80\\xf8\\xf8x\\xab\\x7f\\xd7Vnn.V\\xae\\\\\\x89\\x8e\\x1d;\\xa2O\\x9f>\\xda0y\\xa1\\x8c\\x8c\\x0c\\x00\\xc0\\xbd\\xf7\\xde\\x8b[n\\xb9\\xc5*\\xe6\\xe7\\xe7\\x87\\'\\x9f|\\x12\\x00\\xb0y\\xf3f\\xab\\x983\\x9b6m\\xc2_\\xff\\xfaW\\xf8\\xf8\\xf8\\xe0\\xb3\\xcf>s\\xfa\\xb7yF\\xf20\\xb2\\x0c\\xe93d\\xc8\\x10\\xb4m\\xdb\\x16\\xabW\\xaf\\xc6\\xf9\\xf3\\xe7\\xb5a\\xbb<=\\xd6\\x10\\x91{y\\xf2\\x98\\xf5\\xe4\\xba\\x89\\x88\\xf4jhcRC\\xcb\\xd7[\\x18\\x9a\\x00\\xc8\\xc8\\xc8\\xc0\\x83\\x0f>\\x88\\xce\\x9d;#$$\\x04M\\x9b6Ell,RRRp\\xe4\\xc8\\x11mu\\x97-X\\xb0\\x00\\x8a\\xa2 11Q\\x1bR\\x8d\\x1b7\\x0e\\x8a\\xa2`\\xfe\\xfc\\xf9V\\xe5\\xb5\\xcd)>>\\x1eaaa\\x88\\x8a\\x8aR\\xff\\r\\xa0\\xc6\\x87\\'\\xa3\\xd2\\xd2\\xd2p\\xfd\\xfauL\\x9e<\\xd9\\xa5\\x9f\\xa5hoD\\x04\\x00\\xa9\\xa9\\xa9P\\x14\\x05\\xcb\\x96-\\xc3\\x81\\x03\\x07\\xf0\\xd0C\\x0f!\"\"\\x02AAA\\x88\\x8f\\x8f\\xc7[o\\xbd\\x05\\x00(++\\xc3\\x82\\x05\\x0b\\xd0\\xa9S\\'\\x04\\x05\\x05!66\\x16\\xe3\\xc7\\x8fG^^\\x9e\\xc5\\x16jn\\xe3\\xf1\\xc7\\x1fG\\xd3\\xa6M\\xd5\\xf8\\r7\\xdc\\x00EQ\\xf0\\xeb\\xaf\\xbfZ,\\x05\\x1c<x\\x10\\x8f<\\xf2\\x08\\xda\\xb7o\\x8f\\x80\\x80\\x00DDD`\\xc0\\x80\\x01HOOWol\\xa8\\xb5q\\xe3F\\xf4\\xef\\xdf\\x1f\\xa1\\xa1\\xa1\\x08\\t\\tAbb\"\\xb2\\xb3\\xb3\\xb5\\xd5\\x1cr5\\xbf\\xac\\xac,\\x8c\\x1d;\\x16m\\xdb\\xb6\\x85\\x9f\\x9f\\x1f\\x9a7o\\x8e\\x81\\x03\\x07b\\xed\\xda\\xb5\\xa8\\xaa\\xaa\\xb2\\xaa\\xeb\\xc8O?\\xfd\\x04\\x00v\\'lz\\xf7\\xee\\r\\x008p\\xe0\\x80\\xae\\x1bz\\x05\\x05\\x05\\xe1\\x85\\x17^\\xc0\\xd1\\xa3G\\xd1\\xbf\\x7f\\x7fm\\xb8\\x06#y\\x18Y\\xc6\\x9e\\xfa<.\\xd3\\xd2\\xd2\\xa0(\\n\\x92\\x93\\x93\\xb5!\\xc0I\\\\o?\\xfd\\xf9\\xe7\\x9f1j\\xd4(\\xf5\\xb8i\\xd3\\xa6\\rz\\xf7\\xee\\x8d7\\xdf|\\xd3f}\\x1f\\x1f\\x1f\\x8c\\x1f?\\x1e\\xd7\\xae]\\xd3u/\\x00gc\\x8d+\\xfd\\xbcK\\x97.P\\x14\\x05\\xb3f\\xcdR\\xcb\\xeas?\\xd9\\xc3\\x9c\\x9c\\xf3\\xb6|\\xc0\\x9cjpv\\xcc\\xd6\\x86\\xab\\xeb\\xd6;>\\xd9\\x1a#,eggc\\xfc\\xf8\\xf1h\\xd7\\xae\\x1d\\x02\\x03\\x03\\xd1\\xbe}{$\\'\\'c\\xe7\\xce\\x9d\\xda\\xaa\\x80\\xce\\xf3\\xaa\\xbb\\xafU\\xde{\\xef=(\\x8a\\x82\\xd9\\xb3g\\xe3\\xd2\\xa5K\\x98<y2\"##\\x11\\x14\\x14\\x84\\xb8\\xb88,\\\\\\xb8\\x10%%%V\\xcb,Z\\xb4H\\xcd\\xe1\\xe3\\x8f?FLL\\x0cBBB\\xd0\\xb7o_\\xe4\\xe6\\xe6\\xaa\\xf5<}\\x9e\\xd0[\\x1f\\x06r\\x82\\x9b\\xae\\xb1,\\xb1\\x7f\\xfcI\\xef\\xbe\\xd0\\xbb\\xbf\\xf5\\xd6\\x87\\x81\\x9c\\xa0\\xb3\\x7f\\xb8:&9\\xa3\\xa7O\\xb8\\xba?l\\xd1\\x93\\xaf\\xde\\xb6\\xab\\xcfq\\xd4\\xe3D\\xa7\\xc7\\x1e{L\\x00\\xd8}\\x85\\x86\\x86\\xca\\x89\\x13\\'\\xd4\\xfa+W\\xae\\x14\\x00r\\xff\\xfd\\xf7[\\xad\\xc7\\x96\\x9c\\x9c\\x1c\\xf1\\xf1\\xf1\\x11\\x93\\xc9$g\\xce\\x9c\\xd1\\x86\\xe5\\xea\\xd5\\xab\\x12\\x1c\\x1c,&\\x93IN\\x9d:\\xa5\\x96{2\\'w\\xa8\\xaa\\xaa\\x92\\xb6m\\xdb\\n\\x00\\xc9\\xce\\xce\\xd6\\x86m\\xe6c\\xab\\xec\\xb5\\xd7^\\x13\\x002f\\xcc\\x18\\t\\t\\t\\xa9\\xf1>\\x01\\xc8\\xf2\\xe5\\xcbe\\xe0\\xc0\\x815\\xca\\x01H\\xd7\\xae]\\xa5\\xbc\\xbc\\xdc\\xee6\\xa6M\\x9bVc\\x19\\x00\\xb2\\x7f\\xff~u\\x99\\x8d\\x1b7J@@@\\x8d:\\xe6W\\xaf^\\xbd\\xa4\\xb0\\xb0P\\xad/\"2{\\xf6\\xec\\x1a\\xf5\\x00HPP\\x90\\x8c\\x1f?^\\x00\\xc8\\xe8\\xd1\\xa3\\xad\\x96\\xb1\\xc5\\x95\\xfc\\x96.]*>>>5\\xea\\x98_\\x89\\x89\\x89R\\\\\\\\l\\xb5^{\\xe2\\xe3\\xe3\\x05\\x80\\xbc\\xfb\\xee\\xbb\\xda\\x90\\x88\\x88TVV\\x8a\\xaf\\xaf\\xaf\\x00\\x90\\x83\\x07\\x0fj\\xc3.\\xcb\\xc9\\xc9Q\\xf3\\xb3\\xc5H\\x1eF\\x96\\xb1\\xa7>\\x8f\\xcb\\x15+V\\x08\\x00IJJR\\xcb,\\xd9\\x8b\\xeb\\xed\\xa7\\x9f\\x7f\\xfe\\xb9\\xc3\\xfa#G\\x8e\\xb4Z\\xbf\\xd9\\xf6\\xed\\xdb\\x05\\x80\\xdcu\\xd7]\\xda\\x90a\\xae\\xf4\\xf3\\xce\\x9d;\\x0b\\x00\\x999s\\xa6ZV\\x9f\\xfb\\xc9\\x1e\\xe6T3\\xa7\\xdbo\\xbf]\\x00\\xc8\\xb5k\\xd7D\\xbc \\x1f[\\x98\\x93k9\\xd5\\x15#\\xe3\\x93\\xad1\\xc2,--\\xcd\\xe1y\\xf2\\xa5\\x97^\\xb2\\xaa\\xaf\\xf7\\xbc\\xea\\xeek\\x95w\\xdf}W\\x00\\xc8\\xf4\\xe9\\xd3%..\\xaeF}\\x00r\\xe7\\x9dwJAA\\x81\\xba\\xcc+\\xaf\\xbc\"\\x00d\\xec\\xd8\\xb1\\xea\\xb9\\x0e\\x80t\\xeb\\xd6M\\xaa\\xaa\\xaaD\\xea\\xe0<\\xa1\\xb7\\xbe\\x18\\xc8I\\xdcx\\x8de\\xc6\\xfe\\xc1\\xfeQ[z\\xfb\\x84+\\xfb\\xa3\\xb6\\x8c\\xb4]}\\x8e\\xa3\\x9ef\\xfb\\x13\\x87\\x1d\\x19\\x19\\x19\\x02@\\xfc\\xfc\\xfcd\\xf9\\xf2\\xe5\\x92\\x9b\\x9b+eee\\x92\\x97\\x97\\'[\\xb7n\\x95\\x98\\x98\\x18\\x01 s\\xe7\\xceU\\x97\\xd1{2\\x1d6l\\x98\\x00\\x90\\x85\\x0b\\x17jC\\x92\\x9e\\x9e.\\x00\\xe4\\xde{\\xefU\\xcb\\xea\"\\xa7\\xda:x\\xf0\\xa0\\x00\\x90\\xc0\\xc0@)++\\xd3\\x86m\\xe6c\\xab\\xcc<h\\x02\\x90\\xd8\\xd8X\\xf9\\xe4\\x93O\\xa4\\xa0\\xa0@N\\x9e<)\\x89\\x89\\x89\\x02@\\x14E\\x91\\x80\\x80\\x00Y\\xb4h\\x91\\xe4\\xe6\\xe6Jaa\\xa1\\xa4\\xa5\\xa5\\x89\\xa2(\\x02@v\\xec\\xd8\\xe1p\\x1b\\x85\\x85\\x85\\xea6\\xae\\\\\\xb9\\xa2\\x96\\x8b\\x88\\x1c9rD\\x82\\x83\\x83\\xc5\\xd7\\xd7W\\x9e\\x7f\\xfey9t\\xe8\\x90\\\\\\xbbvM\\xf2\\xf3\\xf3%33Sz\\xf5\\xea%\\xd0\\x0c$[\\xb7nU\\xd77{\\xf6l\\xc9\\xc9\\xc9\\x91\\xb2\\xb22\\xc9\\xce\\xce\\x96\\xbe}\\xfb\\xaa1W\\x07\\x1fG\\xf9m\\xdd\\xbaU}\\x9fC\\x87\\x0e\\x95\\xdd\\xbbwKaa\\xa1\\x1c;vL\\xe6\\xcd\\x9b\\'\\xfe\\xfe\\xfe\\x02@&M\\x9ad\\xb5\\x9c=\\xed\\xdb\\xb7\\x17\\x00\\x92\\x91\\x91\\xa1\\r\\xa9\\x9a5k&\\x00\\xe4\\x87\\x1f~\\xd0\\x86\\\\\\xe6l\\x02\\xc0H\\x1eF\\x96q\\xa4\\xbe\\x8eK{\\x1f\\xf0\\xcdl\\xc5\\x8d\\xf4\\xd3;\\xef\\xbcSP}\\xf29t\\xe8\\x90\\x94\\x96\\x96\\xca\\xc5\\x8b\\x17\\xe5\\xf5\\xd7_WOF\\xdf}\\xf7\\x9dZ\\xdf\\xac\\xb0\\xb0P|}}\\xc5d2\\xc9\\x85\\x0b\\x17\\xb4a\\xc3\\x1c\\xf5sG\\xeak?9\\xc2\\x9c\\x1cO\\x00H=\\xe7c\\x0fsr-\\xa7\\xba`t|\\xb2e\\xd7\\xae]\\xeaE\\xe8\\xb8q\\xe3$++K\\x8a\\x8b\\x8b\\xe5\\xf4\\xe9\\xd3\\xf2\\xd4SO\\t\\x001\\x99L\\xb2o\\xdf>\\x11\\x83\\xe7Uw_\\xab\\x98?\\xe0\\x05\\x07\\x07K\\xb3f\\xcdd\\xed\\xda\\xb5RPP g\\xcf\\x9e\\x95\\xd4\\xd4T\\t\\x0c\\x0c\\x14\\x00\\xf2\\xf8\\xe3\\x8f\\xab\\xcb\\x98?P\\xa0\\xbaO\\x9c<yR\\x8dI\\x1d\\x9d\\'\\xf4\\xd67\\x92\\x93\\xbb\\xaf\\xb1\\xd8?\\xfedd_\\xe8\\xdd\\xdfz\\xeb\\x1b\\xc9\\xc9\\xdd\\xfd\\xc3\\x15F\\xfa\\x84\\xb3\\xfdQ[F\\xda\\xce\\x91\\xba8N<\\xcd\\xf6\\'\\x0e;\\x16,X QQQ\\xf2\\xf4\\xd3OkC\"\"\\xb2|\\xf9\\xf2\\x1a\\r\\xa8\\xf7dj>a\\xdf|\\xf3\\xcd\\xda\\x90\\xdc}\\xf7\\xdd\\x02@\\xd6\\xaf_\\xaf\\x96\\xd5EN\\xb5\\xf5\\xfe\\xfb\\xef\\x0b\\x00IHH\\xd0\\x86D\\xec\\xe4c\\xab\\xcc<h\\x9aL&9z\\xf4\\xa8Z.\"\\x92\\x9d\\x9d-\\xa8>x\\x16/^l\\x15\\x13\\x11\\xe9\\xd1\\xa3\\x87\\x00\\x90\\x95+W\\xaae\\xb6\\xb6\\xe1\\xe8\\x83GJJ\\x8a\\x00\\x90e\\xcb\\x96Y\\x95\\x9b\\x95\\x96\\x96JDD\\x84\\x98L&9w\\xee\\x9c\\x88\\x88:\\x83;b\\xc4\\x08mu)**\\x92\\xc8\\xc8\\xc8\\x1a\\xfb\\xc7\\x11G\\xf9\\xf5\\xee\\xdd[`g\\xd6TDd\\xc3\\x86\\rj\\xfb\\x9d>}Z\\x1b\\xae\\xa1e\\xcb\\x96\\x02@\\xbe\\xfe\\xfakmH\\xd5\\xaaU+\\x01 _}\\xf5\\x956\\xe42g\\x13\\x00F\\xf20\\xb2\\x8c#\\xf5u\\\\\\xda\\xfa\\x80o\\xc9V\\xdcH?5\\x7f\\x10\\xd8\\xb5k\\x97\\xb6\\xbaL\\x992Ebcc\\xe5\\x9dw\\xde\\xd1\\x86DD\\xe4\\x96[n\\x11\\x00\\xb2e\\xcb\\x16m\\xc80G\\xfd\\xdc\\x91\\xfa\\xdaO\\x8e0\\'\\xe7\\x13\\x00\\xf5\\x99\\x8f=\\xcc\\xc9\\xb5\\x9c\\xeaBm\\xc6\\'\\xad1c\\xc6\\x08\\x00\\x196l\\x986$\"\"\\xc3\\x87\\x0f\\x97\\x0e\\x1d:\\xc8\\xbau\\xebD\\x0c\\x9eW\\xdd}\\xadb\\xfe\\x80\\x07;\\x93\\xda\\xeb\\xd7\\xaf\\x17\\x00\\x12\\x10\\x10 \\xf9\\xf9\\xf9\"\\x16\\x1f(\\xfc\\xfc\\xfc\\xe4\\xfc\\xf9\\xf3\\xdaE\\xea\\xe4<\\xa1\\xb7\\xbe\\x91\\x9c\\xdc}\\x8d\\xc5\\xfe\\xf1\\'#\\xfbB\\xef\\xfe\\xd6[\\xdfHN\\xee\\xee\\x1f\\xae0\\xd2\\'\\x9c\\xed\\x8f\\xda2\\xd2v\\x8e\\xd4\\xc5q\\xe2i\\xb6?q\\xb8\\xa0\\xa4\\xa4Dv\\xee\\xdc)\\xe9\\xe9\\xe92g\\xce\\x1c\\xe9\\xdf\\xbf\\xbf\\x04\\x07\\x07\\x0b\\x00y\\xe0\\x81\\x07\\xd4zzO\\xa6\\xe5\\xe5\\xe5\\xd2\\xa6M\\x1b\\x81\\xe6\\x9b\\xc9\\xc3\\x87\\x0f\\x0b\\x00\\x89\\x88\\x88\\x90\\xeb\\xd7\\xaf[-c\\xe6\\xa9\\x9cjk\\xc1\\x82\\x05\\x02\\xcd7\\x13\\x96l\\xe5c\\xab\\xcc<hv\\xee\\xdcY-3\\xbb|\\xf9\\xb2\\xa0z\\x00\\xdc\\xbbw\\xaf6,III\\x02@\\x96.]\\xaa\\x96\\xd9\\xda\\x86\\xa3\\x0f\\x1eQQQj\\xcc\\xd9\\xeb\\xab\\xaf\\xbe\\x92\\xb2\\xb22u\\xe6\\xf5\\xdbo\\xbf\\xb5Z\\x97\\xd9\\x0b/\\xbc \\xd01\\xf8\\xd8\\xcb\\xaf\\xa4\\xa4D\\x9d1\\xdd\\xb9s\\xa7\\xd52\\x96bcc\\x05\\x80\\xbc\\xf7\\xde{\\xdaP\\r\\xd1\\xd1\\xd1\\x02@>\\xfb\\xec3mH\\x15\\x14\\x14$p\\xf1[t{\\x9cM\\x00\\x18\\xc9\\xc3\\xc82\\x8e\\xd4\\xd7qi\\xeb\\x03\\xbe%[q\\xbd\\xfdT,~v\\xdf\\xb2eK\\x99:u\\xaal\\xd8\\xb0A.]\\xbad\\xb1%\\xfb\\xfa\\xf7\\xef/\\x00\\xe4\\xed\\xb7\\xdf\\xd6\\x86\\x0c\\xb3\\xd7\\xcf\\x9d\\xa9\\xaf\\xfd\\xe4\\x08sr>\\x01P\\x9f\\xf9\\xd8\\xc3\\x9c\\\\\\xcb\\xa9.\\xd4f|\\xd2j\\xdd\\xba\\xb5\\x00\\x90\\xcd\\x9b7kC5\\x18=\\xaf\\xba\\xfbZ\\xc5\\xfc\\x01\\xafG\\x8f\\x1eVu\\xcd\\xaa\\xaa\\xaa$<<\\\\`1\\x11k\\xfe@\\xd1\\xabW/mu\\x91::O\\xe8\\xad\\xaf7\\'O\\\\c\\xb1\\x7f\\xfcI\\xef\\xbe\\x10\\x03\\xfb[o}\\xbd9y\\xa2\\x7f8c\\xb4O8\\xdb\\x1f\\xb5\\xa5\\xb7\\xed\\x9c\\xa9\\x8b\\xe3\\xc4\\xd3|\\xb5\\xf7\\x04p&##\\x03K\\x96,AVV\\x96\\xdd\\xc7T\\x89\\x88\\xb6\\xc8e\\xbe\\xbe\\xbe\\x98<y2\\x16.\\\\\\x885k\\xd6\\xa0g\\xcf\\x9e@\\xf5M>\\x00`\\xc2\\x84\\t\\xf0\\xf7\\xf7\\xb7Z\\xc6\\xd39\\xd5VAA\\x01P}3/wh\\xdb\\xb6\\xad\\xb6\\x08~~~\\xea\\xff\\x9b\\x1f\\x89a)00P[\\xa4Kyy9\\xce\\x9e=\\xab-\\xb6+//\\x0f\\xf9\\xf9\\xf9\\xea\\r\\xe6:u\\xea\\xa4\\xad\\x02\\x00\\x88\\x8b\\x8b\\xd3\\x16\\x19r\\xe1\\xc2\\x05\\xf5\\x06\\x1e\\x9d;w\\xd6\\x86U]\\xbbv\\xc5\\x89\\x13\\'p\\xee\\xdc9m\\xa8\\x86\\xd0\\xd0P\\x00@aa\\xa16\\x04T?\\xab\\xfd\\xda\\xb5k\\x00\\x80\\xb0\\xb00\\xec\\xda\\xb5\\x0bw\\xdf}\\xb7\\xb6\\x1a\\x00\\xe0\\x87\\x1f~P\\xfb\\xb2^z\\xf3\\x80\\xc1e\\x1ci(\\xc7\\xa5\\x91~\\n\\x00\\x8b\\x17/Fqq1\\xd6\\xad[\\x87\\xf4\\xf4t\\xa4\\xa7\\xa7\\xc3d2\\xa1{\\xf7\\xee\\x188p &N\\x9c\\xa8\\xdeXF\\xabE\\x8b\\x16\\x00\\xe0R\\x9f\\xf24o\\xdcO\\xcc\\xc99o\\xcb\\x07\\xcc\\xc9\\xab\\xd4f|\\xb2T^^\\xae>\\xb1\\xa4c\\xc7\\x8e\\xdap\\r\\xb5=\\xaf\\xba\\xfbZ\\xe5\\xd6[o\\xd5\\x16\\x01\\xd5\\xcf\\xfb\\xee\\xd8\\xb1#\\xf2\\xf3\\xf3k\\xdc0\\xacM\\x9b6V\\xffF\\x1d\\x9e\\'\\xf4\\xd47\\x92\\x93\\xbb\\xaf\\xb1\\xd8?\\xfedd_@\\xe7\\xfe\\xd6[\\xdfHN\\xee\\xee\\x1f\\xae\\xa8m\\x9f\\xb0\\xb5?j\\xcbH\\xdb9R\\xd7\\xc7\\x89\\xa7\\xe8z\\n@zz:\\x92\\x92\\x92\\xf0\\xfd\\xf7\\xdf\\xa3i\\xd3\\xa6\\x18<x0\\xa6O\\x9f\\x8e\\xd4\\xd4T\\xec\\xd8\\xb1\\x03\\xcb\\x96-\\xd3.b\\xc8\\xa3\\x8f>\\n\\x93\\xc9\\x84\\xf5\\xeb\\xd7\\xa3\\xb4\\xb4\\x14\\x95\\x95\\x95X\\xbbv\\xad\\x1a\\xb3TW9\\xd5F@@\\x00P\\xfdlowh\\xd6\\xac\\x99\\xb6\\xc8\\x8a\\x8f\\x8f\\x8f\\xb6\\xa8\\xd6*++\\xd5\\xff\\xdf\\xb3g\\x0f\\xaa\\x7f=b\\xf75v\\xecX\\x98L\\xff\\xd7\\xbd|}m\\xcf59\\x1a\\xcc=\\xa1\\xa8\\xa8\\x08\\x00j\\\\$\\xda\\xd2\\xa1C\\x07\\x00\\xc0\\xe1\\xc3\\x87\\xb5!\\xc0\\xe2\\x03\\x9f\\x8f\\x8f\\x8f\\xfa\\xdcQO0\\x92\\x87\\x91e\\x9c\\xa9\\xcf\\xe3\\xd2\\xd6\\xddYQ}\\x97`KF\\xfa)\\xaa\\'L\\xd6\\xae]\\x8b\\xe3\\xc7\\x8fc\\xc5\\x8a\\x15\\x186l\\x18\\x9a5k\\x86\\xbd{\\xf7b\\xf9\\xf2\\xe5\\xb8\\xf5\\xd6[\\xf1\\xee\\xbb\\xefZl\\xe9\\xff\\x98\\xfb\\xb96\\x97\\xfaR\\x9f\\xfb\\xc9\\x1e\\xe6\\xe4\\x9c\\xb7\\xe5\\x03\\xe6\\xe45j3>Y\\xaa\\xac\\xacT\\xafC\\xc4\\x8d\\x93\\x1e\\xf6\\xce\\xab\\xee\\xbeV1_K\\xd9b>Gh\\xaf5l]c\\xd4\\xd5yBO}#9\\xb9\\xfb\\x1a\\x8b\\xfd\\xe3OF\\xf6\\x05t\\xeeo\\xbd\\xf5\\x8d\\xe4\\xe4\\xee\\xfe\\xe1N\\xf6\\xfa\\x84\\'\\xf21\\xd2v\\x8e\\xd4\\xf5q\\xe2)\\xba&\\x00^~\\xf9e\\x00\\xc0\\x13O<\\x81s\\xe7\\xcea\\xfb\\xf6\\xedx\\xe3\\x8d7\\xf0\\xd7\\xbf\\xfe\\x15}\\xfa\\xf4\\xc1\\x95+W\\x00Mc\\x1b\\x11\\x13\\x13\\x83A\\x83\\x06\\xe1\\xca\\x95+\\xd8\\xb6m\\x1b\\xb6o\\xdf\\x8e\\xbc\\xbc<\\xf4\\xea\\xd5\\xab\\xc6c\\x1d\\xea*\\xa7\\xdah\\xd5\\xaa\\x15\\x00\\xe0\\xd2\\xa5K\\xdaP\\x83\\x11\\x18\\x18\\x88\\xf0\\xf0p\\xa0\\xfa\\x00rExx8\\x9a4i\\x02T?n\\xce\\x96\\xa3G\\x8fj\\x8b\\x0c\\x89\\x8c\\x8cT\\x078{\\x1fz+++q\\xe8\\xd0!\\xc0\\xce\\xcc\\xb3V\\x8f\\x1e=\\x00\\x00\\xdf}\\xf7\\x9d6\\x04\\x00\\xd8\\xb1c\\x07P\\xfd\\xa8\\x91\\xc0\\xc0@\\xf4\\xec\\xd9\\xb3\\xc6@b~\\x19\\xfd\\xf6\\x1f\\x06\\xf2\\x80\\xc1e\\x9c\\xa9\\x8f\\xe3\\xd2\\xfcm\\xc0\\xe5\\xcb\\x97\\xb5!\\x00\\xc0\\x993g\\xac\\xfem\\xa4\\x9fZ\\xba\\xe9\\xa6\\x9b0c\\xc6\\x0cl\\xd9\\xb2\\x05\\x97.]\\xc2\\xaf\\xbf\\xfe\\x8a\\xd1\\xa3G\\xa3\\xaa\\xaa\\ns\\xe6\\xcc\\xd1V\\x07,rs\\xe5\\x97\\x14u\\xa1>\\xf6\\x933\\xcc\\xc99o\\xcb\\x07\\xcc\\xc9\\xeb\\x18\\x19\\x9f,\\x05\\x06\\x06\"\"\"\\x02\\x00p\\xec\\xd81m\\xb8\\x06O\\x9cWk\\xe3\\xc4\\x89\\x13\\xda\"\\xa0\\xfa\\xcb\\x95\\xe3\\xc7\\x8f\\x03\\xd5\\xfd\\xc3\\x99\\xba>O\\xb8R\\xdfHN\\xee\\xbe\\xc6b\\xff\\xf8\\x93\\x91}a\\xc9\\x95\\xfd\\xad\\xb7\\xbe\\x91\\x9c\\xdc\\xdd?\\\\\\xe1m}\\x02\\x06\\xdb\\xce\\x91\\x86~\\x9c\\x98\\xb9<\\x01P\\\\\\\\\\x8c\\xd3\\xa7O\\x03\\x00F\\x8f\\x1e]c\\x86\\xa2\\xb0\\xb0\\x10\\x1f|\\xf0\\x01\\x008}\\xae\\xb8+\\xa6L\\x99\\x02\\x00\\xf8\\xf0\\xc3\\x0f\\xb1~\\xfdz\\xc0\\xc6\\xec~]\\xe7d\\x94\\xf9\\'-\\x17/^\\xd4\\x86\\xbc\\x8e\\xe5\\x8c\\xa1\\xf6\\x1b\\xcd\\xc1\\x83\\x07\\x03\\xd5\\xdf\\xaa\\xd8\\xfaF\\xf6\\xd4\\xa9S\\xb8\\xe1\\x86\\x1b\\xd0\\xa5K\\x17\\x9c<y\\x12>>>\\xea2\\xaf\\xbe\\xfa\\xaa\\xb6:\\xae_\\xbf\\x8eu\\xeb\\xd6i\\x8b\\x1d\\xb2\\x97_PP\\x90\\xfa!;55U-\\xb7\\xb4f\\xcd\\x1a\\xe4\\xe5\\xe5\\xc1\\xc7\\xc7\\x07}\\xfa\\xf4\\xd1\\x86k\\x18>|8\\x00\\xe0\\x8b/\\xbe\\xc0\\xfe\\xfd\\xfb\\xadb\\x15\\x15\\x15x\\xe3\\x8d7\\x00\\xc0\\xe63\\xe8\\xdd\\xc9H\\x1eF\\x96qE]\\x1f\\x97\\xe6o\\x08rrrj\\xfc\\x82\\xa6\\xb4\\xb4\\x14\\x9b6m\\xb2*\\x83\\x81~z\\xf2\\xe4I$$$ 22\\x12W\\xaf^U\\xeb)\\x8a\\x82\\xb8\\xb88\\xcc\\x9d;\\x17\\xa8\\x9e\\xc0\\xb3\\x95\\xaf\\xf9\\xb8\\xbe\\xe9\\xa6\\x9b\\xb4!\\xc3\\xec\\xf5sW\\xd5\\xf5~r\\x05sr\\xce\\xdb\\xf2\\x01s\\xaaw\\xb5\\x1d\\x9f\\xb4\\x06\\r\\x1a\\x04\\x00X\\xbdz\\xb56\\x04\\x00\\x98;w.Z\\xb5j\\x85\\x993gz\\xe4\\xbcZ\\x1b\\xdf~\\xfb-N\\x9e<\\xa9-\\xc6\\x07\\x1f|\\x80\\xabW\\xaf\",,\\xcc\\xee\\x9f\\xe1iy\\xfa<\\xa1\\xb7>\\x0c\\xe4\\xe4\\x89k,\\xf6\\x8f?\\xe9\\xdd\\x17z\\xf7\\xb7\\xde\\xfa0\\x90\\x93\\'\\xfa\\x873\\xde\\xd6\\'\\xcc\\xf4\\xb6\\x9d3\\r\\xf98Qio\\n`OUU\\x95\\xb4h\\xd1B\\x00H\\xbf~\\xfdd\\xdf\\xbe}RZZ*g\\xce\\x9c\\x915k\\xd6\\xa8w\\xc2\\x86\\xe6&\\x0eFo\\xa8s\\xfd\\xfau\\x89\\x8c\\x8c\\x94\\xd0\\xd0Pi\\xd6\\xac\\x994m\\xdaT\\x8a\\x8a\\x8a\\xac\\xea\\xd4uNF\\xe5\\xe5\\xe5\\x89\\xa2(\\xe2\\xe7\\xe7g\\xf3\\x19\\x8f\\xb6\\xf2\\xb1Uf\\xbeq\\x8a\\xad\\xbby:\\xbbi\\xd8\\xe8\\xd1\\xa3\\x05.\\xdc\\x04PD\\xd4\\xe7d~\\xf4\\xd1GV\\xe5{\\xf6\\xec\\x11???\\x01 \\x0f?\\xfc\\xb0\\\\\\xbe|Y\\x8d\\x1d;vL\\xbaw\\xef.\\x00\\xa4\\x7f\\xff\\xfej\\xf9\\x8f?\\xfe\\xa8\\xde\\xfcb\\xcc\\x981r\\xe0\\xc0\\x01)..\\x96\\xef\\xbf\\xff^\\xee\\xb9\\xe7\\x1e5\\xa6\\xe7\\x06$\\xf6\\xf2\\xd3>fc\\xd7\\xae]R\\\\\\\\,yyy\\xf2\\xfa\\xeb\\xaf\\xab7\\xbd\\x9b<y\\xb2\\xd5r\\x8e\\xdc\\x7f\\xff\\xfd\\x02@n\\xba\\xe9&\\xd9\\xb6m\\x9b\\x14\\x17\\x17\\xcb\\xd1\\xa3Ge\\xe4\\xc8\\x91\\x82\\xeagH\\xd7\\xf6\\xf1o\\xcen\\x02(\\x06\\xf30\\xb2\\x8c3u}\\\\\\x1e=zT\\xad;u\\xeaT\\xf9\\xed\\xb7\\xdf\\xa4\\xa8\\xa8H\\xbe\\xfc\\xf2K\\xf5\\xb1-\\xd0\\xdc\\x04Po?-//\\x97\\x1bo\\xbcQ\\x00H\\x9f>}d\\xc7\\x8e\\x1dRXX(\\xc5\\xc5\\xc5\\xf2\\xc3\\x0f?H\\x9f>}\\x04\\x80t\\xef\\xde]]\\x8f\\xd9\\xf5\\xeb\\xd7\\xd5\\xfex\\xfc\\xf8qm\\xb8V\\xec\\xf5sW\\xd4\\xf5~r\\x05s\\xfa\\x93\\xad\\x9b\\x00\\x9a\\xd5G>\\xce0\\xa7\\xfaU\\x9b\\xf1\\xc9\\x96\\xac\\xac,\\xf5\\xbc;q\\xe2D\\xf9\\xe9\\xa7\\x9f\\xa4\\xa4\\xa4Drss\\xe5\\xd5W_U\\x1fG\\xf5\\xe1\\x87\\x1f\\x8a\\x18<\\xaf\\xba\\xfbZ\\xc5\\xf2.\\xefm\\xdb\\xb6\\x95\\x7f\\xff\\xfb\\xdfr\\xf9\\xf2e9}\\xfa\\xb4,^\\xbcX\\x1d+-\\x9f\\xbbm\\xbe\\xa9\\xd8\\xb8q\\xe3\\xd42K\\x9e>O\\xe8\\xado$\\'\\xf1\\xc05\\x16\\xfb\\xc7\\x9f\\xf4\\xee\\x0b\\xbd\\xfb[o}#9\\x89\\x07\\xfa\\x87+\\x8c\\xf4\\tg\\xfb\\xa3\\xb6\\x8c\\xb4\\x9d#uq\\x9cx\\x9a\\xfdO\\x1c6\\xbc\\xf1\\xc6\\x1b\\x82\\xea\\x83L\\xfb\\n\\x0b\\x0b\\x93\\x17_|Q\\xa0\\xb9\\xb3\\xa7\\xbd\\x93i\\xe7\\xce\\x9d\\x05\\x80\\xcc\\x9c9\\xd3\\xaa\\xdc\\xd23\\xcf<\\xa3\\xae\\x7f\\xea\\xd4\\xa9\\xda\\xb0\\x88\\x9bsr\\x85+y\\xdbb~t\\xc9\\x97_~\\xa9\\r\\xd9\\xcc\\xc7V\\x99\\xbb\\x07M[\\xdb\\x10\\x11\\xb9\\xf9\\xe6\\x9b\\xad\\xda\\xd1\\xf2y\\xabk\\xd6\\xacQ;\\xb6\\xaf\\xaf\\xaf\\xc4\\xc7\\xc7K\\xd7\\xae]\\xd5\\xe7a\\xc6\\xc4\\xc4\\xc8\\xa9S\\xa7\\xac\\xd6\\xf7\\xe6\\x9bo\\x8a\\xc9d\\xb2Z\\'\\xaa\\x1f\\xc9\\xf2\\xfc\\xf3\\xcf\\x0bt\\x0e>\\x8e\\xf2{\\xf5\\xd5W\\xd5\\x83\\xd2\\xd6\\xeb\\xbe\\xfb\\xee\\x93b\\x1b\\x930\\xf6\\xe4\\xe6\\xe6\\xaaw\\xd4\\xd7\\xbe\\xfc\\xfc\\xfcl>rF/W&\\x00\\x8c\\xe4ad\\x19W\\xd4\\xf5q9n\\xdc\\xb8\\x1a\\xeb0\\xbf\\x07\\xf3z\\xb4O\\t\\xd0\\xdbO\\xbf\\xf8\\xe2\\x0bu\\x00\\xb6\\xf5\\n\\x0b\\x0b\\x93\\x1f\\x7f\\xfc\\xd1j\\x1b\"\"\\xbbw\\xef\\x16TO\\xb2\\xb8\\x9b\\xa3~\\xee\\xca8T\\xd7\\xfb\\x899\\xb9\\x96\\x93\\xa3\\t\\x00\\xa9\\x87|\\xbc\\xb1\\x8d\\xbc1\\'W\\xb8\\x92\\xb7\\x11F\\xc6\\'G\\xb9\\xbc\\xf1\\xc6\\x1b6\\xcf\\xc9\\xe6\\xd7c\\x8f=fU_\\xefy\\xd5\\xdd\\xd7*\\xe6\\x0fx\\xb7\\xddv\\x9bt\\xe8\\xd0\\xa1\\xc6\\xf6\\x01\\xc8\\xa8Q\\xa3\\xa4\\xa2\\xa2B]\\xc6\\x95\\x0f\\x14\\x9e>O\\xe8\\xad/\\x06r\\x12\\x83\\xd7X\\xec\\x1f\\xec\\x1f\\x8e\\xfaGm\\xe9\\xed\\x13\\xae\\xec\\x8f\\xda2\\xd2v\\xf5y\\x9cx\\x9a\\xfdO\\x1cvl\\xd8\\xb0A\\xfa\\xf7\\xef/-[\\xb6\\x94\\xc0\\xc0@\\x89\\x8b\\x8b\\x93\\xe7\\x9e{N\\xce\\x9f?/\\x95\\x95\\x95\\xd2\\xacY3Q\\x14E\\x0e\\x1d:$\\xe2\\xe0d\\xea\\xa8Q\\xcd\\x0e\\x1f>\\xac\\xce\\x98h\\x0f\\x02K\\xee\\xca\\xc9\\x15\\xae\\xe4m\\xcb\\xfc\\xf9\\xf3\\x05\\x80\\xcc\\x9d;W\\x1b\\xb2\\x99\\x8f\\xad2w\\x0f\\x9a\\xb6\\xb6!\"\\xb2c\\xc7\\x0e\\xb9\\xed\\xb6\\xdb$((H\\xc2\\xc3\\xc3e\\xe3\\xc6\\x8dV\\xf1\\xfd\\xfb\\xf7\\xcb\\xa3\\x8f>*111\\x12\\x18\\x18(\\x11\\x11\\x11r\\xfb\\xed\\xb7\\xcb\\xf2\\xe5\\xcb\\xa5\\xa0\\xa0\\xc0\\xaa\\xae\\xd9\\xce\\x9d;e\\xd8\\xb0a\\xd2\\xbcys\\t\\n\\n\\x92~\\xfd\\xfa\\xc9\\xce\\x9d;\\xe5\\xe3\\x8f?\\x16\\xe8\\x1c|\\x9c\\xe5\\xb7w\\xef^\\x998q\\xa2DGG\\x8b\\x9f\\x9f\\x9f\\x84\\x87\\x87\\xcb\\xbd\\xf7\\xde+\\x1b6l\\x90\\xaa\\xaa*\\xab\\xba\\xae\\xc8\\xcf\\xcf\\x97Y\\xb3fIll\\xac\\xf8\\xfb\\xfbK\\xabV\\xadd\\xc4\\x88\\x11\\xb2g\\xcf\\x1emUC\\\\\\x99\\x00\\x10\\x83y\\x18Y\\xc6\\x99\\xba>.+**$55U\\x12\\x12\\x12\\xd4}>|\\xf8p\\xc9\\xca\\xca\\x92\\xac\\xac,\\x81\\x8d\\t\\x001\\xd0O\\x0f\\x1e<(\\x8f>\\xfa\\xa8\\xc4\\xc5\\xc5IXX\\x98\\x84\\x86\\x86J\\xf7\\xee\\xdd\\xe5\\x89\\'\\x9e\\x90\\xdf~\\xfbM[]\\xc4\\xe2\\x11\\x9f\\xb6\\x8e\\xeb\\xdar\\xd4\\xcf]\\x19\\x87\\xeaz?1\\'\\xd7rr6\\x01P\\xd7\\xf9xc\\x1bycN\\xaep%o\\xa3\\xf4\\x8eO\\xcer\\xf9\\xfe\\xfb\\xefe\\xe4\\xc8\\x91\\xd2\\xbauk\\xf1\\xf7\\xf7\\x97\\xe8\\xe8hy\\xf0\\xc1\\x07e\\xdb\\xb6m\\xda\\xaa\":\\xcf\\xab\\xee\\xbeV1\\x7f\\xc0\\x1b<x\\xb0\\xe4\\xe5\\xe5\\xc9\\x981c\\xa4Y\\xb3f\\x12\\x12\\x12\"\\xbdz\\xf5\\x925k\\xd6\\xd4\\xc8\\xc1\\xd5\\x0f\\x14\\x9e>O\\xe8\\xad/\\x06r\\x12\\x03\\xd7X\\xec\\x1f\\xec\\x1f\\x8e\\xfa\\x87;\\xe8\\xe9\\x13\\xae\\xee\\x8f\\xda\\xd2\\xdbv\\xf5y\\x9cx\\x9a\"\\xee\\xbc\\x85\\xa1N\\x83\\x07\\x0fF\\x9f>}0\\x7f\\xfe|m\\xc8\\xab\\x19\\xc9;//\\x0f\\xb1\\xb1\\xb1\\x88\\x8c\\x8cT\\xff6\\x87\\x88\\x1a.\\x11A\\xc7\\x8e\\x1d\\x91\\x97\\x97\\x87\\xe3\\xc7\\x8f{\\xe4\\xf15\\r\\x8d\\x91\\xb1\\xd1\\xd3\\xbc-\\xa7;\\xee\\xb8\\x03\\xd9\\xd9\\xd9\\xb8v\\xed\\x9a\\xcb7\\xe0\\xf44ok#xiN\\xaeh\\xa8y{\\xb3\\xf7\\xde{\\x0f\\x93\\'O\\xc6\\xe0\\xc1\\x83\\xb1}\\xfbvm\\x98\\x0c\\xfaO\\xe9\\xab\\xec\\x1fD\\xfa\\xb9|\\x13@w\\xfb\\xe4\\x93O\\xf0\\xed\\xb7\\xdf\\xaa7Rh(\\x8c\\xe6\\xdd\\xa6M\\x1bL\\x9a4\\tg\\xce\\x9c\\xc1\\xb6m\\xdb\\xb4a\"j`\\xbe\\xfe\\xfak\\x9c8q\\x02\\xd3\\xa6M\\xe3\\x87\\xffZ\\x8c\\x8d\\x9e\\xe4\\x8d9y\\x1bol#o\\xcc\\xc9\\x15\\r5oj|\\xd8W\\x89\\x1a\\xb7z\\x9b\\x00x\\xff\\xfd\\xf7\\xb1|\\xf9r\\xf4\\xee\\xdd[\\x1b\\xf2j\\xb5\\xc9\\xfbo\\x7f\\xfb\\x1bBBB\\xf0\\xdak\\xafiCD\\xd4\\xc0,X\\xb0\\x00aaax\\xf6\\xd9g\\xb5\\xa1F\\xa96c\\xa3\\xa7xcN\\xde\\xc6\\x1b\\xdb\\xc8\\x1bsrEC\\xcd\\x9b\\x1a\\x1f\\xf6U\\xa2\\xc6\\xed\\xcf\\x07\\x13\\xd6\\x03\\xf3\\xe3w\\x1a\\x9a\\xda\\xe4\\xdd\\xbe}{,^\\xbc\\x183f\\xcc@ff&\\x86\\x0c\\x19\\xa2\\xadBD\\r\\xc0\\x96-[\\xf0\\xcd7\\xdf`\\xf5\\xea\\xd5h\\xd9\\xb2\\xa56\\xdc(\\xd5fl\\xf4\\x14o\\xcc\\xc9\\xdbxc\\x1bycN\\xaeh\\xa8yS\\xe3\\xc3\\xbeJ\\xd4\\xb8\\xd5\\xdb/\\x00\\x1a\\xab\\xe9\\xd3\\xa7c\\xc8\\x90!x\\xfa\\xe9\\xa7m>\\x8b\\x92\\x88\\xbc[ee%\\x9e{\\xee9$&&b\\xf2\\xe4\\xc9\\xda0\\x11\\x11\\x11\\x11\\x91\\xd7\\xaa\\xd7\\x9b\\x00\\x12\\x11\\x11\\x11\\x11\\x11\\x11Q\\xdd\\xe0/\\x00\\x88\\x88\\x88\\x88\\x88\\x88\\x88\\x1a\\x01N\\x00\\x10\\x11\\x11\\x11\\x11\\x11\\x115\\x02\\x9c\\x00 \"\"\"\"\"\"j\\x048\\x01@DDDDDD\\xd4\\x08p\\x02\\x80\\x88\\x88\\x88\\x88\\x88\\x88\\xa8\\x11\\xe0\\x04\\x00\\x11\\x11\\x11\\x11\\x11\\x11Q#\\xc0\\t\\x00\"\"\"\"\"\"\\xa2F\\x80\\x13\\x00\\r\\xd4\\xb2e\\xcb\\xa0(\\n\\xc6\\x8c\\x19\\xa3\\r\\x11\\xd5\\xe8\\x1f\\x15\\x15\\x15P\\x14\\x05\\x8a\\xa2`\\xd5\\xaaU\\x00\\x80v\\xed\\xdaAQ\\x14\\xcc\\x9b7O\\xb3\\xb4~\\xabV\\xad\\x82\\xa2(\\x182d\\x886d\\x97\\x91e\\xb4\\xef\\xcb\\x15F\\x96i,\\x8c\\xec\\x03\"o\\xe3\\xeec\\xbc\\xbc\\xbc\\x1cs\\xe6\\xccAtt4\\x02\\x02\\x02\\x10\\x15\\x15\\x85\\x8d\\x1b7j\\xabQ=\\xaa\\xcf\\xb1\\xcb\\xd3\\xe7S\\x00\\xd8\\xbbw/\\xc6\\x8f\\x1f\\x8f\\xe8\\xe8h\\xf8\\xf9\\xf9!,,\\x0c\\xf7\\xdcs\\x0f\\xd2\\xd3\\xd3QYY\\xa9\\xad^\\xaf\\xeas_\\xd8\\xd3\\x10r\\xaa\\x8b~Dd\\x0f\\'\\x00\\x88\\x88\\x88\\xc8\\xad\\x8e\\x1c9\\x82\\xe4\\xe4d\\\\\\xbdzU\\x1b\\xf2z/\\xbe\\xf8\"\\x96.]\\x8a\\x9c\\x9c\\x1c\\x94\\x95\\x95!//\\x0f\\x91\\x91\\x91\\xdajD\\x1e\\xb1r\\xe5J\\xdcy\\xe7\\x9dX\\xb7n\\x1d\\xe6\\xc8\\x93\\x99\\x00\\x00 \\x00IDATrrrPQQ\\x81\\x82\\x82\\x02|\\xff\\xfd\\xf7x\\xec\\xb1\\xc7\\x90\\x94\\x94\\x84\\xf2\\xf2r\\xedbD\\x8d\\x86\\xa3\\xf3\\x8b\\xa3\\x18\\xfd\\x1fN\\x00\\x105\\x02\\xe6Yf\\x000\\x99\\xfe<\\xec\\xcd\\xff6\\xff\\xb7\\xae\\xa5\\xa4\\xa4@D\\x90\\x99\\x99\\xa9\\rQ\\x1d\\xe1> O())A||<6m\\xda\\xa4\\r5\\x08\\x9f~\\xfa)\\x00`\\xfa\\xf4\\xe9(((\\x80\\x88\\xa0o\\xdf\\xbe\\xdaj\\xd4Hy\\xf2|\\xbao\\xdf>L\\x9f>\\x1d\\x15\\x15\\x15\\x18=z4\\xf6\\xec\\xd9\\x83\\xe2\\xe2b\\x1c?~\\x1c\\xb3g\\xcf\\x86\\xc9d\\xc2\\xd6\\xad[\\xb1h\\xd1\"\\xed\\xa2\\xd4\\xc0x\\xb2\\x1f\\xfd\\'st~q\\x14#k\\x9c\\x00 j\\x04|||\\xd0\\xae];\\x00@tt4\\x00 &&\\xc6\\xea\\xdfDD\\xeePUU\\xd5\\xa0\\xbf\\xa1\\xfc\\xfd\\xf7\\xdf\\x01\\x00\\x13&L@\\xd3\\xa6M\\xb5aj\\xe4<y>}\\xf3\\xcd7QQQ\\x81\\xe1\\xc3\\x87\\xe3\\x7f\\xfe\\xe7\\x7f\\x90\\x90\\x90\\x80\\xe0\\xe0`\\xc4\\xc6\\xc6b\\xc9\\x92%\\x98={6\\x00\\xe0\\xad\\xb7\\xde\\xd2.J\\r\\x8c\\'\\xfb\\xd1\\x7f2G\\xe7\\x17G1\\xb2\\xc6\\t\\x00\\xa2F\\xa2[\\xb7n\\x00\\x80.]\\xba\\x00\\x00\\xe2\\xe3\\xe3\\xad\\xfeMDD@YY\\x19\\x00 $$D\\x1b\"\\x02<x>-,,D\\xabV\\xad\\xec\\xfe\\xed\\xfa\\xf8\\xf1\\xe3\\x01\\x00yyy(**\\xd2\\x86\\xa9\\x81\\xf1T?\"rF\\xd7\\x04@jj*\\x14E\\xc1\\xb2e\\xcbp\\xe0\\xc0\\x01<\\xf4\\xd0C\\x88\\x88\\x88@PP\\x10\\xe2\\xe3\\xe3\\xd5\\x19\\xc9\\xb2\\xb22,X\\xb0\\x00\\x9d:uBPP\\x10bcc1~\\xfcx\\xe4\\xe5\\xe5Y\\xad\\xef\\xbd\\xf7\\xde\\x83\\xa2(\\x98={6.]\\xba\\x84\\xc9\\x93\\'#22\\x12AAA\\x88\\x8b\\x8b\\xc3\\xc2\\x85\\x0bQRRb\\xb5\\xcc\\xa2E\\x8b\\xd4\\x1c>\\xfe\\xf8c\\xc4\\xc4\\xc4 $$\\x04}\\xfb\\xf6Enn\\xaeZ\\xef\\xe0\\xc1\\x83x\\xe4\\x91G\\xd0\\xbe}{\\x04\\x04\\x04 \"\"\\x02\\x03\\x06\\x0c@zz:***\\xac\\xd6\\t\\x00?\\xff\\xfc3F\\x8d\\x1a\\xa5\\xe6\\xdc\\xa6M\\x1b\\xf4\\xee\\xdd[\\x9d\\x8d\\xd5\\xd2[\\x1f\\x06r\\x02\\x80\\x8d\\x1b7\\xa2\\x7f\\xff\\xfe\\x08\\r\\rEHH\\x08\\x12\\x13\\x13\\x91\\x9d\\x9d\\xad\\xad\\xe6\\xb2\\xec\\xecl\\x8c\\x1f?\\x1e\\xed\\xda\\xb5C`` \\xda\\xb7o\\x8f\\xe4\\xe4d\\xec\\xdc\\xb9S[\\x15\\x00\\x90\\x95\\x95\\x85\\xb1c\\xc7\\xa2m\\xdb\\xb6\\xf0\\xf3\\xf3C\\xf3\\xe6\\xcd1p\\xe0@\\xac]\\xbb\\x16UUUVu\\xd9?\\x8c\\xd7\\x87\\x81\\x9c\\xa0\\xb3\\x7f\\xc4\\xc7\\xc7#,,\\x0cQQQ\\xea\\xbf\\x01\\xe0\\x96[n\\xb1\\xaa\\xd7\\xa5K\\x17(\\x8a\\x82Y\\xb3fY\\x95\\xbb\\xea\\xcc\\x993\\x982e\\n\\xa2\\xa2\\xa2\\xe0\\xef\\xef\\x8f\\xe8\\xe8hL\\x9d:\\x15\\xa7O\\x9f\\xb6\\xaa\\xa7\\xbd!\\x8e%=\\xef\\xcb\\xcc\\xc82z\\xda\\xdc\\xdc\\x1f\\x9f{\\xee9\\xe4\\xe5\\xe5a\\xea\\xd4\\xa9h\\xd7\\xae\\x9d\\xfa\\x1eSRRp\\xea\\xd4)\\xabe\\x9c\\xf1t?qv<8\\xda\\x07z\\xb6\\x03\\x83\\xef\\xc5\\x91\\x8c\\x8c\\x0c<\\xf8\\xe0\\x83\\xe8\\xdc\\xb93BBB\\xd0\\xb4iS\\xc4\\xc6\\xc6\"%%\\x05G\\x8e\\x1c\\xb1\\xaa\\xeb\\xec}\\x9a\\xe9}O\\x8e\\xe8y\\xbfiiiP\\x14\\x05\\xc9\\xc9\\xc9V\\xe5f\\xb6\\xe2F\\xc6?#\\xcb\\x98\\xe9\\x19\\xeb\\x1d\\xb5\\xf7\\xb0a\\xc3\\xac\\xbe5\\xbf\\xe1\\x86\\x1b\\xa0(\\n~\\xfd\\xf5W\\xabu\\x18\\xd9\\x17F\\x8eq=\\x12\\x12\\x12\\xa0(\\x8a\\xfa\\xb7\\xa3\\xf1\\xf1\\xf1P\\x14\\x05O>\\xf9\\xa4U=w\\xb5\\x95e\\xdft\\xc4\\xd5\\xb6:r\\xe4\\x08\\x9a4i\\x02EQ\\xb0`\\xc1\\x02\\xabu\\xa0\\xfao\\xcb\\x15EA\\x93&Mp\\xf0\\xe0A\\xab\\x98\\x9e\\xe3\\xcd\\x1b\\xce\\xf5\\x8e\\xb8\\xda^fF\\xcey\\xae\\x9eO\\xa1\\xb3m\\xd7\\xad[\\x87s\\xe7\\xcea\\xda\\xb4iV\\xe5f\\xbe\\xbe\\xbe\\x00\\x80\\xe6\\xcd\\x9b\\xa3I\\x93&j\\xb9\\xad\\xf7\\xb0`\\xc1\\x02(\\x8a\\x82\\xc4\\xc4D\\xb5Lk\\xdc\\xb8qP\\x14\\x05\\xf3\\xe7\\xcf\\xb7*\\xd7\\x93\\xb3\\x1e\\xcc\\xc9\\x9a\\x9e~\\xe4\\xedjs\\x1c\\xbb\\xda\\x8e\\x8f?\\xfe\\xb8\\xdd\\xf3\\x8b\\xa3\\x98%=\\xe3\\x83\\xb3\\xf1\\xdb\\x13\\xd7\\x85uFtx\\xed\\xb5\\xd7\\x04\\x80\\x8c\\x193FBBB\\x04@\\x8d\\xd7\\xf2\\xe5\\xcbe\\xe0\\xc0\\x815\\xca\\x01H\\xd7\\xae]\\xa5\\xbc\\xbc\\\\]\\xdf\\xbb\\xef\\xbe+\\x00d\\xfa\\xf4\\xe9\\x12\\x17\\x17W\\xa3>\\x00\\xb9\\xf3\\xce;\\xa5\\xa0\\xa0@]\\xe6\\x95W^\\x11\\x002v\\xecX\\xf1\\xf5\\xf5U\\xebu\\xeb\\xd6M\\xaa\\xaa\\xaaDDd\\xe3\\xc6\\x8d\\x12\\x10\\x10Pc]\\xe6W\\xaf^\\xbd\\xa4\\xb0\\xb0P]\\xe7\\xe7\\x9f\\x7f\\xee\\xb0\\xfe\\xc8\\x91#\\xd5\\xbaF\\xea\\x8b\\x81\\x9cDDf\\xcf\\x9e]\\xa3\\x1e\\x00\\t\\n\\n\\x92\\xf1\\xe3\\xc7\\x0b\\x00\\x19=z\\xb4\\xd52\\x8e\\xa4\\xa5\\xa5\\x89\\x8f\\x8fO\\x8d\\xf5\\x99_/\\xbd\\xf4\\x92U\\xfd\\xa5K\\x97:\\xac\\x9f\\x98\\x98(\\xc5\\xc5\\xc5j}\\xf6\\x0fc\\xf5\\xc5@N\\xe2\\x81\\xfea\\xd6\\xb9sg\\x01 3g\\xce\\xd4\\x86\\xecZ\\xb9r\\xa5\\x00\\x90\\xd8\\xd8Xi\\xde\\xbcy\\x8d\\x9c\\x00HDD\\x84\\x9c={\\xb6\\xc62\\xf7\\xdf\\x7f\\xbf\\xd5\\xba\\x8c\\xbc/#\\xcb\\xe8mss\\x7f\\x1c9r\\xa4\\xb4l\\xd9\\xb2F}\\x00\\xd2\\xa2E\\x0b\\xc9\\xcd\\xcd\\xb5\\xda\\x8e=u\\xd1O\\x9c\\x1d\\x0f\\xf6\\xf6\\x81\\xde\\xed\\x18y/\\x8e<\\xf6\\xd8c5\\xd6a\\xf9\\n\\r\\r\\x95\\x13\\'N\\xa8\\xf5\\x9d\\xbdO1\\xf0\\x9e\\x1c\\xd1\\xfb~W\\xacX!\\x00$))\\xc9\\xaa\\xdc\\xccV\\xdc\\xc8\\xf8gd\\x1910\\xd6;j\\xef\\xa9S\\xa7\\xd6X\\x1e\\x80\\xec\\xdf\\xbf_]\\xde\\xc8\\xbe0r\\x8c\\xebu\\xeb\\xad\\xb7\\xd6X?\\x00\\x991c\\x86Z\\xc7\\x9dme\\xee\\x9b\\x8e\\xe8m\\xabw\\xdeyG\\x00\\x88\\x9f\\x9f\\x9fdee\\xa9\\xe5{\\xf7\\xee\\x95\\xc0\\xc0@\\x01 k\\xd7\\xaeU\\xcb\\xc5\\xc0\\xf1\\xe6\\r\\xe7zw\\x8d]b\\xf0\\x9c\\xe7*\\xbdm\\xeb\\xcc\\xdf\\xff\\xfew\\x01 #F\\x8c\\xb0*\\xb7\\xf5\\x1errr\\xc4\\xc7\\xc7GL&\\x93\\x9c9s\\xc6\\xaa\\xbe\\x88\\xc8\\xd5\\xabW%88XL&\\x93\\x9c:uJ-\\xd7\\x9b\\xb3\\xbd}a\\x0bsr-\\xa7\\x86\\xc8\\xc8q,:\\xdbq\\xda\\xb4i5\\xe2\\xa8>\\xbf8\\x8a\\x99\\xe9\\x1d\\x1f\\x9c\\x8d\\xdf\\xee\\xbe.\\xacK\\x86&\\x00P}\\xa1\\xff\\xc9\\'\\x9fHAA\\x81\\x9c<yR\\x12\\x13\\x13\\x05\\x80(\\x8a\"\\x01\\x01\\x01\\xb2h\\xd1\"\\xc9\\xcd\\xcd\\x95\\xc2\\xc2BIKK\\x13EQ\\x04\\x80\\xec\\xd8\\xb1C]\\x9f\\xb9\\xe1\\x82\\x83\\x83\\xa5Y\\xb3f\\xb2v\\xedZ)((\\x90\\xb3g\\xcfJjj\\xaaz\\xb2z\\xfc\\xf1\\xc7\\xd5e\\xcc;\\x03\\x80\\xdc{\\xef\\xbdr\\xf2\\xe4I5&\"r\\xe4\\xc8\\x11\\t\\x0e\\x0e\\x16___y\\xfe\\xf9\\xe7\\xe5\\xd0\\xa1Cr\\xed\\xda5\\xc9\\xcf\\xcf\\x97\\xcc\\xccL\\xe9\\xd5\\xab\\x97@s\\xa1p\\xe7\\x9dw\\n\\xaaw\\xf0\\xa1C\\x87\\xa4\\xb4\\xb4T.^\\xbc(\\xaf\\xbf\\xfe\\xba\\xba\\xc3\\xbf\\xfb\\xee;\\xc3\\xf5\\x8d\\xe4\\xb4u\\xebV\\xf5}\\xce\\x9e=[rrr\\xa4\\xac\\xacL\\xb2\\xb3\\xb3\\xa5o\\xdf\\xbej\\xcc\\xd5\\x0b\\x9e]\\xbbv\\xa9\\x17-\\xe3\\xc6\\x8d\\x93\\xac\\xac,)..\\x96\\xd3\\xa7O\\xcbSO=%\\x00\\xc4d2\\xc9\\xbe}\\xfbD\\xaa\\xb7o\\xdegC\\x87\\x0e\\x95\\xdd\\xbbwKaa\\xa1\\x1c;vL\\xe6\\xcd\\x9b\\'\\xfe\\xfe\\xfe\\x02@&M\\x9a\\xa4n\\x83\\xfd\\xc3X}#9\\xb9\\xbb\\x7f\\xd4\\x96\\xf9\\xc4\\x86\\xea\\x0f\\xfa+W\\xae\\x94\\xf3\\xe7\\xcfK~~\\xbe\\xa4\\xa7\\xa7\\x8b\\x9f\\x9f\\x9f\\x00\\x90\\xbf\\xff\\xfd\\xef5\\x96\\xb1<\\x19\\x1ay_F\\x961\\xd2\\xe6\\xe6\\xfe\\x08@\\xa2\\xa2\\xa2\\xe4\\x83\\x0f>\\x90+W\\xae\\xc8\\xe5\\xcb\\x97e\\xd5\\xaaU\\xea{|\\xf6\\xd9g\\xd5e\\x1c\\xa9\\x8b~\\xe2\\xecx\\xb0\\xb5\\x0f\\x8clG\\xef{q$##CP\\xfd\\x01f\\xf9\\xf2\\xe5\\x92\\x9b\\x9b+eee\\x92\\x97\\x97\\'[\\xb7n\\x95\\x98\\x98\\x18\\x01 s\\xe7\\xceU\\x97q\\xf6>\\x8d\\xbc\\'G\\xf4\\xbe_[\\x1f\\xf0-\\xd9\\x8a\\x1b\\x19\\xff\\x8c,cd\\xacw\\xd6\\xde\\x85\\x85\\x85j\\xfc\\xca\\x95+V1#\\xfb\\xc2\\xc81^\\x1b\\xcd\\x9a5\\x13h.\\x1c\\xc5Cm\\xe5\\x88\\x91\\xb6\\x12\\x11\\x195j\\x94\\x00\\x90\\xce\\x9d;Kqq\\xb1\\xfc\\xf1\\xc7\\x1f\\xd2\\xa1C\\x07\\x01 )))Vu\\x8d\\x1co\\xdep\\xaew\\xd7\\xd8\\xe5IF\\xda\\xd6\\x91_\\x7f\\xfdU\\x02\\x03\\x03\\xc5\\xc7\\xc7G\\x0e\\x1c8\\xa0\\r\\xdb4l\\xd80\\x01 \\x0b\\x17.\\xd4\\x86$==]P\\xdd/\\xcd\\x8c\\xe4lk_8\\xc2\\x9c\\\\\\xcb\\xa9\\xa11r\\x1c\\x1biGG\\xe7\\x17G1#\\xe3\\x83\\xb3\\xf1\\xdb\\xdd\\xd7\\x85u\\xc9\\xd0\\x04\\x80\\xc9d\\x92\\xa3G\\x8fZ\\xc5\\xb2\\xb3\\xb3\\xd5FX\\xbcx\\xb1ULD\\xa4G\\x8f\\x1e\\x02@V\\xae\\\\\\xa9\\x96Y6\\\\FF\\x86U}\\x11\\x91\\xf5\\xeb\\xd7\\x0b\\x00\\t\\x08\\x08\\x90\\xfc\\xfc|\\x11\\x8b\\x9d\\xe1\\xe7\\xe7\\'\\xe7\\xcf\\x9f\\xd7.\")))\\x02@\\x96-[\\xa6\\r\\x89\\x88Hii\\xa9DDD\\x88\\xc9d\\x92s\\xe7\\xce\\x89\\x88\\xa8\\x1dl\\xd7\\xffo\\xef\\xfec\\xad\\xae\\xeb\\x07\\x8e\\xbf\\x04\\x7f\\x00*`\\x14*\\xa8\\xf9#\\xd3B\\x87d\\xb5PI\\x0bg\\xff\\xa0Y\\xab\\x05\\xe6b\\x8c\\xa4&m\\xd9lT\\xe6\\xaa\\xad\\xd5R\\x811\\x1d\\xabh\\x15\\x98\\xd1\\xc0\\xd5*\\xd7\\xf2\\xf7\\x069\\xfc\\xc1\\xd4l\\xb9\\x0c\\x14\\xc3\\n\\xcd!\\xb6)\\x04\\xd2\\xe5\\xfd\\xfd\\xa3{\\xce\\xf7\\xde\\xc3\\xb9\\xe7\\x9e\\xf3\\xb9\\xf7\\xe2\\x85\\xd7\\xe3\\xb1\\xddM??\\xee\\xfd|\\xde\\xe7\\xf3\\xf9\\x9cs\\x9f\\xf7\\xf09\\x8f<\\xd2\\xb8x\\xb9\\xe6\\x9ak\\xca\\x19g\\x9cQ~\\xf2\\x93\\x9f\\xd4\\xa7u\\xba|\\x95m\\xaa\\x95\\xf3\\xc6\\xca[J)\\xaf\\xbf\\xfez\\x998qb\\x89\\x0e\\x9e\\xc8\\xe6\\xcc\\x99S\"\\xa2\\xcc\\x9a5\\xabqV)\\xa5\\x94+\\xae\\xb8\\xa2\\xbc\\xe3\\x1d\\xef(w\\xdcqG)\\xa5\\x94\\x8b.\\xba\\xa8D\\x93\\xbfd\\xd5\\xac]\\xbb\\xb6~,l\\xdd\\xba\\xb5\\x14\\xc7G}Z\\xa7\\xcbW\\xd9\\xa6\\xc1>>\\x06\\xaa\\xf6\\xc4v\\xd8a\\x87\\xf5\\xb9\\xdf\\x11Q>\\xf6\\xb1\\x8f\\xd5\\xa75{2\\xac\\xb2_U\\xd6\\xa92\\xe6=\\x8f\\xc7\\'\\x9f|\\xb2q\\x952o\\xde\\xbc\\x12\\x11\\xe5\\xe3\\x1f\\xffx\\xe3\\xac\\xa6\\x0e\\xc4q\\xd2\\xdf\\xf9\\xd0\\xec1\\xa8\\xf2s:\\xdd\\x97V\\xbe\\xfd\\xedo\\x97\\xc9\\x93\\'\\x97\\xeb\\xaf\\xbf\\xbeqV)\\xa5\\x94%K\\x96\\xec\\xf7x\\xf6\\xb7\\x9fU\\xf6\\xa9\\x95N\\xf7\\xb7\\xd9/\\xf8=5\\x9b_\\xe5\\xfaWe\\x9d*\\xd7\\xfa\\xfe\\xc6\\xbb\\xd5\\x8b\\xb0*\\x8fE\\x95s| \\xfa\\n\\x00C1V\\xadT\\x19\\xab\\xd2\\xfd\\x17\\xcbSO=\\xb5DDY\\xb8pa\\xf9\\xc4\\'>Q\"\\xa2L\\x9d:\\xb5\\xec\\xda\\xb5\\xab\\xd7\\xf7\\xa8r\\xbe\\r\\x87\\xe7\\xfa\\xc1\\xbav\\r\\xa5*c\\xdb\\x97-[\\xb6\\x94\\xb7\\xbf\\xfd\\xed%\"\\xcam\\xb7\\xdd\\xd68\\xbbO\\xb5_\\xb0\\xce:\\xeb\\xac\\xc6Ye\\xfa\\xf4\\xe9%\"\\xca\\x9a5k\\xea\\xd3\\xaals\\xb3\\xc7\\xa2\\x15\\xdb\\xd4\\xde6\\x1dl\\xaa\\x9c\\xc7U\\xc6\\xb1\\xd5\\xf3K\\xabyU\\xae\\x0f\\xfd]\\xbf\\x07\\xfbu\\xe1\\x81T)\\x00\\x9c}\\xf6\\xd9\\x8d\\xb3\\xca\\x8e\\x1d;Z\\x0e\\xc2\\x95W^Y\"\\xa2\\xdcr\\xcb-\\xf5i\\xb5\\x81{\\xcf{\\xde\\xd3k\\xd9\\x9a}\\xfb\\xf6\\x95\\t\\x13&\\x94\\x88(w\\xdduW)=\\x1e\\x8c\\x0b.\\xb8\\xa0q\\xf1RJ)\\x93\\'O\\xaeoG\\x7f_\\x0f>\\xf8`)=\\xdeRr\\xfc\\xf1\\xc7\\x97\\x05\\x0b\\x16\\x94\\xb5k\\xd7\\x96\\xed\\xdb\\xb77~\\xeb\\xbaN\\x97\\xeft\\x9b\\xdex\\xe3\\x8dz)[\\xb7n]\\xe3\\xb7+\\xa5\\x94\\xf2\\xf5\\xaf\\x7f\\xbdD\\x9bO\\x1c\\xa5\\x94r\\xe2\\x89\\'\\x96\\x88(\\xbf\\xfd\\xedo\\x1bg\\xedg\\xd7\\xae]\\xf5\\xbfb=\\xf4\\xd0C\\x8d\\xb3\\xeb\\xce8\\xe3\\x8c\\x12\\x11e\\xe5\\xca\\x95\\xa58>\\xea:]\\xbe\\xd3m\\x1a\\x8a\\xe3c\\xa0jOl\\x93\\'On\\x9cUJ)\\xe5\\x87?\\xfca\\x89\\x88r\\xf1\\xc5\\x17\\xd7\\xa75>\\x19V\\xd9\\xaf*\\xeb\\x94\\nc^z\\x1c\\x8f\\xcd^ \\x94R\\xca\\xad\\xb7\\xdeZ\"\\xa2|\\xe8C\\x1fj\\x9c\\xd5\\xd4P\\x1f\\'\\xa5\\x8d\\xf3\\xa1\\xf11(\\x15\\x7fN\\xa7\\xfb\\xd2\\xae]\\xbbv\\x95\\x87\\x1ez\\xa8\\xacX\\xb1\\xa2,Z\\xb4\\xa8\\\\r\\xc9%e\\xcc\\x981%\"\\xca\\xe5\\x97_^_\\xae\\xbf\\xfd\\xac\\xb2O\\xadt\\xba\\xbf\\xcd~\\xc1\\xef\\xa9\\xd9\\xfc*\\xd7\\xbfN\\xd7\\xa9z\\xad\\xefo\\xbc[\\xbd\\x08\\xeb\\xf4\\xb1\\xa8z\\x8e\\x0fD\\xb3\\x000Tc\\xd5J\\xa7c\\xd5\\xd3\\x86\\r\\x1b\\xea\\xdb\\x1b\\xddo\\xa3m\\xfce\\xbdQ\\xbb\\xe7\\xdbpx\\xae\\x1f\\xack\\xd7\\x81\\xd2\\xee\\xd86\\xf3\\xc7?\\xfe\\xb1\\x9c|\\xf2\\xc9%\\x9a\\xfcS\\xcd\\xfe\\xec\\xdd\\xbb\\xb7L\\x9a4\\xa9DDy\\xf8\\xe1\\x87\\xeb\\xd3\\x9fy\\xe6\\x99\\x12\\xdd\\xef\\xd8\\xdb\\xb3gO\\xafuj\\xda\\xdd\\xe6f\\x8fE+\\xb6\\xa9\\xbdm:\\xd8T9\\x8f{jw\\x1c[=\\xbf\\xb4\\x9aW\\xe5\\xfa\\xd0\\xdf\\xf5{\\xb0_\\x17\\x1eH\\xff\\xbb\\x9bH\\x87N:\\xe9\\xa4\\xc6Iq\\xc4\\x11G\\xd4\\xff\\xbb\\xf6\\xb1\\x16=\\x8d\\x1a5\\xaaqR\\xddy\\xe7\\x9d\\xd78)\\xa2\\xfbs0\\xcf<\\xf3\\xccx\\xe5\\x95W\\xf6\\xbbY\\xce\\xa4I\\x93z\\xfd\\x7fD\\xc4\\xde\\xbd{\\xe3\\x9f\\xff\\xfcg\\xe3\\xe4>\\xd5nDs\\xd3M7\\xc5\\xce\\x9d;\\xe3\\x8e;\\xee\\x88\\x15+V\\xc4\\x8a\\x15+b\\xc4\\x88\\x111u\\xea\\xd4\\xf8\\xf0\\x87?\\x1cs\\xe7\\xce\\xad\\xdf\\x98\\xa3\\xd3\\xe5\\xabl\\xd3+\\xaf\\xbc\\x12\\xbbw\\xef\\x8e\\x88\\x88w\\xbe\\xf3\\x9d\\x8d\\x8bDD\\xc4\\x94)S\\x1a\\'\\xf5i\\xef\\xde\\xbd\\xf1\\xaf\\x7f\\xfd+\"\"\\xce<\\xf3\\xcc\\xc6\\xd9\\xfby\\xf9\\xe5\\x97\\xeb7\\xc28\\xfb\\xec\\xb3\\x1bg\\xd7\\x9ds\\xce9\\xf1\\xdcs\\xcf\\xc5\\x8b/\\xbe\\xd8k\\xba\\xe3\\xa3\\xfd\\xe5\\xabl\\xd3`\\x1f\\x1f\\x83\\xe9\\xf4\\xd3Oo\\x9c\\x14\\x11\\x11c\\xc6\\x8c\\x89\\x88\\x88\\xae\\xae\\xae\\xc6YuU\\xf6\\xab\\xca:U\\xc6\\xbc\\xa7\\x13N8\\xa1\\xd7\\xff\\xd7\\x1cw\\xdcq\\x11\\xdd\\xdf\\xbf\\x1dC}\\x9c\\xf4\\xd4\\xec|h\\xa6\\xea\\xcf\\xe9d_\\xda\\xf1\\x9b\\xdf\\xfc&n\\xbe\\xf9\\xe6\\xd8\\xb8qc\\x9f\\xe3YJi\\x9c\\xd4t?\\xab\\xeeS+\\x83\\xbd\\xbf\\xadT\\xb9\\xfe\\xb5\\xbb\\xce@\\xaf\\xf5\\xcd\\xc6\\xbb\\x95*\\x8fE\\x95s|(\\x1c\\x0cc\\xd5\\xd3\\xf4\\xe9\\xd3c\\xd1\\xa2E\\xf1\\xdd\\xef~7\\xa2\\xfbfV}=\\xffW=\\xdf\\x86\\xc3s}\\xcd@\\xc7k\\xa8T\\x1d\\xdb\\x9a5k\\xd6\\xc4\\xfc\\xf9\\xf3c\\xef\\xde\\xbd\\xb1b\\xc5\\x8a\\xb8\\xe6\\x9ak\\x1a\\x17i\\xe9\\xf0\\xc3\\x0f\\x8fy\\xf3\\xe6\\xc5w\\xbe\\xf3\\x9dX\\xb5jU|\\xe0\\x03\\x1f\\x88\\xe8\\xbea[t\\x7f\\xd4\\xe5\\x91G\\x1e\\xd9k\\x9d\\x81ns\\x7fl\\xd3\\xa1\\xad\\xd3\\xf3\\xf8@\\x8c\\xe3@\\xaf\\x0f\\xfd]\\xbf\\x07\\xebu\\xe1\\x81\\xd4\\xd1\\xa7\\x00\\xd4\\x8c\\x1f?\\xbeqR/#G\\x8el\\x9c\\xd4\\xd2QG\\x1d\\xd58\\xa9\\xae\\xf6\\x84[\\xbb\\xf3iM\\xb3\\'\\x91\\x9e\\xbf\\\\<\\xf1\\xc4\\x13\\xd1\\xfd\\x0e\\x87>\\xbf>\\xfd\\xe9OGD\\xc4\\xd8\\xb1c\\xe3\\xf6\\xdbo\\x8fg\\x9f}6n\\xbb\\xed\\xb6\\x985kV\\x8c\\x1f?>\\x9e|\\xf2\\xc9X\\xb2dI\\x9cw\\xdey\\xf1\\xd3\\x9f\\xfe\\xb4\\xfe\\xbd;Y\\xbe\\xca6\\x8d\\x18\\xf1\\xff\\x0fK\\xe3~\\xd74\\xdb\\xff\\xbetuu\\xd5\\xefL\\\\\\x06x\\x12\\xf5T\\xfb\\x08\\x9a\\xc6\\x8b\\xa2\\xe3\\xa3\\xfd\\xe5\\xabl\\xd3`\\x1f\\x1f\\x83\\xe9\\xe8\\x01|lV\\x95\\xfd\\xaa\\xb2N\\x951\\xef\\xa9\\xe7\\x0b\\xdc\\x81\\x18\\xea\\xe3\\xa4\\xa7\\xc61\\xe8K\\xd5\\x9f\\xd3\\xc9\\xbe\\xf4g\\xc5\\x8a\\x15q\\xe5\\x95W\\xc6\\x86\\r\\x1b\\xe2\\xd8c\\x8f\\x8dK/\\xbd4\\xae\\xbd\\xf6\\xdaX\\xb6lY\\xac_\\xbf>\\x16/^\\xdc\\xb8J]\\xb3\\xfd\\xac\\xbaO\\xadT\\xdd\\xdf\\xc6;\\x0c\\xd7\\xd4>v\\xae\\x99*\\xd7\\xbf*\\xeb\\xb4\\xd2\\xd7\\xb5\\xbe\\xd9x\\xb7R\\xe5\\xb1\\xa8r\\x8e\\xbf\\x99\\xde\\xcc\\xb1\\xeai\\xef\\xde\\xbdq\\xff\\xfd\\xf7\\xd7\\xff\\x7f\\xe5\\xca\\x95M_\\x84\\x0e\\xe4|\\x1b\\x0e\\xcf\\xf55\\x03\\x1d\\xaf\\xa10\\x90\\xb1\\xed\\xea\\xea\\x8a\\xaf|\\xe5+1g\\xce\\x9c8\\xe6\\x98c\\xe2\\xc1\\x07\\x1f\\xec\\xf8\\x97\\xff\\x9a\\xf9\\xf3\\xe7\\xc7\\x88\\x11#b\\xcd\\x9a5\\xb1{\\xf7\\xee\\xe8\\xea\\xea\\x8a\\xdbo\\xbf\\xbd>\\xaf\\xa7\\x81ls\\'l\\xd3\\xa1\\xab\\x93\\xf3\\xf8@\\x8d\\xe3@\\xaf\\x0f\\xfd]\\xbf\\x07\\xebu\\xe1\\x81T)\\x00\\x0c\\xb6\\xe7\\x9e{\\xaeqRDD\\xec\\xdb\\xb7/\\x9e}\\xf6\\xd9\\x88\\x888\\xed\\xb4\\xd3\\x1ag\\xefg\\xd4\\xa8Q1a\\xc2\\x84\\x88\\xee\\x07\\xb8S\\xa7\\x9f~z|\\xe1\\x0b_\\x88\\xbb\\xee\\xba+\\xb6o\\xdf\\x1e\\x7f\\xfe\\xf3\\x9fc\\xf6\\xec\\xd9\\xb1o\\xdf\\xbeX\\xb4hQ\\xe3\\xe2m-_e\\x9b&L\\x98P\\xffx\\x97\\xa7\\x9f~\\xbaqvDDl\\xda\\xb4\\xa9qR\\x9fF\\x8d\\x1a\\x15o}\\xeb[#\"b\\xf3\\xe6\\xcd\\x8d\\xb3\\xf73q\\xe2\\xc4\\xfa\\xc9\\xf9\\xcc3\\xcf4\\xce\\x8e\\xe8>\\x99\\xfe\\xf2\\x97\\xbfD\\xf4\\xf1W\\x80\\xc1\\xe4\\xf8\\xe8m\\xb0\\x8f\\x8f\\xe1\\xa2\\xca~UY\\xa7\\xca\\x98\\x0f\\xa5\\xa1:N\\xaa\\x18\\xe8\\xcfig_\\xfaS\\xfb\\x8b\\xe5\\xc2\\x85\\x0b\\xe3\\xc5\\x17_\\x8c\\xfb\\xee\\xbb/\\x96/_\\x1e_\\xfc\\xe2\\x17c\\xc6\\x8c\\x19\\xf1\\xea\\xab\\xafF\\xf4\\xf3n\\x92\\x9e\\x06\\xbaO\\xad\\xb4\\xbb\\xbf\\xb5\\x17\\x07;v\\xec\\xe8\\xb1\\xf6\\xff{\\xe1\\x85\\x17\\x1a\\'\\xd5U\\xb9\\xfe\\xb5\\xbb\\xce\\x81\\xbe\\xd6Wy,\\xaa\\x9c\\xe3C\\xe1`\\x18\\xab\\x9en\\xbc\\xf1\\xc6x\\xec\\xb1\\xc7b\\xd2\\xa4I1i\\xd2\\xa4x\\xec\\xb1\\xc7\\xe2\\x86\\x1bnh\\\\l\\xd0\\xcf\\xb7\\x81h\\xf7\\xb8mf\\xa0\\xe35\\x14\\xaa\\x8e\\xed\\x7f\\xfe\\xf3\\x9f\\x985kV\\xdc|\\xf3\\xcdq\\xee\\xb9\\xe7\\xc6\\xc6\\x8d\\x1b\\xe3\\xc2\\x0b/\\xec\\xb5L\\'N;\\xed\\xb4\\x989sf\\xbc\\xfa\\xea\\xabq\\xcf=\\xf7\\xc4}\\xf7\\xdd\\x17\\xdb\\xb6m\\x8b\\x0b.\\xb8`\\xbf\\x8f\\x9b\\xab\\xba\\xcd\\x9d\\xb2M\\x87\\xaeN\\xce\\xe3\\x035\\x8e\\xc3\\xf1\\xfa\\xf0f\\x1b\\x16\\x01`\\xdd\\xbau\\xb1e\\xcb\\x96\\xc6\\xc9\\xb1z\\xf5\\xea\\xf8\\xf7\\xbf\\xff\\x1d\\xe3\\xc6\\x8d\\x8b\\xe9\\xd3\\xa77\\xcen\\xea\\xd2K/\\x8d\\xe8\\xaeJ\\xcd\\xfe\\xda\\xf2\\xfc\\xf3\\xcf\\xc7q\\xc7\\x1d\\x17\\xefz\\xd7\\xbbb\\xcb\\x96-\\xb1e\\xcb\\x96\\x986mZL\\x9c8\\xb1\\xfe\\xd9\\xbf\\xd1\\xfdV\\x95)S\\xa6\\xc4\\x8d7\\xde\\x18\\x11\\x11\\xdb\\xb7o\\x8f\\xdd\\xbbww\\xbc|T\\xd8\\xa6\\x91#G\\xd6\\xd7Y\\xbati\\xe3\\xe2\\xb1g\\xcf\\x9e\\xb8\\xe3\\x8e;\\x1a\\'\\xb74s\\xe6\\xcc\\x88\\x88\\xf8\\xf1\\x8f\\x7f\\xdc8+\\xa2\\xfb\\xc5\\xc2\\t\\'\\x9c\\x10\\xd7]w]\\x8c\\x1e=\\xba\\xfe\\xf6\\xa7e\\xcb\\x965.\\x1a\\x11\\x11\\xabV\\xad\\x8am\\xdb\\xb6\\xc5\\xc8\\x91#c\\xc6\\x8c\\x19\\x8d\\xb3\\x07\\x95\\xe3c\\xe8\\x8f\\x8f\\xe1\\xa0\\xca~UY\\'*\\x8c\\xf9`;\\x10\\xc7IU\\x9d\\xfe\\x9c*\\xfb\\xd2\\x97\\x9d;w\\xc6\\xd6\\xad[#\"b\\xf6\\xec\\xd9\\xfb\\xfd\\x15\\xf5\\xb5\\xd7^\\x8b\\xd5\\xabWGD\\xf4\\xfb\\xbdz\\xeat\\x9fZ\\xa9\\xb2\\xbf\\xb5\\xbf\\x94\\xfe\\xfd\\xef\\x7f\\xdf\\xefs\\xe2w\\xef\\xde\\x1d\\xbf\\xfe\\xf5\\xaf{M\\xeb\\xa9\\xca\\xf5\\xaf\\xddu\\x86\\xeaZ\\xdf\\xf3\\xaf\\xf6\\x8d\\xefn\\xe8\\xf4\\xb1\\xa8z\\x8e\\x0f\\xb6\\xa1\\x1a\\xabV:\\x1d\\xab\\x9a{\\xef\\xbd7\\x16/^\\x1c#F\\x8c\\x88\\xdbo\\xbf=V\\xae\\\\\\x19#F\\x8c\\x88%K\\x96\\xc4\\xddw\\xdf]_n\\xa8\\xce\\xb7\\xaa\\xda=n\\xfbRu\\xbc\\x86B\\xd5\\xb1\\xed\\xea\\xea\\x8a\\xab\\xae\\xba*\\xee\\xbe\\xfb\\xee\\xf8\\xe0\\x07?\\x18\\x7f\\xf8\\xc3\\x1f\\x9a\\xfeS\\x8aN\\xd5\\xde=p\\xe7\\x9dw\\xc6\\x9a5k\"\\x9a\\xfcU\\xbb\\xea6We\\x9b\\x0eM\\xed\\x9e\\xc7U\\xc7\\xb1\\xd5\\xf3K\\xaby\\xc3\\xe9\\xfa0,4\\xde\\x14\\xa0\\x95\\xda\\x8d_\\x9a\\xdd\\x89\\xb7\\xd5\\x8d\\x17J)e\\xf6\\xec\\xd9%\\xfa\\xb8\\xf1KD\\x94\\x93N:\\xa9\\xfc\\xf2\\x97\\xbf,;v\\xec([\\xb7n-7\\xddtS\\xfd\\xb3\\x1a{\\xde\\xf4\\xa4vC\\x86\\xab\\xaf\\xbe\\xba>\\xad\\xa7\\'\\x9ex\\xa2\\xfe\\xb1\\x0bW]uU\\xd9\\xb1cG}\\xde\\xe6\\xcd\\x9b\\xcb\\xd4\\xa9SKD\\x94K.\\xb9\\xa4\\x94\\xee\\x1b\\x7f\\xd4\\xee\\x96;c\\xc6\\x8c\\xb2~\\xfd\\xfa\\xf2\\xdak\\xaf\\x95\\x9d;w\\x96\\x87\\x1f~\\xb8\\xcc\\x981\\xa3D\\xf7\\xdds\\xab,_e\\x9bJ)\\xe5\\xd1G\\x1f\\xad\\xdf\\xc0g\\xce\\x9c9\\xe5\\xe9\\xa7\\x9f.;w\\xee,\\x1b6l(\\x17^xa}^\\xbb7=\\xda\\xb8qc}\\x9d\\xb9s\\xe7\\x96\\xc7\\x1f\\x7f\\xbc\\xec\\xda\\xb5\\xab\\xfc\\xe3\\x1f\\xff(K\\x97.\\xad\\x7f|\\xd1\\x9dw\\xdeYJ\\x93\\x8f;z\\xe4\\x91G\\xca\\xce\\x9d;\\xcb\\xb6m\\xdb\\xca\\xad\\xb7\\xdeZF\\x8f\\x1e]\"\\xa2\\xcc\\x9b7\\xaf\\xfe3\\x1c\\x1f\\x9d/_e\\x9b\\xca\\x10\\x1c\\x1f\\x03\\xd5\\xdf\\xcdm~\\xf6\\xb3\\x9f\\x95\\x88(\\x17]tQ}Z\\xb3u\\xaa\\xecW\\x95u\\xaa\\x8cy\\xedx\\xbc\\xf4\\xd2K\\xeb\\xd3zj\\xb6\\x8f}9P\\xc7I\\x7f\\xe7C\\xb3\\xc7\\xa0\\xd3\\x9fSe_\\xfa\\xb2o\\xdf\\xbe\\xf2\\xb6\\xb7\\xbd\\xadD\\xf7\\r#\\xff\\xf4\\xa7?\\x95\\xdd\\xbbw\\x97\\x17^x\\xa1\\xacZ\\xb5\\xaa\\xbc\\xfb\\xdd\\xef.\\xd1}M\\xe8yS\\x9e\\xfe\\xf6\\xb3\\xd3}j\\xa5\\xca\\xfen\\xda\\xb4\\xa9\\xbe\\xdd\\x0b\\x16,(\\x7f\\xfb\\xdb\\xdf\\xca\\xeb\\xaf\\xbf^\\x1ex\\xe0\\x81\\xfaG\\x0fE\\x1f7\\x01\\x8c\\x0e\\xae\\x7fU\\xd6\\xa9r\\xad\\xefo\\xbcK)\\xf5\\x9f\\xf5\\xab_\\xfd\\xaa\\xd7\\xf4*\\x8fE\\x95s| \\x9a\\xdd\\x04\\xb0\\x0c\\xe1X\\xf5\\xa5\\xcaX\\xbd\\xf4\\xd2K\\xf5\\xcf\\xa3^\\xb4hQ}\\xfa\\xf5\\xd7__\"\\xa2L\\x9c8\\xb1l\\xdb\\xb6\\xad\\x94\\x01\\x9co\\xc3\\xe1\\xb9~0\\xae]C\\xa9\\xea\\xd8\\xder\\xcb-%\\xbao:W{\\x9c\\x06\\xc3\\x9e={\\xca\\xc4\\x89\\x13\\xcb\\xd8\\xb1c\\xcb\\xf8\\xf1\\xe3\\xcb\\xb1\\xc7\\x1e[^\\x7f\\xfd\\xf5^\\xcbT\\xdd\\xe6f\\x8fE;l\\xd3\\xa1\\xa5\\xd3\\xf3\\xb8\\xea8\\x96\\x16\\xcf/\\xad\\xe6U\\xb9>\\xf4w\\xfd\\x1e\\xcc\\xd7\\x85\\x07\\xda\\xb0\\x08\\x00\\xe7\\x9f\\x7f~\\xfd3j\\x1b\\xbf>\\xf5\\xa9O\\x95\\xff\\xfe\\xf7\\xbf\\xf5u\\xfa{0J)e\\xd5\\xaaU\\xf5_h\\x0f?\\xfc\\xf0r\\xee\\xb9\\xe7\\x96s\\xce9\\xa7\\x8c\\x1c9\\xb2DD9\\xed\\xb4\\xd3\\xca\\xf3\\xcf?__\\xfe\\xfe\\xfb\\xef\\xaf?q7\\xfb\\x1a7n\\\\y\\xf4\\xd1G+/_*lS)\\xa5|\\xff\\xfb\\xdf/#F\\x8c\\xd8\\xef\\xfb\\x1fu\\xd4Q\\xe5\\x86\\x1bn(\\xd1\\xe4\\x05\\xcf\\xd9g\\x9f]\"\\xa2\\\\w\\xddu\\xbd\\xa6\\x97R\\xca\\xf2\\xe5\\xcb\\x9b~\\xbf\\xda\\xd7\\xe7>\\xf7\\xb9^\\xcb/]\\xba\\xb4\\xd7]\\x84\\x1b\\xbf>\\xf2\\x91\\x8f\\x94\\x9d;w\\xd6\\x97w|T[\\xbeT\\xd8\\xa6R\\xf1\\xf8hG\\xabc\\xa8/\\xfd=\\xb15\\xbb\\x08\\xf6\\xb5N\\x95\\xfd\\xaa\\xb2N\\xa7c>\\xd8\\x17\\xfa\\x03q\\x9c\\xf4w>\\xf4\\xf5\\x18t\\xfas\\xaa\\xecK_\\x96/_\\xbe\\xdf\\xfa=\\xbf\\xcf7\\xbe\\xf1\\x8d\\x12\\rw \\xefo?K\\x85}j\\xa5\\xca\\xfe^}\\xf5\\xd5\\xfb-\\x17\\xdd\\x1f/T\\xdb\\xa7f\\x01\\xa0\\x93\\xeb_\\x95uJ\\x85k};\\xe3}\\xd6Yg\\xf5\\xfa\\x1e=?\\xf7\\xbd\\xcacQ\\xe5\\x1c\\xafr-+-\\x02@\\x19\\xa2\\xb1j\\xa5\\x93\\xb1\\xea\\xea\\xea*\\x97]vY\\x89\\x88\\xf2\\xde\\xf7\\xbe\\xb7\\xbc\\xf1\\xc6\\x1b\\xf5\\xef\\xb3{\\xf7\\xeer\\xdey\\xe7\\x95\\xe8\\xbe\\x86uuu\\x95R\\xf1|\\x1b\\x0e\\xcf\\xf5\\x83u\\xed*\\x038N\\xfa\\xd3\\xe9\\xd8\\xee\\xd9\\xb3\\xa7~\\x97\\xf4v\\xbez\\xeeG;\\xfb\\xf0\\xe5/\\x7f\\xb9\\xbe\\xee\\x82\\x05\\x0b\\x1ag\\x97Ra\\x9bK\\x8b\\xc7\\xc26\\xb5\\xb7M\\xedhg\\xbb\\x9b\\xa9\\x9dO_\\xfd\\xeaW\\x1bgU\\x9e\\xd7\\x97*\\xe7q\\x95q,\\xfd<\\xbf\\xb4\\x9a\\xd7\\xe9\\xf5\\xa1\\xbf\\xeb\\xf7`\\xbf.<\\x90\\x86\\xc5?\\x018\\xee\\xb8\\xe3b\\xfd\\xfa\\xf51g\\xce\\x9c\\x18?~|\\x1c}\\xf4\\xd1q\\xc1\\x05\\x17\\xc4\\xaaU\\xab\\xe2\\x17\\xbf\\xf8E\\xc77\\x92\\xf9\\xccg>\\x13\\x8f?\\xfex\\xcc\\x9f??N>\\xf9\\xe4\\xd8\\xbcys\\xbc\\xf4\\xd2K1m\\xda\\xb4X\\xb2dI<\\xf5\\xd4Sq\\xea\\xa9\\xa7\\xd6\\x97\\x9f9sf}\\xf9)S\\xa6\\xc4\\xb8q\\xe3b\\xec\\xd8\\xb11u\\xea\\xd4X\\xb8pa<\\xf5\\xd4S\\xf1\\xfe\\xf7\\xbf\\xbf\\xf2\\xf2Qa\\x9b\"\">\\xff\\xf9\\xcf\\xc7\\xfa\\xf5\\xebc\\xd6\\xacY\\xf1\\x96\\xb7\\xbc%F\\x8f\\x1e\\x1d\\x17_|q<\\xf0\\xc0\\x03\\xf1\\xbe\\xf7\\xbd\\xaf\\xd7\\xb2\\xed\\xb8\\xf6\\xdak\\xe3\\xa1\\x87\\x1e\\x8aO~\\xf2\\x93q\\xe2\\x89\\'\\xc6\\x91G\\x1e\\x19\\xa7\\x9crJ|\\xf4\\xa3\\x1f\\x8d{\\xee\\xb9\\'~\\xf0\\x83\\x1f\\xf4Z\\xfeK_\\xfaRl\\xdc\\xb81\\xe6\\xce\\x9d\\x1b\\xa7\\x9crJ\\x1cq\\xc4\\x111a\\xc2\\x84\\xb8\\xec\\xb2\\xcbb\\xed\\xda\\xb5\\xf1\\xfb\\xdf\\xff\\xbe~w\\xf7\\xa1\\xe4\\xf8\\xd8\\x7f\\x9bb\\x08\\x8e\\x8f\\xe1\\xa2\\xca~UY\\xa7\\xca\\x98\\x0f\\xa6\\x03u\\x9cT\\xd1\\xe9\\xcf\\xa9\\xb2/}\\xb9\\xf6\\xdakc\\xed\\xda\\xb5q\\xc9%\\x97\\xc4\\xf1\\xc7\\x1f\\x1f\\xa3F\\x8d\\x8a)S\\xa6\\xc4\\xd7\\xbe\\xf6\\xb5\\xd8\\xb4iS|\\xf3\\x9b\\xdf\\x8c\\xf1\\xe3\\xc7\\xc7_\\xff\\xfa\\xd7>\\xff-v3\\x9d\\xeeS+U\\xf6w\\xe5\\xca\\x95\\xb1l\\xd9\\xb2\\x986mZ\\x8c\\x1e=:&L\\x98\\x10W\\\\qEl\\xd8\\xb0!.\\xbf\\xfc\\xf2^\\xcb\\xf6T\\xe5\\xfa\\xd7\\xe9:Cq\\xad\\xff\\xd1\\x8f~\\x14\\xe7\\x9f\\x7f~}__~\\xf9\\xe5\\xfa\\xbc*\\x8fE\\x95s|(\\x0c\\xc5X\\xb5\\xd2\\xc9X-^\\xbc8\\xee\\xbd\\xf7\\xde8\\xe6\\x98cb\\xf5\\xea\\xd5\\xbdnLu\\xd4QG\\xc5\\xea\\xd5\\xabc\\xcc\\x981q\\xff\\xfd\\xf7\\xc7\\xf7\\xbe\\xf7\\xbd\\x88!<\\xdf\\xaa\\xe8\\xf4\\xb8m\\xa6\\x93\\xf1\\x1aj\\x9d\\x8e\\xed3\\xcf<\\x13\\xaf\\xbc\\xf2J\\xe3\\xb7\\x194\\x9f\\xfd\\xecg\\xe3\\xb0\\xc3\\x0e\\x8bh\\xf2\\xb6\\xf6\\x9aN\\xb7y\\xa0l\\xd3\\xa1\\xa7\\x93\\xf3\\xb8\\xea8\\xb6z~i5o8]\\x1f\\xdet\\x8dE\\xe0@\\xea\\xaf\\x9cP\\xcd\\xcc\\x993\\xcb\\xb7\\xbe\\xf5\\xad\\xc6\\xc9\\x07\\x1d\\xc7\\xc7\\x9b\\xe7P9\\x86\\xe0`U\\xe5\\xfaWe\\x9dC\\x9dk\\xd9\\xf0\\xe7\\xb8=t\\r\\xc7\\xf3o8nS;\\x86\\xfbv;\\x8f\\x0f.\\xc3\\xe2\\x1d\\x00\\x0c\\x9e\\xdf\\xfd\\xeew\\xb1n\\xdd\\xba\\xfaM\\xff\\xa0S\\x8e!\\xe0P\\xe0Z\\x06o\\x9e\\xe1x\\xfe\\r\\xc7mj\\xc7\\xc1\\xba\\xdd\\x0c_\\x02\\xc0!\\xe6\\xe7?\\xffy,Y\\xb2$.\\xba\\xe8\\xa2\\xc6Y\\xd0\\x16\\xc7\\x10p(p-\\x837\\xcfp<\\xff\\x86\\xe36\\xb5\\xe3`\\xddn\\x86\\xaf\\xff}\\xa8-\\x87\\x8c\\xdaGf@U\\x8e!\\xe0P\\xe0Z\\x06o\\x9e\\xe1x\\xfe\\r\\xc7mj\\xc7\\xc1\\xba\\xdd\\x0c_\\xde\\x01\\x00\\x00\\x00\\x00\\t\\x1cVJ)\\x8d\\x13\\x01\\x00\\x00\\x80C\\x8bw\\x00\\x00\\x00\\x00@\\x02\\x02\\x00\\x00\\x00\\x00$ \\x00\\x00\\x00\\x00@\\x02\\x02\\x00\\x00\\x00\\x00$ \\x00\\x00\\x00\\x00@\\x02\\x02\\x00\\x00\\x00\\x00$ \\x00\\x00\\x00\\x00@\\x02\\x02\\x00\\x00\\x00\\x00$ \\x00\\x00\\x00\\x00@\\x02\\x02\\x00\\x00\\x00\\x00$ \\x00\\x00\\x00\\x00@\\x02\\x02\\x00\\x00\\x00\\x00$ \\x00\\x00\\x00\\x00@\\x02\\x02\\x00\\x00\\x00\\x00$ \\x00\\x00\\x00\\x00@\\x02\\x02\\x00\\x00\\x00\\x00$ \\x00\\x00\\x00\\x00@\\x02\\x02\\x00\\x00\\x00\\x00$ \\x00\\x00\\x00\\x00@\\x02\\x02\\x00\\x00\\x00\\x00$ \\x00\\x00\\x00\\x00@\\x02\\x02\\x00\\x00\\x00\\x00$ \\x00\\x00\\x00\\x00@\\x02\\x02\\x00\\x00\\x00\\x00$ \\x00\\x00\\x00\\x00@\\x02\\x02\\x00\\x00\\x00\\x00$ \\x00\\x00\\x00\\x00@\\x02\\x02\\x00\\x00\\x00\\x00$ \\x00\\x00\\x00\\x00@\\x02\\x02\\x00\\x00\\x00\\x00$ \\x00\\x00\\x00\\x00@\\x02\\x02\\x00\\x00\\x00\\x00$ \\x00\\x00\\x00\\x00@\\x02\\x02\\x00\\x00\\x00\\x00$ \\x00\\x00\\x00\\x00@\\x02\\x02\\x00\\x00\\x00\\x00$ \\x00\\x00\\x00\\x00@\\x02\\x02\\x00\\x00\\x00\\x00$ \\x00\\x00\\x00\\x00@\\x02\\x02\\x00\\x00\\x00\\x00$ \\x00\\x00\\x00\\x00@\\x02\\x02\\x00\\x00\\x00\\x00$ \\x00\\x00\\x00\\x00@\\x02\\x02\\x00\\x00\\x00\\x00$ \\x00\\x00\\x00\\x00@\\x02\\x02\\x00\\x00\\x00\\x00$ \\x00\\x00\\x00\\x00@\\x02\\x02\\x00\\x00\\x00\\x00$ \\x00\\x00\\x00\\x00@\\x02\\x02\\x00\\x00\\x00\\x00$ \\x00\\x00\\x00\\x00@\\x02\\x02\\x00\\x00\\x00\\x00$ \\x00\\x00\\x00\\x00@\\x02\\x02\\x00\\x00\\x00\\x00$ \\x00\\x00\\x00\\x00@\\x02\\x02\\x00\\x00\\x00\\x00$ \\x00\\x00\\x00\\x00@\\x02\\x02\\x00\\x00\\x00\\x00$ \\x00\\x00\\x00\\x00@\\x02\\x02\\x00\\x00\\x00\\x00$ \\x00\\x00\\x00\\x00@\\x02\\x02\\x00\\x00\\x00\\x00$ \\x00\\x00\\x00\\x00@\\x02\\x02\\x00\\x00\\x00\\x00$ \\x00\\x00\\x00\\x00@\\x02\\x02\\x00\\x00\\x00\\x00$ \\x00\\x00\\x00\\x00@\\x02\\x02\\x00\\x00\\x00\\x00$ \\x00\\x00\\x00\\x00@\\x02\\x02\\x00\\x00\\x00\\x00$ \\x00\\x00\\x00\\x00@\\x02\\x02\\x00\\x00\\x00\\x00$ \\x00\\x00\\x00\\x00@\\x02\\x02\\x00\\x00\\x00\\x00$ \\x00\\x00\\x00\\x00@\\x02\\x02\\x00\\x00\\x00\\x00$ \\x00\\x00\\x00\\x00@\\x02\\x02\\x00\\x00\\x00\\x00$ \\x00\\x00\\x00\\x00@\\x02\\x02\\x00\\x00\\x00\\x00$ \\x00\\x00\\x00\\x00@\\x02\\x02\\x00\\x00\\x00\\x00$ \\x00\\x00\\x00\\x00@\\x02\\x02\\x00\\x00\\x00\\x00$ \\x00\\x00\\x00\\x00@\\x02\\x02\\x00\\x00\\x00\\x00$ \\x00\\x00\\x00\\x00@\\x02\\x02\\x00\\x00\\x00\\x00$ \\x00\\x00\\x00\\x00@\\x02\\x02\\x00\\x00\\x00\\x00$ \\x00\\x00\\x00\\x00@\\x02\\x02\\x00\\x00\\x00\\x00$ \\x00\\x00\\x00\\x00@\\x02\\x02\\x00\\x00\\x00\\x00$ \\x00\\x00\\x00\\x00@\\x02\\x02\\x00\\x00\\x00\\x00$ \\x00\\x00\\x00\\x00@\\x02\\x02\\x00\\x00\\x00\\x00$ \\x00\\x00\\x00\\x00@\\x02\\x02\\x00\\x00\\x00\\x00$ \\x00\\x00\\x00\\x00@\\x02\\x02\\x00\\x00\\x00\\x00$ \\x00\\x00\\x00\\x00@\\x02\\x02\\x00\\x00\\x00\\x00$ \\x00\\x00\\x00\\x00@\\x02\\x02\\x00\\x00\\x00\\x00$ \\x00\\x00\\x00\\x00@\\x02\\x02\\x00\\x00\\x00\\x00$ \\x00\\x00\\x00\\x00@\\x02\\x02\\x00\\x00\\x00\\x00$ \\x00\\x00\\x00\\x00@\\x02\\x02\\x00\\x00\\x00\\x00$ \\x00\\x00\\x00\\x00@\\x02\\x02\\x00\\x00\\x00\\x00$ \\x00\\x00\\x00\\x00@\\x02\\x02\\x00\\x00\\x00\\x00$ \\x00\\x00\\x00\\x00@\\x02\\x02\\x00\\x00\\x00\\x00$ \\x00\\x00\\x00\\x00@\\x02\\x02\\x00\\x00\\x00\\x00$ \\x00\\x00\\x00\\x00@\\x02\\x02\\x00\\x00\\x00\\x00$ \\x00\\x00\\x00\\x00@\\x02\\x02\\x00\\x00\\x00\\x00$ \\x00\\x00\\x00\\x00@\\x02\\x02\\x00\\x00\\x00\\x00$ \\x00\\x00\\x00\\x00@\\x02\\x02\\x00\\x00\\x00\\x00$ \\x00\\x00\\x00\\x00@\\x02\\x02\\x00\\x00\\x00\\x00$ \\x00\\x00\\x00\\x00@\\x02\\x02\\x00\\x00\\x00\\x00$ \\x00\\x00\\x00\\x00@\\x02\\x02\\x00\\x00\\x00\\x00$ \\x00\\x00\\x00\\x00@\\x02\\x02\\x00\\x00\\x00\\x00$ \\x00\\x00\\x00\\x00@\\x02\\x02\\x00\\x00\\x00\\x00$ \\x00\\x00\\x00\\x00@\\x02\\x02\\x00\\x00\\x00\\x00$ \\x00\\x00\\x00\\x00@\\x02\\x02\\x00\\x00\\x00\\x00$ \\x00\\x00\\x00\\x00@\\x02\\x02\\x00\\x00\\x00\\x00$ \\x00\\x00\\x00\\x00@\\x02\\x02\\x00\\x00\\x00\\x00$ \\x00\\x00\\x00\\x00@\\x02\\x02\\x00\\x00\\x00\\x00$ \\x00\\x00\\x00\\x00@\\x02\\x02\\x00\\x00\\x00\\x00$ \\x00\\x00\\x00\\x00@\\x02\\x02\\x00\\x00\\x00\\x00$ \\x00\\x00\\x00\\x00@\\x02\\x02\\x00\\x00\\x00\\x00$ \\x00\\x00\\x00\\x00@\\x02\\x02\\x00\\x00\\x00\\x00$ \\x00\\x00\\x00\\x00@\\x02\\x02\\x00\\x00\\x00\\x00$ \\x00\\x00\\x00\\x00@\\x02\\x02\\x00\\x00\\x00\\x00$ \\x00\\x00\\x00\\x00@\\x02\\x02\\x00\\x00\\x00\\x00$ \\x00\\x00\\x00\\x00@\\x02\\x02\\x00\\x00\\x00\\x00$ \\x00\\x00\\x00\\x00@\\x02\\x02\\x00\\x00\\x00\\x00$ \\x00\\x00\\x00\\x00@\\x02\\x02\\x00\\x00\\x00\\x00$ \\x00\\x00\\x00\\x00@\\x02\\x02\\x00\\x00\\x00\\x00$ \\x00\\x00\\x00\\x00@\\x02\\x02\\x00\\x00\\x00\\x00$ \\x00\\x00\\x00\\x00@\\x02\\x02\\x00\\x00\\x00\\x00$ \\x00\\x00\\x00\\x00@\\x02\\x02\\x00\\x00\\x00\\x00$ \\x00\\x00\\x00\\x00@\\x02\\x02\\x00\\x00\\x00\\x00$ \\x00\\x00\\x00\\x00@\\x02\\x02\\x00\\x00\\x00\\x00$ \\x00\\x00\\x00\\x00@\\x02\\x02\\x00\\x00\\x00\\x00$ \\x00\\x00\\x00\\x00@\\x02\\x02\\x00\\x00\\x00\\x00$ \\x00\\x00\\x00\\x00@\\x02\\x02\\x00\\x00\\x00\\x00$ \\x00\\x00\\x00\\x00@\\x02\\x02\\x00\\x00\\x00\\x00$ \\x00\\x00\\x00\\x00@\\x02\\x02\\x00\\x00\\x00\\x00$ \\x00\\x00\\x00\\x00@\\x02\\x02\\x00\\x00\\x00\\x00$ \\x00\\x00\\x00\\x00@\\x02\\x02\\x00\\x00\\x00\\x00$ \\x00\\x00\\x00\\x00@\\x02\\x02\\x00\\x00\\x00\\x00$ \\x00\\x00\\x00\\x00@\\x02\\x02\\x00\\x00\\x00\\x00$ \\x00\\x00\\x00\\x00@\\x02\\x02\\x00\\x00\\x00\\x00$ \\x00\\x00\\x00\\x00@\\x02\\x02\\x00\\x00\\x00\\x00$ \\x00\\x00\\x00\\x00@\\x02\\x02\\x00\\x00\\x00\\x00$ \\x00\\x00\\x00\\x00@\\x02\\x02\\x00\\x00\\x00\\x00$ \\x00\\x00\\x00\\x00@\\x02\\x02\\x00\\x00\\x00\\x00$ \\x00\\x00\\x00\\x00@\\x02\\x02\\x00\\x00\\x00\\x00$ \\x00\\x00\\x00\\x00@\\x02\\x02\\x00\\x00\\x00\\x00$ \\x00\\x00\\x00\\x00@\\x02\\x02\\x00\\x00\\x00\\x00$ \\x00\\x00\\x00\\x00@\\x02\\x02\\x00\\x00\\x00\\x00$ \\x00\\x00\\x00\\x00@\\x02\\x02\\x00\\x00\\x00\\x00$ \\x00\\x00\\x00\\x00@\\x02\\x02\\x00\\x00\\x00\\x00$ \\x00\\x00\\x00\\x00@\\x02\\x02\\x00\\x00\\x00\\x00$ \\x00\\x00\\x00\\x00@\\x02\\x02\\x00\\x00\\x00\\x00$ \\x00\\x00\\x00\\x00@\\x02\\x02\\x00\\x00\\x00\\x00$ \\x00\\x00\\x00\\x00@\\x02\\x02\\x00\\x00\\x00\\x00$ \\x00\\x00\\x00\\x00@\\x02\\x02\\x00\\x00\\x00\\x00$ \\x00\\x00\\x00\\x00@\\x02\\x02\\x00\\x00\\x00\\x00$ \\x00\\x00\\x00\\x00@\\x02\\x02\\x00\\x00\\x00\\x00$ \\x00\\x00\\x00\\x00@\\x02\\x02\\x00\\x00\\x00\\x00$ \\x00\\x00\\x00\\x00@\\x02\\x02\\x00\\x00\\x00\\x00$ \\x00\\x00\\x00\\x00@\\x02\\x02\\x00\\x00\\x00\\x00$ \\x00\\x00\\x00\\x00@\\x02\\x02\\x00\\x00\\x00\\x00$ \\x00\\x00\\x00\\x00@\\x02\\x02\\x00\\x00\\x00\\x00$ \\x00\\x00\\x00\\x00@\\x02\\x02\\x00\\x00\\x00\\x00$ \\x00\\x00\\x00\\x00@\\x02\\x02\\x00\\x00\\x00\\x00$ \\x00\\x00\\x00\\x00@\\x02\\x02\\x00\\x00\\x00\\x00$ \\x00\\x00\\x00\\x00@\\x02\\x02\\x00\\x00\\x00\\x00$ \\x00\\x00\\x00\\x00@\\x02\\x02\\x00\\x00\\x00\\x00$ \\x00\\x00\\x00\\x00@\\x02\\x02\\x00\\x00\\x00\\x00$ \\x00\\x00\\x00\\x00@\\x02\\x02\\x00\\x00\\x00\\x00$ \\x00\\x00\\x00\\x00@\\x02\\x02\\x00\\x00\\x00\\x00$ \\x00\\x00\\x00\\x00@\\x02\\x02\\x00\\x00\\x00\\x00$ \\x00\\x00\\x00\\x00@\\x02\\x02\\x00\\x00\\x00\\x00$ \\x00\\x00\\x00\\x00@\\x02\\x02\\x00\\x00\\x00\\x00$ \\x00\\x00\\x00\\x00@\\x02\\x02\\x00\\x00\\x00\\x00$ \\x00\\x00\\x00\\x00@\\x02\\x02\\x00\\x00\\x00\\x00$ \\x00\\x00\\x00\\x00@\\x02\\x02A\\x06@\\xc9\\x00\\x00\\t}IDAT\\x00\\x00\\x00\\x00$ \\x00\\x00\\x00\\x00@\\x02\\x02\\x00\\x00\\x00\\x00$ \\x00\\x00\\x00\\x00@\\x02\\x02\\x00\\x00\\x00\\x00$ \\x00\\x00\\x00\\x00@\\x02\\x02\\x00\\x00\\x00\\x00$ \\x00\\x00\\x00\\x00@\\x02\\x02\\x00\\x00\\x00\\x00$ \\x00\\x00\\x00\\x00@\\x02\\x02\\x00\\x00\\x00\\x00$ \\x00\\x00\\x00\\x00@\\x02\\x02\\x00\\x00\\x00\\x00$ \\x00\\x00\\x00\\x00@\\x02\\x02\\x00\\x00\\x00\\x00$ \\x00\\x00\\x00\\x00@\\x02\\x02\\x00\\x00\\x00\\x00$ \\x00\\x00\\x00\\x00@\\x02\\x02\\x00\\x00\\x00\\x00$ \\x00\\x00\\x00\\x00@\\x02\\x02\\x00\\x00\\x00\\x00$ \\x00\\x00\\x00\\x00@\\x02\\x02\\x00\\x00\\x00\\x00$ \\x00\\x00\\x00\\x00@\\x02\\x02\\x00\\x00\\x00\\x00$ \\x00\\x00\\x00\\x00@\\x02\\x02\\x00\\x00\\x00\\x00$ \\x00\\x00\\x00\\x00@\\x02\\x02\\x00\\x00\\x00\\x00$ \\x00\\x00\\x00\\x00@\\x02\\x02\\x00\\x00\\x00\\x00$ \\x00\\x00\\x00\\x00@\\x02\\x02\\x00\\x00\\x00\\x00$ \\x00\\x00\\x00\\x00@\\x02\\x02\\x00\\x00\\x00\\x00$ \\x00\\x00\\x00\\x00@\\x02\\x02\\x00\\x00\\x00\\x00$ \\x00\\x00\\x00\\x00@\\x02\\x02\\x00\\x00\\x00\\x00$ \\x00\\x00\\x00\\x00@\\x02\\x02\\x00\\x00\\x00\\x00$ \\x00\\x00\\x00\\x00@\\x02\\x02\\x00\\x00\\x00\\x00$ \\x00\\x00\\x00\\x00@\\x02\\x02\\x00\\x00\\x00\\x00$ \\x00\\x00\\x00\\x00@\\x02\\x02\\x00\\x00\\x00\\x00$ \\x00\\x00\\x00\\x00@\\x02\\x02\\x00\\x00\\x00\\x00$ \\x00\\x00\\x00\\x00@\\x02\\x02\\x00\\x00\\x00\\x00$ \\x00\\x00\\x00\\x00@\\x02\\x02\\x00\\x00\\x00\\x00$ \\x00\\x00\\x00\\x00@\\x02\\x02\\x00\\x00\\x00\\x00$ \\x00\\x00\\x00\\x00@\\x02\\x02\\x00\\x00\\x00\\x00$ \\x00\\x00\\x00\\x00@\\x02\\x02\\x00\\x00\\x00\\x00$ \\x00\\x00\\x00\\x00@\\x02\\x02\\x00\\x00\\x00\\x00$ \\x00\\x00\\x00\\x00@\\x02\\x02\\x00\\x00\\x00\\x00$ \\x00\\x00\\x00\\x00@\\x02\\x02\\x00\\x00\\x00\\x00$ \\x00\\x00\\x00\\x00@\\x02\\x02\\x00\\x00\\x00\\x00$ \\x00\\x00\\x00\\x00@\\x02\\x02\\x00\\x00\\x00\\x00$ \\x00\\x00\\x00\\x00@\\x02\\x02\\x00\\x00\\x00\\x00$ \\x00\\x00\\x00\\x00@\\x02\\x02\\x00\\x00\\x00\\x00$ \\x00\\x00\\x00\\x00@\\x02\\x02\\x00\\x00\\x00\\x00$ \\x00\\x00\\x00\\x00@\\x02\\x02\\x00\\x00\\x00\\x00$ \\x00\\x00\\x00\\x00@\\x02\\x02\\x00\\x00\\x00\\x00$ \\x00\\x00\\x00\\x00@\\x02\\x02\\x00\\x00\\x00\\x00$ \\x00\\x00\\x00\\x00@\\x02\\x02\\x00\\x00\\x00\\x00$ \\x00\\x00\\x00\\x00@\\x02\\x02\\x00\\x00\\x00\\x00$ \\x00\\x00\\x00\\x00@\\x02\\x02\\x00\\x00\\x00\\x00$ \\x00\\x00\\x00\\x00@\\x02\\x02\\x00\\x00\\x00\\x00$ \\x00\\x00\\x00\\x00@\\x02\\x02\\x00\\x00\\x00\\x00$ \\x00\\x00\\x00\\x00@\\x02\\x02\\x00\\x00\\x00\\x00$ \\x00\\x00\\x00\\x00@\\x02\\x02\\x00\\x00\\x00\\x00$ \\x00\\x00\\x00\\x00@\\x02\\x02\\x00\\x00\\x00\\x00$ \\x00\\x00\\x00\\x00@\\x02\\x02\\x00\\x00\\x00\\x00$ \\x00\\x00\\x00\\x00@\\x02\\x02\\x00\\x00\\x00\\x00$ \\x00\\x00\\x00\\x00@\\x02\\x02\\x00\\x00\\x00\\x00$ \\x00\\x00\\x00\\x00@\\x02\\x02\\x00\\x00\\x00\\x00$ \\x00\\x00\\x00\\x00@\\x02\\x02\\x00\\x00\\x00\\x00$ \\x00\\x00\\x00\\x00@\\x02\\x02\\x00\\x00\\x00\\x00$ \\x00\\x00\\x00\\x00@\\x02\\x02\\x00\\x00\\x00\\x00$ \\x00\\x00\\x00\\x00@\\x02\\x02\\x00\\x00\\x00\\x00$ \\x00\\x00\\x00\\x00@\\x02\\x02\\x00\\x00\\x00\\x00$ \\x00\\x00\\x00\\x00@\\x02\\x02\\x00\\x00\\x00\\x00$ \\x00\\x00\\x00\\x00@\\x02\\x02\\x00\\x00\\x00\\x00$ \\x00\\x00\\x00\\x00@\\x02\\x02\\x00\\x00\\x00\\x00$ \\x00\\x00\\x00\\x00@\\x02\\x02\\x00\\x00\\x00\\x00$ \\x00\\x00\\x00\\x00@\\x02\\x02\\x00\\x00\\x00\\x00$ \\x00\\x00\\x00\\x00@\\x02\\x02\\x00\\x00\\x00\\x00$ \\x00\\x00\\x00\\x00@\\x02\\x02\\x00\\x00\\x00\\x00$ \\x00\\x00\\x00\\x00@\\x02\\x02\\x00\\x00\\x00\\x00$ \\x00\\x00\\x00\\x00@\\x02\\x02\\x00\\x00\\x00\\x00$ \\x00\\x00\\x00\\x00@\\x02\\x02\\x00\\x00\\x00\\x00$ \\x00\\x00\\x00\\x00@\\x02\\x02\\x00\\x00\\x00\\x00$ \\x00\\x00\\x00\\x00@\\x02\\x02\\x00\\x00\\x00\\x00$ \\x00\\x00\\x00\\x00@\\x02\\x02\\x00\\x00\\x00\\x00$ \\x00\\x00\\x00\\x00@\\x02\\x02\\x00\\x00\\x00\\x00$ \\x00\\x00\\x00\\x00@\\x02\\x02\\x00\\x00\\x00\\x00$ \\x00\\x00\\x00\\x00@\\x02\\x02\\x00\\x00\\x00\\x00$ \\x00\\x00\\x00\\x00@\\x02\\x02\\x00\\x00\\x00\\x00$ \\x00\\x00\\x00\\x00@\\x02\\x02\\x00\\x00\\x00\\x00$ \\x00\\x00\\x00\\x00@\\x02\\x02\\x00\\x00\\x00\\x00$ \\x00\\x00\\x00\\x00@\\x02\\x02\\x00\\x00\\x00\\x00$ \\x00\\x00\\x00\\x00@\\x02\\x02\\x00\\x00\\x00\\x00$ \\x00\\x00\\x00\\x00@\\x02\\x02\\x00\\x00\\x00\\x00$ \\x00\\x00\\x00\\x00@\\x02\\x02\\x00\\x00\\x00\\x00$ \\x00\\x00\\x00\\x00@\\x02\\x02\\x00\\x00\\x00\\x00$ \\x00\\x00\\x00\\x00@\\x02\\x02\\x00\\x00\\x00\\x00$ \\x00\\x00\\x00\\x00@\\x02\\x02\\x00\\x00\\x00\\x00$ \\x00\\x00\\x00\\x00@\\x02\\x02\\x00\\x00\\x00\\x00$ \\x00\\x00\\x00\\x00@\\x02\\x02\\x00\\x00\\x00\\x00$ \\x00\\x00\\x00\\x00@\\x02\\x02\\x00\\x00\\x00\\x00$ \\x00\\x00\\x00\\x00@\\x02\\x02\\x00\\x00\\x00\\x00$ \\x00\\x00\\x00\\x00@\\x02\\x02\\x00\\x00\\x00\\x00$ \\x00\\x00\\x00\\x00@\\x02\\x02\\x00\\x00\\x00\\x00$ \\x00\\x00\\x00\\x00@\\x02\\x02\\x00\\x00\\x00\\x00$ \\x00\\x00\\x00\\x00@\\x02\\x02\\x00\\x00\\x00\\x00$ \\x00\\x00\\x00\\x00@\\x02\\x02\\x00\\x00\\x00\\x00$ \\x00\\x00\\x00\\x00@\\x02\\x02\\x00\\x00\\x00\\x00$ \\x00\\x00\\x00\\x00@\\x02\\x02\\x00\\x00\\x00\\x00$ \\x00\\x00\\x00\\x00@\\x02\\x02\\x00\\x00\\x00\\x00$ \\x00\\x00\\x00\\x00@\\x02\\x02\\x00\\x00\\x00\\x00$ \\x00\\x00\\x00\\x00@\\x02\\x02\\x00\\x00\\x00\\x00$ \\x00\\x00\\x00\\x00@\\x02\\x02\\x00\\x00\\x00\\x00$ \\x00\\x00\\x00\\x00@\\x02\\x02\\x00\\x00\\x00\\x00$ \\x00\\x00\\x00\\x00@\\x02\\x02\\x00\\x00\\x00\\x00$ \\x00\\x00\\x00\\x00@\\x02\\x02\\x00\\x00\\x00\\x00$ \\x00\\x00\\x00\\x00@\\x02\\x02\\x00\\x00\\x00\\x00$ \\x00\\x00\\x00\\x00@\\x02\\x02\\x00\\x00\\x00\\x00$ \\x00\\x00\\x00\\x00@\\x02\\x02\\x00\\x00\\x00\\x00$ \\x00\\x00\\x00\\x00@\\x02\\x02\\x00\\x00\\x00\\x00$ \\x00\\x00\\x00\\x00@\\x02\\x02\\x00\\x00\\x00\\x00$ \\x00\\x00\\x00\\x00@\\x02\\x02\\x00\\x00\\x00\\x00$ \\x00\\x00\\x00\\x00@\\x02\\x02\\x00\\x00\\x00\\x00$ \\x00\\x00\\x00\\x00@\\x02\\x02\\x00\\x00\\x00\\x00$ \\x00\\x00\\x00\\x00@\\x02\\x02\\x00\\x00\\x00\\x00$ \\x00\\x00\\x00\\x00@\\x02\\x02\\x00\\x00\\x00\\x00$ \\x00\\x00\\x00\\x00@\\x02\\x02\\x00\\x00\\x00\\x00$ \\x00\\x00\\x00\\x00@\\x02\\x02\\x00\\x00\\x00\\x00$ \\x00\\x00\\x00\\x00@\\x02\\x02\\x00\\x00\\x00\\x00$ \\x00\\x00\\x00\\x00@\\x02\\x02\\x00\\x00\\x00\\x00$ \\x00\\x00\\x00\\x00@\\x02\\x02\\x00\\x00\\x00\\x00$ \\x00\\x00\\x00\\x00@\\x02\\x02\\x00\\x00\\x00\\x00$ \\x00\\x00\\x00\\x00@\\x02\\x02\\x00\\x00\\x00\\x00$ \\x00\\x00\\x00\\x00@\\x02\\x02\\x00\\x00\\x00\\x00$ \\x00\\x00\\x00\\x00@\\x02\\x02\\x00\\x00\\x00\\x00$ \\x00\\x00\\x00\\x00@\\x02\\x02\\x00\\x00\\x00\\x00$ \\x00\\x00\\x00\\x00@\\x02\\x02\\x00\\x00\\x00\\x00$ \\x00\\x00\\x00\\x00@\\x02\\x02\\x00\\x00\\x00\\x00$ \\x00\\x00\\x00\\x00@\\x02\\x02\\x00\\x00\\x00\\x00$ \\x00\\x00\\x00\\x00@\\x02\\x02\\x00\\x00\\x00\\x00$ \\x00\\x00\\x00\\x00@\\x02\\x02\\x00\\x00\\x00\\x00$ \\x00\\x00\\x00\\x00@\\x02\\x02\\x00\\x00\\x00\\x00$ \\x00\\x00\\x00\\x00@\\x02\\x02\\x00\\x00\\x00\\x00$ \\x00\\x00\\x00\\x00@\\x02\\x02\\x00\\x00\\x00\\x00$ \\x00\\x00\\x00\\x00@\\x02\\x02\\x00\\x00\\x00\\x00$ \\x00\\x00\\x00\\x00@\\x02\\x02\\x00\\x00\\x00\\x00$ \\x00\\x00\\x00\\x00@\\x02\\x02\\x00\\x00\\x00\\x00$ \\x00\\x00\\x00\\x00@\\x02\\x02\\x00\\x00\\x00\\x00$ \\x00\\x00\\x00\\x00@\\x02\\x02\\x00\\x00\\x00\\x00$ \\x00\\x00\\x00\\x00@\\x02\\x02\\x00\\x00\\x00\\x00$ \\x00\\x00\\x00\\x00@\\x02\\x02\\x00\\x00\\x00\\x00$ \\x00\\x00\\x00\\x00@\\x02\\x02\\x00\\x00\\x00\\x00$ \\x00\\x00\\x00\\x00@\\x02\\x02\\x00\\x00\\x00\\x00$ \\x00\\x00\\x00\\x00@\\x02\\x02\\x00\\x00\\x00\\x00$ \\x00\\x00\\x00\\x00@\\x02\\x02\\x00\\x00\\x00\\x00$ \\x00\\x00\\x00\\x00@\\x02\\x02\\x00\\x00\\x00\\x00$ \\x00\\x00\\x00\\x00@\\x02\\x02\\x00\\x00\\x00\\x00$ \\x00\\x00\\x00\\x00@\\x02\\x02\\x00\\x00\\x00\\x00$ \\x00\\x00\\x00\\x00@\\x02\\x02\\x00\\x00\\x00\\x00$ \\x00\\x00\\x00\\x00@\\x02\\x02\\x00\\x00\\x00\\x00$ \\x00\\x00\\x00\\x00@\\x02\\x02\\x00\\x00\\x00\\x00$ \\x00\\x00\\x00\\x00@\\x02\\x02\\x00\\x00\\x00\\x00$ \\x00\\x00\\x00\\x00@\\x02\\x02\\x00\\x00\\x00\\x00$ \\x00\\x00\\x00\\x00@\\x02\\x02\\x00\\x00\\x00\\x00$ \\x00\\x00\\x00\\x00@\\x02\\x02\\x00\\x00\\x00\\x00$ \\x00\\x00\\x00\\x00@\\x02\\x02\\x00\\x00\\x00\\x00$ \\x00\\x00\\x00\\x00@\\x02\\x02\\x00\\x00\\x00\\x00$ \\x00\\x00\\x00\\x00@\\x02\\x02\\x00\\x00\\x00\\x00$ \\x00\\x00\\x00\\x00@\\x02\\x02\\x00\\x00\\x00\\x00$ \\x00\\x00\\x00\\x00@\\x02\\x02\\x00\\x00\\x00\\x00$ \\x00\\x00\\x00\\x00@\\x02\\x02\\x00\\x00\\x00\\x00$ \\x00\\x00\\x00\\x00@\\x02\\x02\\x00\\x00\\x00\\x00$ \\x00\\x00\\x00\\x00@\\x02\\x02\\x00\\x00\\x00\\x00$ \\x00\\x00\\x00\\x00@\\x02\\x02\\x00\\x00\\x00\\x00$ \\x00\\x00\\x00\\x00@\\x02\\x02\\x00\\x00\\x00\\x00$ \\x00\\x00\\x00\\x00@\\x02\\x02\\x00\\x00\\x00\\x00$ \\x00\\x00\\x00\\x00@\\x02\\x02\\x00\\x00\\x00\\x00$ \\x00\\x00\\x00\\x00@\\x02\\x02\\x00\\x00\\x00\\x00$ \\x00\\x00\\x00\\x00@\\x02\\x02\\x00\\x00\\x00\\x00$ \\x00\\x00\\x00\\x00@\\x02\\x02\\x00\\x00\\x00\\x00$ \\x00\\x00\\x00\\x00@\\x02\\x02\\x00\\x00\\x00\\x00$ \\x00\\x00\\x00\\x00@\\x02\\x02\\x00\\x00\\x00\\x00$ \\x00\\x00\\x00\\x00@\\x02\\x02\\x00\\x00\\x00\\x00$ \\x00\\x00\\x00\\x00@\\x02\\x02\\x00\\x00\\x00\\x00$ \\x00\\x00\\x00\\x00@\\x02\\x02\\x00\\x00\\x00\\x00$ \\x00\\x00\\x00\\x00@\\x02\\x02\\x00\\x00\\x00\\x00$ \\x00\\x00\\x00\\x00@\\x02\\x02\\x00\\x00\\x00\\x00$ \\x00\\x00\\x00\\x00@\\x02\\x02\\x00\\x00\\x00\\x00$ \\x00\\x00\\x00\\x00@\\x02\\x02\\x00\\x00\\x00\\x00$ \\x00\\x00\\x00\\x00@\\x02\\x02\\x00\\x00\\x00\\x00$ \\x00\\x00\\x00\\x00@\\x02\\x02\\x00\\x00\\x00\\x00$ \\x00\\x00\\x00\\x00@\\x02\\x02\\x00\\x00\\x00\\x00$ \\x00\\x00\\x00\\x00@\\x02\\x02\\x00\\x00\\x00\\x00$ \\x00\\x00\\x00\\x00@\\x02\\x02\\x00\\x00\\x00\\x00$ \\x00\\x00\\x00\\x00@\\x02\\x02\\x00\\x00\\x00\\x00$ \\x00\\x00\\x00\\x00@\\x02\\x02\\x00\\x00\\x00\\x00$ \\x00\\x00\\x00\\x00@\\x02\\x02\\x00\\x00\\x00\\x00$ \\x00\\x00\\x00\\x00@\\x02\\x02\\x00\\x00\\x00\\x00$ \\x00\\x00\\x00\\x00@\\x02\\x02\\x00\\x00\\x00\\x00$ \\x00\\x00\\x00\\x00@\\x02\\x02\\x00\\x00\\x00\\x00$ \\x00\\x00\\x00\\x00@\\x02\\x02\\x00\\x00\\x00\\x00$\\xf0\\x7f\\xb4\\xd0*\\x930\\xd3\\xc4\\xa2\\x00\\x00\\x00\\x00IEND\\xaeB`\\x82'"
      ]
     },
     "execution_count": 4,
     "metadata": {},
     "output_type": "execute_result"
    }
   ],
   "source": [
    "response.content"
   ]
  },
  {
   "cell_type": "code",
   "execution_count": 5,
   "metadata": {},
   "outputs": [
    {
     "data": {
      "text/plain": [
       "bytes"
      ]
     },
     "execution_count": 5,
     "metadata": {},
     "output_type": "execute_result"
    }
   ],
   "source": [
    "type(response.content)"
   ]
  },
  {
   "cell_type": "code",
   "execution_count": 5,
   "metadata": {},
   "outputs": [
    {
     "ename": "ModuleNotFoundError",
     "evalue": "No module named 'PIL'",
     "output_type": "error",
     "traceback": [
      "\u001b[1;31m---------------------------------------------------------------------------\u001b[0m",
      "\u001b[1;31mModuleNotFoundError\u001b[0m                       Traceback (most recent call last)",
      "Cell \u001b[1;32mIn [5], line 1\u001b[0m\n\u001b[1;32m----> 1\u001b[0m \u001b[39mfrom\u001b[39;00m \u001b[39mPIL\u001b[39;00m \u001b[39mimport\u001b[39;00m Image\n\u001b[0;32m      2\u001b[0m \u001b[39mfrom\u001b[39;00m \u001b[39mio\u001b[39;00m \u001b[39mimport\u001b[39;00m BytesIO\n\u001b[0;32m      4\u001b[0m image \u001b[39m=\u001b[39m Image\u001b[39m.\u001b[39mopen(BytesIO(response\u001b[39m.\u001b[39mcontent))\n",
      "\u001b[1;31mModuleNotFoundError\u001b[0m: No module named 'PIL'"
     ]
    }
   ],
   "source": [
    "from PIL import Image\n",
    "from io import BytesIO\n",
    "\n",
    "image = Image.open(BytesIO(response.content))\n",
    "image.show()"
   ]
  },
  {
   "cell_type": "code",
   "execution_count": 7,
   "metadata": {},
   "outputs": [],
   "source": [
    "import requests"
   ]
  },
  {
   "cell_type": "code",
   "execution_count": 12,
   "metadata": {},
   "outputs": [],
   "source": [
    "grafik_URL = 'https://image-charts.com/chart'\n",
    "\n",
    "payload = {\n",
    "    'chco': '3092de',\n",
    "    'chd': 't:81,65,50,67,59,81',\n",
    "    'chl': 'hiz|sut|pas|top_sürüs|defans|fizik',\n",
    "    'chd1': 'Falcao',\n",
    "    'chd1p': 'b',\n",
    "    'chs' : '480x480',\n",
    "    'cht' : 'r',\n",
    "    'chtt': 'Futbolcu Özellikleri'\n",
    "}\n",
    "\n",
    "response = requests.post(grafik_URL, data=payload)"
   ]
  },
  {
   "cell_type": "code",
   "execution_count": null,
   "metadata": {},
   "outputs": [],
   "source": [
    "image = Image.open(BytesIO(response.content))\n",
    "image.open()"
   ]
  },
  {
   "cell_type": "code",
   "execution_count": 18,
   "metadata": {},
   "outputs": [],
   "source": [
    "class Futbolcu():\n",
    "    def __init__(self, isim, hiz, sut, pas, top_surme, defans, fizik):\n",
    "        self.isim = isim\n",
    "        self.hiz = hiz \n",
    "        self.sut = sut\n",
    "        self.pas = pas\n",
    "        self.top_surme = top_surme\n",
    "        self.defans = defans\n",
    "        self.fizik = fizik\n",
    "\n",
    "    def yetenek_hazirla(self):\n",
    "        return ','.join([\n",
    "            str(self.hiz),  \n",
    "            str(self.sut), \n",
    "            str(self.pas), \n",
    "            str(self.top_surme), \n",
    "            str(self.defans), \n",
    "            str(self.fizik)\n",
    "            ])\n",
    "\n",
    "    def yetenek_gorsellestir(self):\n",
    "\n",
    "        grafik_URL = 'https://image-charts.com/chart'\n",
    "\n",
    "        payload = {\n",
    "            'chco': '3092de',\n",
    "            'chd': 't:' + self.yetenek_hazirla(),\n",
    "            'chl': 'hiz|sut|pas|top_sürüs|defans|fizik',\n",
    "            'chd1': self.isim,\n",
    "            'chd1p': 'b',\n",
    "            'chs' : '480x480',\n",
    "            'cht' : 'r',\n",
    "            'chtt': 'Futbolcu Özellikleri',\n",
    "            'chx1': '0: |0|20|40|60|80|100',\n",
    "            'chxt': 'x',\n",
    "            'chxr': '0,0.0,100.0',\n",
    "            'chm': 'B,AAAAAABB,0,0,0'\n",
    "            }"
   ]
  },
  {
   "cell_type": "code",
   "execution_count": 15,
   "metadata": {},
   "outputs": [],
   "source": [
    "messi = Futbolcu('Messi', 85, 92, 91, 95, 38, 65)\n",
    "ronaldo = Futbolcu('Ronaldo', 89, 93, 81, 89, 35, 77)"
   ]
  },
  {
   "cell_type": "code",
   "execution_count": 19,
   "metadata": {},
   "outputs": [
    {
     "ename": "AttributeError",
     "evalue": "'Futbolcu' object has no attribute 'yetenek_hazirla'",
     "output_type": "error",
     "traceback": [
      "\u001b[1;31m---------------------------------------------------------------------------\u001b[0m",
      "\u001b[1;31mAttributeError\u001b[0m                            Traceback (most recent call last)",
      "Cell \u001b[1;32mIn [19], line 1\u001b[0m\n\u001b[1;32m----> 1\u001b[0m messi\u001b[39m.\u001b[39;49myetenek_hazirla()\n",
      "\u001b[1;31mAttributeError\u001b[0m: 'Futbolcu' object has no attribute 'yetenek_hazirla'"
     ]
    }
   ],
   "source": [
    "messi.yetenek_hazirla()"
   ]
  }
 ],
 "metadata": {
  "kernelspec": {
   "display_name": "Python 3.11.0 64-bit (microsoft store)",
   "language": "python",
   "name": "python3"
  },
  "language_info": {
   "codemirror_mode": {
    "name": "ipython",
    "version": 3
   },
   "file_extension": ".py",
   "mimetype": "text/x-python",
   "name": "python",
   "nbconvert_exporter": "python",
   "pygments_lexer": "ipython3",
   "version": "3.11.1"
  },
  "orig_nbformat": 4,
  "vscode": {
   "interpreter": {
    "hash": "4395795c0bc8c4448d773fc2b5b6d7fa347e4114afc3bc6e1097a337bc3c7c3a"
   }
  }
 },
 "nbformat": 4,
 "nbformat_minor": 2
}
