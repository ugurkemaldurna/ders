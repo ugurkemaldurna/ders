{
 "cells": [
  {
   "cell_type": "markdown",
   "metadata": {},
   "source": [
    "### Çok Boyutlu Veri Tipleri (Dictionary)"
   ]
  },
  {
   "cell_type": "code",
   "execution_count": 1,
   "metadata": {},
   "outputs": [
    {
     "data": {
      "text/plain": [
       "{'isim': 'Uğur Kemal', 'yas': 19, 'lokasyon': 'Türkiye'}"
      ]
     },
     "execution_count": 1,
     "metadata": {},
     "output_type": "execute_result"
    }
   ],
   "source": [
    "dict1 = {\"isim\": \"Uğur Kemal\",\"yas\": 19,\"lokasyon\": \"Türkiye\"}\n",
    "dict1"
   ]
  },
  {
   "cell_type": "code",
   "execution_count": 2,
   "metadata": {},
   "outputs": [
    {
     "data": {
      "text/plain": [
       "{'isim': 'Uğur Kemal',\n",
       " 'yas': 19,\n",
       " 'dogdugu_sehir': 'İstanbul',\n",
       " 'yasadigi_sehir': 'Bursa'}"
      ]
     },
     "execution_count": 2,
     "metadata": {},
     "output_type": "execute_result"
    }
   ],
   "source": [
    "dict2 = {\n",
    "    'isim': 'Uğur Kemal',\n",
    "    'yas': 19,\n",
    "    'dogdugu_sehir': 'İstanbul',\n",
    "    'yasadigi_sehir': 'Bursa'\n",
    "    #'lokasyon': 'Türkiye'\n",
    "}\n",
    "dict2"
   ]
  },
  {
   "cell_type": "code",
   "execution_count": 3,
   "metadata": {},
   "outputs": [
    {
     "data": {
      "text/plain": [
       "{'isim': 'Uğur Kemal',\n",
       " 'yas': 19,\n",
       " 'lokasyon': {'dogdugu_sehir': 'İstanbul', 'yasadigi_sehir': 'Bursa'}}"
      ]
     },
     "execution_count": 3,
     "metadata": {},
     "output_type": "execute_result"
    }
   ],
   "source": [
    "dict3 = {\n",
    "    'isim': 'Uğur Kemal',\n",
    "    'yas': 19,\n",
    "    'lokasyon': {\n",
    "        'dogdugu_sehir': 'İstanbul',\n",
    "        'yasadigi_sehir': 'Bursa'\n",
    "    }\n",
    "}\n",
    "dict3"
   ]
  },
  {
   "cell_type": "code",
   "execution_count": 4,
   "metadata": {},
   "outputs": [
    {
     "data": {
      "text/plain": [
       "19"
      ]
     },
     "execution_count": 4,
     "metadata": {},
     "output_type": "execute_result"
    }
   ],
   "source": [
    "dict2['yas']"
   ]
  },
  {
   "cell_type": "code",
   "execution_count": 5,
   "metadata": {},
   "outputs": [
    {
     "data": {
      "text/plain": [
       "19"
      ]
     },
     "execution_count": 5,
     "metadata": {},
     "output_type": "execute_result"
    }
   ],
   "source": [
    "dict2.get('yas')"
   ]
  },
  {
   "cell_type": "code",
   "execution_count": 6,
   "metadata": {},
   "outputs": [
    {
     "data": {
      "text/plain": [
       "19"
      ]
     },
     "execution_count": 6,
     "metadata": {},
     "output_type": "execute_result"
    }
   ],
   "source": [
    "dict3['yas']"
   ]
  },
  {
   "cell_type": "code",
   "execution_count": 7,
   "metadata": {},
   "outputs": [
    {
     "data": {
      "text/plain": [
       "{'dogdugu_sehir': 'İstanbul', 'yasadigi_sehir': 'Bursa'}"
      ]
     },
     "execution_count": 7,
     "metadata": {},
     "output_type": "execute_result"
    }
   ],
   "source": [
    "dict3['lokasyon']"
   ]
  },
  {
   "cell_type": "code",
   "execution_count": 8,
   "metadata": {},
   "outputs": [
    {
     "data": {
      "text/plain": [
       "'Bursa'"
      ]
     },
     "execution_count": 8,
     "metadata": {},
     "output_type": "execute_result"
    }
   ],
   "source": [
    "dict3['lokasyon']['yasadigi_sehir']"
   ]
  },
  {
   "cell_type": "code",
   "execution_count": 9,
   "metadata": {},
   "outputs": [
    {
     "data": {
      "text/plain": [
       "'Bursa'"
      ]
     },
     "execution_count": 9,
     "metadata": {},
     "output_type": "execute_result"
    }
   ],
   "source": [
    "dict3.get('lokasyon').get('yasadigi_sehir')"
   ]
  },
  {
   "cell_type": "code",
   "execution_count": 10,
   "metadata": {},
   "outputs": [
    {
     "data": {
      "text/plain": [
       "dict_keys(['isim', 'yas', 'dogdugu_sehir', 'yasadigi_sehir'])"
      ]
     },
     "execution_count": 10,
     "metadata": {},
     "output_type": "execute_result"
    }
   ],
   "source": [
    "dict2.keys()"
   ]
  },
  {
   "cell_type": "code",
   "execution_count": 11,
   "metadata": {},
   "outputs": [
    {
     "data": {
      "text/plain": [
       "dict_values(['Uğur Kemal', 19, 'İstanbul', 'Bursa'])"
      ]
     },
     "execution_count": 11,
     "metadata": {},
     "output_type": "execute_result"
    }
   ],
   "source": [
    "dict2.values()"
   ]
  },
  {
   "cell_type": "code",
   "execution_count": 12,
   "metadata": {},
   "outputs": [
    {
     "data": {
      "text/plain": [
       "dict_items([('isim', 'Uğur Kemal'), ('yas', 19), ('dogdugu_sehir', 'İstanbul'), ('yasadigi_sehir', 'Bursa')])"
      ]
     },
     "execution_count": 12,
     "metadata": {},
     "output_type": "execute_result"
    }
   ],
   "source": [
    "dict2.items()"
   ]
  },
  {
   "cell_type": "markdown",
   "metadata": {},
   "source": [
    "### if Sorguları"
   ]
  },
  {
   "cell_type": "code",
   "execution_count": 13,
   "metadata": {},
   "outputs": [
    {
     "name": "stdout",
     "output_type": "stream",
     "text": [
      "Şemsiyeni al!\n"
     ]
    }
   ],
   "source": [
    "hava_durumu = \"yagisli\"\n",
    "\n",
    "if hava_durumu == \"yagisli\":\n",
    "    print(\"Şemsiyeni al!\")"
   ]
  },
  {
   "cell_type": "code",
   "execution_count": 14,
   "metadata": {},
   "outputs": [
    {
     "name": "stdout",
     "output_type": "stream",
     "text": [
      "Sorun yok!\n"
     ]
    }
   ],
   "source": [
    "hava_durumu = \"karli\"\n",
    "\n",
    "if hava_durumu == \"yagisli\":\n",
    "    print(\"Şemsiyeni al!\")\n",
    "else:\n",
    "    print(\"Sorun yok!\")"
   ]
  },
  {
   "cell_type": "code",
   "execution_count": 15,
   "metadata": {},
   "outputs": [
    {
     "name": "stdout",
     "output_type": "stream",
     "text": [
      "Atkını al!\n"
     ]
    }
   ],
   "source": [
    "hava_durumu = \"karli\"\n",
    "\n",
    "if hava_durumu == \"yagisli\":\n",
    "    print(\"Şemsiyeni al!\")\n",
    "elif hava_durumu == \"karli\":\n",
    "    print(\"Atkını al!\")\n",
    "else:\n",
    "    print(\"Sorun yok!\")"
   ]
  },
  {
   "cell_type": "code",
   "execution_count": 16,
   "metadata": {},
   "outputs": [
    {
     "name": "stdout",
     "output_type": "stream",
     "text": [
      "Selam\n"
     ]
    }
   ],
   "source": [
    "yas = 19\n",
    "\n",
    "if yas >18:\n",
    "    print(\"Selam\")\n",
    "else:\n",
    "    print(\"Sen buraya ait değilsin!\")"
   ]
  },
  {
   "cell_type": "code",
   "execution_count": 17,
   "metadata": {},
   "outputs": [
    {
     "name": "stdout",
     "output_type": "stream",
     "text": [
      "Listeye ekledim.\n",
      "Güncel liste ['a', 'b', 'c', 'd']\n"
     ]
    }
   ],
   "source": [
    "liste = ['a','b','c']\n",
    "\n",
    "hedef_harf = 'd'\n",
    "\n",
    "if hedef_harf in liste:\n",
    "    print('Buldum.')\n",
    "else:\n",
    "    liste.append(hedef_harf)\n",
    "    print('Listeye ekledim.')\n",
    "    print('Güncel liste {}'.format(liste))"
   ]
  },
  {
   "cell_type": "code",
   "execution_count": 18,
   "metadata": {},
   "outputs": [
    {
     "name": "stdout",
     "output_type": "stream",
     "text": [
      "Buldum ama ilk konumda değil.\n"
     ]
    }
   ],
   "source": [
    "if (hedef_harf in liste) and (hedef_harf == liste[0]):\n",
    "    print('Buldum ve ilk harf konumunda.')\n",
    "elif hedef_harf in liste:\n",
    "    print('Buldum ama ilk konumda değil.')\n",
    "else:\n",
    "    liste.append(hedef_harf)\n",
    "    print('Listeye ekledim.')\n",
    "    print('Güncel liste {}'.format(liste))"
   ]
  },
  {
   "cell_type": "code",
   "execution_count": 19,
   "metadata": {},
   "outputs": [
    {
     "name": "stdout",
     "output_type": "stream",
     "text": [
      "Buldum ve ilk harf konumunda.\n"
     ]
    }
   ],
   "source": [
    "if hedef_harf in liste:\n",
    "    print('Buldum ve ilk harf konumunda.')\n",
    "elif (hedef_harf in liste) and (hedef_harf == liste[0]):\n",
    "    print('Buldum ama ilk konumda değil.')\n",
    "else:\n",
    "    liste.append(hedef_harf)\n",
    "    print('Listeye ekledim.')\n",
    "    print('Güncel liste {}'.format(liste))"
   ]
  },
  {
   "cell_type": "markdown",
   "metadata": {},
   "source": [
    "### for Döngüleri"
   ]
  },
  {
   "cell_type": "code",
   "execution_count": 2,
   "metadata": {},
   "outputs": [
    {
     "name": "stdout",
     "output_type": "stream",
     "text": [
      "['Ismail Aydemir', 'Uygar Aydin', 'Naz Yahcioglu', 'Ferhat Ibrik', 'Ulas Acil', 'Bilal Kurucay']\n"
     ]
    }
   ],
   "source": [
    "yorum_birakanlar = [\"Ismail Aydemir\",\"Uygar Aydin\",\"Naz Yahcioglu\",\"Ferhat Ibrik\",\"Ulas Acil\",\"Bilal Kurucay\"]\n",
    "print(yorum_birakanlar)"
   ]
  },
  {
   "cell_type": "code",
   "execution_count": 3,
   "metadata": {},
   "outputs": [
    {
     "name": "stdout",
     "output_type": "stream",
     "text": [
      "Ismail Aydemir\n",
      "Uygar Aydin\n",
      "Naz Yahcioglu\n",
      "Ferhat Ibrik\n",
      "Ulas Acil\n",
      "Bilal Kurucay\n"
     ]
    }
   ],
   "source": [
    "for kullanici in yorum_birakanlar:\n",
    "    print(kullanici)"
   ]
  },
  {
   "cell_type": "code",
   "execution_count": 4,
   "metadata": {},
   "outputs": [
    {
     "name": "stdout",
     "output_type": "stream",
     "text": [
      "Ismail Aydemir 1\n",
      "Uygar Aydin 2\n",
      "Naz Yahcioglu 3\n",
      "Ferhat Ibrik 4\n",
      "Ulas Acil 5\n",
      "Bilal Kurucay 6\n"
     ]
    }
   ],
   "source": [
    "kullanici_sayisi = 0\n",
    "for kullanici in yorum_birakanlar:\n",
    "    kullanici_sayisi = kullanici_sayisi + 1\n",
    "    print(kullanici,kullanici_sayisi)"
   ]
  },
  {
   "cell_type": "code",
   "execution_count": 13,
   "metadata": {},
   "outputs": [
    {
     "name": "stdout",
     "output_type": "stream",
     "text": [
      "Ismail Aydemir\n"
     ]
    }
   ],
   "source": [
    "ad = yorum_birakanlar[0].split()[0]\n",
    "soyad = yorum_birakanlar[0].split()[1]\n",
    "print(ad,soyad)"
   ]
  },
  {
   "cell_type": "code",
   "execution_count": 12,
   "metadata": {},
   "outputs": [
    {
     "name": "stdout",
     "output_type": "stream",
     "text": [
      "Ismail Aydemir\n"
     ]
    }
   ],
   "source": [
    "ad, soyad = yorum_birakanlar[0].split()[0],yorum_birakanlar[0].split()[1]\n",
    "print(ad, soyad)"
   ]
  },
  {
   "cell_type": "code",
   "execution_count": 18,
   "metadata": {},
   "outputs": [
    {
     "name": "stdout",
     "output_type": "stream",
     "text": [
      "1. Kullanicinin Adi Ismail ve Soyadi Aydemir\n",
      "2. Kullanicinin Adi Uygar ve Soyadi Aydin\n",
      "3. Kullanicinin Adi Naz ve Soyadi Yahcioglu\n",
      "4. Kullanicinin Adi Ferhat ve Soyadi Ibrik\n",
      "5. Kullanicinin Adi Ulas ve Soyadi Acil\n",
      "6. Kullanicinin Adi Bilal ve Soyadi Kurucay\n"
     ]
    }
   ],
   "source": [
    "kullanici_sayisi = 0\n",
    "\n",
    "for kullanici in yorum_birakanlar:\n",
    "    kullanici_sayisi = kullanici_sayisi + 1\n",
    "    ad, soyad = kullanici.split()[0],kullanici.split()[1]\n",
    "    print('{0}. Kullanicinin Adi {1} ve Soyadi {2}'.format(kullanici_sayisi,ad,soyad))"
   ]
  },
  {
   "cell_type": "code",
   "execution_count": 22,
   "metadata": {},
   "outputs": [
    {
     "name": "stdout",
     "output_type": "stream",
     "text": [
      "1. Kullanicinin Adi Ismail ve Soyadi Aydemir\n",
      "2. Kullanicinin Adi Uygar ve Soyadi Aydin\n",
      "3. Kullanicinin Adi Naz ve Soyadi Yahcioglu\n",
      "1. Moderatörün Adi Ferhat ve Soyadi Ibrik\n",
      "4. Kullanicinin Adi Ulas ve Soyadi Acil\n",
      "5. Kullanicinin Adi Bilal ve Soyadi Kurucay\n"
     ]
    }
   ],
   "source": [
    "moderator = \"Ferhat Ibrik\"\n",
    "\n",
    "kullanici_sayisi = 0\n",
    "moderator_sayisi = 0\n",
    "for kullanici in yorum_birakanlar:\n",
    "    ad, soyad = kullanici.split()[0],kullanici.split()[1]\n",
    "    if(kullanici == moderator):\n",
    "        moderator_sayisi = moderator_sayisi + 1 \n",
    "        # moderator_sayisi += 1 (aynı kod) \n",
    "        print('{0}. Moderatörün Adi {1} ve Soyadi {2}'.format(moderator_sayisi,ad,soyad))\n",
    "    else:\n",
    "        kullanici_sayisi = kullanici_sayisi + 1\n",
    "        print('{0}. Kullanicinin Adi {1} ve Soyadi {2}'.format(kullanici_sayisi,ad,soyad))"
   ]
  },
  {
   "cell_type": "markdown",
   "metadata": {},
   "source": [
    "### Diğer Iterable Objelerde for Döngüleri"
   ]
  },
  {
   "cell_type": "code",
   "execution_count": 23,
   "metadata": {},
   "outputs": [
    {
     "name": "stdout",
     "output_type": "stream",
     "text": [
      "1\n",
      "3\n",
      "5\n",
      "7\n"
     ]
    }
   ],
   "source": [
    "tup1 = (1,3,5,7)\n",
    "\n",
    "for sayi in tup1:\n",
    "    print(sayi)"
   ]
  },
  {
   "cell_type": "code",
   "execution_count": 25,
   "metadata": {},
   "outputs": [
    {
     "name": "stdout",
     "output_type": "stream",
     "text": [
      "1\n",
      "3\n",
      "5\n",
      "a\n"
     ]
    }
   ],
   "source": [
    "liste = [ [1,2],[3,4],[5,6],['a','b']]\n",
    "\n",
    "for x,y in liste:\n",
    "    print(x)\n"
   ]
  },
  {
   "cell_type": "code",
   "execution_count": 26,
   "metadata": {},
   "outputs": [
    {
     "name": "stdout",
     "output_type": "stream",
     "text": [
      "1 2\n",
      "3 4\n",
      "5 6\n"
     ]
    }
   ],
   "source": [
    "liste = [ [1,2],[3,4],[5,6]]\n",
    "\n",
    "for x,y in liste:\n",
    "    print(x,y)"
   ]
  },
  {
   "cell_type": "code",
   "execution_count": 27,
   "metadata": {},
   "outputs": [
    {
     "name": "stdout",
     "output_type": "stream",
     "text": [
      "2\n",
      "12\n",
      "30\n"
     ]
    }
   ],
   "source": [
    "liste = [ [1,2],[3,4],[5,6]]\n",
    "\n",
    "for x,y in liste:\n",
    "    print(x*y)"
   ]
  },
  {
   "cell_type": "code",
   "execution_count": 30,
   "metadata": {},
   "outputs": [
    {
     "data": {
      "text/plain": [
       "dict_items([('ad', 'Naz'), ('soyad', 'Yagcioglu')])"
      ]
     },
     "execution_count": 30,
     "metadata": {},
     "output_type": "execute_result"
    }
   ],
   "source": [
    "kullanici1 = {\n",
    "    'ad' : 'Naz',\n",
    "    'soyad' : 'Yagcioglu'\n",
    "}\n",
    "kullanici1.items()"
   ]
  },
  {
   "cell_type": "code",
   "execution_count": 34,
   "metadata": {},
   "outputs": [
    {
     "name": "stdout",
     "output_type": "stream",
     "text": [
      "Key: ad \t Value:Naz\n",
      "Key: soyad \t Value:Yagcioglu\n"
     ]
    }
   ],
   "source": [
    "for k, v in kullanici1.items():\n",
    "    print(\"Key: {} \\t Value:{}\".format(k,v))\n"
   ]
  },
  {
   "cell_type": "code",
   "execution_count": 35,
   "metadata": {},
   "outputs": [
    {
     "name": "stdout",
     "output_type": "stream",
     "text": [
      "Key: ad\n",
      "Key: soyad\n"
     ]
    }
   ],
   "source": [
    "for k in kullanici1.keys():\n",
    "    print(\"Key: {}\".format(k))"
   ]
  },
  {
   "cell_type": "markdown",
   "metadata": {},
   "source": [
    "### while Döngüleri"
   ]
  },
  {
   "cell_type": "code",
   "execution_count": 36,
   "metadata": {},
   "outputs": [
    {
     "name": "stdout",
     "output_type": "stream",
     "text": [
      "0 değeri 10'dan küçüktür\n",
      "1 değeri 10'dan küçüktür\n",
      "2 değeri 10'dan küçüktür\n",
      "3 değeri 10'dan küçüktür\n",
      "4 değeri 10'dan küçüktür\n",
      "5 değeri 10'dan küçüktür\n",
      "6 değeri 10'dan küçüktür\n",
      "7 değeri 10'dan küçüktür\n",
      "8 değeri 10'dan küçüktür\n",
      "9 değeri 10'dan küçüktür\n"
     ]
    }
   ],
   "source": [
    "x = 0 \n",
    "\n",
    "while x < 10:\n",
    "    print(\"{} değeri 10'dan küçüktür\".format(x))\n",
    "    x = x + 1"
   ]
  },
  {
   "cell_type": "code",
   "execution_count": 38,
   "metadata": {},
   "outputs": [
    {
     "name": "stdout",
     "output_type": "stream",
     "text": [
      "0 değeri 10'dan küçüktür\n",
      "1 değeri 10'dan küçüktür\n",
      "2 değeri 10'dan küçüktür\n",
      "3 değeri 10'dan küçüktür\n",
      "4 değeri 10'dan küçüktür\n",
      "5 değeri 10'dan küçüktür\n",
      "6 değeri 10'dan küçüktür\n",
      "7 değeri 10'dan küçüktür\n",
      "8 değeri 10'dan küçüktür\n",
      "9 değeri 10'dan küçüktür\n",
      "10 değeri 10'dan küçük değil\n"
     ]
    }
   ],
   "source": [
    "x = 0 \n",
    "\n",
    "while x < 10:\n",
    "    print(\"{} değeri 10'dan küçüktür\".format(x))\n",
    "    x = x + 1\n",
    "else:\n",
    "    print(\"{} değeri 10'dan küçük değil\".format(x))"
   ]
  },
  {
   "cell_type": "code",
   "execution_count": 1,
   "metadata": {},
   "outputs": [
    {
     "name": "stdout",
     "output_type": "stream",
     "text": [
      "720\n"
     ]
    }
   ],
   "source": [
    "sayi = 6\n",
    "sonuc = 1\n",
    "\n",
    "while sayi > 0:\n",
    "    sonuc = sonuc * sayi\n",
    "    sayi = sayi - 1\n",
    "print(sonuc)\n"
   ]
  },
  {
   "attachments": {},
   "cell_type": "markdown",
   "metadata": {},
   "source": [
    "### - enumerate, zip ve range Uygulamaları -"
   ]
  },
  {
   "attachments": {},
   "cell_type": "markdown",
   "metadata": {},
   "source": [
    "### range"
   ]
  },
  {
   "cell_type": "code",
   "execution_count": 7,
   "metadata": {},
   "outputs": [
    {
     "data": {
      "text/plain": [
       "range(0, 10)"
      ]
     },
     "execution_count": 7,
     "metadata": {},
     "output_type": "execute_result"
    }
   ],
   "source": [
    "range(10)"
   ]
  },
  {
   "cell_type": "code",
   "execution_count": 8,
   "metadata": {},
   "outputs": [
    {
     "data": {
      "text/plain": [
       "[0, 1, 2, 3, 4, 5, 6, 7, 8, 9]"
      ]
     },
     "execution_count": 8,
     "metadata": {},
     "output_type": "execute_result"
    }
   ],
   "source": [
    "list(range(10))"
   ]
  },
  {
   "cell_type": "code",
   "execution_count": 9,
   "metadata": {},
   "outputs": [
    {
     "data": {
      "text/plain": [
       "[0, 1, 2, 3, 4, 5, 6, 7, 8, 9]"
      ]
     },
     "execution_count": 9,
     "metadata": {},
     "output_type": "execute_result"
    }
   ],
   "source": [
    "[*range(10)]"
   ]
  },
  {
   "cell_type": "code",
   "execution_count": 11,
   "metadata": {},
   "outputs": [
    {
     "data": {
      "text/plain": [
       "[2, 4, 6]"
      ]
     },
     "execution_count": 11,
     "metadata": {},
     "output_type": "execute_result"
    }
   ],
   "source": [
    "list(range(2,7,2))"
   ]
  },
  {
   "cell_type": "code",
   "execution_count": 13,
   "metadata": {},
   "outputs": [
    {
     "name": "stdout",
     "output_type": "stream",
     "text": [
      "6\n",
      "7\n",
      "8\n",
      "9\n"
     ]
    }
   ],
   "source": [
    "for sayi in range(10):\n",
    "    if sayi > 5:\n",
    "        print(sayi)"
   ]
  },
  {
   "attachments": {},
   "cell_type": "markdown",
   "metadata": {},
   "source": [
    "### enumerate"
   ]
  },
  {
   "cell_type": "code",
   "execution_count": 15,
   "metadata": {},
   "outputs": [
    {
     "name": "stdout",
     "output_type": "stream",
     "text": [
      "(0, 'a')\n",
      "(1, 'b')\n",
      "(2, 'c')\n",
      "(3, 'd')\n",
      "(4, 'e')\n"
     ]
    }
   ],
   "source": [
    "harfler = ['a','b','c','d','e']\n",
    "for harf in enumerate(harfler):\n",
    "    print(harf)"
   ]
  },
  {
   "cell_type": "code",
   "execution_count": 19,
   "metadata": {},
   "outputs": [
    {
     "name": "stdout",
     "output_type": "stream",
     "text": [
      "1. harf : a\n",
      "2. harf : b\n",
      "3. harf : c\n",
      "4. harf : d\n",
      "5. harf : e\n"
     ]
    }
   ],
   "source": [
    "for index,harf in enumerate(harfler):\n",
    "    print(\"{}. harf : {}\".format(index+1,harf))"
   ]
  },
  {
   "attachments": {},
   "cell_type": "markdown",
   "metadata": {},
   "source": [
    "### zip"
   ]
  },
  {
   "cell_type": "code",
   "execution_count": 29,
   "metadata": {},
   "outputs": [
    {
     "name": "stdout",
     "output_type": "stream",
     "text": [
      "('TR', 1)\n",
      "('FR', 2)\n",
      "('DE', 3)\n"
     ]
    }
   ],
   "source": [
    "ulkeler = [\"TR\",\"FR\",\"DE\",]\n",
    "sıralamalar = range(1,4)  \n",
    "\n",
    "for ulke in zip(ulkeler,sıralamalar):\n",
    "    print(ulke)"
   ]
  },
  {
   "attachments": {},
   "cell_type": "markdown",
   "metadata": {},
   "source": [
    "### break"
   ]
  },
  {
   "cell_type": "code",
   "execution_count": 5,
   "metadata": {},
   "outputs": [
    {
     "name": "stdout",
     "output_type": "stream",
     "text": [
      "c harfi 2. indexte tutuluyor\n"
     ]
    }
   ],
   "source": [
    "harfler = ['a','b','c','d','e'] * 100 \n",
    "for index,harf in enumerate(harfler):\n",
    "    if harf == 'c':\n",
    "        print('{} harfi {}. indexte tutuluyor'.format(harf,index))\n",
    "        break\n"
   ]
  },
  {
   "attachments": {},
   "cell_type": "markdown",
   "metadata": {},
   "source": [
    "### continue"
   ]
  },
  {
   "cell_type": "code",
   "execution_count": 13,
   "metadata": {},
   "outputs": [
    {
     "name": "stdout",
     "output_type": "stream",
     "text": [
      "1\n",
      "3\n",
      "5\n"
     ]
    }
   ],
   "source": [
    "for sayi in range(1,6):\n",
    "    if sayi%2==0: # çift sayı sorgulama mantığı\n",
    "        continue\n",
    "    print(sayi)"
   ]
  },
  {
   "cell_type": "code",
   "execution_count": 12,
   "metadata": {},
   "outputs": [
    {
     "name": "stdout",
     "output_type": "stream",
     "text": [
      "1\n",
      "3\n",
      "5\n"
     ]
    }
   ],
   "source": [
    "for sayi in range(1,6):\n",
    "    if sayi%2!=0: # çift sayı sorgulama mantığı\n",
    "        print(sayi)"
   ]
  },
  {
   "attachments": {},
   "cell_type": "markdown",
   "metadata": {},
   "source": [
    "### pass"
   ]
  },
  {
   "cell_type": "code",
   "execution_count": 14,
   "metadata": {},
   "outputs": [
    {
     "name": "stdout",
     "output_type": "stream",
     "text": [
      "1\n",
      "3\n",
      "5\n"
     ]
    }
   ],
   "source": [
    "for sayi in range(1,6):\n",
    "    if sayi%2==0: # çift sayı sorgulama mantığı\n",
    "        pass\n",
    "    else:\n",
    "        print(sayi)"
   ]
  },
  {
   "cell_type": "code",
   "execution_count": 18,
   "metadata": {},
   "outputs": [
    {
     "name": "stdout",
     "output_type": "stream",
     "text": [
      "Hey\n"
     ]
    }
   ],
   "source": [
    "if sayi < 5 : \n",
    "    pass\n",
    "else:\n",
    "    print(\"Hey\")"
   ]
  },
  {
   "attachments": {},
   "cell_type": "markdown",
   "metadata": {},
   "source": [
    "### Fonksiyonlar - 1"
   ]
  },
  {
   "cell_type": "code",
   "execution_count": 1,
   "metadata": {},
   "outputs": [],
   "source": [
    "def bes_bastir():\n",
    "    print(5)"
   ]
  },
  {
   "cell_type": "code",
   "execution_count": 2,
   "metadata": {},
   "outputs": [
    {
     "name": "stdout",
     "output_type": "stream",
     "text": [
      "5\n"
     ]
    }
   ],
   "source": [
    "bes_bastir()"
   ]
  },
  {
   "attachments": {},
   "cell_type": "markdown",
   "metadata": {},
   "source": [
    "### Fonksiyonlarda print ve return farkı"
   ]
  },
  {
   "cell_type": "code",
   "execution_count": 3,
   "metadata": {},
   "outputs": [],
   "source": [
    "def bes_dondur():\n",
    "    return 5"
   ]
  },
  {
   "cell_type": "code",
   "execution_count": 4,
   "metadata": {},
   "outputs": [
    {
     "data": {
      "text/plain": [
       "5"
      ]
     },
     "execution_count": 4,
     "metadata": {},
     "output_type": "execute_result"
    }
   ],
   "source": [
    "bes_dondur()"
   ]
  },
  {
   "cell_type": "code",
   "execution_count": 5,
   "metadata": {},
   "outputs": [
    {
     "name": "stdout",
     "output_type": "stream",
     "text": [
      "5\n",
      "None\n"
     ]
    }
   ],
   "source": [
    "a = bes_bastir()\n",
    "print(a)"
   ]
  },
  {
   "cell_type": "code",
   "execution_count": 6,
   "metadata": {},
   "outputs": [
    {
     "name": "stdout",
     "output_type": "stream",
     "text": [
      "5\n"
     ]
    }
   ],
   "source": [
    "b = bes_dondur()\n",
    "print(b)"
   ]
  },
  {
   "attachments": {},
   "cell_type": "markdown",
   "metadata": {},
   "source": [
    "### Fonksiyonlarda Argümanlar"
   ]
  },
  {
   "cell_type": "code",
   "execution_count": 8,
   "metadata": {},
   "outputs": [],
   "source": [
    "def sayi_dondur(sayi):\n",
    "    return sayi"
   ]
  },
  {
   "cell_type": "code",
   "execution_count": 12,
   "metadata": {},
   "outputs": [
    {
     "data": {
      "text/plain": [
       "100"
      ]
     },
     "execution_count": 12,
     "metadata": {},
     "output_type": "execute_result"
    }
   ],
   "source": [
    "sayi_dondur(100)"
   ]
  },
  {
   "cell_type": "code",
   "execution_count": 13,
   "metadata": {},
   "outputs": [],
   "source": [
    "def sayi_dondur(sayi=250):\n",
    "    return sayi"
   ]
  },
  {
   "cell_type": "code",
   "execution_count": 15,
   "metadata": {},
   "outputs": [
    {
     "data": {
      "text/plain": [
       "250"
      ]
     },
     "execution_count": 15,
     "metadata": {},
     "output_type": "execute_result"
    }
   ],
   "source": [
    "sayi_dondur()"
   ]
  },
  {
   "cell_type": "code",
   "execution_count": 23,
   "metadata": {},
   "outputs": [],
   "source": [
    "def buyuk_sayi_dondur(a,b):\n",
    "    if a>b:\n",
    "        return a\n",
    "    elif b>a:\n",
    "        return b"
   ]
  },
  {
   "cell_type": "code",
   "execution_count": 24,
   "metadata": {},
   "outputs": [
    {
     "data": {
      "text/plain": [
       "10"
      ]
     },
     "execution_count": 24,
     "metadata": {},
     "output_type": "execute_result"
    }
   ],
   "source": [
    "buyuk_sayi_dondur(5,10)"
   ]
  },
  {
   "attachments": {},
   "cell_type": "markdown",
   "metadata": {},
   "source": [
    "### Fonksiyonların Birbiri ile İlişkisi"
   ]
  },
  {
   "cell_type": "code",
   "execution_count": 25,
   "metadata": {},
   "outputs": [],
   "source": [
    "def metin_yazdir(a,b):\n",
    "    buyuk_sayi = buyuk_sayi_dondur(a,b)\n",
    "    sablon_metin = \"{} daha büyük sayidir.\".format(buyuk_sayi)\n",
    "    print(sablon_metin)"
   ]
  },
  {
   "cell_type": "code",
   "execution_count": 26,
   "metadata": {},
   "outputs": [
    {
     "name": "stdout",
     "output_type": "stream",
     "text": [
      "10 daha büyük sayidir.\n"
     ]
    }
   ],
   "source": [
    "metin_yazdir(5,10)"
   ]
  },
  {
   "attachments": {},
   "cell_type": "markdown",
   "metadata": {},
   "source": [
    "### Fonksiyonlar Birden Fazla Sonuç Döndürebilir"
   ]
  },
  {
   "cell_type": "code",
   "execution_count": 34,
   "metadata": {},
   "outputs": [],
   "source": [
    "def isim_soyisim_yazdirma(isim_soyisim):\n",
    "    isim=isim_soyisim.split()[0]\n",
    "    soyisim=isim_soyisim.split()[1]\n",
    "    return isim, soyisim"
   ]
  },
  {
   "cell_type": "code",
   "execution_count": 35,
   "metadata": {},
   "outputs": [
    {
     "data": {
      "text/plain": [
       "('Uğur', 'Durna')"
      ]
     },
     "execution_count": 35,
     "metadata": {},
     "output_type": "execute_result"
    }
   ],
   "source": [
    "isim_soyisim_yazdirma(\"Uğur Durna\")"
   ]
  },
  {
   "cell_type": "code",
   "execution_count": 31,
   "metadata": {},
   "outputs": [
    {
     "name": "stdout",
     "output_type": "stream",
     "text": [
      "Uğur\n",
      "Durna\n"
     ]
    }
   ],
   "source": [
    "a,b = isim_soyisim_yazdirma(\"Uğur Kemal Durna\")\n",
    "print(a)\n",
    "print(b)"
   ]
  },
  {
   "attachments": {},
   "cell_type": "markdown",
   "metadata": {},
   "source": [
    "### *args Argümanı"
   ]
  },
  {
   "cell_type": "code",
   "execution_count": 38,
   "metadata": {},
   "outputs": [
    {
     "data": {
      "text/plain": [
       "'Uğur-Durna'"
      ]
     },
     "execution_count": 38,
     "metadata": {},
     "output_type": "execute_result"
    }
   ],
   "source": [
    "\"-\".join([\"Uğur\",\"Durna\"])"
   ]
  },
  {
   "cell_type": "code",
   "execution_count": 44,
   "metadata": {},
   "outputs": [],
   "source": [
    "def isim_soyisim_birlestir(isim,soyisim):\n",
    "    return \" \".join([isim,soyisim])"
   ]
  },
  {
   "cell_type": "code",
   "execution_count": 46,
   "metadata": {},
   "outputs": [
    {
     "data": {
      "text/plain": [
       "'Uğur Kemal Durna'"
      ]
     },
     "execution_count": 46,
     "metadata": {},
     "output_type": "execute_result"
    }
   ],
   "source": [
    "isim_soyisim_birlestir(\"Uğur Kemal\",\"Durna\")"
   ]
  },
  {
   "cell_type": "code",
   "execution_count": 50,
   "metadata": {},
   "outputs": [],
   "source": [
    "def isim_soyisim_birlestir(*args):\n",
    "    return \" \".join(args)"
   ]
  },
  {
   "cell_type": "code",
   "execution_count": 51,
   "metadata": {},
   "outputs": [
    {
     "data": {
      "text/plain": [
       "'Uğur Kemal Durna'"
      ]
     },
     "execution_count": 51,
     "metadata": {},
     "output_type": "execute_result"
    }
   ],
   "source": [
    "isim_soyisim_birlestir(\"Uğur\",\"Kemal\",\"Durna\")"
   ]
  },
  {
   "cell_type": "code",
   "execution_count": 52,
   "metadata": {},
   "outputs": [],
   "source": [
    "def gobek_adi_yazdir(**kwargs):\n",
    "    if 'gobekadi' in kwargs:\n",
    "        print(kwargs['gobekadi'])\n",
    "    else:\n",
    "        print(\"Gobekadi yok.\")\n"
   ]
  },
  {
   "cell_type": "code",
   "execution_count": 54,
   "metadata": {},
   "outputs": [
    {
     "name": "stdout",
     "output_type": "stream",
     "text": [
      "Mesut\n"
     ]
    }
   ],
   "source": [
    "gobek_adi_yazdir(adi=\"Erol\",gobekadi=\"Mesut\",soyadi=\"Gün\")"
   ]
  },
  {
   "cell_type": "code",
   "execution_count": 55,
   "metadata": {},
   "outputs": [
    {
     "name": "stdout",
     "output_type": "stream",
     "text": [
      "Gobekadi yok.\n"
     ]
    }
   ],
   "source": [
    "gobek_adi_yazdir(adi=\"Erol\",soyadi=\"Gün\")"
   ]
  }
 ],
 "metadata": {
  "kernelspec": {
   "display_name": "Python 3.11.0 64-bit (microsoft store)",
   "language": "python",
   "name": "python3"
  },
  "language_info": {
   "codemirror_mode": {
    "name": "ipython",
    "version": 3
   },
   "file_extension": ".py",
   "mimetype": "text/x-python",
   "name": "python",
   "nbconvert_exporter": "python",
   "pygments_lexer": "ipython3",
   "version": "3.11.1"
  },
  "orig_nbformat": 4,
  "vscode": {
   "interpreter": {
    "hash": "4395795c0bc8c4448d773fc2b5b6d7fa347e4114afc3bc6e1097a337bc3c7c3a"
   }
  }
 },
 "nbformat": 4,
 "nbformat_minor": 2
}
