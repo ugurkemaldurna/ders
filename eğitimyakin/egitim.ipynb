{
 "cells": [
  {
   "cell_type": "markdown",
   "metadata": {},
   "source": [
    "### Çok Boyutlu Veri Tipleri (Dictionary)"
   ]
  },
  {
   "cell_type": "code",
   "execution_count": 29,
   "metadata": {},
   "outputs": [
    {
     "data": {
      "text/plain": [
       "{'isim': 'Uğur Kemal', 'yas': 19, 'lokasyon': 'Türkiye'}"
      ]
     },
     "execution_count": 29,
     "metadata": {},
     "output_type": "execute_result"
    }
   ],
   "source": [
    "dict1 = {\"isim\": \"Uğur Kemal\",\"yas\": 19,\"lokasyon\": \"Türkiye\"}\n",
    "dict1"
   ]
  },
  {
   "cell_type": "code",
   "execution_count": 30,
   "metadata": {},
   "outputs": [
    {
     "data": {
      "text/plain": [
       "{'isim': 'Uğur Kemal',\n",
       " 'yas': 19,\n",
       " 'dogdugu_sehir': 'İstanbul',\n",
       " 'yasadigi_sehir': 'Bursa'}"
      ]
     },
     "execution_count": 30,
     "metadata": {},
     "output_type": "execute_result"
    }
   ],
   "source": [
    "dict2 = {\n",
    "    'isim': 'Uğur Kemal',\n",
    "    'yas': 19,\n",
    "    'dogdugu_sehir': 'İstanbul',\n",
    "    'yasadigi_sehir': 'Bursa'\n",
    "    #'lokasyon': 'Türkiye'\n",
    "}\n",
    "dict2"
   ]
  },
  {
   "cell_type": "code",
   "execution_count": 31,
   "metadata": {},
   "outputs": [
    {
     "data": {
      "text/plain": [
       "{'isim': 'Uğur Kemal',\n",
       " 'yas': 19,\n",
       " 'lokasyon': {'dogdugu_sehir': 'İstanbul', 'yasadigi_sehir': 'Bursa'}}"
      ]
     },
     "execution_count": 31,
     "metadata": {},
     "output_type": "execute_result"
    }
   ],
   "source": [
    "dict3 = {\n",
    "    'isim': 'Uğur Kemal',\n",
    "    'yas': 19,\n",
    "    'lokasyon': {\n",
    "        'dogdugu_sehir': 'İstanbul',\n",
    "        'yasadigi_sehir': 'Bursa'\n",
    "    }\n",
    "}\n",
    "dict3"
   ]
  },
  {
   "cell_type": "code",
   "execution_count": 32,
   "metadata": {},
   "outputs": [
    {
     "data": {
      "text/plain": [
       "19"
      ]
     },
     "execution_count": 32,
     "metadata": {},
     "output_type": "execute_result"
    }
   ],
   "source": [
    "dict2['yas']"
   ]
  },
  {
   "cell_type": "code",
   "execution_count": 33,
   "metadata": {},
   "outputs": [
    {
     "data": {
      "text/plain": [
       "19"
      ]
     },
     "execution_count": 33,
     "metadata": {},
     "output_type": "execute_result"
    }
   ],
   "source": [
    "dict2.get('yas')"
   ]
  },
  {
   "cell_type": "code",
   "execution_count": 34,
   "metadata": {},
   "outputs": [
    {
     "data": {
      "text/plain": [
       "19"
      ]
     },
     "execution_count": 34,
     "metadata": {},
     "output_type": "execute_result"
    }
   ],
   "source": [
    "dict3['yas']"
   ]
  },
  {
   "cell_type": "code",
   "execution_count": 35,
   "metadata": {},
   "outputs": [
    {
     "data": {
      "text/plain": [
       "{'dogdugu_sehir': 'İstanbul', 'yasadigi_sehir': 'Bursa'}"
      ]
     },
     "execution_count": 35,
     "metadata": {},
     "output_type": "execute_result"
    }
   ],
   "source": [
    "dict3['lokasyon']"
   ]
  },
  {
   "cell_type": "code",
   "execution_count": 36,
   "metadata": {},
   "outputs": [
    {
     "data": {
      "text/plain": [
       "'Bursa'"
      ]
     },
     "execution_count": 36,
     "metadata": {},
     "output_type": "execute_result"
    }
   ],
   "source": [
    "dict3['lokasyon']['yasadigi_sehir']"
   ]
  },
  {
   "cell_type": "code",
   "execution_count": 37,
   "metadata": {},
   "outputs": [
    {
     "data": {
      "text/plain": [
       "'Bursa'"
      ]
     },
     "execution_count": 37,
     "metadata": {},
     "output_type": "execute_result"
    }
   ],
   "source": [
    "dict3.get('lokasyon').get('yasadigi_sehir')"
   ]
  },
  {
   "cell_type": "code",
   "execution_count": 38,
   "metadata": {},
   "outputs": [
    {
     "data": {
      "text/plain": [
       "dict_keys(['isim', 'yas', 'dogdugu_sehir', 'yasadigi_sehir'])"
      ]
     },
     "execution_count": 38,
     "metadata": {},
     "output_type": "execute_result"
    }
   ],
   "source": [
    "dict2.keys()"
   ]
  },
  {
   "cell_type": "code",
   "execution_count": 39,
   "metadata": {},
   "outputs": [
    {
     "data": {
      "text/plain": [
       "dict_values(['Uğur Kemal', 19, 'İstanbul', 'Bursa'])"
      ]
     },
     "execution_count": 39,
     "metadata": {},
     "output_type": "execute_result"
    }
   ],
   "source": [
    "dict2.values()"
   ]
  },
  {
   "cell_type": "code",
   "execution_count": 40,
   "metadata": {},
   "outputs": [
    {
     "data": {
      "text/plain": [
       "dict_items([('isim', 'Uğur Kemal'), ('yas', 19), ('dogdugu_sehir', 'İstanbul'), ('yasadigi_sehir', 'Bursa')])"
      ]
     },
     "execution_count": 40,
     "metadata": {},
     "output_type": "execute_result"
    }
   ],
   "source": [
    "dict2.items()"
   ]
  },
  {
   "cell_type": "markdown",
   "metadata": {},
   "source": [
    "### if Sorguları"
   ]
  },
  {
   "cell_type": "code",
   "execution_count": 41,
   "metadata": {},
   "outputs": [
    {
     "name": "stdout",
     "output_type": "stream",
     "text": [
      "Şemsiyeni al!\n"
     ]
    }
   ],
   "source": [
    "hava_durumu = \"yagisli\"\n",
    "\n",
    "if hava_durumu == \"yagisli\":\n",
    "    print(\"Şemsiyeni al!\")"
   ]
  },
  {
   "cell_type": "code",
   "execution_count": 42,
   "metadata": {},
   "outputs": [
    {
     "name": "stdout",
     "output_type": "stream",
     "text": [
      "Sorun yok!\n"
     ]
    }
   ],
   "source": [
    "hava_durumu = \"karli\"\n",
    "\n",
    "if hava_durumu == \"yagisli\":\n",
    "    print(\"Şemsiyeni al!\")\n",
    "else:\n",
    "    print(\"Sorun yok!\")"
   ]
  },
  {
   "cell_type": "code",
   "execution_count": 43,
   "metadata": {},
   "outputs": [
    {
     "name": "stdout",
     "output_type": "stream",
     "text": [
      "Atkını al!\n"
     ]
    }
   ],
   "source": [
    "hava_durumu = \"karli\"\n",
    "\n",
    "if hava_durumu == \"yagisli\":\n",
    "    print(\"Şemsiyeni al!\")\n",
    "elif hava_durumu == \"karli\":\n",
    "    print(\"Atkını al!\")\n",
    "else:\n",
    "    print(\"Sorun yok!\")"
   ]
  },
  {
   "cell_type": "code",
   "execution_count": 44,
   "metadata": {},
   "outputs": [
    {
     "name": "stdout",
     "output_type": "stream",
     "text": [
      "Selam\n"
     ]
    }
   ],
   "source": [
    "yas = 19\n",
    "\n",
    "if yas >18:\n",
    "    print(\"Selam\")\n",
    "else:\n",
    "    print(\"Sen buraya ait değilsin!\")"
   ]
  },
  {
   "cell_type": "code",
   "execution_count": 45,
   "metadata": {},
   "outputs": [
    {
     "name": "stdout",
     "output_type": "stream",
     "text": [
      "Listeye ekledim.\n",
      "Güncel liste ['a', 'b', 'c', 'd']\n"
     ]
    }
   ],
   "source": [
    "liste = ['a','b','c']\n",
    "\n",
    "hedef_harf = 'd'\n",
    "\n",
    "if hedef_harf in liste:\n",
    "    print('Buldum.')\n",
    "else:\n",
    "    liste.append(hedef_harf)\n",
    "    print('Listeye ekledim.')\n",
    "    print('Güncel liste {}'.format(liste))"
   ]
  },
  {
   "cell_type": "code",
   "execution_count": 46,
   "metadata": {},
   "outputs": [
    {
     "name": "stdout",
     "output_type": "stream",
     "text": [
      "Buldum ama ilk konumda değil.\n"
     ]
    }
   ],
   "source": [
    "if (hedef_harf in liste) and (hedef_harf == liste[0]):\n",
    "    print('Buldum ve ilk harf konumunda.')\n",
    "elif hedef_harf in liste:\n",
    "    print('Buldum ama ilk konumda değil.')\n",
    "else:\n",
    "    liste.append(hedef_harf)\n",
    "    print('Listeye ekledim.')\n",
    "    print('Güncel liste {}'.format(liste))"
   ]
  },
  {
   "cell_type": "code",
   "execution_count": 47,
   "metadata": {},
   "outputs": [
    {
     "name": "stdout",
     "output_type": "stream",
     "text": [
      "Buldum ve ilk harf konumunda.\n"
     ]
    }
   ],
   "source": [
    "if hedef_harf in liste:\n",
    "    print('Buldum ve ilk harf konumunda.')\n",
    "elif (hedef_harf in liste) and (hedef_harf == liste[0]):\n",
    "    print('Buldum ama ilk konumda değil.')\n",
    "else:\n",
    "    liste.append(hedef_harf)\n",
    "    print('Listeye ekledim.')\n",
    "    print('Güncel liste {}'.format(liste))"
   ]
  },
  {
   "cell_type": "markdown",
   "metadata": {},
   "source": [
    "### for Döngüleri"
   ]
  },
  {
   "cell_type": "code",
   "execution_count": 48,
   "metadata": {},
   "outputs": [
    {
     "name": "stdout",
     "output_type": "stream",
     "text": [
      "['Ismail Aydemir', 'Uygar Aydin', 'Naz Yahcioglu', 'Ferhat Ibrik', 'Ulas Acil', 'Bilal Kurucay']\n"
     ]
    }
   ],
   "source": [
    "yorum_birakanlar = [\"Ismail Aydemir\",\"Uygar Aydin\",\"Naz Yahcioglu\",\"Ferhat Ibrik\",\"Ulas Acil\",\"Bilal Kurucay\"]\n",
    "print(yorum_birakanlar)"
   ]
  },
  {
   "cell_type": "code",
   "execution_count": 49,
   "metadata": {},
   "outputs": [
    {
     "name": "stdout",
     "output_type": "stream",
     "text": [
      "Ismail Aydemir\n",
      "Uygar Aydin\n",
      "Naz Yahcioglu\n",
      "Ferhat Ibrik\n",
      "Ulas Acil\n",
      "Bilal Kurucay\n"
     ]
    }
   ],
   "source": [
    "for kullanici in yorum_birakanlar:\n",
    "    print(kullanici)"
   ]
  },
  {
   "cell_type": "code",
   "execution_count": 50,
   "metadata": {},
   "outputs": [
    {
     "name": "stdout",
     "output_type": "stream",
     "text": [
      "Ismail Aydemir 1\n",
      "Uygar Aydin 2\n",
      "Naz Yahcioglu 3\n",
      "Ferhat Ibrik 4\n",
      "Ulas Acil 5\n",
      "Bilal Kurucay 6\n"
     ]
    }
   ],
   "source": [
    "kullanici_sayisi = 0\n",
    "for kullanici in yorum_birakanlar:\n",
    "    kullanici_sayisi = kullanici_sayisi + 1\n",
    "    print(kullanici,kullanici_sayisi)"
   ]
  },
  {
   "cell_type": "code",
   "execution_count": 51,
   "metadata": {},
   "outputs": [
    {
     "name": "stdout",
     "output_type": "stream",
     "text": [
      "Ismail Aydemir\n"
     ]
    }
   ],
   "source": [
    "ad = yorum_birakanlar[0].split()[0]\n",
    "soyad = yorum_birakanlar[0].split()[1]\n",
    "print(ad,soyad)"
   ]
  },
  {
   "cell_type": "code",
   "execution_count": 52,
   "metadata": {},
   "outputs": [
    {
     "name": "stdout",
     "output_type": "stream",
     "text": [
      "Ismail Aydemir\n"
     ]
    }
   ],
   "source": [
    "ad, soyad = yorum_birakanlar[0].split()[0],yorum_birakanlar[0].split()[1]\n",
    "print(ad, soyad)"
   ]
  },
  {
   "cell_type": "code",
   "execution_count": 53,
   "metadata": {},
   "outputs": [
    {
     "name": "stdout",
     "output_type": "stream",
     "text": [
      "1. Kullanicinin Adi Ismail ve Soyadi Aydemir\n",
      "2. Kullanicinin Adi Uygar ve Soyadi Aydin\n",
      "3. Kullanicinin Adi Naz ve Soyadi Yahcioglu\n",
      "4. Kullanicinin Adi Ferhat ve Soyadi Ibrik\n",
      "5. Kullanicinin Adi Ulas ve Soyadi Acil\n",
      "6. Kullanicinin Adi Bilal ve Soyadi Kurucay\n"
     ]
    }
   ],
   "source": [
    "kullanici_sayisi = 0\n",
    "\n",
    "for kullanici in yorum_birakanlar:\n",
    "    kullanici_sayisi = kullanici_sayisi + 1\n",
    "    ad, soyad = kullanici.split()[0],kullanici.split()[1]\n",
    "    print('{0}. Kullanicinin Adi {1} ve Soyadi {2}'.format(kullanici_sayisi,ad,soyad))"
   ]
  },
  {
   "cell_type": "code",
   "execution_count": 54,
   "metadata": {},
   "outputs": [
    {
     "name": "stdout",
     "output_type": "stream",
     "text": [
      "1. Kullanicinin Adi Ismail ve Soyadi Aydemir\n",
      "2. Kullanicinin Adi Uygar ve Soyadi Aydin\n",
      "3. Kullanicinin Adi Naz ve Soyadi Yahcioglu\n",
      "1. Moderatörün Adi Ferhat ve Soyadi Ibrik\n",
      "4. Kullanicinin Adi Ulas ve Soyadi Acil\n",
      "5. Kullanicinin Adi Bilal ve Soyadi Kurucay\n"
     ]
    }
   ],
   "source": [
    "moderator = \"Ferhat Ibrik\"\n",
    "\n",
    "kullanici_sayisi = 0\n",
    "moderator_sayisi = 0\n",
    "for kullanici in yorum_birakanlar:\n",
    "    ad, soyad = kullanici.split()[0],kullanici.split()[1]\n",
    "    if(kullanici == moderator):\n",
    "        moderator_sayisi = moderator_sayisi + 1 \n",
    "        # moderator_sayisi += 1 (aynı kod) \n",
    "        print('{0}. Moderatörün Adi {1} ve Soyadi {2}'.format(moderator_sayisi,ad,soyad))\n",
    "    else:\n",
    "        kullanici_sayisi = kullanici_sayisi + 1\n",
    "        print('{0}. Kullanicinin Adi {1} ve Soyadi {2}'.format(kullanici_sayisi,ad,soyad))"
   ]
  },
  {
   "cell_type": "markdown",
   "metadata": {},
   "source": [
    "### Diğer Iterable Objelerde for Döngüleri"
   ]
  },
  {
   "cell_type": "code",
   "execution_count": 55,
   "metadata": {},
   "outputs": [
    {
     "name": "stdout",
     "output_type": "stream",
     "text": [
      "1\n",
      "3\n",
      "5\n",
      "7\n"
     ]
    }
   ],
   "source": [
    "tup1 = (1,3,5,7)\n",
    "\n",
    "for sayi in tup1:\n",
    "    print(sayi)"
   ]
  },
  {
   "cell_type": "code",
   "execution_count": 56,
   "metadata": {},
   "outputs": [
    {
     "name": "stdout",
     "output_type": "stream",
     "text": [
      "1\n",
      "3\n",
      "5\n",
      "a\n"
     ]
    }
   ],
   "source": [
    "liste = [ [1,2],[3,4],[5,6],['a','b']]\n",
    "\n",
    "for x,y in liste:\n",
    "    print(x)\n"
   ]
  },
  {
   "cell_type": "code",
   "execution_count": 57,
   "metadata": {},
   "outputs": [
    {
     "name": "stdout",
     "output_type": "stream",
     "text": [
      "1 2\n",
      "3 4\n",
      "5 6\n"
     ]
    }
   ],
   "source": [
    "liste = [ [1,2],[3,4],[5,6]]\n",
    "\n",
    "for x,y in liste:\n",
    "    print(x,y)"
   ]
  },
  {
   "cell_type": "code",
   "execution_count": 58,
   "metadata": {},
   "outputs": [
    {
     "name": "stdout",
     "output_type": "stream",
     "text": [
      "2\n",
      "12\n",
      "30\n"
     ]
    }
   ],
   "source": [
    "liste = [ [1,2],[3,4],[5,6]]\n",
    "\n",
    "for x,y in liste:\n",
    "    print(x*y)"
   ]
  },
  {
   "cell_type": "code",
   "execution_count": 59,
   "metadata": {},
   "outputs": [
    {
     "data": {
      "text/plain": [
       "dict_items([('ad', 'Naz'), ('soyad', 'Yagcioglu')])"
      ]
     },
     "execution_count": 59,
     "metadata": {},
     "output_type": "execute_result"
    }
   ],
   "source": [
    "kullanici1 = {\n",
    "    'ad' : 'Naz',\n",
    "    'soyad' : 'Yagcioglu'\n",
    "}\n",
    "kullanici1.items()"
   ]
  },
  {
   "cell_type": "code",
   "execution_count": 60,
   "metadata": {},
   "outputs": [
    {
     "name": "stdout",
     "output_type": "stream",
     "text": [
      "Key: ad \t Value:Naz\n",
      "Key: soyad \t Value:Yagcioglu\n"
     ]
    }
   ],
   "source": [
    "for k, v in kullanici1.items():\n",
    "    print(\"Key: {} \\t Value:{}\".format(k,v))\n"
   ]
  },
  {
   "cell_type": "code",
   "execution_count": 61,
   "metadata": {},
   "outputs": [
    {
     "name": "stdout",
     "output_type": "stream",
     "text": [
      "Key: ad\n",
      "Key: soyad\n"
     ]
    }
   ],
   "source": [
    "for k in kullanici1.keys():\n",
    "    print(\"Key: {}\".format(k))"
   ]
  },
  {
   "cell_type": "markdown",
   "metadata": {},
   "source": [
    "### while Döngüleri"
   ]
  },
  {
   "cell_type": "code",
   "execution_count": 62,
   "metadata": {},
   "outputs": [
    {
     "name": "stdout",
     "output_type": "stream",
     "text": [
      "0 değeri 10'dan küçüktür\n",
      "1 değeri 10'dan küçüktür\n",
      "2 değeri 10'dan küçüktür\n",
      "3 değeri 10'dan küçüktür\n",
      "4 değeri 10'dan küçüktür\n",
      "5 değeri 10'dan küçüktür\n",
      "6 değeri 10'dan küçüktür\n",
      "7 değeri 10'dan küçüktür\n",
      "8 değeri 10'dan küçüktür\n",
      "9 değeri 10'dan küçüktür\n"
     ]
    }
   ],
   "source": [
    "x = 0 \n",
    "\n",
    "while x < 10:\n",
    "    print(\"{} değeri 10'dan küçüktür\".format(x))\n",
    "    x = x + 1"
   ]
  },
  {
   "cell_type": "code",
   "execution_count": 63,
   "metadata": {},
   "outputs": [
    {
     "name": "stdout",
     "output_type": "stream",
     "text": [
      "0 değeri 10'dan küçüktür\n",
      "1 değeri 10'dan küçüktür\n",
      "2 değeri 10'dan küçüktür\n",
      "3 değeri 10'dan küçüktür\n",
      "4 değeri 10'dan küçüktür\n",
      "5 değeri 10'dan küçüktür\n",
      "6 değeri 10'dan küçüktür\n",
      "7 değeri 10'dan küçüktür\n",
      "8 değeri 10'dan küçüktür\n",
      "9 değeri 10'dan küçüktür\n",
      "10 değeri 10'dan küçük değil\n"
     ]
    }
   ],
   "source": [
    "x = 0 \n",
    "\n",
    "while x < 10:\n",
    "    print(\"{} değeri 10'dan küçüktür\".format(x))\n",
    "    x = x + 1\n",
    "else:\n",
    "    print(\"{} değeri 10'dan küçük değil\".format(x))"
   ]
  },
  {
   "cell_type": "code",
   "execution_count": 64,
   "metadata": {},
   "outputs": [
    {
     "name": "stdout",
     "output_type": "stream",
     "text": [
      "720\n"
     ]
    }
   ],
   "source": [
    "sayi = 6\n",
    "sonuc = 1\n",
    "\n",
    "while sayi > 0:\n",
    "    sonuc = sonuc * sayi\n",
    "    sayi = sayi - 1\n",
    "print(sonuc)\n"
   ]
  },
  {
   "attachments": {},
   "cell_type": "markdown",
   "metadata": {},
   "source": [
    "### - enumerate, zip ve range Uygulamaları -"
   ]
  },
  {
   "attachments": {},
   "cell_type": "markdown",
   "metadata": {},
   "source": [
    "### range"
   ]
  },
  {
   "cell_type": "code",
   "execution_count": 65,
   "metadata": {},
   "outputs": [
    {
     "data": {
      "text/plain": [
       "range(0, 10)"
      ]
     },
     "execution_count": 65,
     "metadata": {},
     "output_type": "execute_result"
    }
   ],
   "source": [
    "range(10)"
   ]
  },
  {
   "cell_type": "code",
   "execution_count": 66,
   "metadata": {},
   "outputs": [
    {
     "data": {
      "text/plain": [
       "[0, 1, 2, 3, 4, 5, 6, 7, 8, 9]"
      ]
     },
     "execution_count": 66,
     "metadata": {},
     "output_type": "execute_result"
    }
   ],
   "source": [
    "list(range(10))"
   ]
  },
  {
   "cell_type": "code",
   "execution_count": 67,
   "metadata": {},
   "outputs": [
    {
     "data": {
      "text/plain": [
       "[0, 1, 2, 3, 4, 5, 6, 7, 8, 9]"
      ]
     },
     "execution_count": 67,
     "metadata": {},
     "output_type": "execute_result"
    }
   ],
   "source": [
    "[*range(10)]"
   ]
  },
  {
   "cell_type": "code",
   "execution_count": 68,
   "metadata": {},
   "outputs": [
    {
     "data": {
      "text/plain": [
       "[2, 4, 6]"
      ]
     },
     "execution_count": 68,
     "metadata": {},
     "output_type": "execute_result"
    }
   ],
   "source": [
    "list(range(2,7,2))"
   ]
  },
  {
   "cell_type": "code",
   "execution_count": 69,
   "metadata": {},
   "outputs": [
    {
     "name": "stdout",
     "output_type": "stream",
     "text": [
      "6\n",
      "7\n",
      "8\n",
      "9\n"
     ]
    }
   ],
   "source": [
    "for sayi in range(10):\n",
    "    if sayi > 5:\n",
    "        print(sayi)"
   ]
  },
  {
   "attachments": {},
   "cell_type": "markdown",
   "metadata": {},
   "source": [
    "### enumerate"
   ]
  },
  {
   "cell_type": "code",
   "execution_count": 70,
   "metadata": {},
   "outputs": [
    {
     "name": "stdout",
     "output_type": "stream",
     "text": [
      "(0, 'a')\n",
      "(1, 'b')\n",
      "(2, 'c')\n",
      "(3, 'd')\n",
      "(4, 'e')\n"
     ]
    }
   ],
   "source": [
    "harfler = ['a','b','c','d','e']\n",
    "for harf in enumerate(harfler):\n",
    "    print(harf)"
   ]
  },
  {
   "cell_type": "code",
   "execution_count": 71,
   "metadata": {},
   "outputs": [
    {
     "name": "stdout",
     "output_type": "stream",
     "text": [
      "1. harf : a\n",
      "2. harf : b\n",
      "3. harf : c\n",
      "4. harf : d\n",
      "5. harf : e\n"
     ]
    }
   ],
   "source": [
    "for index,harf in enumerate(harfler):\n",
    "    print(\"{}. harf : {}\".format(index+1,harf))"
   ]
  },
  {
   "attachments": {},
   "cell_type": "markdown",
   "metadata": {},
   "source": [
    "### zip"
   ]
  },
  {
   "cell_type": "code",
   "execution_count": 72,
   "metadata": {},
   "outputs": [
    {
     "name": "stdout",
     "output_type": "stream",
     "text": [
      "('TR', 1)\n",
      "('FR', 2)\n",
      "('DE', 3)\n"
     ]
    }
   ],
   "source": [
    "ulkeler = [\"TR\",\"FR\",\"DE\",]\n",
    "sıralamalar = range(1,4)  \n",
    "\n",
    "for ulke in zip(ulkeler,sıralamalar):\n",
    "    print(ulke)"
   ]
  },
  {
   "attachments": {},
   "cell_type": "markdown",
   "metadata": {},
   "source": [
    "### break"
   ]
  },
  {
   "cell_type": "code",
   "execution_count": 73,
   "metadata": {},
   "outputs": [
    {
     "name": "stdout",
     "output_type": "stream",
     "text": [
      "c harfi 2. indexte tutuluyor\n"
     ]
    }
   ],
   "source": [
    "harfler = ['a','b','c','d','e'] * 100 \n",
    "for index,harf in enumerate(harfler):\n",
    "    if harf == 'c':\n",
    "        print('{} harfi {}. indexte tutuluyor'.format(harf,index))\n",
    "        break\n"
   ]
  },
  {
   "attachments": {},
   "cell_type": "markdown",
   "metadata": {},
   "source": [
    "### continue"
   ]
  },
  {
   "cell_type": "code",
   "execution_count": 74,
   "metadata": {},
   "outputs": [
    {
     "name": "stdout",
     "output_type": "stream",
     "text": [
      "1\n",
      "3\n",
      "5\n"
     ]
    }
   ],
   "source": [
    "for sayi in range(1,6):\n",
    "    if sayi%2==0: # çift sayı sorgulama mantığı\n",
    "        continue\n",
    "    print(sayi)"
   ]
  },
  {
   "cell_type": "code",
   "execution_count": 75,
   "metadata": {},
   "outputs": [
    {
     "name": "stdout",
     "output_type": "stream",
     "text": [
      "1\n",
      "3\n",
      "5\n"
     ]
    }
   ],
   "source": [
    "for sayi in range(1,6):\n",
    "    if sayi%2!=0: # çift sayı sorgulama mantığı\n",
    "        print(sayi)"
   ]
  },
  {
   "attachments": {},
   "cell_type": "markdown",
   "metadata": {},
   "source": [
    "### pass"
   ]
  },
  {
   "cell_type": "code",
   "execution_count": 76,
   "metadata": {},
   "outputs": [
    {
     "name": "stdout",
     "output_type": "stream",
     "text": [
      "1\n",
      "3\n",
      "5\n"
     ]
    }
   ],
   "source": [
    "for sayi in range(1,6):\n",
    "    if sayi%2==0: # çift sayı sorgulama mantığı\n",
    "        pass\n",
    "    else:\n",
    "        print(sayi)"
   ]
  },
  {
   "cell_type": "code",
   "execution_count": 77,
   "metadata": {},
   "outputs": [
    {
     "name": "stdout",
     "output_type": "stream",
     "text": [
      "Hey\n"
     ]
    }
   ],
   "source": [
    "if sayi < 5 : \n",
    "    pass\n",
    "else:\n",
    "    print(\"Hey\")"
   ]
  },
  {
   "attachments": {},
   "cell_type": "markdown",
   "metadata": {},
   "source": [
    "### Fonksiyonlar - 1"
   ]
  },
  {
   "cell_type": "code",
   "execution_count": 78,
   "metadata": {},
   "outputs": [],
   "source": [
    "def bes_bastir():\n",
    "    print(5)"
   ]
  },
  {
   "cell_type": "code",
   "execution_count": 79,
   "metadata": {},
   "outputs": [
    {
     "name": "stdout",
     "output_type": "stream",
     "text": [
      "5\n"
     ]
    }
   ],
   "source": [
    "bes_bastir()"
   ]
  },
  {
   "attachments": {},
   "cell_type": "markdown",
   "metadata": {},
   "source": [
    "### Fonksiyonlarda print ve return farkı"
   ]
  },
  {
   "cell_type": "code",
   "execution_count": 80,
   "metadata": {},
   "outputs": [],
   "source": [
    "def bes_dondur():\n",
    "    return 5"
   ]
  },
  {
   "cell_type": "code",
   "execution_count": 81,
   "metadata": {},
   "outputs": [
    {
     "data": {
      "text/plain": [
       "5"
      ]
     },
     "execution_count": 81,
     "metadata": {},
     "output_type": "execute_result"
    }
   ],
   "source": [
    "bes_dondur()"
   ]
  },
  {
   "cell_type": "code",
   "execution_count": 82,
   "metadata": {},
   "outputs": [
    {
     "name": "stdout",
     "output_type": "stream",
     "text": [
      "5\n",
      "None\n"
     ]
    }
   ],
   "source": [
    "a = bes_bastir()\n",
    "print(a)"
   ]
  },
  {
   "cell_type": "code",
   "execution_count": 83,
   "metadata": {},
   "outputs": [
    {
     "name": "stdout",
     "output_type": "stream",
     "text": [
      "5\n"
     ]
    }
   ],
   "source": [
    "b = bes_dondur()\n",
    "print(b)"
   ]
  },
  {
   "attachments": {},
   "cell_type": "markdown",
   "metadata": {},
   "source": [
    "### Fonksiyonlarda Argümanlar"
   ]
  },
  {
   "cell_type": "code",
   "execution_count": 84,
   "metadata": {},
   "outputs": [],
   "source": [
    "def sayi_dondur(sayi):\n",
    "    return sayi"
   ]
  },
  {
   "cell_type": "code",
   "execution_count": 85,
   "metadata": {},
   "outputs": [
    {
     "data": {
      "text/plain": [
       "100"
      ]
     },
     "execution_count": 85,
     "metadata": {},
     "output_type": "execute_result"
    }
   ],
   "source": [
    "sayi_dondur(100)"
   ]
  },
  {
   "cell_type": "code",
   "execution_count": 86,
   "metadata": {},
   "outputs": [],
   "source": [
    "def sayi_dondur(sayi=250):\n",
    "    return sayi"
   ]
  },
  {
   "cell_type": "code",
   "execution_count": 87,
   "metadata": {},
   "outputs": [
    {
     "data": {
      "text/plain": [
       "250"
      ]
     },
     "execution_count": 87,
     "metadata": {},
     "output_type": "execute_result"
    }
   ],
   "source": [
    "sayi_dondur()"
   ]
  },
  {
   "cell_type": "code",
   "execution_count": 88,
   "metadata": {},
   "outputs": [],
   "source": [
    "def buyuk_sayi_dondur(a,b):\n",
    "    if a>b:\n",
    "        return a\n",
    "    elif b>a:\n",
    "        return b"
   ]
  },
  {
   "cell_type": "code",
   "execution_count": 89,
   "metadata": {},
   "outputs": [
    {
     "data": {
      "text/plain": [
       "10"
      ]
     },
     "execution_count": 89,
     "metadata": {},
     "output_type": "execute_result"
    }
   ],
   "source": [
    "buyuk_sayi_dondur(5,10)"
   ]
  },
  {
   "attachments": {},
   "cell_type": "markdown",
   "metadata": {},
   "source": [
    "### Fonksiyonların Birbiri ile İlişkisi"
   ]
  },
  {
   "cell_type": "code",
   "execution_count": 90,
   "metadata": {},
   "outputs": [],
   "source": [
    "def metin_yazdir(a,b):\n",
    "    buyuk_sayi = buyuk_sayi_dondur(a,b)\n",
    "    sablon_metin = \"{} daha büyük sayidir.\".format(buyuk_sayi)\n",
    "    print(sablon_metin)"
   ]
  },
  {
   "cell_type": "code",
   "execution_count": 91,
   "metadata": {},
   "outputs": [
    {
     "name": "stdout",
     "output_type": "stream",
     "text": [
      "10 daha büyük sayidir.\n"
     ]
    }
   ],
   "source": [
    "metin_yazdir(5,10)"
   ]
  },
  {
   "attachments": {},
   "cell_type": "markdown",
   "metadata": {},
   "source": [
    "### Fonksiyonlar Birden Fazla Sonuç Döndürebilir"
   ]
  },
  {
   "cell_type": "code",
   "execution_count": 92,
   "metadata": {},
   "outputs": [],
   "source": [
    "def isim_soyisim_yazdirma(isim_soyisim):\n",
    "    isim=isim_soyisim.split()[0]\n",
    "    soyisim=isim_soyisim.split()[1]\n",
    "    return isim, soyisim"
   ]
  },
  {
   "cell_type": "code",
   "execution_count": 93,
   "metadata": {},
   "outputs": [
    {
     "data": {
      "text/plain": [
       "('Uğur', 'Durna')"
      ]
     },
     "execution_count": 93,
     "metadata": {},
     "output_type": "execute_result"
    }
   ],
   "source": [
    "isim_soyisim_yazdirma(\"Uğur Durna\")"
   ]
  },
  {
   "cell_type": "code",
   "execution_count": 94,
   "metadata": {},
   "outputs": [
    {
     "name": "stdout",
     "output_type": "stream",
     "text": [
      "Uğur\n",
      "Kemal\n"
     ]
    }
   ],
   "source": [
    "a,b = isim_soyisim_yazdirma(\"Uğur Kemal Durna\")\n",
    "print(a)\n",
    "print(b)"
   ]
  },
  {
   "attachments": {},
   "cell_type": "markdown",
   "metadata": {},
   "source": [
    "### *args Argümanı"
   ]
  },
  {
   "cell_type": "code",
   "execution_count": 95,
   "metadata": {},
   "outputs": [
    {
     "data": {
      "text/plain": [
       "'Uğur-Durna'"
      ]
     },
     "execution_count": 95,
     "metadata": {},
     "output_type": "execute_result"
    }
   ],
   "source": [
    "\"-\".join([\"Uğur\",\"Durna\"])"
   ]
  },
  {
   "cell_type": "code",
   "execution_count": 96,
   "metadata": {},
   "outputs": [],
   "source": [
    "def isim_soyisim_birlestir(isim,soyisim):\n",
    "    return \" \".join([isim,soyisim])"
   ]
  },
  {
   "cell_type": "code",
   "execution_count": 97,
   "metadata": {},
   "outputs": [
    {
     "data": {
      "text/plain": [
       "'Uğur Kemal Durna'"
      ]
     },
     "execution_count": 97,
     "metadata": {},
     "output_type": "execute_result"
    }
   ],
   "source": [
    "isim_soyisim_birlestir(\"Uğur Kemal\",\"Durna\")"
   ]
  },
  {
   "cell_type": "code",
   "execution_count": 98,
   "metadata": {},
   "outputs": [],
   "source": [
    "def isim_soyisim_birlestir(*args):\n",
    "    return \" \".join(args)"
   ]
  },
  {
   "cell_type": "code",
   "execution_count": 99,
   "metadata": {},
   "outputs": [
    {
     "data": {
      "text/plain": [
       "'Uğur Kemal Durna'"
      ]
     },
     "execution_count": 99,
     "metadata": {},
     "output_type": "execute_result"
    }
   ],
   "source": [
    "isim_soyisim_birlestir(\"Uğur\",\"Kemal\",\"Durna\")"
   ]
  },
  {
   "cell_type": "code",
   "execution_count": 100,
   "metadata": {},
   "outputs": [],
   "source": [
    "def gobek_adi_yazdir(**kwargs):\n",
    "    if 'gobekadi' in kwargs:\n",
    "        print(kwargs['gobekadi'])\n",
    "    else:\n",
    "        print(\"Gobekadi yok.\")\n"
   ]
  },
  {
   "cell_type": "code",
   "execution_count": 101,
   "metadata": {},
   "outputs": [
    {
     "name": "stdout",
     "output_type": "stream",
     "text": [
      "Mesut\n"
     ]
    }
   ],
   "source": [
    "gobek_adi_yazdir(adi=\"Erol\",gobekadi=\"Mesut\",soyadi=\"Gün\")"
   ]
  },
  {
   "cell_type": "code",
   "execution_count": 102,
   "metadata": {},
   "outputs": [
    {
     "name": "stdout",
     "output_type": "stream",
     "text": [
      "Gobekadi yok.\n"
     ]
    }
   ],
   "source": [
    "gobek_adi_yazdir(adi=\"Erol\",soyadi=\"Gün\")"
   ]
  },
  {
   "attachments": {},
   "cell_type": "markdown",
   "metadata": {},
   "source": [
    "### map, filter ve lambda İfadeleri"
   ]
  },
  {
   "cell_type": "code",
   "execution_count": 103,
   "metadata": {},
   "outputs": [],
   "source": [
    "def karesini_al(x):\n",
    "    return x**2"
   ]
  },
  {
   "cell_type": "code",
   "execution_count": 104,
   "metadata": {},
   "outputs": [
    {
     "data": {
      "text/plain": [
       "25"
      ]
     },
     "execution_count": 104,
     "metadata": {},
     "output_type": "execute_result"
    }
   ],
   "source": [
    "karesini_al(5)"
   ]
  },
  {
   "cell_type": "code",
   "execution_count": 105,
   "metadata": {},
   "outputs": [
    {
     "data": {
      "text/plain": [
       "[1, 2, 3, 4, 5]"
      ]
     },
     "execution_count": 105,
     "metadata": {},
     "output_type": "execute_result"
    }
   ],
   "source": [
    "sayilar = [*range(1,6)]\n",
    "sayilar"
   ]
  },
  {
   "cell_type": "code",
   "execution_count": 106,
   "metadata": {},
   "outputs": [
    {
     "name": "stdout",
     "output_type": "stream",
     "text": [
      "[1, 2, 3, 4, 5]\n",
      "[1, 4, 9, 16, 25]\n"
     ]
    }
   ],
   "source": [
    "sayilar = [*range(1,6)]\n",
    "print(sayilar)\n",
    "for index in range(len(sayilar)):\n",
    "    sayilar[index] = karesini_al(sayilar[index])\n",
    "print(sayilar)"
   ]
  },
  {
   "cell_type": "code",
   "execution_count": 107,
   "metadata": {},
   "outputs": [
    {
     "data": {
      "text/plain": [
       "[1, 4, 9, 16, 25]"
      ]
     },
     "execution_count": 107,
     "metadata": {},
     "output_type": "execute_result"
    }
   ],
   "source": [
    "sayilar = [*range(1,6)]\n",
    "[*map(karesini_al, sayilar)]"
   ]
  },
  {
   "cell_type": "code",
   "execution_count": 108,
   "metadata": {},
   "outputs": [],
   "source": [
    "def cift_sayilari_filtrele(x):\n",
    "    if x%2 == 0:\n",
    "        return x\n",
    "    # else:\n",
    "    #     return None\n"
   ]
  },
  {
   "cell_type": "code",
   "execution_count": 109,
   "metadata": {},
   "outputs": [
    {
     "data": {
      "text/plain": [
       "4"
      ]
     },
     "execution_count": 109,
     "metadata": {},
     "output_type": "execute_result"
    }
   ],
   "source": [
    "cift_sayilari_filtrele(4)"
   ]
  },
  {
   "cell_type": "code",
   "execution_count": 110,
   "metadata": {},
   "outputs": [],
   "source": [
    "def cift_sayilari_filtrele(x):\n",
    "    # if x%2 == 0:\n",
    "        # return x\n",
    "    return x if x%2 == 0 else None"
   ]
  },
  {
   "cell_type": "code",
   "execution_count": 111,
   "metadata": {},
   "outputs": [
    {
     "data": {
      "text/plain": [
       "4"
      ]
     },
     "execution_count": 111,
     "metadata": {},
     "output_type": "execute_result"
    }
   ],
   "source": [
    "cift_sayilari_filtrele(4)"
   ]
  },
  {
   "cell_type": "code",
   "execution_count": 112,
   "metadata": {},
   "outputs": [
    {
     "data": {
      "text/plain": [
       "[2, 4]"
      ]
     },
     "execution_count": 112,
     "metadata": {},
     "output_type": "execute_result"
    }
   ],
   "source": [
    "sayilar = [*range(1,6)]\n",
    "[*filter(cift_sayilari_filtrele,sayilar)]"
   ]
  },
  {
   "cell_type": "code",
   "execution_count": null,
   "metadata": {},
   "outputs": [],
   "source": [
    "def karesini_al(x):\n",
    "    return x**2"
   ]
  },
  {
   "cell_type": "code",
   "execution_count": null,
   "metadata": {},
   "outputs": [],
   "source": [
    "sayilar = [*range(1,6)]\n",
    "list(map(lambda sayi: sayi**2, sayilar)) #veya [*map(lambda sayi**2, sayilar)]"
   ]
  },
  {
   "cell_type": "code",
   "execution_count": 1,
   "metadata": {},
   "outputs": [
    {
     "data": {
      "text/plain": [
       "[2, 4]"
      ]
     },
     "execution_count": 1,
     "metadata": {},
     "output_type": "execute_result"
    }
   ],
   "source": [
    "sayilar = [*range(1,6)]\n",
    "[*filter(lambda x: x if x%2 == 0 else None, sayilar)]"
   ]
  },
  {
   "attachments": {},
   "cell_type": "markdown",
   "metadata": {},
   "source": [
    "### Kullanıcı Girdisi"
   ]
  },
  {
   "cell_type": "code",
   "execution_count": 2,
   "metadata": {},
   "outputs": [
    {
     "data": {
      "text/plain": [
       "'18'"
      ]
     },
     "execution_count": 2,
     "metadata": {},
     "output_type": "execute_result"
    }
   ],
   "source": [
    "input(\"Bir sayı giriniz:\")"
   ]
  },
  {
   "cell_type": "code",
   "execution_count": 4,
   "metadata": {},
   "outputs": [
    {
     "data": {
      "text/plain": [
       "str"
      ]
     },
     "execution_count": 4,
     "metadata": {},
     "output_type": "execute_result"
    }
   ],
   "source": [
    "girdi = input(\"Bir sayi giriniz:\")\n",
    "type(girdi)"
   ]
  },
  {
   "cell_type": "code",
   "execution_count": 5,
   "metadata": {},
   "outputs": [
    {
     "data": {
      "text/plain": [
       "int"
      ]
     },
     "execution_count": 5,
     "metadata": {},
     "output_type": "execute_result"
    }
   ],
   "source": [
    "girdi = input(\"Bir sayi giriniz:\")\n",
    "type(int(girdi))"
   ]
  },
  {
   "cell_type": "code",
   "execution_count": 14,
   "metadata": {},
   "outputs": [
    {
     "data": {
      "text/plain": [
       "'Hayir 19 bir cift sayi degildir.'"
      ]
     },
     "execution_count": 14,
     "metadata": {},
     "output_type": "execute_result"
    }
   ],
   "source": [
    "def uygulama():\n",
    "    girdi = input(\"Bir sayi giriniz:\")\n",
    "    islem = input(\"Verinin tek mi cift mi oldugunu sorgula:\")\n",
    "\n",
    "    if islem=='cift':\n",
    "        if int(girdi)%2==0:\n",
    "            return 'Evet {} bir cift sayidir.'.format(girdi)\n",
    "        else:\n",
    "            return 'Hayir {} bir cift sayi degildir.'.format(girdi)\n",
    "    elif islem=='tek':\n",
    "        if int(girdi)%2==1:\n",
    "            return 'Evet {} bir tek sayidir.'.format(girdi)\n",
    "        else:\n",
    "            return 'Hayir {} bir tek sayi degildir'.format(girdi)\n",
    "uygulama()\n"
   ]
  },
  {
   "attachments": {},
   "cell_type": "markdown",
   "metadata": {},
   "source": [
    "### Kullanıcı Girdisini Onaylamak"
   ]
  },
  {
   "cell_type": "code",
   "execution_count": 1,
   "metadata": {},
   "outputs": [],
   "source": [
    "def sayi_girdisi_kontrol():\n",
    "    girdi = input(\"Bir sayi giriniz.\")\n",
    "\n",
    "    if girdi.isdigit():\n",
    "        print(\"Tebrikler Sayi tipi deger girdiniz...\")\n",
    "    else:\n",
    "        print(\"Üzgünüm! Bu bir Sayi tipi degisken degildir...\")"
   ]
  },
  {
   "cell_type": "code",
   "execution_count": 3,
   "metadata": {},
   "outputs": [
    {
     "name": "stdout",
     "output_type": "stream",
     "text": [
      "Tebrikler Sayi tipi deger girdiniz...\n"
     ]
    }
   ],
   "source": [
    "sayi_girdisi_kontrol()"
   ]
  },
  {
   "cell_type": "code",
   "execution_count": 4,
   "metadata": {},
   "outputs": [],
   "source": [
    "def sayi_girdisi_kontrol_dongu():\n",
    "    girdi = input(\"Bir sayi giriniz.\")\n",
    "\n",
    "    while not girdi.isdigit():\n",
    "        print(\"Üzgünüm! Bu bir Sayi tipi degisken degildir...\")\n",
    "        girdi = input(\"Bir sayi giriniz.\")\n",
    "\n",
    "    else:\n",
    "        print(\"Tebrikler Sayi tipi deger girdiniz...\")"
   ]
  },
  {
   "cell_type": "code",
   "execution_count": 6,
   "metadata": {},
   "outputs": [
    {
     "name": "stdout",
     "output_type": "stream",
     "text": [
      "Üzgünüm! Bu bir Sayi tipi degisken degildir...\n",
      "Üzgünüm! Bu bir Sayi tipi degisken degildir...\n",
      "Tebrikler Sayi tipi deger girdiniz...\n"
     ]
    }
   ],
   "source": [
    "sayi_girdisi_kontrol_dongu()"
   ]
  },
  {
   "cell_type": "code",
   "execution_count": 7,
   "metadata": {},
   "outputs": [],
   "source": [
    "def eposta_kontrol():\n",
    "    girdi = input(\"Gecerli bir eposta adresi giriniz.\")\n",
    "\n",
    "    while not (('.' in girdi) and ('@' in girdi)):\n",
    "        print(\"Üzgünüm! Bu gecerli bir eposta adresi degildir.\")\n",
    "        girdi = input(\"Gecerli bir eposta adresi giriniz.\")\n",
    "    else:\n",
    "        print(\"Tebrikler eposta adresinizle basariyla giris yaptiniz.\")"
   ]
  },
  {
   "cell_type": "code",
   "execution_count": 9,
   "metadata": {},
   "outputs": [
    {
     "name": "stdout",
     "output_type": "stream",
     "text": [
      "Üzgünüm! Bu gecerli bir eposta adresi degildir.\n",
      "Tebrikler eposta adresinizle basariyla giris yaptiniz.\n"
     ]
    }
   ],
   "source": [
    "eposta_kontrol()"
   ]
  },
  {
   "attachments": {},
   "cell_type": "markdown",
   "metadata": {},
   "source": [
    "### Try, Except ve Finally Komutları"
   ]
  },
  {
   "cell_type": "code",
   "execution_count": 46,
   "metadata": {},
   "outputs": [
    {
     "data": {
      "text/plain": [
       "1"
      ]
     },
     "execution_count": 46,
     "metadata": {},
     "output_type": "execute_result"
    }
   ],
   "source": [
    "round(1.3)"
   ]
  },
  {
   "cell_type": "code",
   "execution_count": 47,
   "metadata": {},
   "outputs": [],
   "source": [
    "def tam_sayiya_cevir():\n",
    "    girdi = input(\"Bir ondalik sayi giriniz:\")\n",
    "\n",
    "    print(\"Yuvarlama isleminin sonucu : {}\".format(round(float(girdi))))"
   ]
  },
  {
   "cell_type": "code",
   "execution_count": 48,
   "metadata": {},
   "outputs": [
    {
     "name": "stdout",
     "output_type": "stream",
     "text": [
      "Yuvarlama isleminin sonucu : 2\n"
     ]
    }
   ],
   "source": [
    "tam_sayiya_cevir()"
   ]
  },
  {
   "cell_type": "code",
   "execution_count": 49,
   "metadata": {},
   "outputs": [],
   "source": [
    "def tam_sayiya_cevir():\n",
    "    girdi = input(\"Bir ondalik sayi giriniz:\")\n",
    "\n",
    "    # print(\"Yuvarlama isleminin sonucu : {}\".format(round(float(girdi))))\n",
    "\n",
    "    try:\n",
    "        girdi = float(girdi)\n",
    "        print(\"Yuvarlama isleminin sonucu : {}\".format(girdi))\n",
    "    except:\n",
    "        print(\"{} girdisi ondalik tipe cevrilemiyor\".format(girdi))"
   ]
  },
  {
   "cell_type": "code",
   "execution_count": 51,
   "metadata": {},
   "outputs": [],
   "source": [
    "def tam_sayiya_cevir():\n",
    "    girdi = input(\"Bir ondalik sayi giriniz:\")\n",
    "\n",
    "    try:\n",
    "        girdi = float(girdi)\n",
    "    except:\n",
    "        print(\"{} girdisi ondalik tipe cevrilemiyor\".format(girdi))\n",
    "    else:\n",
    "        print(\"Yuvarlama isleminin sonucu : {}\".format(round(girdi)))"
   ]
  },
  {
   "cell_type": "code",
   "execution_count": 52,
   "metadata": {},
   "outputs": [
    {
     "name": "stdout",
     "output_type": "stream",
     "text": [
      "Yuvarlama isleminin sonucu : 2\n"
     ]
    }
   ],
   "source": [
    "tam_sayiya_cevir()"
   ]
  },
  {
   "cell_type": "code",
   "execution_count": 53,
   "metadata": {},
   "outputs": [],
   "source": [
    "def tam_sayiya_cevir():\n",
    "    girdi = input(\"Bir ondalik sayi giriniz:\")\n",
    "\n",
    "    status = ''\n",
    "\n",
    "    try:\n",
    "        girdi = float(girdi)\n",
    "        print(\"Yuvarlama isleminin sonucu : {}\".format(round(girdi)))\n",
    "        status = 'basarili'\n",
    "    except:\n",
    "        print(\"{} girdisi ondalik tipe cevrilemiyor\".format(girdi))\n",
    "        status = 'basarisiz'\n",
    "    finally:\n",
    "        print('Tam sayiya cevirme islemi {} olarak tamamlandı'.format(status))"
   ]
  },
  {
   "cell_type": "code",
   "execution_count": 55,
   "metadata": {},
   "outputs": [
    {
     "name": "stdout",
     "output_type": "stream",
     "text": [
      "Yuvarlama isleminin sonucu : 4\n",
      "Tam sayiya cevirme islemi basarili olarak tamamlandı\n"
     ]
    }
   ],
   "source": [
    "tam_sayiya_cevir()"
   ]
  },
  {
   "cell_type": "code",
   "execution_count": 56,
   "metadata": {},
   "outputs": [],
   "source": [
    "def tam_sayiya_cevir_dongu():\n",
    "    while True:\n",
    "        girdi = input(\"Bir ondalik sayi giriniz:\")\n",
    "\n",
    "        try:\n",
    "            girdi = float(girdi)\n",
    "            print(\"Yuvarlama isleminin sonucu : {}\".format(round(girdi)))\n",
    "            break\n",
    "        except:\n",
    "            print(\"{} girdisi ondalik tipe cevrilemiyor\".format(girdi))\n",
    "            pass"
   ]
  },
  {
   "cell_type": "code",
   "execution_count": 57,
   "metadata": {},
   "outputs": [
    {
     "name": "stdout",
     "output_type": "stream",
     "text": [
      "a girdisi ondalik tipe cevrilemiyor\n",
      "Yuvarlama isleminin sonucu : 1\n"
     ]
    }
   ],
   "source": [
    "tam_sayiya_cevir_dongu()"
   ]
  },
  {
   "cell_type": "code",
   "execution_count": 58,
   "metadata": {},
   "outputs": [],
   "source": [
    "list = []"
   ]
  },
  {
   "cell_type": "code",
   "execution_count": 59,
   "metadata": {},
   "outputs": [
    {
     "ename": "NameError",
     "evalue": "name 'liste' is not defined",
     "output_type": "error",
     "traceback": [
      "\u001b[1;31m---------------------------------------------------------------------------\u001b[0m",
      "\u001b[1;31mNameError\u001b[0m                                 Traceback (most recent call last)",
      "Cell \u001b[1;32mIn [59], line 1\u001b[0m\n\u001b[1;32m----> 1\u001b[0m liste[\u001b[39m4\u001b[39m]\n",
      "\u001b[1;31mNameError\u001b[0m: name 'liste' is not defined"
     ]
    }
   ],
   "source": [
    "liste[4]"
   ]
  },
  {
   "cell_type": "code",
   "execution_count": 60,
   "metadata": {},
   "outputs": [
    {
     "ename": "NameError",
     "evalue": "name 'PASS_NO' is not defined",
     "output_type": "error",
     "traceback": [
      "\u001b[1;31m---------------------------------------------------------------------------\u001b[0m",
      "\u001b[1;31mNameError\u001b[0m                                 Traceback (most recent call last)",
      "Cell \u001b[1;32mIn [60], line 6\u001b[0m\n\u001b[0;32m      1\u001b[0m vatandas \u001b[39m=\u001b[39m {\n\u001b[0;32m      2\u001b[0m     \u001b[39m'\u001b[39m\u001b[39mAD\u001b[39m\u001b[39m'\u001b[39m : \u001b[39m'\u001b[39m\u001b[39mUGUR\u001b[39m\u001b[39m'\u001b[39m,\n\u001b[0;32m      3\u001b[0m     \u001b[39m'\u001b[39m\u001b[39mTC_NO\u001b[39m\u001b[39m'\u001b[39m : \u001b[39m1231312\u001b[39m\n\u001b[0;32m      4\u001b[0m \n\u001b[0;32m      5\u001b[0m }\n\u001b[1;32m----> 6\u001b[0m vatandas[PASS_NO]\n",
      "\u001b[1;31mNameError\u001b[0m: name 'PASS_NO' is not defined"
     ]
    }
   ],
   "source": [
    "vatandas = {\n",
    "    'AD' : 'UGUR',\n",
    "    'TC_NO' : 1231312\n",
    "\n",
    "}\n",
    "vatandas[PASS_NO]"
   ]
  },
  {
   "cell_type": "code",
   "execution_count": 61,
   "metadata": {},
   "outputs": [
    {
     "ename": "TypeError",
     "evalue": "unsupported operand type(s) for +: 'int' and 'str'",
     "output_type": "error",
     "traceback": [
      "\u001b[1;31m---------------------------------------------------------------------------\u001b[0m",
      "\u001b[1;31mTypeError\u001b[0m                                 Traceback (most recent call last)",
      "Cell \u001b[1;32mIn [61], line 1\u001b[0m\n\u001b[1;32m----> 1\u001b[0m \u001b[39m5\u001b[39;49m \u001b[39m+\u001b[39;49m \u001b[39m'\u001b[39;49m\u001b[39ma\u001b[39;49m\u001b[39m'\u001b[39;49m\n",
      "\u001b[1;31mTypeError\u001b[0m: unsupported operand type(s) for +: 'int' and 'str'"
     ]
    }
   ],
   "source": [
    "5 + 'a'"
   ]
  },
  {
   "cell_type": "code",
   "execution_count": 62,
   "metadata": {},
   "outputs": [
    {
     "name": "stdout",
     "output_type": "stream",
     "text": [
      "Verilen verilerle islem yapilamiyor.\n"
     ]
    }
   ],
   "source": [
    "try:\n",
    "    5 + 'a'\n",
    "except TypeError:\n",
    "    print('Verilen verilerle islem yapilamiyor.')\n"
   ]
  },
  {
   "cell_type": "code",
   "execution_count": 63,
   "metadata": {},
   "outputs": [
    {
     "name": "stdout",
     "output_type": "stream",
     "text": [
      "Kod düzgün çalışmıyor\n"
     ]
    }
   ],
   "source": [
    "try:\n",
    "    5 + 'a'\n",
    "except IndexError:\n",
    "    print('Verilen verilerle islem yapilamiyor.')\n",
    "except:\n",
    "    print('Kod düzgün çalışmıyor')"
   ]
  },
  {
   "cell_type": "code",
   "execution_count": 65,
   "metadata": {},
   "outputs": [
    {
     "name": "stdout",
     "output_type": "stream",
     "text": [
      "Indexlemeye calistiginiz eleman listenin disinda.\n"
     ]
    }
   ],
   "source": [
    "liste = []\n",
    "\n",
    "try:\n",
    "    liste[-1]\n",
    "except IndexError:\n",
    "    print('Indexlemeye calistiginiz eleman listenin disinda.')\n",
    "except:\n",
    "    print('Kod düzgün çalışmıyor')"
   ]
  },
  {
   "cell_type": "code",
   "execution_count": 68,
   "metadata": {},
   "outputs": [
    {
     "name": "stdout",
     "output_type": "stream",
     "text": [
      "Aranan dictionaryde verilen anahtar degeri mevcut degil.\n"
     ]
    }
   ],
   "source": [
    "vatandas = {\n",
    "    'AD' : 'UGUR',\n",
    "    'TC_NO' : 1231312\n",
    "}\n",
    "\n",
    "try:\n",
    "    vatandas['PASS_NO']\n",
    "except IndexError:\n",
    "    print('Indexlemeye calistiginiz eleman listenin disinda.')\n",
    "except KeyError:\n",
    "    print('Aranan dictionaryde verilen anahtar degeri mevcut degil.')\n",
    "except:\n",
    "    print('Kod düzgün çalışmıyor')"
   ]
  }
 ],
 "metadata": {
  "kernelspec": {
   "display_name": "Python 3.11.0 64-bit (microsoft store)",
   "language": "python",
   "name": "python3"
  },
  "language_info": {
   "codemirror_mode": {
    "name": "ipython",
    "version": 3
   },
   "file_extension": ".py",
   "mimetype": "text/x-python",
   "name": "python",
   "nbconvert_exporter": "python",
   "pygments_lexer": "ipython3",
   "version": "3.11.1"
  },
  "orig_nbformat": 4,
  "vscode": {
   "interpreter": {
    "hash": "4395795c0bc8c4448d773fc2b5b6d7fa347e4114afc3bc6e1097a337bc3c7c3a"
   }
  }
 },
 "nbformat": 4,
 "nbformat_minor": 2
}
