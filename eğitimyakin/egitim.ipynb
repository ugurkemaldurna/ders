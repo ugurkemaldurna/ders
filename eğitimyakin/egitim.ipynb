{
 "cells": [
  {
   "cell_type": "markdown",
   "metadata": {},
   "source": [
    "### Çok Boyutlu Veri Tipleri (Dictionary)"
   ]
  },
  {
   "cell_type": "code",
   "execution_count": 3,
   "metadata": {},
   "outputs": [
    {
     "data": {
      "text/plain": [
       "{'isim': 'Uğur Kemal', 'yas': 19, 'lokasyon': 'Türkiye'}"
      ]
     },
     "execution_count": 3,
     "metadata": {},
     "output_type": "execute_result"
    }
   ],
   "source": [
    "dict1 = {\"isim\": \"Uğur Kemal\",\"yas\": 19,\"lokasyon\": \"Türkiye\"}\n",
    "dict1"
   ]
  },
  {
   "cell_type": "code",
   "execution_count": 4,
   "metadata": {},
   "outputs": [
    {
     "data": {
      "text/plain": [
       "{'isim': 'Uğur Kemal',\n",
       " 'yas': 19,\n",
       " 'dogdugu_sehir': 'İstanbul',\n",
       " 'yasadigi_sehir': 'Bursa'}"
      ]
     },
     "execution_count": 4,
     "metadata": {},
     "output_type": "execute_result"
    }
   ],
   "source": [
    "dict2 = {\n",
    "    'isim': 'Uğur Kemal',\n",
    "    'yas': 19,\n",
    "    'dogdugu_sehir': 'İstanbul',\n",
    "    'yasadigi_sehir': 'Bursa'\n",
    "    #'lokasyon': 'Türkiye'\n",
    "}\n",
    "dict2"
   ]
  },
  {
   "cell_type": "code",
   "execution_count": 5,
   "metadata": {},
   "outputs": [
    {
     "data": {
      "text/plain": [
       "{'isim': 'Uğur Kemal',\n",
       " 'yas': 19,\n",
       " 'lokasyon': {'dogdugu_sehir': 'İstanbul', 'yasadigi_sehir': 'Bursa'}}"
      ]
     },
     "execution_count": 5,
     "metadata": {},
     "output_type": "execute_result"
    }
   ],
   "source": [
    "dict3 = {\n",
    "    'isim': 'Uğur Kemal',\n",
    "    'yas': 19,\n",
    "    'lokasyon': {\n",
    "        'dogdugu_sehir': 'İstanbul',\n",
    "        'yasadigi_sehir': 'Bursa'\n",
    "    }\n",
    "}\n",
    "dict3"
   ]
  },
  {
   "cell_type": "code",
   "execution_count": 6,
   "metadata": {},
   "outputs": [
    {
     "data": {
      "text/plain": [
       "19"
      ]
     },
     "execution_count": 6,
     "metadata": {},
     "output_type": "execute_result"
    }
   ],
   "source": [
    "dict2['yas']"
   ]
  },
  {
   "cell_type": "code",
   "execution_count": 7,
   "metadata": {},
   "outputs": [
    {
     "data": {
      "text/plain": [
       "19"
      ]
     },
     "execution_count": 7,
     "metadata": {},
     "output_type": "execute_result"
    }
   ],
   "source": [
    "dict2.get('yas')"
   ]
  },
  {
   "cell_type": "code",
   "execution_count": 8,
   "metadata": {},
   "outputs": [
    {
     "data": {
      "text/plain": [
       "19"
      ]
     },
     "execution_count": 8,
     "metadata": {},
     "output_type": "execute_result"
    }
   ],
   "source": [
    "dict3['yas']"
   ]
  },
  {
   "cell_type": "code",
   "execution_count": 9,
   "metadata": {},
   "outputs": [
    {
     "data": {
      "text/plain": [
       "{'dogdugu_sehir': 'İstanbul', 'yasadigi_sehir': 'Bursa'}"
      ]
     },
     "execution_count": 9,
     "metadata": {},
     "output_type": "execute_result"
    }
   ],
   "source": [
    "dict3['lokasyon']"
   ]
  },
  {
   "cell_type": "code",
   "execution_count": 10,
   "metadata": {},
   "outputs": [
    {
     "data": {
      "text/plain": [
       "'Bursa'"
      ]
     },
     "execution_count": 10,
     "metadata": {},
     "output_type": "execute_result"
    }
   ],
   "source": [
    "dict3['lokasyon']['yasadigi_sehir']"
   ]
  },
  {
   "cell_type": "code",
   "execution_count": 11,
   "metadata": {},
   "outputs": [
    {
     "data": {
      "text/plain": [
       "'Bursa'"
      ]
     },
     "execution_count": 11,
     "metadata": {},
     "output_type": "execute_result"
    }
   ],
   "source": [
    "dict3.get('lokasyon').get('yasadigi_sehir')"
   ]
  },
  {
   "cell_type": "code",
   "execution_count": 12,
   "metadata": {},
   "outputs": [
    {
     "data": {
      "text/plain": [
       "dict_keys(['isim', 'yas', 'dogdugu_sehir', 'yasadigi_sehir'])"
      ]
     },
     "execution_count": 12,
     "metadata": {},
     "output_type": "execute_result"
    }
   ],
   "source": [
    "dict2.keys()"
   ]
  },
  {
   "cell_type": "code",
   "execution_count": 13,
   "metadata": {},
   "outputs": [
    {
     "data": {
      "text/plain": [
       "dict_values(['Uğur Kemal', 19, 'İstanbul', 'Bursa'])"
      ]
     },
     "execution_count": 13,
     "metadata": {},
     "output_type": "execute_result"
    }
   ],
   "source": [
    "dict2.values()"
   ]
  },
  {
   "cell_type": "code",
   "execution_count": 14,
   "metadata": {},
   "outputs": [
    {
     "data": {
      "text/plain": [
       "dict_items([('isim', 'Uğur Kemal'), ('yas', 19), ('dogdugu_sehir', 'İstanbul'), ('yasadigi_sehir', 'Bursa')])"
      ]
     },
     "execution_count": 14,
     "metadata": {},
     "output_type": "execute_result"
    }
   ],
   "source": [
    "dict2.items()"
   ]
  },
  {
   "cell_type": "markdown",
   "metadata": {},
   "source": [
    "### if Sorguları"
   ]
  },
  {
   "cell_type": "code",
   "execution_count": 15,
   "metadata": {},
   "outputs": [
    {
     "name": "stdout",
     "output_type": "stream",
     "text": [
      "Şemsiyeni al!\n"
     ]
    }
   ],
   "source": [
    "hava_durumu = \"yagisli\"\n",
    "\n",
    "if hava_durumu == \"yagisli\":\n",
    "    print(\"Şemsiyeni al!\")"
   ]
  },
  {
   "cell_type": "code",
   "execution_count": 16,
   "metadata": {},
   "outputs": [
    {
     "name": "stdout",
     "output_type": "stream",
     "text": [
      "Sorun yok!\n"
     ]
    }
   ],
   "source": [
    "hava_durumu = \"karli\"\n",
    "\n",
    "if hava_durumu == \"yagisli\":\n",
    "    print(\"Şemsiyeni al!\")\n",
    "else:\n",
    "    print(\"Sorun yok!\")"
   ]
  },
  {
   "cell_type": "code",
   "execution_count": 17,
   "metadata": {},
   "outputs": [
    {
     "name": "stdout",
     "output_type": "stream",
     "text": [
      "Atkını al!\n"
     ]
    }
   ],
   "source": [
    "hava_durumu = \"karli\"\n",
    "\n",
    "if hava_durumu == \"yagisli\":\n",
    "    print(\"Şemsiyeni al!\")\n",
    "elif hava_durumu == \"karli\":\n",
    "    print(\"Atkını al!\")\n",
    "else:\n",
    "    print(\"Sorun yok!\")"
   ]
  },
  {
   "cell_type": "code",
   "execution_count": 18,
   "metadata": {},
   "outputs": [
    {
     "name": "stdout",
     "output_type": "stream",
     "text": [
      "Selam\n"
     ]
    }
   ],
   "source": [
    "yas = 19\n",
    "\n",
    "if yas >18:\n",
    "    print(\"Selam\")\n",
    "else:\n",
    "    print(\"Sen buraya ait değilsin!\")"
   ]
  },
  {
   "cell_type": "code",
   "execution_count": 19,
   "metadata": {},
   "outputs": [
    {
     "name": "stdout",
     "output_type": "stream",
     "text": [
      "Listeye ekledim.\n",
      "Güncel liste ['a', 'b', 'c', 'd']\n"
     ]
    }
   ],
   "source": [
    "liste = ['a','b','c']\n",
    "\n",
    "hedef_harf = 'd'\n",
    "\n",
    "if hedef_harf in liste:\n",
    "    print('Buldum.')\n",
    "else:\n",
    "    liste.append(hedef_harf)\n",
    "    print('Listeye ekledim.')\n",
    "    print('Güncel liste {}'.format(liste))"
   ]
  },
  {
   "cell_type": "code",
   "execution_count": 20,
   "metadata": {},
   "outputs": [
    {
     "name": "stdout",
     "output_type": "stream",
     "text": [
      "Buldum ama ilk konumda değil.\n"
     ]
    }
   ],
   "source": [
    "if (hedef_harf in liste) and (hedef_harf == liste[0]):\n",
    "    print('Buldum ve ilk harf konumunda.')\n",
    "elif hedef_harf in liste:\n",
    "    print('Buldum ama ilk konumda değil.')\n",
    "else:\n",
    "    liste.append(hedef_harf)\n",
    "    print('Listeye ekledim.')\n",
    "    print('Güncel liste {}'.format(liste))"
   ]
  },
  {
   "cell_type": "code",
   "execution_count": 21,
   "metadata": {},
   "outputs": [
    {
     "name": "stdout",
     "output_type": "stream",
     "text": [
      "Buldum ve ilk harf konumunda.\n"
     ]
    }
   ],
   "source": [
    "if hedef_harf in liste:\n",
    "    print('Buldum ve ilk harf konumunda.')\n",
    "elif (hedef_harf in liste) and (hedef_harf == liste[0]):\n",
    "    print('Buldum ama ilk konumda değil.')\n",
    "else:\n",
    "    liste.append(hedef_harf)\n",
    "    print('Listeye ekledim.')\n",
    "    print('Güncel liste {}'.format(liste))"
   ]
  },
  {
   "cell_type": "markdown",
   "metadata": {},
   "source": [
    "### for Döngüleri"
   ]
  },
  {
   "cell_type": "code",
   "execution_count": 22,
   "metadata": {},
   "outputs": [
    {
     "name": "stdout",
     "output_type": "stream",
     "text": [
      "['Ismail Aydemir', 'Uygar Aydin', 'Naz Yahcioglu', 'Ferhat Ibrik', 'Ulas Acil', 'Bilal Kurucay']\n"
     ]
    }
   ],
   "source": [
    "yorum_birakanlar = [\"Ismail Aydemir\",\"Uygar Aydin\",\"Naz Yahcioglu\",\"Ferhat Ibrik\",\"Ulas Acil\",\"Bilal Kurucay\"]\n",
    "print(yorum_birakanlar)"
   ]
  },
  {
   "cell_type": "code",
   "execution_count": 23,
   "metadata": {},
   "outputs": [
    {
     "name": "stdout",
     "output_type": "stream",
     "text": [
      "Ismail Aydemir\n",
      "Uygar Aydin\n",
      "Naz Yahcioglu\n",
      "Ferhat Ibrik\n",
      "Ulas Acil\n",
      "Bilal Kurucay\n"
     ]
    }
   ],
   "source": [
    "for kullanici in yorum_birakanlar:\n",
    "    print(kullanici)"
   ]
  },
  {
   "cell_type": "code",
   "execution_count": 24,
   "metadata": {},
   "outputs": [
    {
     "name": "stdout",
     "output_type": "stream",
     "text": [
      "Ismail Aydemir 1\n",
      "Uygar Aydin 2\n",
      "Naz Yahcioglu 3\n",
      "Ferhat Ibrik 4\n",
      "Ulas Acil 5\n",
      "Bilal Kurucay 6\n"
     ]
    }
   ],
   "source": [
    "kullanici_sayisi = 0\n",
    "for kullanici in yorum_birakanlar:\n",
    "    kullanici_sayisi = kullanici_sayisi + 1\n",
    "    print(kullanici,kullanici_sayisi)"
   ]
  },
  {
   "cell_type": "code",
   "execution_count": 25,
   "metadata": {},
   "outputs": [
    {
     "name": "stdout",
     "output_type": "stream",
     "text": [
      "Ismail Aydemir\n"
     ]
    }
   ],
   "source": [
    "ad = yorum_birakanlar[0].split()[0]\n",
    "soyad = yorum_birakanlar[0].split()[1]\n",
    "print(ad,soyad)"
   ]
  },
  {
   "cell_type": "code",
   "execution_count": 26,
   "metadata": {},
   "outputs": [
    {
     "name": "stdout",
     "output_type": "stream",
     "text": [
      "Ismail Aydemir\n"
     ]
    }
   ],
   "source": [
    "ad, soyad = yorum_birakanlar[0].split()[0],yorum_birakanlar[0].split()[1]\n",
    "print(ad, soyad)"
   ]
  },
  {
   "cell_type": "code",
   "execution_count": 27,
   "metadata": {},
   "outputs": [
    {
     "name": "stdout",
     "output_type": "stream",
     "text": [
      "1. Kullanicinin Adi Ismail ve Soyadi Aydemir\n",
      "2. Kullanicinin Adi Uygar ve Soyadi Aydin\n",
      "3. Kullanicinin Adi Naz ve Soyadi Yahcioglu\n",
      "4. Kullanicinin Adi Ferhat ve Soyadi Ibrik\n",
      "5. Kullanicinin Adi Ulas ve Soyadi Acil\n",
      "6. Kullanicinin Adi Bilal ve Soyadi Kurucay\n"
     ]
    }
   ],
   "source": [
    "kullanici_sayisi = 0\n",
    "\n",
    "for kullanici in yorum_birakanlar:\n",
    "    kullanici_sayisi = kullanici_sayisi + 1\n",
    "    ad, soyad = kullanici.split()[0],kullanici.split()[1]\n",
    "    print('{0}. Kullanicinin Adi {1} ve Soyadi {2}'.format(kullanici_sayisi,ad,soyad))"
   ]
  },
  {
   "cell_type": "code",
   "execution_count": 28,
   "metadata": {},
   "outputs": [
    {
     "name": "stdout",
     "output_type": "stream",
     "text": [
      "1. Kullanicinin Adi Ismail ve Soyadi Aydemir\n",
      "2. Kullanicinin Adi Uygar ve Soyadi Aydin\n",
      "3. Kullanicinin Adi Naz ve Soyadi Yahcioglu\n",
      "1. Moderatörün Adi Ferhat ve Soyadi Ibrik\n",
      "4. Kullanicinin Adi Ulas ve Soyadi Acil\n",
      "5. Kullanicinin Adi Bilal ve Soyadi Kurucay\n"
     ]
    }
   ],
   "source": [
    "moderator = \"Ferhat Ibrik\"\n",
    "\n",
    "kullanici_sayisi = 0\n",
    "moderator_sayisi = 0\n",
    "for kullanici in yorum_birakanlar:\n",
    "    ad, soyad = kullanici.split()[0],kullanici.split()[1]\n",
    "    if(kullanici == moderator):\n",
    "        moderator_sayisi = moderator_sayisi + 1 \n",
    "        # moderator_sayisi += 1 (aynı kod) \n",
    "        print('{0}. Moderatörün Adi {1} ve Soyadi {2}'.format(moderator_sayisi,ad,soyad))\n",
    "    else:\n",
    "        kullanici_sayisi = kullanici_sayisi + 1\n",
    "        print('{0}. Kullanicinin Adi {1} ve Soyadi {2}'.format(kullanici_sayisi,ad,soyad))"
   ]
  },
  {
   "cell_type": "markdown",
   "metadata": {},
   "source": [
    "### Diğer Iterable Objelerde for Döngüleri"
   ]
  },
  {
   "cell_type": "code",
   "execution_count": 29,
   "metadata": {},
   "outputs": [
    {
     "name": "stdout",
     "output_type": "stream",
     "text": [
      "1\n",
      "3\n",
      "5\n",
      "7\n"
     ]
    }
   ],
   "source": [
    "tup1 = (1,3,5,7)\n",
    "\n",
    "for sayi in tup1:\n",
    "    print(sayi)"
   ]
  },
  {
   "cell_type": "code",
   "execution_count": 30,
   "metadata": {},
   "outputs": [
    {
     "name": "stdout",
     "output_type": "stream",
     "text": [
      "1\n",
      "3\n",
      "5\n",
      "a\n"
     ]
    }
   ],
   "source": [
    "liste = [ [1,2],[3,4],[5,6],['a','b']]\n",
    "\n",
    "for x,y in liste:\n",
    "    print(x)\n"
   ]
  },
  {
   "cell_type": "code",
   "execution_count": 31,
   "metadata": {},
   "outputs": [
    {
     "name": "stdout",
     "output_type": "stream",
     "text": [
      "1 2\n",
      "3 4\n",
      "5 6\n"
     ]
    }
   ],
   "source": [
    "liste = [ [1,2],[3,4],[5,6]]\n",
    "\n",
    "for x,y in liste:\n",
    "    print(x,y)"
   ]
  },
  {
   "cell_type": "code",
   "execution_count": 32,
   "metadata": {},
   "outputs": [
    {
     "name": "stdout",
     "output_type": "stream",
     "text": [
      "2\n",
      "12\n",
      "30\n"
     ]
    }
   ],
   "source": [
    "liste = [ [1,2],[3,4],[5,6]]\n",
    "\n",
    "for x,y in liste:\n",
    "    print(x*y)"
   ]
  },
  {
   "cell_type": "code",
   "execution_count": 33,
   "metadata": {},
   "outputs": [
    {
     "data": {
      "text/plain": [
       "dict_items([('ad', 'Naz'), ('soyad', 'Yagcioglu')])"
      ]
     },
     "execution_count": 33,
     "metadata": {},
     "output_type": "execute_result"
    }
   ],
   "source": [
    "kullanici1 = {\n",
    "    'ad' : 'Naz',\n",
    "    'soyad' : 'Yagcioglu'\n",
    "}\n",
    "kullanici1.items()"
   ]
  },
  {
   "cell_type": "code",
   "execution_count": 34,
   "metadata": {},
   "outputs": [
    {
     "name": "stdout",
     "output_type": "stream",
     "text": [
      "Key: ad \t Value:Naz\n",
      "Key: soyad \t Value:Yagcioglu\n"
     ]
    }
   ],
   "source": [
    "for k, v in kullanici1.items():\n",
    "    print(\"Key: {} \\t Value:{}\".format(k,v))\n"
   ]
  },
  {
   "cell_type": "code",
   "execution_count": 35,
   "metadata": {},
   "outputs": [
    {
     "name": "stdout",
     "output_type": "stream",
     "text": [
      "Key: ad\n",
      "Key: soyad\n"
     ]
    }
   ],
   "source": [
    "for k in kullanici1.keys():\n",
    "    print(\"Key: {}\".format(k))"
   ]
  },
  {
   "cell_type": "markdown",
   "metadata": {},
   "source": [
    "### while Döngüleri"
   ]
  },
  {
   "cell_type": "code",
   "execution_count": 36,
   "metadata": {},
   "outputs": [
    {
     "name": "stdout",
     "output_type": "stream",
     "text": [
      "0 değeri 10'dan küçüktür\n",
      "1 değeri 10'dan küçüktür\n",
      "2 değeri 10'dan küçüktür\n",
      "3 değeri 10'dan küçüktür\n",
      "4 değeri 10'dan küçüktür\n",
      "5 değeri 10'dan küçüktür\n",
      "6 değeri 10'dan küçüktür\n",
      "7 değeri 10'dan küçüktür\n",
      "8 değeri 10'dan küçüktür\n",
      "9 değeri 10'dan küçüktür\n"
     ]
    }
   ],
   "source": [
    "x = 0 \n",
    "\n",
    "while x < 10:\n",
    "    print(\"{} değeri 10'dan küçüktür\".format(x))\n",
    "    x = x + 1"
   ]
  },
  {
   "cell_type": "code",
   "execution_count": 37,
   "metadata": {},
   "outputs": [
    {
     "name": "stdout",
     "output_type": "stream",
     "text": [
      "0 değeri 10'dan küçüktür\n",
      "1 değeri 10'dan küçüktür\n",
      "2 değeri 10'dan küçüktür\n",
      "3 değeri 10'dan küçüktür\n",
      "4 değeri 10'dan küçüktür\n",
      "5 değeri 10'dan küçüktür\n",
      "6 değeri 10'dan küçüktür\n",
      "7 değeri 10'dan küçüktür\n",
      "8 değeri 10'dan küçüktür\n",
      "9 değeri 10'dan küçüktür\n",
      "10 değeri 10'dan küçük değil\n"
     ]
    }
   ],
   "source": [
    "x = 0 \n",
    "\n",
    "while x < 10:\n",
    "    print(\"{} değeri 10'dan küçüktür\".format(x))\n",
    "    x = x + 1\n",
    "else:\n",
    "    print(\"{} değeri 10'dan küçük değil\".format(x))"
   ]
  },
  {
   "cell_type": "code",
   "execution_count": 38,
   "metadata": {},
   "outputs": [
    {
     "name": "stdout",
     "output_type": "stream",
     "text": [
      "720\n"
     ]
    }
   ],
   "source": [
    "sayi = 6\n",
    "sonuc = 1\n",
    "\n",
    "while sayi > 0:\n",
    "    sonuc = sonuc * sayi\n",
    "    sayi = sayi - 1\n",
    "print(sonuc)\n"
   ]
  },
  {
   "attachments": {},
   "cell_type": "markdown",
   "metadata": {},
   "source": [
    "### - enumerate, zip ve range Uygulamaları -"
   ]
  },
  {
   "attachments": {},
   "cell_type": "markdown",
   "metadata": {},
   "source": [
    "### range"
   ]
  },
  {
   "cell_type": "code",
   "execution_count": 39,
   "metadata": {},
   "outputs": [
    {
     "data": {
      "text/plain": [
       "range(0, 10)"
      ]
     },
     "execution_count": 39,
     "metadata": {},
     "output_type": "execute_result"
    }
   ],
   "source": [
    "range(10)"
   ]
  },
  {
   "cell_type": "code",
   "execution_count": 40,
   "metadata": {},
   "outputs": [
    {
     "data": {
      "text/plain": [
       "[0, 1, 2, 3, 4, 5, 6, 7, 8, 9]"
      ]
     },
     "execution_count": 40,
     "metadata": {},
     "output_type": "execute_result"
    }
   ],
   "source": [
    "list(range(10))"
   ]
  },
  {
   "cell_type": "code",
   "execution_count": 41,
   "metadata": {},
   "outputs": [
    {
     "data": {
      "text/plain": [
       "[0, 1, 2, 3, 4, 5, 6, 7, 8, 9]"
      ]
     },
     "execution_count": 41,
     "metadata": {},
     "output_type": "execute_result"
    }
   ],
   "source": [
    "[*range(10)]"
   ]
  },
  {
   "cell_type": "code",
   "execution_count": 42,
   "metadata": {},
   "outputs": [
    {
     "data": {
      "text/plain": [
       "[2, 4, 6]"
      ]
     },
     "execution_count": 42,
     "metadata": {},
     "output_type": "execute_result"
    }
   ],
   "source": [
    "list(range(2,7,2))"
   ]
  },
  {
   "cell_type": "code",
   "execution_count": 43,
   "metadata": {},
   "outputs": [
    {
     "name": "stdout",
     "output_type": "stream",
     "text": [
      "6\n",
      "7\n",
      "8\n",
      "9\n"
     ]
    }
   ],
   "source": [
    "for sayi in range(10):\n",
    "    if sayi > 5:\n",
    "        print(sayi)"
   ]
  },
  {
   "attachments": {},
   "cell_type": "markdown",
   "metadata": {},
   "source": [
    "### enumerate"
   ]
  },
  {
   "cell_type": "code",
   "execution_count": 44,
   "metadata": {},
   "outputs": [
    {
     "name": "stdout",
     "output_type": "stream",
     "text": [
      "(0, 'a')\n",
      "(1, 'b')\n",
      "(2, 'c')\n",
      "(3, 'd')\n",
      "(4, 'e')\n"
     ]
    }
   ],
   "source": [
    "harfler = ['a','b','c','d','e']\n",
    "for harf in enumerate(harfler):\n",
    "    print(harf)"
   ]
  },
  {
   "cell_type": "code",
   "execution_count": 45,
   "metadata": {},
   "outputs": [
    {
     "name": "stdout",
     "output_type": "stream",
     "text": [
      "1. harf : a\n",
      "2. harf : b\n",
      "3. harf : c\n",
      "4. harf : d\n",
      "5. harf : e\n"
     ]
    }
   ],
   "source": [
    "for index,harf in enumerate(harfler):\n",
    "    print(\"{}. harf : {}\".format(index+1,harf))"
   ]
  },
  {
   "attachments": {},
   "cell_type": "markdown",
   "metadata": {},
   "source": [
    "### zip"
   ]
  },
  {
   "cell_type": "code",
   "execution_count": 46,
   "metadata": {},
   "outputs": [
    {
     "name": "stdout",
     "output_type": "stream",
     "text": [
      "('TR', 1)\n",
      "('FR', 2)\n",
      "('DE', 3)\n"
     ]
    }
   ],
   "source": [
    "ulkeler = [\"TR\",\"FR\",\"DE\",]\n",
    "sıralamalar = range(1,4)  \n",
    "\n",
    "for ulke in zip(ulkeler,sıralamalar):\n",
    "    print(ulke)"
   ]
  },
  {
   "attachments": {},
   "cell_type": "markdown",
   "metadata": {},
   "source": [
    "### break"
   ]
  },
  {
   "cell_type": "code",
   "execution_count": 47,
   "metadata": {},
   "outputs": [
    {
     "name": "stdout",
     "output_type": "stream",
     "text": [
      "c harfi 2. indexte tutuluyor\n"
     ]
    }
   ],
   "source": [
    "harfler = ['a','b','c','d','e'] * 100 \n",
    "for index,harf in enumerate(harfler):\n",
    "    if harf == 'c':\n",
    "        print('{} harfi {}. indexte tutuluyor'.format(harf,index))\n",
    "        break\n"
   ]
  },
  {
   "attachments": {},
   "cell_type": "markdown",
   "metadata": {},
   "source": [
    "### continue"
   ]
  },
  {
   "cell_type": "code",
   "execution_count": 48,
   "metadata": {},
   "outputs": [
    {
     "name": "stdout",
     "output_type": "stream",
     "text": [
      "1\n",
      "3\n",
      "5\n"
     ]
    }
   ],
   "source": [
    "for sayi in range(1,6):\n",
    "    if sayi%2==0: # çift sayı sorgulama mantığı\n",
    "        continue\n",
    "    print(sayi)"
   ]
  },
  {
   "cell_type": "code",
   "execution_count": 49,
   "metadata": {},
   "outputs": [
    {
     "name": "stdout",
     "output_type": "stream",
     "text": [
      "1\n",
      "3\n",
      "5\n"
     ]
    }
   ],
   "source": [
    "for sayi in range(1,6):\n",
    "    if sayi%2!=0: # çift sayı sorgulama mantığı\n",
    "        print(sayi)"
   ]
  },
  {
   "attachments": {},
   "cell_type": "markdown",
   "metadata": {},
   "source": [
    "### pass"
   ]
  },
  {
   "cell_type": "code",
   "execution_count": 50,
   "metadata": {},
   "outputs": [
    {
     "name": "stdout",
     "output_type": "stream",
     "text": [
      "1\n",
      "3\n",
      "5\n"
     ]
    }
   ],
   "source": [
    "for sayi in range(1,6):\n",
    "    if sayi%2==0: # çift sayı sorgulama mantığı\n",
    "        pass\n",
    "    else:\n",
    "        print(sayi)"
   ]
  },
  {
   "cell_type": "code",
   "execution_count": 51,
   "metadata": {},
   "outputs": [
    {
     "name": "stdout",
     "output_type": "stream",
     "text": [
      "Hey\n"
     ]
    }
   ],
   "source": [
    "if sayi < 5 : \n",
    "    pass\n",
    "else:\n",
    "    print(\"Hey\")"
   ]
  },
  {
   "attachments": {},
   "cell_type": "markdown",
   "metadata": {},
   "source": [
    "### Fonksiyonlar - 1"
   ]
  },
  {
   "cell_type": "code",
   "execution_count": 52,
   "metadata": {},
   "outputs": [],
   "source": [
    "def bes_bastir():\n",
    "    print(5)"
   ]
  },
  {
   "cell_type": "code",
   "execution_count": 53,
   "metadata": {},
   "outputs": [
    {
     "name": "stdout",
     "output_type": "stream",
     "text": [
      "5\n"
     ]
    }
   ],
   "source": [
    "bes_bastir()"
   ]
  },
  {
   "attachments": {},
   "cell_type": "markdown",
   "metadata": {},
   "source": [
    "### Fonksiyonlarda print ve return farkı"
   ]
  },
  {
   "cell_type": "code",
   "execution_count": 54,
   "metadata": {},
   "outputs": [],
   "source": [
    "def bes_dondur():\n",
    "    return 5"
   ]
  },
  {
   "cell_type": "code",
   "execution_count": 55,
   "metadata": {},
   "outputs": [
    {
     "data": {
      "text/plain": [
       "5"
      ]
     },
     "execution_count": 55,
     "metadata": {},
     "output_type": "execute_result"
    }
   ],
   "source": [
    "bes_dondur()"
   ]
  },
  {
   "cell_type": "code",
   "execution_count": 56,
   "metadata": {},
   "outputs": [
    {
     "name": "stdout",
     "output_type": "stream",
     "text": [
      "5\n",
      "None\n"
     ]
    }
   ],
   "source": [
    "a = bes_bastir()\n",
    "print(a)"
   ]
  },
  {
   "cell_type": "code",
   "execution_count": 57,
   "metadata": {},
   "outputs": [
    {
     "name": "stdout",
     "output_type": "stream",
     "text": [
      "5\n"
     ]
    }
   ],
   "source": [
    "b = bes_dondur()\n",
    "print(b)"
   ]
  },
  {
   "attachments": {},
   "cell_type": "markdown",
   "metadata": {},
   "source": [
    "### Fonksiyonlarda Argümanlar"
   ]
  },
  {
   "cell_type": "code",
   "execution_count": 58,
   "metadata": {},
   "outputs": [],
   "source": [
    "def sayi_dondur(sayi):\n",
    "    return sayi"
   ]
  },
  {
   "cell_type": "code",
   "execution_count": 59,
   "metadata": {},
   "outputs": [
    {
     "data": {
      "text/plain": [
       "100"
      ]
     },
     "execution_count": 59,
     "metadata": {},
     "output_type": "execute_result"
    }
   ],
   "source": [
    "sayi_dondur(100)"
   ]
  },
  {
   "cell_type": "code",
   "execution_count": 60,
   "metadata": {},
   "outputs": [],
   "source": [
    "def sayi_dondur(sayi=250):\n",
    "    return sayi"
   ]
  },
  {
   "cell_type": "code",
   "execution_count": 61,
   "metadata": {},
   "outputs": [
    {
     "data": {
      "text/plain": [
       "250"
      ]
     },
     "execution_count": 61,
     "metadata": {},
     "output_type": "execute_result"
    }
   ],
   "source": [
    "sayi_dondur()"
   ]
  },
  {
   "cell_type": "code",
   "execution_count": 62,
   "metadata": {},
   "outputs": [],
   "source": [
    "def buyuk_sayi_dondur(a,b):\n",
    "    if a>b:\n",
    "        return a\n",
    "    elif b>a:\n",
    "        return b"
   ]
  },
  {
   "cell_type": "code",
   "execution_count": 63,
   "metadata": {},
   "outputs": [
    {
     "data": {
      "text/plain": [
       "10"
      ]
     },
     "execution_count": 63,
     "metadata": {},
     "output_type": "execute_result"
    }
   ],
   "source": [
    "buyuk_sayi_dondur(5,10)"
   ]
  },
  {
   "attachments": {},
   "cell_type": "markdown",
   "metadata": {},
   "source": [
    "### Fonksiyonların Birbiri ile İlişkisi"
   ]
  },
  {
   "cell_type": "code",
   "execution_count": 64,
   "metadata": {},
   "outputs": [],
   "source": [
    "def metin_yazdir(a,b):\n",
    "    buyuk_sayi = buyuk_sayi_dondur(a,b)\n",
    "    sablon_metin = \"{} daha büyük sayidir.\".format(buyuk_sayi)\n",
    "    print(sablon_metin)"
   ]
  },
  {
   "cell_type": "code",
   "execution_count": 65,
   "metadata": {},
   "outputs": [
    {
     "name": "stdout",
     "output_type": "stream",
     "text": [
      "10 daha büyük sayidir.\n"
     ]
    }
   ],
   "source": [
    "metin_yazdir(5,10)"
   ]
  },
  {
   "attachments": {},
   "cell_type": "markdown",
   "metadata": {},
   "source": [
    "### Fonksiyonlar Birden Fazla Sonuç Döndürebilir"
   ]
  },
  {
   "cell_type": "code",
   "execution_count": 66,
   "metadata": {},
   "outputs": [],
   "source": [
    "def isim_soyisim_yazdirma(isim_soyisim):\n",
    "    isim=isim_soyisim.split()[0]\n",
    "    soyisim=isim_soyisim.split()[1]\n",
    "    return isim, soyisim"
   ]
  },
  {
   "cell_type": "code",
   "execution_count": 67,
   "metadata": {},
   "outputs": [
    {
     "data": {
      "text/plain": [
       "('Uğur', 'Durna')"
      ]
     },
     "execution_count": 67,
     "metadata": {},
     "output_type": "execute_result"
    }
   ],
   "source": [
    "isim_soyisim_yazdirma(\"Uğur Durna\")"
   ]
  },
  {
   "cell_type": "code",
   "execution_count": 68,
   "metadata": {},
   "outputs": [
    {
     "name": "stdout",
     "output_type": "stream",
     "text": [
      "Uğur\n",
      "Kemal\n"
     ]
    }
   ],
   "source": [
    "a,b = isim_soyisim_yazdirma(\"Uğur Kemal Durna\")\n",
    "print(a)\n",
    "print(b)"
   ]
  },
  {
   "attachments": {},
   "cell_type": "markdown",
   "metadata": {},
   "source": [
    "### *args Argümanı"
   ]
  },
  {
   "cell_type": "code",
   "execution_count": 69,
   "metadata": {},
   "outputs": [
    {
     "data": {
      "text/plain": [
       "'Uğur-Durna'"
      ]
     },
     "execution_count": 69,
     "metadata": {},
     "output_type": "execute_result"
    }
   ],
   "source": [
    "\"-\".join([\"Uğur\",\"Durna\"])"
   ]
  },
  {
   "cell_type": "code",
   "execution_count": 70,
   "metadata": {},
   "outputs": [],
   "source": [
    "def isim_soyisim_birlestir(isim,soyisim):\n",
    "    return \" \".join([isim,soyisim])"
   ]
  },
  {
   "cell_type": "code",
   "execution_count": 71,
   "metadata": {},
   "outputs": [
    {
     "data": {
      "text/plain": [
       "'Uğur Kemal Durna'"
      ]
     },
     "execution_count": 71,
     "metadata": {},
     "output_type": "execute_result"
    }
   ],
   "source": [
    "isim_soyisim_birlestir(\"Uğur Kemal\",\"Durna\")"
   ]
  },
  {
   "cell_type": "code",
   "execution_count": 72,
   "metadata": {},
   "outputs": [],
   "source": [
    "def isim_soyisim_birlestir(*args):\n",
    "    return \" \".join(args)"
   ]
  },
  {
   "cell_type": "code",
   "execution_count": 73,
   "metadata": {},
   "outputs": [
    {
     "data": {
      "text/plain": [
       "'Uğur Kemal Durna'"
      ]
     },
     "execution_count": 73,
     "metadata": {},
     "output_type": "execute_result"
    }
   ],
   "source": [
    "isim_soyisim_birlestir(\"Uğur\",\"Kemal\",\"Durna\")"
   ]
  },
  {
   "cell_type": "code",
   "execution_count": 74,
   "metadata": {},
   "outputs": [],
   "source": [
    "def gobek_adi_yazdir(**kwargs):\n",
    "    if 'gobekadi' in kwargs:\n",
    "        print(kwargs['gobekadi'])\n",
    "    else:\n",
    "        print(\"Gobekadi yok.\")\n"
   ]
  },
  {
   "cell_type": "code",
   "execution_count": 75,
   "metadata": {},
   "outputs": [
    {
     "name": "stdout",
     "output_type": "stream",
     "text": [
      "Mesut\n"
     ]
    }
   ],
   "source": [
    "gobek_adi_yazdir(adi=\"Erol\",gobekadi=\"Mesut\",soyadi=\"Gün\")"
   ]
  },
  {
   "cell_type": "code",
   "execution_count": 76,
   "metadata": {},
   "outputs": [
    {
     "name": "stdout",
     "output_type": "stream",
     "text": [
      "Gobekadi yok.\n"
     ]
    }
   ],
   "source": [
    "gobek_adi_yazdir(adi=\"Erol\",soyadi=\"Gün\")"
   ]
  },
  {
   "attachments": {},
   "cell_type": "markdown",
   "metadata": {},
   "source": [
    "### map, filter ve lambda İfadeleri"
   ]
  },
  {
   "cell_type": "code",
   "execution_count": 77,
   "metadata": {},
   "outputs": [],
   "source": [
    "def karesini_al(x):\n",
    "    return x**2"
   ]
  },
  {
   "cell_type": "code",
   "execution_count": 78,
   "metadata": {},
   "outputs": [
    {
     "data": {
      "text/plain": [
       "25"
      ]
     },
     "execution_count": 78,
     "metadata": {},
     "output_type": "execute_result"
    }
   ],
   "source": [
    "karesini_al(5)"
   ]
  },
  {
   "cell_type": "code",
   "execution_count": 79,
   "metadata": {},
   "outputs": [
    {
     "data": {
      "text/plain": [
       "[1, 2, 3, 4, 5]"
      ]
     },
     "execution_count": 79,
     "metadata": {},
     "output_type": "execute_result"
    }
   ],
   "source": [
    "sayilar = [*range(1,6)]\n",
    "sayilar"
   ]
  },
  {
   "cell_type": "code",
   "execution_count": 80,
   "metadata": {},
   "outputs": [
    {
     "name": "stdout",
     "output_type": "stream",
     "text": [
      "[1, 2, 3, 4, 5]\n",
      "[1, 4, 9, 16, 25]\n"
     ]
    }
   ],
   "source": [
    "sayilar = [*range(1,6)]\n",
    "print(sayilar)\n",
    "for index in range(len(sayilar)):\n",
    "    sayilar[index] = karesini_al(sayilar[index])\n",
    "print(sayilar)"
   ]
  },
  {
   "cell_type": "code",
   "execution_count": 81,
   "metadata": {},
   "outputs": [
    {
     "data": {
      "text/plain": [
       "[1, 4, 9, 16, 25]"
      ]
     },
     "execution_count": 81,
     "metadata": {},
     "output_type": "execute_result"
    }
   ],
   "source": [
    "sayilar = [*range(1,6)]\n",
    "[*map(karesini_al, sayilar)]"
   ]
  },
  {
   "cell_type": "code",
   "execution_count": 82,
   "metadata": {},
   "outputs": [],
   "source": [
    "def cift_sayilari_filtrele(x):\n",
    "    if x%2 == 0:\n",
    "        return x\n",
    "    # else:\n",
    "    #     return None\n"
   ]
  },
  {
   "cell_type": "code",
   "execution_count": 83,
   "metadata": {},
   "outputs": [
    {
     "data": {
      "text/plain": [
       "4"
      ]
     },
     "execution_count": 83,
     "metadata": {},
     "output_type": "execute_result"
    }
   ],
   "source": [
    "cift_sayilari_filtrele(4)"
   ]
  },
  {
   "cell_type": "code",
   "execution_count": 84,
   "metadata": {},
   "outputs": [],
   "source": [
    "def cift_sayilari_filtrele(x):\n",
    "    # if x%2 == 0:\n",
    "        # return x\n",
    "    return x if x%2 == 0 else None"
   ]
  },
  {
   "cell_type": "code",
   "execution_count": 85,
   "metadata": {},
   "outputs": [
    {
     "data": {
      "text/plain": [
       "4"
      ]
     },
     "execution_count": 85,
     "metadata": {},
     "output_type": "execute_result"
    }
   ],
   "source": [
    "cift_sayilari_filtrele(4)"
   ]
  },
  {
   "cell_type": "code",
   "execution_count": 86,
   "metadata": {},
   "outputs": [
    {
     "data": {
      "text/plain": [
       "[2, 4]"
      ]
     },
     "execution_count": 86,
     "metadata": {},
     "output_type": "execute_result"
    }
   ],
   "source": [
    "sayilar = [*range(1,6)]\n",
    "[*filter(cift_sayilari_filtrele,sayilar)]"
   ]
  },
  {
   "cell_type": "code",
   "execution_count": 87,
   "metadata": {},
   "outputs": [],
   "source": [
    "def karesini_al(x):\n",
    "    return x**2"
   ]
  },
  {
   "cell_type": "code",
   "execution_count": 88,
   "metadata": {},
   "outputs": [
    {
     "data": {
      "text/plain": [
       "[1, 4, 9, 16, 25]"
      ]
     },
     "execution_count": 88,
     "metadata": {},
     "output_type": "execute_result"
    }
   ],
   "source": [
    "sayilar = [*range(1,6)]\n",
    "list(map(lambda sayi: sayi**2, sayilar)) #veya [*map(lambda sayi**2, sayilar)]"
   ]
  },
  {
   "cell_type": "code",
   "execution_count": 89,
   "metadata": {},
   "outputs": [
    {
     "data": {
      "text/plain": [
       "[2, 4]"
      ]
     },
     "execution_count": 89,
     "metadata": {},
     "output_type": "execute_result"
    }
   ],
   "source": [
    "sayilar = [*range(1,6)]\n",
    "[*filter(lambda x: x if x%2 == 0 else None, sayilar)]"
   ]
  },
  {
   "attachments": {},
   "cell_type": "markdown",
   "metadata": {},
   "source": [
    "### Kullanıcı Girdisi"
   ]
  },
  {
   "cell_type": "code",
   "execution_count": 90,
   "metadata": {},
   "outputs": [
    {
     "data": {
      "text/plain": [
       "'1'"
      ]
     },
     "execution_count": 90,
     "metadata": {},
     "output_type": "execute_result"
    }
   ],
   "source": [
    "input(\"Bir sayı giriniz:\")"
   ]
  },
  {
   "cell_type": "code",
   "execution_count": 91,
   "metadata": {},
   "outputs": [
    {
     "data": {
      "text/plain": [
       "str"
      ]
     },
     "execution_count": 91,
     "metadata": {},
     "output_type": "execute_result"
    }
   ],
   "source": [
    "girdi = input(\"Bir sayi giriniz:\")\n",
    "type(girdi)"
   ]
  },
  {
   "cell_type": "code",
   "execution_count": 92,
   "metadata": {},
   "outputs": [
    {
     "data": {
      "text/plain": [
       "int"
      ]
     },
     "execution_count": 92,
     "metadata": {},
     "output_type": "execute_result"
    }
   ],
   "source": [
    "girdi = input(\"Bir sayi giriniz:\")\n",
    "type(int(girdi))"
   ]
  },
  {
   "cell_type": "code",
   "execution_count": 93,
   "metadata": {},
   "outputs": [
    {
     "data": {
      "text/plain": [
       "'Evet 1 bir tek sayidir.'"
      ]
     },
     "execution_count": 93,
     "metadata": {},
     "output_type": "execute_result"
    }
   ],
   "source": [
    "def uygulama():\n",
    "    girdi = input(\"Bir sayi giriniz:\")\n",
    "    islem = input(\"Verinin tek mi cift mi oldugunu sorgula:\")\n",
    "\n",
    "    if islem=='cift':\n",
    "        if int(girdi)%2==0:\n",
    "            return 'Evet {} bir cift sayidir.'.format(girdi)\n",
    "        else:\n",
    "            return 'Hayir {} bir cift sayi degildir.'.format(girdi)\n",
    "    elif islem=='tek':\n",
    "        if int(girdi)%2==1:\n",
    "            return 'Evet {} bir tek sayidir.'.format(girdi)\n",
    "        else:\n",
    "            return 'Hayir {} bir tek sayi degildir'.format(girdi)\n",
    "uygulama()\n"
   ]
  },
  {
   "attachments": {},
   "cell_type": "markdown",
   "metadata": {},
   "source": [
    "### Kullanıcı Girdisini Onaylamak"
   ]
  },
  {
   "cell_type": "code",
   "execution_count": 94,
   "metadata": {},
   "outputs": [],
   "source": [
    "def sayi_girdisi_kontrol():\n",
    "    girdi = input(\"Bir sayi giriniz.\")\n",
    "\n",
    "    if girdi.isdigit():\n",
    "        print(\"Tebrikler Sayi tipi deger girdiniz...\")\n",
    "    else:\n",
    "        print(\"Üzgünüm! Bu bir Sayi tipi degisken degildir...\")"
   ]
  },
  {
   "cell_type": "code",
   "execution_count": 95,
   "metadata": {},
   "outputs": [
    {
     "name": "stdout",
     "output_type": "stream",
     "text": [
      "Tebrikler Sayi tipi deger girdiniz...\n"
     ]
    }
   ],
   "source": [
    "sayi_girdisi_kontrol()"
   ]
  },
  {
   "cell_type": "code",
   "execution_count": 96,
   "metadata": {},
   "outputs": [],
   "source": [
    "def sayi_girdisi_kontrol_dongu():\n",
    "    girdi = input(\"Bir sayi giriniz.\")\n",
    "\n",
    "    while not girdi.isdigit():\n",
    "        print(\"Üzgünüm! Bu bir Sayi tipi degisken degildir...\")\n",
    "        girdi = input(\"Bir sayi giriniz.\")\n",
    "\n",
    "    else:\n",
    "        print(\"Tebrikler Sayi tipi deger girdiniz...\")"
   ]
  },
  {
   "cell_type": "code",
   "execution_count": 97,
   "metadata": {},
   "outputs": [
    {
     "name": "stdout",
     "output_type": "stream",
     "text": [
      "Tebrikler Sayi tipi deger girdiniz...\n"
     ]
    }
   ],
   "source": [
    "sayi_girdisi_kontrol_dongu()"
   ]
  },
  {
   "cell_type": "code",
   "execution_count": 98,
   "metadata": {},
   "outputs": [],
   "source": [
    "def eposta_kontrol():\n",
    "    girdi = input(\"Gecerli bir eposta adresi giriniz.\")\n",
    "\n",
    "    while not (('.' in girdi) and ('@' in girdi)):\n",
    "        print(\"Üzgünüm! Bu gecerli bir eposta adresi degildir.\")\n",
    "        girdi = input(\"Gecerli bir eposta adresi giriniz.\")\n",
    "    else:\n",
    "        print(\"Tebrikler eposta adresinizle basariyla giris yaptiniz.\")"
   ]
  },
  {
   "cell_type": "code",
   "execution_count": 99,
   "metadata": {},
   "outputs": [
    {
     "name": "stdout",
     "output_type": "stream",
     "text": [
      "Tebrikler eposta adresinizle basariyla giris yaptiniz.\n"
     ]
    }
   ],
   "source": [
    "eposta_kontrol()"
   ]
  },
  {
   "attachments": {},
   "cell_type": "markdown",
   "metadata": {},
   "source": [
    "### Try, Except ve Finally Komutları"
   ]
  },
  {
   "cell_type": "code",
   "execution_count": 100,
   "metadata": {},
   "outputs": [
    {
     "data": {
      "text/plain": [
       "1"
      ]
     },
     "execution_count": 100,
     "metadata": {},
     "output_type": "execute_result"
    }
   ],
   "source": [
    "round(1.3)"
   ]
  },
  {
   "cell_type": "code",
   "execution_count": 101,
   "metadata": {},
   "outputs": [],
   "source": [
    "def tam_sayiya_cevir():\n",
    "    girdi = input(\"Bir ondalik sayi giriniz:\")\n",
    "\n",
    "    print(\"Yuvarlama isleminin sonucu : {}\".format(round(float(girdi))))"
   ]
  },
  {
   "cell_type": "code",
   "execution_count": 102,
   "metadata": {},
   "outputs": [
    {
     "name": "stdout",
     "output_type": "stream",
     "text": [
      "Yuvarlama isleminin sonucu : 2\n"
     ]
    }
   ],
   "source": [
    "tam_sayiya_cevir()"
   ]
  },
  {
   "cell_type": "code",
   "execution_count": 103,
   "metadata": {},
   "outputs": [],
   "source": [
    "def tam_sayiya_cevir():\n",
    "    girdi = input(\"Bir ondalik sayi giriniz:\")\n",
    "\n",
    "    # print(\"Yuvarlama isleminin sonucu : {}\".format(round(float(girdi))))\n",
    "\n",
    "    try:\n",
    "        girdi = float(girdi)\n",
    "        print(\"Yuvarlama isleminin sonucu : {}\".format(girdi))\n",
    "    except:\n",
    "        print(\"{} girdisi ondalik tipe cevrilemiyor\".format(girdi))"
   ]
  },
  {
   "cell_type": "code",
   "execution_count": 104,
   "metadata": {},
   "outputs": [],
   "source": [
    "def tam_sayiya_cevir():\n",
    "    girdi = input(\"Bir ondalik sayi giriniz:\")\n",
    "\n",
    "    try:\n",
    "        girdi = float(girdi)\n",
    "    except:\n",
    "        print(\"{} girdisi ondalik tipe cevrilemiyor\".format(girdi))\n",
    "    else:\n",
    "        print(\"Yuvarlama isleminin sonucu : {}\".format(round(girdi)))"
   ]
  },
  {
   "cell_type": "code",
   "execution_count": 105,
   "metadata": {},
   "outputs": [
    {
     "name": "stdout",
     "output_type": "stream",
     "text": [
      "Yuvarlama isleminin sonucu : 2\n"
     ]
    }
   ],
   "source": [
    "tam_sayiya_cevir()"
   ]
  },
  {
   "cell_type": "code",
   "execution_count": 106,
   "metadata": {},
   "outputs": [],
   "source": [
    "def tam_sayiya_cevir():\n",
    "    girdi = input(\"Bir ondalik sayi giriniz:\")\n",
    "\n",
    "    status = ''\n",
    "\n",
    "    try:\n",
    "        girdi = float(girdi)\n",
    "        print(\"Yuvarlama isleminin sonucu : {}\".format(round(girdi)))\n",
    "        status = 'basarili'\n",
    "    except:\n",
    "        print(\"{} girdisi ondalik tipe cevrilemiyor\".format(girdi))\n",
    "        status = 'basarisiz'\n",
    "    finally:\n",
    "        print('Tam sayiya cevirme islemi {} olarak tamamlandı'.format(status))"
   ]
  },
  {
   "cell_type": "code",
   "execution_count": 107,
   "metadata": {},
   "outputs": [
    {
     "name": "stdout",
     "output_type": "stream",
     "text": [
      "Yuvarlama isleminin sonucu : 2\n",
      "Tam sayiya cevirme islemi basarili olarak tamamlandı\n"
     ]
    }
   ],
   "source": [
    "tam_sayiya_cevir()"
   ]
  },
  {
   "cell_type": "code",
   "execution_count": 108,
   "metadata": {},
   "outputs": [],
   "source": [
    "def tam_sayiya_cevir_dongu():\n",
    "    while True:\n",
    "        girdi = input(\"Bir ondalik sayi giriniz:\")\n",
    "\n",
    "        try:\n",
    "            girdi = float(girdi)\n",
    "            print(\"Yuvarlama isleminin sonucu : {}\".format(round(girdi)))\n",
    "            break\n",
    "        except:\n",
    "            print(\"{} girdisi ondalik tipe cevrilemiyor\".format(girdi))\n",
    "            pass"
   ]
  },
  {
   "cell_type": "code",
   "execution_count": 109,
   "metadata": {},
   "outputs": [
    {
     "name": "stdout",
     "output_type": "stream",
     "text": [
      "Yuvarlama isleminin sonucu : 2\n"
     ]
    }
   ],
   "source": [
    "tam_sayiya_cevir_dongu()"
   ]
  },
  {
   "cell_type": "code",
   "execution_count": 110,
   "metadata": {},
   "outputs": [],
   "source": [
    "list = []"
   ]
  },
  {
   "cell_type": "code",
   "execution_count": 111,
   "metadata": {},
   "outputs": [
    {
     "ename": "IndexError",
     "evalue": "list index out of range",
     "output_type": "error",
     "traceback": [
      "\u001b[1;31m---------------------------------------------------------------------------\u001b[0m",
      "\u001b[1;31mIndexError\u001b[0m                                Traceback (most recent call last)",
      "Cell \u001b[1;32mIn [111], line 1\u001b[0m\n\u001b[1;32m----> 1\u001b[0m liste[\u001b[39m4\u001b[39;49m]\n",
      "\u001b[1;31mIndexError\u001b[0m: list index out of range"
     ]
    }
   ],
   "source": [
    "liste[4]"
   ]
  },
  {
   "cell_type": "code",
   "execution_count": null,
   "metadata": {},
   "outputs": [
    {
     "ename": "NameError",
     "evalue": "name 'PASS_NO' is not defined",
     "output_type": "error",
     "traceback": [
      "\u001b[1;31m---------------------------------------------------------------------------\u001b[0m",
      "\u001b[1;31mNameError\u001b[0m                                 Traceback (most recent call last)",
      "Cell \u001b[1;32mIn [60], line 6\u001b[0m\n\u001b[0;32m      1\u001b[0m vatandas \u001b[39m=\u001b[39m {\n\u001b[0;32m      2\u001b[0m     \u001b[39m'\u001b[39m\u001b[39mAD\u001b[39m\u001b[39m'\u001b[39m : \u001b[39m'\u001b[39m\u001b[39mUGUR\u001b[39m\u001b[39m'\u001b[39m,\n\u001b[0;32m      3\u001b[0m     \u001b[39m'\u001b[39m\u001b[39mTC_NO\u001b[39m\u001b[39m'\u001b[39m : \u001b[39m1231312\u001b[39m\n\u001b[0;32m      4\u001b[0m \n\u001b[0;32m      5\u001b[0m }\n\u001b[1;32m----> 6\u001b[0m vatandas[PASS_NO]\n",
      "\u001b[1;31mNameError\u001b[0m: name 'PASS_NO' is not defined"
     ]
    }
   ],
   "source": [
    "vatandas = {\n",
    "    'AD' : 'UGUR',\n",
    "    'TC_NO' : 1231312\n",
    "\n",
    "}\n",
    "vatandas[PASS_NO]"
   ]
  },
  {
   "cell_type": "code",
   "execution_count": null,
   "metadata": {},
   "outputs": [
    {
     "ename": "TypeError",
     "evalue": "unsupported operand type(s) for +: 'int' and 'str'",
     "output_type": "error",
     "traceback": [
      "\u001b[1;31m---------------------------------------------------------------------------\u001b[0m",
      "\u001b[1;31mTypeError\u001b[0m                                 Traceback (most recent call last)",
      "Cell \u001b[1;32mIn [61], line 1\u001b[0m\n\u001b[1;32m----> 1\u001b[0m \u001b[39m5\u001b[39;49m \u001b[39m+\u001b[39;49m \u001b[39m'\u001b[39;49m\u001b[39ma\u001b[39;49m\u001b[39m'\u001b[39;49m\n",
      "\u001b[1;31mTypeError\u001b[0m: unsupported operand type(s) for +: 'int' and 'str'"
     ]
    }
   ],
   "source": [
    "5 + 'a'"
   ]
  },
  {
   "cell_type": "code",
   "execution_count": null,
   "metadata": {},
   "outputs": [
    {
     "name": "stdout",
     "output_type": "stream",
     "text": [
      "Verilen verilerle islem yapilamiyor.\n"
     ]
    }
   ],
   "source": [
    "try:\n",
    "    5 + 'a'\n",
    "except TypeError:\n",
    "    print('Verilen verilerle islem yapilamiyor.')\n"
   ]
  },
  {
   "cell_type": "code",
   "execution_count": null,
   "metadata": {},
   "outputs": [
    {
     "name": "stdout",
     "output_type": "stream",
     "text": [
      "Kod düzgün çalışmıyor\n"
     ]
    }
   ],
   "source": [
    "try:\n",
    "    5 + 'a'\n",
    "except IndexError:\n",
    "    print('Verilen verilerle islem yapilamiyor.')\n",
    "except:\n",
    "    print('Kod düzgün çalışmıyor')"
   ]
  },
  {
   "cell_type": "code",
   "execution_count": null,
   "metadata": {},
   "outputs": [
    {
     "name": "stdout",
     "output_type": "stream",
     "text": [
      "Indexlemeye calistiginiz eleman listenin disinda.\n"
     ]
    }
   ],
   "source": [
    "liste = []\n",
    "\n",
    "try:\n",
    "    liste[-1]\n",
    "except IndexError:\n",
    "    print('Indexlemeye calistiginiz eleman listenin disinda.')\n",
    "except:\n",
    "    print('Kod düzgün çalışmıyor')"
   ]
  },
  {
   "cell_type": "code",
   "execution_count": null,
   "metadata": {},
   "outputs": [
    {
     "name": "stdout",
     "output_type": "stream",
     "text": [
      "Aranan dictionaryde verilen anahtar degeri mevcut degil.\n"
     ]
    }
   ],
   "source": [
    "vatandas = {\n",
    "    'AD' : 'UGUR',\n",
    "    'TC_NO' : 1231312\n",
    "}\n",
    "\n",
    "try:\n",
    "    vatandas['PASS_NO']\n",
    "except IndexError:\n",
    "    print('Indexlemeye calistiginiz eleman listenin disinda.')\n",
    "except KeyError:\n",
    "    print('Aranan dictionaryde verilen anahtar degeri mevcut degil.')\n",
    "except:\n",
    "    print('Kod düzgün çalışmıyor')"
   ]
  },
  {
   "attachments": {},
   "cell_type": "markdown",
   "metadata": {},
   "source": [
    "### class Oluşturma, Attribute'lar ve Method'lar "
   ]
  },
  {
   "cell_type": "code",
   "execution_count": null,
   "metadata": {},
   "outputs": [],
   "source": [
    "class Ucus():\n",
    "    havayolu = \"THY\""
   ]
  },
  {
   "cell_type": "code",
   "execution_count": null,
   "metadata": {},
   "outputs": [],
   "source": [
    "ucus1 = Ucus()"
   ]
  },
  {
   "cell_type": "code",
   "execution_count": null,
   "metadata": {},
   "outputs": [
    {
     "data": {
      "text/plain": [
       "'THY'"
      ]
     },
     "execution_count": 95,
     "metadata": {},
     "output_type": "execute_result"
    }
   ],
   "source": [
    "ucus1.havayolu"
   ]
  },
  {
   "cell_type": "code",
   "execution_count": null,
   "metadata": {},
   "outputs": [],
   "source": [
    "class Ucus():\n",
    "    havayolu = \"THY\"\n",
    "\n",
    "    def __init__(self, kod, kalkis, varis, sure, kapasite, yolcu):\n",
    "        self.kod = kod\n",
    "        self.kalkis = kalkis\n",
    "        self.varis = varis\n",
    "        self.sure = sure\n",
    "        self.kapasite = kapasite\n",
    "        self.yolcu = yolcu"
   ]
  },
  {
   "cell_type": "code",
   "execution_count": null,
   "metadata": {},
   "outputs": [
    {
     "ename": "TypeError",
     "evalue": "Ucus.__init__() missing 6 required positional arguments: 'kod', 'kalkis', 'varis', 'sure', 'kapasite', and 'yolcu'",
     "output_type": "error",
     "traceback": [
      "\u001b[1;31m---------------------------------------------------------------------------\u001b[0m",
      "\u001b[1;31mTypeError\u001b[0m                                 Traceback (most recent call last)",
      "Cell \u001b[1;32mIn [110], line 1\u001b[0m\n\u001b[1;32m----> 1\u001b[0m ucus2 \u001b[39m=\u001b[39m Ucus()\n",
      "\u001b[1;31mTypeError\u001b[0m: Ucus.__init__() missing 6 required positional arguments: 'kod', 'kalkis', 'varis', 'sure', 'kapasite', and 'yolcu'"
     ]
    }
   ],
   "source": [
    "ucus2 = Ucus()"
   ]
  },
  {
   "cell_type": "code",
   "execution_count": null,
   "metadata": {},
   "outputs": [],
   "source": [
    "ucus2 = Ucus('TK123', 'IST', 'ANK', 60, 300, 50)"
   ]
  },
  {
   "cell_type": "code",
   "execution_count": null,
   "metadata": {},
   "outputs": [
    {
     "data": {
      "text/plain": [
       "'TK123'"
      ]
     },
     "execution_count": 99,
     "metadata": {},
     "output_type": "execute_result"
    }
   ],
   "source": [
    "ucus2.kod"
   ]
  },
  {
   "cell_type": "code",
   "execution_count": null,
   "metadata": {},
   "outputs": [
    {
     "data": {
      "text/plain": [
       "'IST'"
      ]
     },
     "execution_count": 100,
     "metadata": {},
     "output_type": "execute_result"
    }
   ],
   "source": [
    "ucus2.kalkis"
   ]
  },
  {
   "cell_type": "code",
   "execution_count": null,
   "metadata": {},
   "outputs": [
    {
     "data": {
      "text/plain": [
       "'THY'"
      ]
     },
     "execution_count": 102,
     "metadata": {},
     "output_type": "execute_result"
    }
   ],
   "source": [
    "ucus2.havayolu"
   ]
  },
  {
   "cell_type": "code",
   "execution_count": null,
   "metadata": {},
   "outputs": [],
   "source": [
    "ucus3 = Ucus('TK223', 'BOD', 'ANT', 40, 250, 250)"
   ]
  },
  {
   "cell_type": "code",
   "execution_count": null,
   "metadata": {},
   "outputs": [
    {
     "data": {
      "text/plain": [
       "'BOD'"
      ]
     },
     "execution_count": 104,
     "metadata": {},
     "output_type": "execute_result"
    }
   ],
   "source": [
    "ucus3.kalkis"
   ]
  },
  {
   "cell_type": "code",
   "execution_count": null,
   "metadata": {},
   "outputs": [
    {
     "data": {
      "text/plain": [
       "'THY'"
      ]
     },
     "execution_count": 103,
     "metadata": {},
     "output_type": "execute_result"
    }
   ],
   "source": [
    "ucus3.havayolu"
   ]
  },
  {
   "cell_type": "code",
   "execution_count": null,
   "metadata": {},
   "outputs": [],
   "source": [
    "class Ucus():\n",
    "    havayolu = \"THY\"\n",
    "\n",
    "    def __init__(self, kod, kalkis, varis, sure, kapasite, yolcu):\n",
    "        self.kod = kod\n",
    "        self.kalkis = kalkis\n",
    "        self.varis = varis\n",
    "        self.sure = sure\n",
    "        self.kapasite = kapasite\n",
    "        self.yolcu = yolcu\n",
    "    def anons_yap(self):\n",
    "        return \"{} sefer sayili {}--{} ucusumuz {} dakika surecektir.\".format(\n",
    "            self.kod,\n",
    "            self.kalkis,\n",
    "            self.varis,\n",
    "            self.sure)"
   ]
  },
  {
   "cell_type": "code",
   "execution_count": null,
   "metadata": {},
   "outputs": [],
   "source": [
    "ucus3 = Ucus('TK223', 'BOD', 'ANT', 40, 250, 250)"
   ]
  },
  {
   "cell_type": "code",
   "execution_count": null,
   "metadata": {},
   "outputs": [
    {
     "data": {
      "text/plain": [
       "'TK223 sefer sayili BOD--ANT ucusumuz 40 dakika surecektir.'"
      ]
     },
     "execution_count": 107,
     "metadata": {},
     "output_type": "execute_result"
    }
   ],
   "source": [
    "ucus3.anons_yap()"
   ]
  },
  {
   "cell_type": "code",
   "execution_count": null,
   "metadata": {},
   "outputs": [],
   "source": [
    "class Ucus():\n",
    "    havayolu = \"THY\"\n",
    "\n",
    "    def __init__(self, kod, kalkis, varis, sure, kapasite, yolcu):\n",
    "        self.kod = kod\n",
    "        self.kalkis = kalkis\n",
    "        self.varis = varis\n",
    "        self.sure = sure\n",
    "        self.kapasite = kapasite\n",
    "        self.yolcu = yolcu\n",
    "    def anons_yap(self):\n",
    "        return \"{} sefer sayili {}--{} ucusumuz {} dakika surecektir.\".format(\n",
    "            self.kod,\n",
    "            self.kalkis,\n",
    "            self.varis,\n",
    "            self.sure)\n",
    "\n",
    "    def koltuk_sayisi_guncelleme(self):\n",
    "        return self.kapasite - self.yolcu\n",
    "\n",
    "    def bilet_satis(self, bilet_adedi=1):\n",
    "        if self.yolcu + bilet_adedi <= self.kapasite:\n",
    "            self.yolcu += bilet_adedi\n",
    "            # self.yolcu = self.yolcu + bilet_adedi\n",
    "            self.koltuk_sayisi_guncelleme() \n",
    "            print('{} adet bilet satilmistir, kalan koltuk sayisi {}'.format(\n",
    "                bilet_adedi,\n",
    "                self.koltuk_sayisi_guncelleme()))\n",
    "        else:\n",
    "            print('Islem gerceklestirilemedi, yetersiz koltuk sayisi.')\n",
    "\n",
    "    def bilet_iptal(self, bilet_adedi=1):\n",
    "        if self.yolcu >= bilet_adedi:\n",
    "            self.yolcu -=bilet_adedi\n",
    "            print('{} adet bilet iptal edilmistir, güncel koltuk sayisi {}'.format(\n",
    "                bilet_adedi,\n",
    "                self.koltuk_sayisi_guncelleme()))\n",
    "        else:\n",
    "            print('Islem gerceklestirilemedi, iptal edilecek kadar yolcu yok.')"
   ]
  },
  {
   "cell_type": "code",
   "execution_count": null,
   "metadata": {},
   "outputs": [],
   "source": [
    "ucus3 = Ucus('TK223', 'BOD', 'ANT', 40, 250, 200)"
   ]
  },
  {
   "cell_type": "code",
   "execution_count": null,
   "metadata": {},
   "outputs": [
    {
     "data": {
      "text/plain": [
       "50"
      ]
     },
     "execution_count": 110,
     "metadata": {},
     "output_type": "execute_result"
    }
   ],
   "source": [
    "ucus3.koltuk_sayisi_guncelleme()"
   ]
  },
  {
   "cell_type": "code",
   "execution_count": null,
   "metadata": {},
   "outputs": [
    {
     "name": "stdout",
     "output_type": "stream",
     "text": [
      "5 adet bilet satilmistir, kalan koltuk sayisi 45\n"
     ]
    }
   ],
   "source": [
    "ucus3.bilet_satis(5)"
   ]
  },
  {
   "cell_type": "code",
   "execution_count": null,
   "metadata": {},
   "outputs": [
    {
     "name": "stdout",
     "output_type": "stream",
     "text": [
      "5 adet bilet satilmistir, kalan koltuk sayisi 40\n"
     ]
    }
   ],
   "source": [
    "ucus3.bilet_satis(5)"
   ]
  },
  {
   "cell_type": "code",
   "execution_count": null,
   "metadata": {},
   "outputs": [
    {
     "name": "stdout",
     "output_type": "stream",
     "text": [
      "1 adet bilet iptal edilmistir, güncel koltuk sayisi 241\n"
     ]
    }
   ],
   "source": [
    "ucus3.bilet_iptal(1)"
   ]
  },
  {
   "cell_type": "code",
   "execution_count": null,
   "metadata": {},
   "outputs": [
    {
     "name": "stdout",
     "output_type": "stream",
     "text": [
      "200 adet bilet iptal edilmistir, güncel koltuk sayisi 240\n"
     ]
    }
   ],
   "source": [
    "ucus3.bilet_iptal(200)"
   ]
  },
  {
   "cell_type": "code",
   "execution_count": null,
   "metadata": {},
   "outputs": [
    {
     "name": "stdout",
     "output_type": "stream",
     "text": [
      "50 adet bilet satilmistir, kalan koltuk sayisi 141\n"
     ]
    }
   ],
   "source": [
    "ucus3.bilet_satis(50)"
   ]
  },
  {
   "cell_type": "code",
   "execution_count": null,
   "metadata": {},
   "outputs": [
    {
     "data": {
      "text/plain": [
       "191"
      ]
     },
     "execution_count": 116,
     "metadata": {},
     "output_type": "execute_result"
    }
   ],
   "source": [
    "ucus3.koltuk_sayisi_guncelleme()"
   ]
  },
  {
   "attachments": {},
   "cell_type": "markdown",
   "metadata": {},
   "source": [
    "### Dunder Method'lar (Double Under Score)"
   ]
  },
  {
   "cell_type": "code",
   "execution_count": null,
   "metadata": {},
   "outputs": [],
   "source": [
    "ucus3 = Ucus('TK223', 'BOD', 'ANT', 40, 250, 250)"
   ]
  },
  {
   "cell_type": "code",
   "execution_count": null,
   "metadata": {},
   "outputs": [
    {
     "data": {
      "text/plain": [
       "<__main__.Ucus at 0x1422c164d10>"
      ]
     },
     "execution_count": 119,
     "metadata": {},
     "output_type": "execute_result"
    }
   ],
   "source": [
    "ucus3"
   ]
  },
  {
   "cell_type": "code",
   "execution_count": null,
   "metadata": {},
   "outputs": [],
   "source": [
    "class Ucus():\n",
    "    havayolu = \"THY\"\n",
    "\n",
    "    def __init__(self, kod, kalkis, varis, sure, kapasite, yolcu):\n",
    "        self.kod = kod\n",
    "        self.kalkis = kalkis\n",
    "        self.varis = varis\n",
    "        self.sure = sure\n",
    "        self.kapasite = kapasite\n",
    "        self.yolcu = yolcu\n",
    "\n",
    "    def __repr__(self):\n",
    "        return \"{} sefer sayili ucus, sistemde olusturulmustur.\".format(self.kod)\n",
    "    def anons_yap(self):\n",
    "        return \"{} sefer sayili {}--{} ucusumuz {} dakika surecektir.\".format(\n",
    "            self.kod,\n",
    "            self.kalkis,\n",
    "            self.varis,\n",
    "            self.sure)\n",
    "\n",
    "    def koltuk_sayisi_guncelleme(self):\n",
    "        return self.kapasite - self.yolcu\n",
    "\n",
    "    def bilet_satis(self, bilet_adedi=1):\n",
    "        if self.yolcu + bilet_adedi <= self.kapasite:\n",
    "            self.yolcu += bilet_adedi\n",
    "            # self.yolcu = self.yolcu + bilet_adedi\n",
    "            self.koltuk_sayisi_guncelleme() \n",
    "            print('{} adet bilet satilmistir, kalan koltuk sayisi {}'.format(\n",
    "                bilet_adedi,\n",
    "                self.koltuk_sayisi_guncelleme()))\n",
    "        else:\n",
    "            print('Islem gerceklestirilemedi, yetersiz koltuk sayisi.')\n",
    "\n",
    "    def bilet_iptal(self, bilet_adedi=1):\n",
    "        if self.yolcu >= bilet_adedi:\n",
    "            self.yolcu -=bilet_adedi\n",
    "            print('{} adet bilet iptal edilmistir, güncel koltuk sayisi {}'.format(\n",
    "                bilet_adedi,\n",
    "                self.koltuk_sayisi_guncelleme()))\n",
    "        else:\n",
    "            print('Islem gerceklestirilemedi, iptal edilecek kadar yolcu yok.')"
   ]
  },
  {
   "cell_type": "code",
   "execution_count": null,
   "metadata": {},
   "outputs": [],
   "source": [
    "ucus3 = Ucus('TK223', 'BOD', 'ANT', 40, 250, 250)"
   ]
  },
  {
   "cell_type": "code",
   "execution_count": null,
   "metadata": {},
   "outputs": [
    {
     "data": {
      "text/plain": [
       "TK223 sefer sayili ucus, sistemde olusturulmustur."
      ]
     },
     "execution_count": 122,
     "metadata": {},
     "output_type": "execute_result"
    }
   ],
   "source": [
    "ucus3"
   ]
  },
  {
   "cell_type": "code",
   "execution_count": null,
   "metadata": {},
   "outputs": [
    {
     "data": {
      "text/plain": [
       "['kod',\n",
       " 'kalkis',\n",
       " 'varis',\n",
       " 'sure',\n",
       " 'kapasite',\n",
       " 'yolcu',\n",
       " '__module__',\n",
       " 'havayolu',\n",
       " '__init__',\n",
       " '__repr__',\n",
       " 'anons_yap',\n",
       " 'koltuk_sayisi_guncelleme',\n",
       " 'bilet_satis',\n",
       " 'bilet_iptal',\n",
       " '__dict__',\n",
       " '__weakref__',\n",
       " '__doc__',\n",
       " '__new__',\n",
       " '__hash__',\n",
       " '__str__',\n",
       " '__getattribute__',\n",
       " '__setattr__',\n",
       " '__delattr__',\n",
       " '__lt__',\n",
       " '__le__',\n",
       " '__eq__',\n",
       " '__ne__',\n",
       " '__gt__',\n",
       " '__ge__',\n",
       " '__reduce_ex__',\n",
       " '__reduce__',\n",
       " '__getstate__',\n",
       " '__subclasshook__',\n",
       " '__init_subclass__',\n",
       " '__format__',\n",
       " '__sizeof__',\n",
       " '__dir__',\n",
       " '__class__']"
      ]
     },
     "execution_count": 123,
     "metadata": {},
     "output_type": "execute_result"
    }
   ],
   "source": [
    "ucus3.__dir__()"
   ]
  },
  {
   "attachments": {},
   "cell_type": "markdown",
   "metadata": {},
   "source": [
    "### Inheritance(Kalıtım)"
   ]
  },
  {
   "cell_type": "code",
   "execution_count": null,
   "metadata": {},
   "outputs": [],
   "source": [
    "class Seyahat():\n",
    "\n",
    "    def __init__(self, kalkis, varis):\n",
    "        self.kalkis = kalkis\n",
    "        self.varis = varis\n",
    "\n",
    "    def anons(self):\n",
    "        return \"{}-{} seyahatine hosgeldiniz.\".format(self.kalkis, self.varis)\n",
    "\n",
    "class Otobus(Seyahat):\n",
    "\n",
    "    def __init__(self, mola_duraklari, kalkis, varis):\n",
    "        Seyahat.__init__(self, kalkis, varis)\n",
    "        self.mola_duraklari = mola_duraklari"
   ]
  },
  {
   "cell_type": "code",
   "execution_count": null,
   "metadata": {},
   "outputs": [
    {
     "data": {
      "text/plain": [
       "'ANT-BOD seyahatine hosgeldiniz.'"
      ]
     },
     "execution_count": 128,
     "metadata": {},
     "output_type": "execute_result"
    }
   ],
   "source": [
    "seyahat1 = Seyahat('ANT', 'BOD')\n",
    "seyahat1.anons()"
   ]
  },
  {
   "cell_type": "code",
   "execution_count": null,
   "metadata": {},
   "outputs": [],
   "source": [
    "oto1 = Otobus(['FET', 'ALAN'], 'ANT', 'BOD')"
   ]
  },
  {
   "cell_type": "code",
   "execution_count": null,
   "metadata": {},
   "outputs": [
    {
     "data": {
      "text/plain": [
       "['FET', 'ALAN']"
      ]
     },
     "execution_count": 136,
     "metadata": {},
     "output_type": "execute_result"
    }
   ],
   "source": [
    "oto1.mola_duraklari"
   ]
  },
  {
   "cell_type": "code",
   "execution_count": null,
   "metadata": {},
   "outputs": [
    {
     "data": {
      "text/plain": [
       "'ANT'"
      ]
     },
     "execution_count": 137,
     "metadata": {},
     "output_type": "execute_result"
    }
   ],
   "source": [
    "oto1.kalkis"
   ]
  },
  {
   "cell_type": "code",
   "execution_count": null,
   "metadata": {},
   "outputs": [
    {
     "data": {
      "text/plain": [
       "'ANT-BOD seyahatine hosgeldiniz.'"
      ]
     },
     "execution_count": 138,
     "metadata": {},
     "output_type": "execute_result"
    }
   ],
   "source": [
    "oto1.anons()"
   ]
  },
  {
   "attachments": {},
   "cell_type": "markdown",
   "metadata": {},
   "source": [
    "### Magic Commands"
   ]
  },
  {
   "cell_type": "code",
   "execution_count": null,
   "metadata": {},
   "outputs": [
    {
     "name": "stdout",
     "output_type": "stream",
     "text": [
      " Volume in drive C has no label.\n",
      " Volume Serial Number is 2681-06EB\n",
      "\n",
      " Directory of c:\\Users\\ugurd\\Documents\\GitHub\\ders\\e�itimyakin\n",
      "\n",
      "09.12.2022  21:50    <DIR>          .\n",
      "09.12.2022  21:50    <DIR>          ..\n",
      "18.12.2022  23:21            65.989 egitim.ipynb\n",
      "               1 File(s)         65.989 bytes\n",
      "               2 Dir(s)  412.754.612.224 bytes free\n"
     ]
    }
   ],
   "source": [
    "%ls"
   ]
  },
  {
   "cell_type": "code",
   "execution_count": null,
   "metadata": {},
   "outputs": [
    {
     "data": {
      "text/plain": [
       "'c:\\\\Users\\\\ugurd\\\\Documents\\\\GitHub\\\\ders\\\\eğitimyakin'"
      ]
     },
     "execution_count": 111,
     "metadata": {},
     "output_type": "execute_result"
    }
   ],
   "source": [
    "%pwd"
   ]
  },
  {
   "attachments": {},
   "cell_type": "markdown",
   "metadata": {},
   "source": [
    "### OS Modülü"
   ]
  },
  {
   "attachments": {},
   "cell_type": "markdown",
   "metadata": {},
   "source": [
    "### Navigasyon ve İçerik Listeleme"
   ]
  },
  {
   "cell_type": "code",
   "execution_count": null,
   "metadata": {},
   "outputs": [],
   "source": [
    "import os"
   ]
  },
  {
   "cell_type": "code",
   "execution_count": null,
   "metadata": {},
   "outputs": [
    {
     "data": {
      "text/plain": [
       "'c:\\\\Users\\\\ugurd\\\\Documents\\\\GitHub\\\\ders\\\\eğitimyakin'"
      ]
     },
     "execution_count": 113,
     "metadata": {},
     "output_type": "execute_result"
    }
   ],
   "source": [
    "os.getcwd()"
   ]
  },
  {
   "cell_type": "code",
   "execution_count": null,
   "metadata": {},
   "outputs": [
    {
     "data": {
      "text/plain": [
       "['egitim.ipynb']"
      ]
     },
     "execution_count": 114,
     "metadata": {},
     "output_type": "execute_result"
    }
   ],
   "source": [
    "os.listdir()"
   ]
  },
  {
   "cell_type": "code",
   "execution_count": null,
   "metadata": {},
   "outputs": [
    {
     "data": {
      "text/plain": [
       "['All Users', 'Default', 'Default User', 'desktop.ini', 'Public', 'ugurd']"
      ]
     },
     "execution_count": 116,
     "metadata": {},
     "output_type": "execute_result"
    }
   ],
   "source": [
    "os.listdir('c:\\\\Users')"
   ]
  },
  {
   "cell_type": "code",
   "execution_count": null,
   "metadata": {},
   "outputs": [],
   "source": [
    "os.chdir('c:\\\\Users')"
   ]
  },
  {
   "cell_type": "code",
   "execution_count": null,
   "metadata": {},
   "outputs": [
    {
     "data": {
      "text/plain": [
       "['All Users', 'Default', 'Default User', 'desktop.ini', 'Public', 'ugurd']"
      ]
     },
     "execution_count": 118,
     "metadata": {},
     "output_type": "execute_result"
    }
   ],
   "source": [
    "os.listdir()"
   ]
  },
  {
   "cell_type": "code",
   "execution_count": null,
   "metadata": {},
   "outputs": [],
   "source": [
    "os.chdir('c:\\\\Users\\\\ugurd\\\\Documents\\\\GitHub\\\\ders\\\\eğitimyakin')"
   ]
  },
  {
   "cell_type": "code",
   "execution_count": null,
   "metadata": {},
   "outputs": [
    {
     "data": {
      "text/plain": [
       "['egitim.ipynb']"
      ]
     },
     "execution_count": 120,
     "metadata": {},
     "output_type": "execute_result"
    }
   ],
   "source": [
    "os.listdir()"
   ]
  },
  {
   "cell_type": "code",
   "execution_count": null,
   "metadata": {},
   "outputs": [
    {
     "name": "stdout",
     "output_type": "stream",
     "text": [
      "egitim.ipynbUğur\n"
     ]
    }
   ],
   "source": [
    "dosyalar = os.listdir()\n",
    "for eleman in dosyalar:\n",
    "    print(eleman + 'Uğur')"
   ]
  },
  {
   "attachments": {},
   "cell_type": "markdown",
   "metadata": {},
   "source": [
    "### Yeni Eleman Oluşturma, İsim Değiştirme ve Silme "
   ]
  },
  {
   "cell_type": "code",
   "execution_count": null,
   "metadata": {},
   "outputs": [],
   "source": [
    "os.mkdir('c:\\\\Users\\\\ugurd\\\\Documents\\\\GitHub\\\\ders\\\\eğitimyakin\\\\deneme_klasoru')"
   ]
  },
  {
   "cell_type": "code",
   "execution_count": null,
   "metadata": {},
   "outputs": [
    {
     "data": {
      "text/plain": [
       "['deneme_klasoru', 'egitim.ipynb']"
      ]
     },
     "execution_count": 124,
     "metadata": {},
     "output_type": "execute_result"
    }
   ],
   "source": [
    "os.listdir()"
   ]
  },
  {
   "cell_type": "code",
   "execution_count": null,
   "metadata": {},
   "outputs": [],
   "source": [
    "os.rmdir('c:\\\\Users\\\\ugurd\\\\Documents\\\\GitHub\\\\ders\\\\eğitimyakin\\\\deneme_klasoru')"
   ]
  },
  {
   "cell_type": "code",
   "execution_count": null,
   "metadata": {},
   "outputs": [
    {
     "data": {
      "text/plain": [
       "['egitim.ipynb']"
      ]
     },
     "execution_count": 126,
     "metadata": {},
     "output_type": "execute_result"
    }
   ],
   "source": [
    "os.listdir()"
   ]
  },
  {
   "attachments": {},
   "cell_type": "markdown",
   "metadata": {},
   "source": [
    "### os.O_RDONLY - Read Only - Sadece Oku\n",
    "### os.O_WRONLY - Write Only - Sadece Yaz\n",
    "### os.O_RDWR - Read and Write - Oku ve Yaz\n",
    "### os.O_CREAT - Create - Oluştur"
   ]
  },
  {
   "cell_type": "code",
   "execution_count": null,
   "metadata": {},
   "outputs": [],
   "source": [
    "yeni_dosya = os.open('yeni_dosya.txt', os.O_RDWR|os.O_CREAT)\n",
    "os.write(yeni_dosya, 'Merhaba Dünya!'.encode())\n",
    "os.close(yeni_dosya)"
   ]
  },
  {
   "cell_type": "code",
   "execution_count": null,
   "metadata": {},
   "outputs": [
    {
     "name": "stdout",
     "output_type": "stream",
     "text": [
      "Merhaba Dünya!\n"
     ]
    }
   ],
   "source": [
    "yeni_dosya = os.open('yeni_dosya.txt', os.O_RDONLY)\n",
    "uzunluk = os.stat(yeni_dosya).st_size\n",
    "icerik = os.read(yeni_dosya, uzunluk)\n",
    "print(icerik.decode())\n",
    "os.close(yeni_dosya)"
   ]
  },
  {
   "cell_type": "code",
   "execution_count": null,
   "metadata": {},
   "outputs": [
    {
     "ename": "PermissionError",
     "evalue": "[WinError 32] Dosya başka bir işlem tarafından kullanıldığından bu işlem dosyaya erişemiyor: 'yeni_dosya.txt'",
     "output_type": "error",
     "traceback": [
      "\u001b[1;31m---------------------------------------------------------------------------\u001b[0m",
      "\u001b[1;31mPermissionError\u001b[0m                           Traceback (most recent call last)",
      "Cell \u001b[1;32mIn [135], line 1\u001b[0m\n\u001b[1;32m----> 1\u001b[0m os\u001b[39m.\u001b[39;49munlink(\u001b[39m'\u001b[39;49m\u001b[39myeni_dosya.txt\u001b[39;49m\u001b[39m'\u001b[39;49m)\n",
      "\u001b[1;31mPermissionError\u001b[0m: [WinError 32] Dosya başka bir işlem tarafından kullanıldığından bu işlem dosyaya erişemiyor: 'yeni_dosya.txt'"
     ]
    }
   ],
   "source": [
    "os.unlink('yeni_dosya.txt')"
   ]
  },
  {
   "cell_type": "code",
   "execution_count": null,
   "metadata": {},
   "outputs": [],
   "source": [
    "os.mkdir(\"deneme_yeni\")"
   ]
  },
  {
   "cell_type": "code",
   "execution_count": null,
   "metadata": {},
   "outputs": [
    {
     "data": {
      "text/plain": [
       "['deneme_yeni', 'egitim.ipynb', 'yeni_dosya.txt']"
      ]
     },
     "execution_count": 137,
     "metadata": {},
     "output_type": "execute_result"
    }
   ],
   "source": [
    "os.listdir()"
   ]
  },
  {
   "cell_type": "code",
   "execution_count": null,
   "metadata": {},
   "outputs": [],
   "source": [
    "os.rename(\"deneme_yeni\",\"deneme_eski\")"
   ]
  },
  {
   "cell_type": "code",
   "execution_count": null,
   "metadata": {},
   "outputs": [
    {
     "data": {
      "text/plain": [
       "['deneme_eski', 'egitim.ipynb', 'yeni_dosya.txt']"
      ]
     },
     "execution_count": 139,
     "metadata": {},
     "output_type": "execute_result"
    }
   ],
   "source": [
    "os.listdir()"
   ]
  },
  {
   "attachments": {},
   "cell_type": "markdown",
   "metadata": {},
   "source": [
    "### Regular Expressions ( REGEX )"
   ]
  },
  {
   "cell_type": "code",
   "execution_count": null,
   "metadata": {},
   "outputs": [],
   "source": [
    "import re"
   ]
  },
  {
   "cell_type": "code",
   "execution_count": null,
   "metadata": {},
   "outputs": [
    {
     "data": {
      "text/plain": [
       "<re.Match object; span=(23, 27), match='Türk'>"
      ]
     },
     "execution_count": 5,
     "metadata": {},
     "output_type": "execute_result"
    }
   ],
   "source": [
    "cumle = \"Mustafa Kemal Atatürk, Türk asker, devlet adamı ve Türkiye Cumhuriyeti'nin kurucusudur.\"\n",
    "\n",
    "patern = \"Türk\"\n",
    "\n",
    "re.search(patern, cumle)"
   ]
  },
  {
   "cell_type": "code",
   "execution_count": null,
   "metadata": {},
   "outputs": [
    {
     "data": {
      "text/plain": [
       "(23, 27)"
      ]
     },
     "execution_count": 6,
     "metadata": {},
     "output_type": "execute_result"
    }
   ],
   "source": [
    "durum = re.search(patern, cumle)\n",
    "durum.span()"
   ]
  },
  {
   "cell_type": "code",
   "execution_count": null,
   "metadata": {},
   "outputs": [
    {
     "data": {
      "text/plain": [
       "['__class__',\n",
       " '__class_getitem__',\n",
       " '__copy__',\n",
       " '__deepcopy__',\n",
       " '__delattr__',\n",
       " '__dir__',\n",
       " '__doc__',\n",
       " '__eq__',\n",
       " '__format__',\n",
       " '__ge__',\n",
       " '__getattribute__',\n",
       " '__getitem__',\n",
       " '__getstate__',\n",
       " '__gt__',\n",
       " '__hash__',\n",
       " '__init__',\n",
       " '__init_subclass__',\n",
       " '__le__',\n",
       " '__lt__',\n",
       " '__module__',\n",
       " '__ne__',\n",
       " '__new__',\n",
       " '__reduce__',\n",
       " '__reduce_ex__',\n",
       " '__repr__',\n",
       " '__setattr__',\n",
       " '__sizeof__',\n",
       " '__str__',\n",
       " '__subclasshook__',\n",
       " 'end',\n",
       " 'endpos',\n",
       " 'expand',\n",
       " 'group',\n",
       " 'groupdict',\n",
       " 'groups',\n",
       " 'lastgroup',\n",
       " 'lastindex',\n",
       " 'pos',\n",
       " 're',\n",
       " 'regs',\n",
       " 'span',\n",
       " 'start',\n",
       " 'string']"
      ]
     },
     "execution_count": 7,
     "metadata": {},
     "output_type": "execute_result"
    }
   ],
   "source": [
    "dir(durum)"
   ]
  },
  {
   "cell_type": "code",
   "execution_count": null,
   "metadata": {},
   "outputs": [
    {
     "data": {
      "text/plain": [
       "23"
      ]
     },
     "execution_count": 9,
     "metadata": {},
     "output_type": "execute_result"
    }
   ],
   "source": [
    "durum.start()"
   ]
  },
  {
   "cell_type": "code",
   "execution_count": null,
   "metadata": {},
   "outputs": [
    {
     "data": {
      "text/plain": [
       "27"
      ]
     },
     "execution_count": 8,
     "metadata": {},
     "output_type": "execute_result"
    }
   ],
   "source": [
    "durum.end()"
   ]
  },
  {
   "cell_type": "code",
   "execution_count": null,
   "metadata": {},
   "outputs": [
    {
     "data": {
      "text/plain": [
       "'Türk'"
      ]
     },
     "execution_count": 10,
     "metadata": {},
     "output_type": "execute_result"
    }
   ],
   "source": [
    "durum.group()"
   ]
  },
  {
   "attachments": {},
   "cell_type": "markdown",
   "metadata": {},
   "source": [
    "### Çoklu Eşleşmelerde (match)"
   ]
  },
  {
   "cell_type": "code",
   "execution_count": null,
   "metadata": {},
   "outputs": [
    {
     "name": "stdout",
     "output_type": "stream",
     "text": [
      "Türk\n",
      "Türk\n"
     ]
    }
   ],
   "source": [
    "for eslesme in re.findall(patern, cumle):\n",
    "    print(eslesme)"
   ]
  },
  {
   "cell_type": "code",
   "execution_count": null,
   "metadata": {},
   "outputs": [
    {
     "name": "stdout",
     "output_type": "stream",
     "text": [
      "(23, 27) Türk\n",
      "(51, 55) Türk\n"
     ]
    }
   ],
   "source": [
    "for eslesme in re.finditer(patern, cumle):\n",
    "    print(eslesme.span(), eslesme.group())"
   ]
  },
  {
   "attachments": {},
   "cell_type": "markdown",
   "metadata": {},
   "source": [
    "### Dinamik Kullanım"
   ]
  },
  {
   "cell_type": "code",
   "execution_count": null,
   "metadata": {},
   "outputs": [
    {
     "data": {
      "text/plain": [
       "<re.Match object; span=(18, 24), match='base42'>"
      ]
     },
     "execution_count": 13,
     "metadata": {},
     "output_type": "execute_result"
    }
   ],
   "source": [
    "ornek = \"En sevdiğim kanal base42\"\n",
    "patern = r\"base\\d\\d\"\n",
    "re.search(patern, ornek)"
   ]
  },
  {
   "cell_type": "code",
   "execution_count": null,
   "metadata": {},
   "outputs": [
    {
     "data": {
      "text/plain": [
       "<re.Match object; span=(29, 41), match='0539-8411619'>"
      ]
     },
     "execution_count": 14,
     "metadata": {},
     "output_type": "execute_result"
    }
   ],
   "source": [
    "cumle = \"Selam, benim telefon numaram 0539-8411619.\"\n",
    "# patern = r\"\\d\\d\\d\\d-\\d\\d\\d\\d\\d\\d\\d\"\n",
    "patern = r\"\\d{3,4}-\\d{7}\"\n",
    "re.search(patern, cumle)"
   ]
  },
  {
   "cell_type": "code",
   "execution_count": null,
   "metadata": {},
   "outputs": [
    {
     "name": "stdout",
     "output_type": "stream",
     "text": [
      " sevdiğim (2, 11)\n",
      " kanal (11, 17)\n",
      " base42 (17, 24)\n"
     ]
    }
   ],
   "source": [
    "cumle = \"En sevdiğim kanal base42.\"\n",
    "patern = r\"\\s\\w{5,}\"\n",
    "\n",
    "for eslesme in re.finditer(patern, cumle):\n",
    "    print(eslesme.group(), eslesme.span())"
   ]
  },
  {
   "cell_type": "code",
   "execution_count": null,
   "metadata": {},
   "outputs": [
    {
     "name": "stdout",
     "output_type": "stream",
     "text": [
      " (0, 0)\n",
      " (1, 1)\n",
      " (2, 2)\n",
      " (3, 3)\n",
      " (4, 4)\n",
      " (5, 5)\n",
      " (6, 6)\n",
      " (7, 7)\n",
      " (8, 8)\n",
      " (9, 9)\n",
      " (10, 10)\n",
      " (11, 11)\n",
      " (12, 12)\n",
      " (13, 13)\n",
      " (14, 14)\n",
      " (15, 15)\n",
      " (16, 16)\n",
      " (17, 17)\n",
      " (18, 18)\n",
      " (19, 19)\n",
      " (20, 20)\n",
      " (21, 21)\n",
      "4 (22, 23)\n",
      "2 (23, 24)\n",
      " (24, 24)\n",
      " (25, 25)\n"
     ]
    }
   ],
   "source": [
    "patern = r\"\\d?\"\n",
    "\n",
    "for eslesme in re.finditer(patern, cumle):\n",
    "    print(eslesme.group(), eslesme.span())"
   ]
  },
  {
   "cell_type": "code",
   "execution_count": null,
   "metadata": {},
   "outputs": [
    {
     "name": "stdout",
     "output_type": "stream",
     "text": [
      "42 (22, 24)\n"
     ]
    }
   ],
   "source": [
    "patern = r\"\\d+\"\n",
    "\n",
    "for eslesme in re.finditer(patern, cumle):\n",
    "    print(eslesme.group(), eslesme.span())"
   ]
  },
  {
   "cell_type": "code",
   "execution_count": null,
   "metadata": {},
   "outputs": [
    {
     "name": "stdout",
     "output_type": "stream",
     "text": [
      "base42 (18, 24)\n"
     ]
    }
   ],
   "source": [
    "patern = r\"\\w*\\d+\"\n",
    "\n",
    "for eslesme in re.finditer(patern, cumle):\n",
    "    print(eslesme.group(), eslesme.span())"
   ]
  },
  {
   "cell_type": "code",
   "execution_count": null,
   "metadata": {},
   "outputs": [],
   "source": [
    "cumle = \"En sevdiğim kanal 42base.\""
   ]
  },
  {
   "cell_type": "code",
   "execution_count": null,
   "metadata": {},
   "outputs": [
    {
     "name": "stdout",
     "output_type": "stream",
     "text": [
      "42 (18, 20)\n"
     ]
    }
   ],
   "source": [
    "patern = r\"\\w*\\d+\"\n",
    "\n",
    "for eslesme in re.finditer(patern, cumle):\n",
    "    print(eslesme.group(), eslesme.span())"
   ]
  },
  {
   "cell_type": "code",
   "execution_count": null,
   "metadata": {},
   "outputs": [],
   "source": [
    "### GSM Operatörleri:\n",
    "# 54...          -> Vodafone\n",
    "# 501,505,506    -> AVEA\n",
    "# 53...          -> Turkcell\n",
    "\n",
    "def gsm_operator_bul(tel_no):\n",
    "    patern = r\"(\\d{3})-(\\d{7})\"\n",
    "    eslesme = re.search(patern, tel_no)\n",
    "\n",
    "    if eslesme:\n",
    "        gsm_kod = eslesme.groups()[0]\n",
    "        print(gsm_kod)\n",
    "        if gsm_kod.startswith(\"54\"):\n",
    "            return \"Vodafone\"\n",
    "        elif gsm_kod.startswith(\"501\") or gsm_kod.startswith(\"505\") or gsm_kod.startswith(\"506\"):\n",
    "            return \"AVEA\"\n",
    "        elif gsm_kod.startswith(\"53\"):\n",
    "            return \"Turkcell\"\n",
    "        else: \n",
    "            return \"Sebeke bulunamadi.\"\n",
    "    else:\n",
    "        return \"Patern bulunamadi.\""
   ]
  },
  {
   "cell_type": "code",
   "execution_count": null,
   "metadata": {},
   "outputs": [
    {
     "name": "stdout",
     "output_type": "stream",
     "text": [
      "539\n"
     ]
    },
    {
     "data": {
      "text/plain": [
       "'Turkcell'"
      ]
     },
     "execution_count": 44,
     "metadata": {},
     "output_type": "execute_result"
    }
   ],
   "source": [
    "tel_no = \"Selam, benim telefon numaram 0539-8411619.\"\n",
    "gsm_operator_bul(tel_no)"
   ]
  },
  {
   "cell_type": "code",
   "execution_count": null,
   "metadata": {},
   "outputs": [],
   "source": [
    "import re\n",
    "\n",
    "def mesaj_hissi_bul(mesaj):\n",
    "    hisler = []\n",
    "\n",
    "\n",
    "    pozitif_patern = r\"(merhaba|selam|ask|sevgi|dost|kardes|:\\)+)\"\n",
    "    negatif_patern = r\"(lan|aptal|abv|yeter|birak)\"\n",
    "\n",
    "    heyecanli_patern = r\"!|[!|?]{2,}$\"\n",
    "    sakin_patern = r\"^[Tabi+|Hayhay]\"\n",
    "\n",
    "    emin_patern = r\"[K|k]esin|[T|t]abi|[E|e]lbet\"\n",
    "    kararsiz_patern = r\"[B|b]elki|[S|s]anirim\"\n",
    "\n",
    "    if re.search(pozitif_patern, mesaj):\n",
    "        hisler.append(\"Pozitif\")\n",
    "    if re.search(negatif_patern, mesaj):\n",
    "        hisler.append(\"Negatif\")\n",
    "    if re.search(heyecanli_patern, mesaj):\n",
    "        hisler.append(\"Heyecanli\")\n",
    "    if re.search(sakin_patern, mesaj):\n",
    "        hisler.append(\"Sakin\")\n",
    "    if re.search(emin_patern, mesaj):\n",
    "        hisler.append(\"Emin\")\n",
    "    if re.search(kararsiz_patern, mesaj):\n",
    "        hisler.append(\"Kararsiz\")\n",
    "\n",
    "    return hisler"
   ]
  },
  {
   "cell_type": "code",
   "execution_count": null,
   "metadata": {},
   "outputs": [
    {
     "name": "stdout",
     "output_type": "stream",
     "text": [
      "Naber abi? :)              \t ['Pozitif']\n",
      "Tabiii ki buyrun           \t ['Sakin', 'Emin']\n",
      "Sacmalamayi birak artik!   \t ['Negatif', 'Heyecanli']\n",
      "Belki yarindan da yakin... \t ['Kararsiz']\n",
      "Elbet bir gün bulusacagiz  \t ['Emin']\n"
     ]
    }
   ],
   "source": [
    "cumle1 = \"Naber abi? :)             \"\n",
    "cumle2 = \"Tabiii ki buyrun          \"\n",
    "cumle3 = \"Sacmalamayi birak artik!  \"\n",
    "cumle4 = \"Belki yarindan da yakin...\"\n",
    "cumle5 = \"Elbet bir gün bulusacagiz \"\n",
    "cumleler = [cumle1, cumle2, cumle3, cumle4, cumle5]\n",
    "for cumle in cumleler:\n",
    "    print(cumle, '\\t', mesaj_hissi_bul(cumle))\n"
   ]
  },
  {
   "cell_type": "code",
   "execution_count": null,
   "metadata": {},
   "outputs": [
    {
     "data": {
      "text/plain": [
       "<re.Match object; span=(29, 41), match='0539-8411619'>"
      ]
     },
     "execution_count": 54,
     "metadata": {},
     "output_type": "execute_result"
    }
   ],
   "source": [
    "cumle = \"Selam, benim telefon numaram 0539-8411619.\"\n",
    "# patern = r\"\\d\\d\\d\\d-\\d\\d\\d\\d\\d\\d\\d\"\n",
    "patern = r\"\\d{3,4}-\\d{7}\"\n",
    "re.search(patern, cumle)"
   ]
  },
  {
   "attachments": {},
   "cell_type": "markdown",
   "metadata": {},
   "source": [
    "### Random Module'ü"
   ]
  },
  {
   "cell_type": "code",
   "execution_count": null,
   "metadata": {},
   "outputs": [],
   "source": [
    "import random"
   ]
  },
  {
   "cell_type": "code",
   "execution_count": null,
   "metadata": {},
   "outputs": [
    {
     "data": {
      "text/plain": [
       "0.48964976454440223"
      ]
     },
     "execution_count": 115,
     "metadata": {},
     "output_type": "execute_result"
    }
   ],
   "source": [
    "random.random()"
   ]
  },
  {
   "cell_type": "code",
   "execution_count": null,
   "metadata": {},
   "outputs": [
    {
     "data": {
      "text/plain": [
       "9.495584925075129"
      ]
     },
     "execution_count": 116,
     "metadata": {},
     "output_type": "execute_result"
    }
   ],
   "source": [
    "random.uniform(5,10)"
   ]
  },
  {
   "cell_type": "code",
   "execution_count": null,
   "metadata": {},
   "outputs": [
    {
     "data": {
      "text/plain": [
       "9"
      ]
     },
     "execution_count": 118,
     "metadata": {},
     "output_type": "execute_result"
    }
   ],
   "source": [
    "random.randint(5,10)"
   ]
  },
  {
   "cell_type": "code",
   "execution_count": null,
   "metadata": {},
   "outputs": [
    {
     "data": {
      "text/plain": [
       "0"
      ]
     },
     "execution_count": 121,
     "metadata": {},
     "output_type": "execute_result"
    }
   ],
   "source": [
    "[*range(10)]\n",
    "random.choice([*range(10)])"
   ]
  },
  {
   "cell_type": "code",
   "execution_count": null,
   "metadata": {},
   "outputs": [
    {
     "data": {
      "text/plain": [
       "[7, 5, 2, 1]"
      ]
     },
     "execution_count": 122,
     "metadata": {},
     "output_type": "execute_result"
    }
   ],
   "source": [
    "random.sample(range(10), k=4)"
   ]
  },
  {
   "cell_type": "code",
   "execution_count": null,
   "metadata": {},
   "outputs": [
    {
     "name": "stdout",
     "output_type": "stream",
     "text": [
      "[0, 1, 2, 3, 4, 5, 6, 7, 8, 9]\n",
      "[1, 7, 2, 4, 6, 9, 8, 5, 3, 0]\n"
     ]
    }
   ],
   "source": [
    "liste = [*range(10)]\n",
    "print(liste)\n",
    "random.shuffle(liste)\n",
    "print(liste)"
   ]
  },
  {
   "attachments": {},
   "cell_type": "markdown",
   "metadata": {},
   "source": [
    "### Math Module'ü"
   ]
  },
  {
   "cell_type": "code",
   "execution_count": null,
   "metadata": {},
   "outputs": [],
   "source": [
    "import math"
   ]
  },
  {
   "cell_type": "code",
   "execution_count": null,
   "metadata": {},
   "outputs": [
    {
     "data": {
      "text/plain": [
       "8"
      ]
     },
     "execution_count": 125,
     "metadata": {},
     "output_type": "execute_result"
    }
   ],
   "source": [
    "math.ceil(7.6)"
   ]
  },
  {
   "cell_type": "code",
   "execution_count": null,
   "metadata": {},
   "outputs": [
    {
     "data": {
      "text/plain": [
       "8"
      ]
     },
     "execution_count": 127,
     "metadata": {},
     "output_type": "execute_result"
    }
   ],
   "source": [
    "round(7.6)"
   ]
  },
  {
   "cell_type": "code",
   "execution_count": null,
   "metadata": {},
   "outputs": [
    {
     "data": {
      "text/plain": [
       "7"
      ]
     },
     "execution_count": 128,
     "metadata": {},
     "output_type": "execute_result"
    }
   ],
   "source": [
    "round(7.1)"
   ]
  },
  {
   "cell_type": "code",
   "execution_count": null,
   "metadata": {},
   "outputs": [
    {
     "data": {
      "text/plain": [
       "7"
      ]
     },
     "execution_count": 126,
     "metadata": {},
     "output_type": "execute_result"
    }
   ],
   "source": [
    "math.floor(7.6)"
   ]
  },
  {
   "cell_type": "code",
   "execution_count": null,
   "metadata": {},
   "outputs": [
    {
     "data": {
      "text/plain": [
       "24"
      ]
     },
     "execution_count": 130,
     "metadata": {},
     "output_type": "execute_result"
    }
   ],
   "source": [
    "math.factorial(4)"
   ]
  },
  {
   "cell_type": "code",
   "execution_count": null,
   "metadata": {},
   "outputs": [
    {
     "data": {
      "text/plain": [
       "9.0"
      ]
     },
     "execution_count": 131,
     "metadata": {},
     "output_type": "execute_result"
    }
   ],
   "source": [
    "math.pow(3,2)"
   ]
  },
  {
   "cell_type": "code",
   "execution_count": null,
   "metadata": {},
   "outputs": [
    {
     "data": {
      "text/plain": [
       "9"
      ]
     },
     "execution_count": 132,
     "metadata": {},
     "output_type": "execute_result"
    }
   ],
   "source": [
    "3**2"
   ]
  },
  {
   "attachments": {},
   "cell_type": "markdown",
   "metadata": {},
   "source": [
    "### collections (Counter) Module'ü"
   ]
  },
  {
   "cell_type": "code",
   "execution_count": null,
   "metadata": {},
   "outputs": [],
   "source": [
    "from collections import Counter\n",
    "import random"
   ]
  },
  {
   "cell_type": "code",
   "execution_count": null,
   "metadata": {},
   "outputs": [
    {
     "name": "stdout",
     "output_type": "stream",
     "text": [
      "[[2, 5, 8, 9], [4, 9, 6, 2], [5, 6, 1, 9], [7, 0, 3, 8]]\n",
      "[2, 5, 8, 9, 4, 9, 6, 2, 5, 6, 1, 9, 7, 0, 3, 8]\n"
     ]
    }
   ],
   "source": [
    "list1 = random.sample(range(10), k=4)\n",
    "list2 = random.sample(range(10), k=4)\n",
    "list3 = random.sample(range(10), k=4)\n",
    "list4 = random.sample(range(10), k=4)\n",
    "\n",
    "liste_listesi = [list1, list2, list3, list4]\n",
    "list_toplam = list1 + list2 + list3 + list4\n",
    "\n",
    "print(liste_listesi)\n",
    "print(list_toplam)"
   ]
  },
  {
   "cell_type": "code",
   "execution_count": null,
   "metadata": {},
   "outputs": [
    {
     "name": "stdout",
     "output_type": "stream",
     "text": [
      "1. liste \t [2, 5, 8, 9]\n",
      "2. liste \t [4, 9, 6, 2]\n",
      "3. liste \t [5, 6, 1, 9]\n",
      "4. liste \t [7, 0, 3, 8]\n"
     ]
    },
    {
     "data": {
      "text/plain": [
       "Counter({2: 2, 5: 2, 8: 2, 9: 3, 4: 1, 6: 2, 1: 1, 7: 1, 0: 1, 3: 1})"
      ]
     },
     "execution_count": 20,
     "metadata": {},
     "output_type": "execute_result"
    }
   ],
   "source": [
    "for index, liste in enumerate(liste_listesi):\n",
    "    print('{}. liste \\t {}'.format(index+1, liste))\n",
    "Counter(list_toplam)"
   ]
  },
  {
   "cell_type": "code",
   "execution_count": null,
   "metadata": {},
   "outputs": [
    {
     "data": {
      "text/plain": [
       "Counter({'a': 3, 's': 2, 'd': 2, 'v': 3})"
      ]
     },
     "execution_count": 21,
     "metadata": {},
     "output_type": "execute_result"
    }
   ],
   "source": [
    "Counter(\"asdvasvadv\")"
   ]
  },
  {
   "cell_type": "code",
   "execution_count": null,
   "metadata": {},
   "outputs": [
    {
     "name": "stdout",
     "output_type": "stream",
     "text": [
      "Umut durur, yakar durur içim\n",
      "Sevdiğimi düşünür\n",
      "Ölüm gelir, alır gider seni\n",
      "Üşürüm\n"
     ]
    }
   ],
   "source": [
    "sarki = \"\"\"Umut durur, yakar durur içim\n",
    "Sevdiğimi düşünür\n",
    "Ölüm gelir, alır gider seni\n",
    "Üşürüm\"\"\"\n",
    "print(sarki)"
   ]
  },
  {
   "cell_type": "code",
   "execution_count": null,
   "metadata": {},
   "outputs": [
    {
     "data": {
      "text/plain": [
       "Counter({'U': 1,\n",
       "         'm': 5,\n",
       "         'u': 5,\n",
       "         't': 1,\n",
       "         ' ': 9,\n",
       "         'd': 5,\n",
       "         'r': 10,\n",
       "         ',': 2,\n",
       "         'y': 1,\n",
       "         'a': 3,\n",
       "         'k': 1,\n",
       "         'i': 8,\n",
       "         'ç': 1,\n",
       "         '\\n': 3,\n",
       "         'S': 1,\n",
       "         'e': 4,\n",
       "         'v': 1,\n",
       "         'ğ': 1,\n",
       "         'ü': 6,\n",
       "         'ş': 2,\n",
       "         'n': 2,\n",
       "         'Ö': 1,\n",
       "         'l': 3,\n",
       "         'g': 2,\n",
       "         'ı': 1,\n",
       "         's': 1,\n",
       "         'Ü': 1})"
      ]
     },
     "execution_count": 25,
     "metadata": {},
     "output_type": "execute_result"
    }
   ],
   "source": [
    "Counter(sarki)"
   ]
  },
  {
   "cell_type": "code",
   "execution_count": null,
   "metadata": {},
   "outputs": [
    {
     "data": {
      "text/plain": [
       "['Umut',\n",
       " 'durur,',\n",
       " 'yakar',\n",
       " 'durur',\n",
       " 'içim',\n",
       " 'Sevdiğimi',\n",
       " 'düşünür',\n",
       " 'Ölüm',\n",
       " 'gelir,',\n",
       " 'alır',\n",
       " 'gider',\n",
       " 'seni',\n",
       " 'Üşürüm']"
      ]
     },
     "execution_count": 26,
     "metadata": {},
     "output_type": "execute_result"
    }
   ],
   "source": [
    "sarki.split()"
   ]
  },
  {
   "cell_type": "code",
   "execution_count": null,
   "metadata": {},
   "outputs": [
    {
     "data": {
      "text/plain": [
       "Counter({'Umut': 1,\n",
       "         'durur,': 1,\n",
       "         'yakar': 1,\n",
       "         'durur': 1,\n",
       "         'içim': 1,\n",
       "         'Sevdiğimi': 1,\n",
       "         'düşünür': 1,\n",
       "         'Ölüm': 1,\n",
       "         'gelir,': 1,\n",
       "         'alır': 1,\n",
       "         'gider': 1,\n",
       "         'seni': 1,\n",
       "         'Üşürüm': 1})"
      ]
     },
     "execution_count": 28,
     "metadata": {},
     "output_type": "execute_result"
    }
   ],
   "source": [
    "Counter(sarki.split())"
   ]
  },
  {
   "cell_type": "code",
   "execution_count": null,
   "metadata": {},
   "outputs": [
    {
     "data": {
      "text/plain": [
       "'umut durur, yakar durur içim\\nsevdiğimi düşünür\\nölüm gelir, alır gider seni\\nüşürüm'"
      ]
     },
     "execution_count": 29,
     "metadata": {},
     "output_type": "execute_result"
    }
   ],
   "source": [
    "sarki.lower()"
   ]
  },
  {
   "cell_type": "code",
   "execution_count": null,
   "metadata": {},
   "outputs": [
    {
     "data": {
      "text/plain": [
       "['umut',\n",
       " 'durur,',\n",
       " 'yakar',\n",
       " 'durur',\n",
       " 'içim',\n",
       " 'sevdiğimi',\n",
       " 'düşünür',\n",
       " 'ölüm',\n",
       " 'gelir,',\n",
       " 'alır',\n",
       " 'gider',\n",
       " 'seni',\n",
       " 'üşürüm']"
      ]
     },
     "execution_count": 31,
     "metadata": {},
     "output_type": "execute_result"
    }
   ],
   "source": [
    "sarki.lower().split()"
   ]
  },
  {
   "cell_type": "code",
   "execution_count": null,
   "metadata": {},
   "outputs": [
    {
     "data": {
      "text/plain": [
       "Counter({'umut': 1,\n",
       "         'durur,': 1,\n",
       "         'yakar': 1,\n",
       "         'durur': 1,\n",
       "         'içim': 1,\n",
       "         'sevdiğimi': 1,\n",
       "         'düşünür': 1,\n",
       "         'ölüm': 1,\n",
       "         'gelir,': 1,\n",
       "         'alır': 1,\n",
       "         'gider': 1,\n",
       "         'seni': 1,\n",
       "         'üşürüm': 1})"
      ]
     },
     "execution_count": 32,
     "metadata": {},
     "output_type": "execute_result"
    }
   ],
   "source": [
    "Counter(sarki.lower().split())"
   ]
  },
  {
   "cell_type": "code",
   "execution_count": null,
   "metadata": {},
   "outputs": [
    {
     "data": {
      "text/plain": [
       "[('umut', 1), ('durur,', 1)]"
      ]
     },
     "execution_count": 35,
     "metadata": {},
     "output_type": "execute_result"
    }
   ],
   "source": [
    "Counter(sarki.lower().split()).most_common(2)"
   ]
  },
  {
   "attachments": {},
   "cell_type": "markdown",
   "metadata": {},
   "source": [
    "### Datetime ve Time Module'leri"
   ]
  },
  {
   "cell_type": "code",
   "execution_count": null,
   "metadata": {},
   "outputs": [],
   "source": [
    "import datetime"
   ]
  },
  {
   "attachments": {},
   "cell_type": "markdown",
   "metadata": {},
   "source": [
    "## datetime.date"
   ]
  },
  {
   "cell_type": "code",
   "execution_count": null,
   "metadata": {},
   "outputs": [],
   "source": [
    "from datetime import date"
   ]
  },
  {
   "cell_type": "code",
   "execution_count": null,
   "metadata": {},
   "outputs": [
    {
     "name": "stdout",
     "output_type": "stream",
     "text": [
      "2022-12-28\n"
     ]
    }
   ],
   "source": [
    "bugun = date.today()\n",
    "print(bugun)"
   ]
  },
  {
   "cell_type": "code",
   "execution_count": null,
   "metadata": {},
   "outputs": [
    {
     "name": "stdout",
     "output_type": "stream",
     "text": [
      "2022-12-27\n"
     ]
    }
   ],
   "source": [
    "dun = date(2022,12,27)\n",
    "print(dun)"
   ]
  },
  {
   "cell_type": "code",
   "execution_count": null,
   "metadata": {},
   "outputs": [
    {
     "data": {
      "text/plain": [
       "datetime.timedelta(days=1)"
      ]
     },
     "execution_count": 6,
     "metadata": {},
     "output_type": "execute_result"
    }
   ],
   "source": [
    "bugun - dun"
   ]
  },
  {
   "cell_type": "code",
   "execution_count": null,
   "metadata": {},
   "outputs": [
    {
     "name": "stdout",
     "output_type": "stream",
     "text": [
      "2022-12-29\n"
     ]
    }
   ],
   "source": [
    "yarin = bugun + datetime.timedelta(days = 1)\n",
    "print(yarin)"
   ]
  },
  {
   "cell_type": "code",
   "execution_count": null,
   "metadata": {},
   "outputs": [
    {
     "data": {
      "text/plain": [
       "1"
      ]
     },
     "execution_count": 10,
     "metadata": {},
     "output_type": "execute_result"
    }
   ],
   "source": [
    "zaman_araligi = bugun - dun \n",
    "zaman_araligi.days"
   ]
  },
  {
   "cell_type": "code",
   "execution_count": null,
   "metadata": {},
   "outputs": [
    {
     "data": {
      "text/plain": [
       "True"
      ]
     },
     "execution_count": 11,
     "metadata": {},
     "output_type": "execute_result"
    }
   ],
   "source": [
    "dun < bugun "
   ]
  },
  {
   "cell_type": "code",
   "execution_count": null,
   "metadata": {},
   "outputs": [
    {
     "data": {
      "text/plain": [
       "False"
      ]
     },
     "execution_count": 12,
     "metadata": {},
     "output_type": "execute_result"
    }
   ],
   "source": [
    "dun > bugun"
   ]
  },
  {
   "cell_type": "code",
   "execution_count": null,
   "metadata": {},
   "outputs": [
    {
     "data": {
      "text/plain": [
       "2022"
      ]
     },
     "execution_count": 13,
     "metadata": {},
     "output_type": "execute_result"
    }
   ],
   "source": [
    "bugun.year"
   ]
  },
  {
   "cell_type": "code",
   "execution_count": null,
   "metadata": {},
   "outputs": [
    {
     "data": {
      "text/plain": [
       "12"
      ]
     },
     "execution_count": 14,
     "metadata": {},
     "output_type": "execute_result"
    }
   ],
   "source": [
    "bugun.month"
   ]
  },
  {
   "cell_type": "code",
   "execution_count": null,
   "metadata": {},
   "outputs": [
    {
     "data": {
      "text/plain": [
       "12"
      ]
     },
     "execution_count": 15,
     "metadata": {},
     "output_type": "execute_result"
    }
   ],
   "source": [
    "bugun.__getattribute__('month')"
   ]
  },
  {
   "cell_type": "code",
   "execution_count": null,
   "metadata": {},
   "outputs": [
    {
     "data": {
      "text/plain": [
       "datetime.IsoCalendarDate(year=2022, week=52, weekday=3)"
      ]
     },
     "execution_count": 22,
     "metadata": {},
     "output_type": "execute_result"
    }
   ],
   "source": [
    "date.isocalendar(bugun)"
   ]
  },
  {
   "cell_type": "code",
   "execution_count": null,
   "metadata": {},
   "outputs": [
    {
     "data": {
      "text/plain": [
       "2"
      ]
     },
     "execution_count": 18,
     "metadata": {},
     "output_type": "execute_result"
    }
   ],
   "source": [
    "date.weekday(bugun)"
   ]
  },
  {
   "cell_type": "code",
   "execution_count": null,
   "metadata": {},
   "outputs": [
    {
     "data": {
      "text/plain": [
       "'Wed Dec 28 00:00:00 2022'"
      ]
     },
     "execution_count": 23,
     "metadata": {},
     "output_type": "execute_result"
    }
   ],
   "source": [
    "date.ctime(bugun)"
   ]
  },
  {
   "attachments": {},
   "cell_type": "markdown",
   "metadata": {},
   "source": [
    "## datetime.time"
   ]
  },
  {
   "cell_type": "code",
   "execution_count": null,
   "metadata": {},
   "outputs": [],
   "source": [
    "from datetime import time"
   ]
  },
  {
   "cell_type": "code",
   "execution_count": null,
   "metadata": {},
   "outputs": [
    {
     "name": "stdout",
     "output_type": "stream",
     "text": [
      "21:15:05\n"
     ]
    }
   ],
   "source": [
    "zaman =  time(21,15,5)\n",
    "print(zaman)"
   ]
  },
  {
   "cell_type": "code",
   "execution_count": null,
   "metadata": {},
   "outputs": [
    {
     "data": {
      "text/plain": [
       "21"
      ]
     },
     "execution_count": 30,
     "metadata": {},
     "output_type": "execute_result"
    }
   ],
   "source": [
    "zaman.hour"
   ]
  },
  {
   "cell_type": "code",
   "execution_count": null,
   "metadata": {},
   "outputs": [
    {
     "data": {
      "text/plain": [
       "15"
      ]
     },
     "execution_count": 31,
     "metadata": {},
     "output_type": "execute_result"
    }
   ],
   "source": [
    "zaman.minute"
   ]
  },
  {
   "cell_type": "code",
   "execution_count": null,
   "metadata": {},
   "outputs": [
    {
     "data": {
      "text/plain": [
       "5"
      ]
     },
     "execution_count": 32,
     "metadata": {},
     "output_type": "execute_result"
    }
   ],
   "source": [
    "zaman.second"
   ]
  },
  {
   "attachments": {},
   "cell_type": "markdown",
   "metadata": {},
   "source": [
    "## datetime.datetime"
   ]
  },
  {
   "cell_type": "code",
   "execution_count": null,
   "metadata": {},
   "outputs": [
    {
     "name": "stdout",
     "output_type": "stream",
     "text": [
      "2020-10-21 11:05:02\n"
     ]
    }
   ],
   "source": [
    "dt = datetime.datetime(2020, 10, 21, 11, 5, 2)\n",
    "print(dt)"
   ]
  },
  {
   "cell_type": "code",
   "execution_count": null,
   "metadata": {},
   "outputs": [
    {
     "data": {
      "text/plain": [
       "21"
      ]
     },
     "execution_count": 36,
     "metadata": {},
     "output_type": "execute_result"
    }
   ],
   "source": [
    "dt.day"
   ]
  },
  {
   "attachments": {},
   "cell_type": "markdown",
   "metadata": {},
   "source": [
    "## time"
   ]
  },
  {
   "cell_type": "code",
   "execution_count": null,
   "metadata": {},
   "outputs": [],
   "source": [
    "import time"
   ]
  },
  {
   "cell_type": "code",
   "execution_count": null,
   "metadata": {},
   "outputs": [
    {
     "data": {
      "text/plain": [
       "1672260736.0316665"
      ]
     },
     "execution_count": 39,
     "metadata": {},
     "output_type": "execute_result"
    }
   ],
   "source": [
    "time.time()"
   ]
  },
  {
   "cell_type": "code",
   "execution_count": null,
   "metadata": {},
   "outputs": [
    {
     "name": "stdout",
     "output_type": "stream",
     "text": [
      "Baslama Zamani:\t1672261016.2695131\n",
      "Bitis Zamani:\t1672261021.2703912\n",
      "Calisma Zamani:\t5\n"
     ]
    }
   ],
   "source": [
    "baslangic_zamani = time.time()\n",
    "print(\"Baslama Zamani:\\t{}\".format(baslangic_zamani))\n",
    "time.sleep(5)\n",
    "bitis_zamani = time.time()\n",
    "print((\"Bitis Zamani:\\t{}\".format(bitis_zamani)))\n",
    "print((\"Calisma Zamani:\\t{}\".format(round(bitis_zamani-baslangic_zamani))))"
   ]
  },
  {
   "attachments": {},
   "cell_type": "markdown",
   "metadata": {},
   "source": [
    "### Decorator Prensibi"
   ]
  },
  {
   "cell_type": "code",
   "execution_count": null,
   "metadata": {},
   "outputs": [
    {
     "ename": "SyntaxError",
     "evalue": "incomplete input (866680510.py, line 1)",
     "output_type": "error",
     "traceback": [
      "\u001b[1;36m  Cell \u001b[1;32mIn [1], line 1\u001b[1;36m\u001b[0m\n\u001b[1;33m    @decorator\u001b[0m\n\u001b[1;37m              ^\u001b[0m\n\u001b[1;31mSyntaxError\u001b[0m\u001b[1;31m:\u001b[0m incomplete input\n"
     ]
    }
   ],
   "source": [
    "@decorator\n",
    "def..."
   ]
  },
  {
   "cell_type": "code",
   "execution_count": null,
   "metadata": {},
   "outputs": [],
   "source": [
    "def deneme():\n",
    "    print('abc')"
   ]
  },
  {
   "cell_type": "code",
   "execution_count": null,
   "metadata": {},
   "outputs": [
    {
     "name": "stdout",
     "output_type": "stream",
     "text": [
      "abc\n"
     ]
    }
   ],
   "source": [
    "deneme()"
   ]
  },
  {
   "cell_type": "code",
   "execution_count": null,
   "metadata": {},
   "outputs": [],
   "source": [
    "f = deneme"
   ]
  },
  {
   "cell_type": "code",
   "execution_count": null,
   "metadata": {},
   "outputs": [
    {
     "name": "stdout",
     "output_type": "stream",
     "text": [
      "abc\n"
     ]
    }
   ],
   "source": [
    "f()"
   ]
  },
  {
   "attachments": {},
   "cell_type": "markdown",
   "metadata": {},
   "source": [
    "### Fonksiyon İçinde Fonksiyon"
   ]
  },
  {
   "cell_type": "code",
   "execution_count": null,
   "metadata": {},
   "outputs": [],
   "source": [
    "def deneme():\n",
    "    print(\"Deneme fonksiyonu calisiyor.\")\n",
    "\n",
    "    def test():\n",
    "        return \"test fonksiyonu calisiyor.\"\n",
    "\n",
    "    print(test())"
   ]
  },
  {
   "cell_type": "code",
   "execution_count": null,
   "metadata": {},
   "outputs": [
    {
     "name": "stdout",
     "output_type": "stream",
     "text": [
      "Deneme fonksiyonu calisiyor.\n",
      "test fonksiyonu calisiyor.\n"
     ]
    }
   ],
   "source": [
    "deneme()"
   ]
  },
  {
   "cell_type": "code",
   "execution_count": null,
   "metadata": {},
   "outputs": [],
   "source": [
    "def deneme():\n",
    "    print(\"Deneme fonksiyonu calisiyor.\")\n",
    "\n",
    "    def test():\n",
    "        return \"test fonksiyonu calisiyor.\"\n",
    "\n",
    "    return test"
   ]
  },
  {
   "cell_type": "code",
   "execution_count": null,
   "metadata": {},
   "outputs": [
    {
     "name": "stdout",
     "output_type": "stream",
     "text": [
      "Deneme fonksiyonu calisiyor.\n"
     ]
    },
    {
     "data": {
      "text/plain": [
       "<function __main__.deneme.<locals>.test()>"
      ]
     },
     "execution_count": 11,
     "metadata": {},
     "output_type": "execute_result"
    }
   ],
   "source": [
    "deneme()"
   ]
  },
  {
   "cell_type": "code",
   "execution_count": null,
   "metadata": {},
   "outputs": [
    {
     "name": "stdout",
     "output_type": "stream",
     "text": [
      "Deneme fonksiyonu calisiyor.\n"
     ]
    },
    {
     "data": {
      "text/plain": [
       "'test fonksiyonu calisiyor.'"
      ]
     },
     "execution_count": 13,
     "metadata": {},
     "output_type": "execute_result"
    }
   ],
   "source": [
    "f = deneme()\n",
    "f()"
   ]
  },
  {
   "cell_type": "code",
   "execution_count": null,
   "metadata": {},
   "outputs": [
    {
     "name": "stdout",
     "output_type": "stream",
     "text": [
      "Deneme fonksiyonu calisiyor.\n",
      "test fonksiyonu calisiyor.\n"
     ]
    }
   ],
   "source": [
    "f = deneme()\n",
    "print(f())"
   ]
  },
  {
   "attachments": {},
   "cell_type": "markdown",
   "metadata": {},
   "source": [
    "### Decorator"
   ]
  },
  {
   "cell_type": "code",
   "execution_count": null,
   "metadata": {},
   "outputs": [],
   "source": [
    "def deneme():\n",
    "    return \"deneme fonksiyonu calisiyor.\""
   ]
  },
  {
   "cell_type": "code",
   "execution_count": null,
   "metadata": {},
   "outputs": [],
   "source": [
    "def ikinci(f):\n",
    "    print(\"İkinci fonksiyon calisiyor.\")\n",
    "\n",
    "    print(f())"
   ]
  },
  {
   "cell_type": "code",
   "execution_count": null,
   "metadata": {},
   "outputs": [
    {
     "name": "stdout",
     "output_type": "stream",
     "text": [
      "İkinci fonksiyon calisiyor.\n",
      "deneme fonksiyonu calisiyor.\n"
     ]
    }
   ],
   "source": [
    "ikinci(deneme)"
   ]
  },
  {
   "cell_type": "code",
   "execution_count": null,
   "metadata": {},
   "outputs": [],
   "source": [
    "def deco(f):\n",
    "\n",
    "    def wrapper():\n",
    "        print(\"Baslangic\")\n",
    "\n",
    "        f()\n",
    "\n",
    "        print(\"Bitis\")\n",
    "\n",
    "    return wrapper"
   ]
  },
  {
   "cell_type": "code",
   "execution_count": null,
   "metadata": {},
   "outputs": [],
   "source": [
    "def yazdir():\n",
    "    print(\"yazdir\")"
   ]
  },
  {
   "cell_type": "code",
   "execution_count": null,
   "metadata": {},
   "outputs": [],
   "source": [
    "def yazdir2():\n",
    "    print(\"yazdir\")"
   ]
  },
  {
   "cell_type": "code",
   "execution_count": null,
   "metadata": {},
   "outputs": [
    {
     "ename": "TypeError",
     "evalue": "deco() missing 1 required positional argument: 'f'",
     "output_type": "error",
     "traceback": [
      "\u001b[1;31m---------------------------------------------------------------------------\u001b[0m",
      "\u001b[1;31mTypeError\u001b[0m                                 Traceback (most recent call last)",
      "Cell \u001b[1;32mIn [48], line 1\u001b[0m\n\u001b[1;32m----> 1\u001b[0m yazdir2 \u001b[39m=\u001b[39m deco()\n",
      "\u001b[1;31mTypeError\u001b[0m: deco() missing 1 required positional argument: 'f'"
     ]
    }
   ],
   "source": [
    "yazdir2 = deco()"
   ]
  },
  {
   "cell_type": "code",
   "execution_count": null,
   "metadata": {},
   "outputs": [
    {
     "name": "stdout",
     "output_type": "stream",
     "text": [
      "yazdir\n"
     ]
    }
   ],
   "source": [
    "yazdir2()"
   ]
  },
  {
   "cell_type": "code",
   "execution_count": null,
   "metadata": {},
   "outputs": [
    {
     "ename": "TypeError",
     "evalue": "deco() missing 1 required positional argument: 'f'",
     "output_type": "error",
     "traceback": [
      "\u001b[1;31m---------------------------------------------------------------------------\u001b[0m",
      "\u001b[1;31mTypeError\u001b[0m                                 Traceback (most recent call last)",
      "Cell \u001b[1;32mIn [50], line 1\u001b[0m\n\u001b[1;32m----> 1\u001b[0m yazdir \u001b[39m=\u001b[39m deco()\n",
      "\u001b[1;31mTypeError\u001b[0m: deco() missing 1 required positional argument: 'f'"
     ]
    }
   ],
   "source": [
    "yazdir = deco()"
   ]
  },
  {
   "cell_type": "code",
   "execution_count": null,
   "metadata": {},
   "outputs": [
    {
     "name": "stdout",
     "output_type": "stream",
     "text": [
      "yazdir\n"
     ]
    }
   ],
   "source": [
    "yazdir()"
   ]
  },
  {
   "cell_type": "code",
   "execution_count": null,
   "metadata": {},
   "outputs": [],
   "source": [
    "deco\n",
    "def yazdir():\n",
    "    print(\"yazdir\")"
   ]
  },
  {
   "cell_type": "code",
   "execution_count": null,
   "metadata": {},
   "outputs": [
    {
     "name": "stdout",
     "output_type": "stream",
     "text": [
      "yazdir\n"
     ]
    }
   ],
   "source": [
    "yazdir()"
   ]
  },
  {
   "cell_type": "code",
   "execution_count": null,
   "metadata": {},
   "outputs": [],
   "source": [
    "deco\n",
    "def toplama(a, b):\n",
    "    print(a+b)"
   ]
  },
  {
   "cell_type": "code",
   "execution_count": null,
   "metadata": {},
   "outputs": [
    {
     "name": "stdout",
     "output_type": "stream",
     "text": [
      "9\n"
     ]
    }
   ],
   "source": [
    "toplama(4,5)"
   ]
  },
  {
   "attachments": {},
   "cell_type": "markdown",
   "metadata": {},
   "source": [
    "### Argüman Alan Fonksiyonlarda Decorator"
   ]
  },
  {
   "cell_type": "code",
   "execution_count": null,
   "metadata": {},
   "outputs": [],
   "source": [
    "def deco(f):\n",
    "\n",
    "    def wrapper(*args):\n",
    "        print(\"Baslangic\")\n",
    "\n",
    "        f(*args)\n",
    "\n",
    "        print(\"Bitis\")\n",
    "\n",
    "    return wrapper"
   ]
  },
  {
   "cell_type": "code",
   "execution_count": null,
   "metadata": {},
   "outputs": [],
   "source": [
    "deco\n",
    "def toplama(a, b):\n",
    "    print(a+b)"
   ]
  },
  {
   "cell_type": "code",
   "execution_count": null,
   "metadata": {},
   "outputs": [
    {
     "name": "stdout",
     "output_type": "stream",
     "text": [
      "9\n"
     ]
    }
   ],
   "source": [
    "toplama(4,5)"
   ]
  },
  {
   "attachments": {},
   "cell_type": "markdown",
   "metadata": {},
   "source": [
    "### GET Metodu"
   ]
  },
  {
   "cell_type": "code",
   "execution_count": 1,
   "metadata": {},
   "outputs": [],
   "source": [
    "import requests"
   ]
  },
  {
   "cell_type": "code",
   "execution_count": 3,
   "metadata": {},
   "outputs": [],
   "source": [
    "bolgeler_URL = 'https://data.police.uk/api/forces'\n",
    "response = requests.get(bolgeler_URL)"
   ]
  },
  {
   "cell_type": "code",
   "execution_count": 4,
   "metadata": {},
   "outputs": [
    {
     "name": "stdout",
     "output_type": "stream",
     "text": [
      "Help on Response in module requests.models object:\n",
      "\n",
      "class Response(builtins.object)\n",
      " |  The :class:`Response <Response>` object, which contains a\n",
      " |  server's response to an HTTP request.\n",
      " |  \n",
      " |  Methods defined here:\n",
      " |  \n",
      " |  __bool__(self)\n",
      " |      Returns True if :attr:`status_code` is less than 400.\n",
      " |      \n",
      " |      This attribute checks if the status code of the response is between\n",
      " |      400 and 600 to see if there was a client error or a server error. If\n",
      " |      the status code, is between 200 and 400, this will return True. This\n",
      " |      is **not** a check to see if the response code is ``200 OK``.\n",
      " |  \n",
      " |  __enter__(self)\n",
      " |  \n",
      " |  __exit__(self, *args)\n",
      " |  \n",
      " |  __getstate__(self)\n",
      " |      Helper for pickle.\n",
      " |  \n",
      " |  __init__(self)\n",
      " |      Initialize self.  See help(type(self)) for accurate signature.\n",
      " |  \n",
      " |  __iter__(self)\n",
      " |      Allows you to use a response as an iterator.\n",
      " |  \n",
      " |  __nonzero__(self)\n",
      " |      Returns True if :attr:`status_code` is less than 400.\n",
      " |      \n",
      " |      This attribute checks if the status code of the response is between\n",
      " |      400 and 600 to see if there was a client error or a server error. If\n",
      " |      the status code, is between 200 and 400, this will return True. This\n",
      " |      is **not** a check to see if the response code is ``200 OK``.\n",
      " |  \n",
      " |  __repr__(self)\n",
      " |      Return repr(self).\n",
      " |  \n",
      " |  __setstate__(self, state)\n",
      " |  \n",
      " |  close(self)\n",
      " |      Releases the connection back to the pool. Once this method has been\n",
      " |      called the underlying ``raw`` object must not be accessed again.\n",
      " |      \n",
      " |      *Note: Should not normally need to be called explicitly.*\n",
      " |  \n",
      " |  iter_content(self, chunk_size=1, decode_unicode=False)\n",
      " |      Iterates over the response data.  When stream=True is set on the\n",
      " |      request, this avoids reading the content at once into memory for\n",
      " |      large responses.  The chunk size is the number of bytes it should\n",
      " |      read into memory.  This is not necessarily the length of each item\n",
      " |      returned as decoding can take place.\n",
      " |      \n",
      " |      chunk_size must be of type int or None. A value of None will\n",
      " |      function differently depending on the value of `stream`.\n",
      " |      stream=True will read data as it arrives in whatever size the\n",
      " |      chunks are received. If stream=False, data is returned as\n",
      " |      a single chunk.\n",
      " |      \n",
      " |      If decode_unicode is True, content will be decoded using the best\n",
      " |      available encoding based on the response.\n",
      " |  \n",
      " |  iter_lines(self, chunk_size=512, decode_unicode=False, delimiter=None)\n",
      " |      Iterates over the response data, one line at a time.  When\n",
      " |      stream=True is set on the request, this avoids reading the\n",
      " |      content at once into memory for large responses.\n",
      " |      \n",
      " |      .. note:: This method is not reentrant safe.\n",
      " |  \n",
      " |  json(self, **kwargs)\n",
      " |      Returns the json-encoded content of a response, if any.\n",
      " |      \n",
      " |      :param \\*\\*kwargs: Optional arguments that ``json.loads`` takes.\n",
      " |      :raises requests.exceptions.JSONDecodeError: If the response body does not\n",
      " |          contain valid json.\n",
      " |  \n",
      " |  raise_for_status(self)\n",
      " |      Raises :class:`HTTPError`, if one occurred.\n",
      " |  \n",
      " |  ----------------------------------------------------------------------\n",
      " |  Readonly properties defined here:\n",
      " |  \n",
      " |  apparent_encoding\n",
      " |      The apparent encoding, provided by the charset_normalizer or chardet libraries.\n",
      " |  \n",
      " |  content\n",
      " |      Content of the response, in bytes.\n",
      " |  \n",
      " |  is_permanent_redirect\n",
      " |      True if this Response one of the permanent versions of redirect.\n",
      " |  \n",
      " |  is_redirect\n",
      " |      True if this Response is a well-formed HTTP redirect that could have\n",
      " |      been processed automatically (by :meth:`Session.resolve_redirects`).\n",
      " |  \n",
      " |  links\n",
      " |      Returns the parsed header links of the response, if any.\n",
      " |  \n",
      " |  next\n",
      " |      Returns a PreparedRequest for the next request in a redirect chain, if there is one.\n",
      " |  \n",
      " |  ok\n",
      " |      Returns True if :attr:`status_code` is less than 400, False if not.\n",
      " |      \n",
      " |      This attribute checks if the status code of the response is between\n",
      " |      400 and 600 to see if there was a client error or a server error. If\n",
      " |      the status code is between 200 and 400, this will return True. This\n",
      " |      is **not** a check to see if the response code is ``200 OK``.\n",
      " |  \n",
      " |  text\n",
      " |      Content of the response, in unicode.\n",
      " |      \n",
      " |      If Response.encoding is None, encoding will be guessed using\n",
      " |      ``charset_normalizer`` or ``chardet``.\n",
      " |      \n",
      " |      The encoding of the response content is determined based solely on HTTP\n",
      " |      headers, following RFC 2616 to the letter. If you can take advantage of\n",
      " |      non-HTTP knowledge to make a better guess at the encoding, you should\n",
      " |      set ``r.encoding`` appropriately before accessing this property.\n",
      " |  \n",
      " |  ----------------------------------------------------------------------\n",
      " |  Data descriptors defined here:\n",
      " |  \n",
      " |  __dict__\n",
      " |      dictionary for instance variables (if defined)\n",
      " |  \n",
      " |  __weakref__\n",
      " |      list of weak references to the object (if defined)\n",
      " |  \n",
      " |  ----------------------------------------------------------------------\n",
      " |  Data and other attributes defined here:\n",
      " |  \n",
      " |  __attrs__ = ['_content', 'status_code', 'headers', 'url', 'history', '...\n",
      "\n"
     ]
    }
   ],
   "source": [
    "help(response)"
   ]
  },
  {
   "cell_type": "code",
   "execution_count": 5,
   "metadata": {},
   "outputs": [
    {
     "data": {
      "text/plain": [
       "200"
      ]
     },
     "execution_count": 5,
     "metadata": {},
     "output_type": "execute_result"
    }
   ],
   "source": [
    "response.status_code"
   ]
  },
  {
   "cell_type": "code",
   "execution_count": 6,
   "metadata": {},
   "outputs": [
    {
     "data": {
      "text/plain": [
       "'https://data.police.uk/api/forces'"
      ]
     },
     "execution_count": 6,
     "metadata": {},
     "output_type": "execute_result"
    }
   ],
   "source": [
    "response.url"
   ]
  },
  {
   "cell_type": "code",
   "execution_count": 7,
   "metadata": {},
   "outputs": [
    {
     "data": {
      "text/plain": [
       "'[{\"id\":\"avon-and-somerset\",\"name\":\"Avon and Somerset Constabulary\"},{\"id\":\"bedfordshire\",\"name\":\"Bedfordshire Police\"},{\"id\":\"cambridgeshire\",\"name\":\"Cambridgeshire Constabulary\"},{\"id\":\"cheshire\",\"name\":\"Cheshire Constabulary\"},{\"id\":\"city-of-london\",\"name\":\"City of London Police\"},{\"id\":\"cleveland\",\"name\":\"Cleveland Police\"},{\"id\":\"cumbria\",\"name\":\"Cumbria Constabulary\"},{\"id\":\"derbyshire\",\"name\":\"Derbyshire Constabulary\"},{\"id\":\"devon-and-cornwall\",\"name\":\"Devon & Cornwall Police\"},{\"id\":\"dorset\",\"name\":\"Dorset Police\"},{\"id\":\"durham\",\"name\":\"Durham Constabulary\"},{\"id\":\"dyfed-powys\",\"name\":\"Dyfed-Powys Police\"},{\"id\":\"essex\",\"name\":\"Essex Police\"},{\"id\":\"gloucestershire\",\"name\":\"Gloucestershire Constabulary\"},{\"id\":\"greater-manchester\",\"name\":\"Greater Manchester Police\"},{\"id\":\"gwent\",\"name\":\"Gwent Police\"},{\"id\":\"hampshire\",\"name\":\"Hampshire Constabulary\"},{\"id\":\"hertfordshire\",\"name\":\"Hertfordshire Constabulary\"},{\"id\":\"humberside\",\"name\":\"Humberside Police\"},{\"id\":\"kent\",\"name\":\"Kent Police\"},{\"id\":\"lancashire\",\"name\":\"Lancashire Constabulary\"},{\"id\":\"leicestershire\",\"name\":\"Leicestershire Police\"},{\"id\":\"lincolnshire\",\"name\":\"Lincolnshire Police\"},{\"id\":\"merseyside\",\"name\":\"Merseyside Police\"},{\"id\":\"metropolitan\",\"name\":\"Metropolitan Police Service\"},{\"id\":\"norfolk\",\"name\":\"Norfolk Constabulary\"},{\"id\":\"north-wales\",\"name\":\"North Wales Police\"},{\"id\":\"north-yorkshire\",\"name\":\"North Yorkshire Police\"},{\"id\":\"northamptonshire\",\"name\":\"Northamptonshire Police\"},{\"id\":\"northumbria\",\"name\":\"Northumbria Police\"},{\"id\":\"nottinghamshire\",\"name\":\"Nottinghamshire Police\"},{\"id\":\"northern-ireland\",\"name\":\"Police Service of Northern Ireland\"},{\"id\":\"south-wales\",\"name\":\"South Wales Police\"},{\"id\":\"south-yorkshire\",\"name\":\"South Yorkshire Police\"},{\"id\":\"staffordshire\",\"name\":\"Staffordshire Police\"},{\"id\":\"suffolk\",\"name\":\"Suffolk Constabulary\"},{\"id\":\"surrey\",\"name\":\"Surrey Police\"},{\"id\":\"sussex\",\"name\":\"Sussex Police\"},{\"id\":\"thames-valley\",\"name\":\"Thames Valley Police\"},{\"id\":\"warwickshire\",\"name\":\"Warwickshire Police\"},{\"id\":\"west-mercia\",\"name\":\"West Mercia Police\"},{\"id\":\"west-midlands\",\"name\":\"West Midlands Police\"},{\"id\":\"west-yorkshire\",\"name\":\"West Yorkshire Police\"},{\"id\":\"wiltshire\",\"name\":\"Wiltshire Police\"}]'"
      ]
     },
     "execution_count": 7,
     "metadata": {},
     "output_type": "execute_result"
    }
   ],
   "source": [
    "response.text"
   ]
  },
  {
   "cell_type": "code",
   "execution_count": 8,
   "metadata": {},
   "outputs": [
    {
     "data": {
      "text/plain": [
       "[{'id': 'avon-and-somerset', 'name': 'Avon and Somerset Constabulary'},\n",
       " {'id': 'bedfordshire', 'name': 'Bedfordshire Police'},\n",
       " {'id': 'cambridgeshire', 'name': 'Cambridgeshire Constabulary'},\n",
       " {'id': 'cheshire', 'name': 'Cheshire Constabulary'},\n",
       " {'id': 'city-of-london', 'name': 'City of London Police'},\n",
       " {'id': 'cleveland', 'name': 'Cleveland Police'},\n",
       " {'id': 'cumbria', 'name': 'Cumbria Constabulary'},\n",
       " {'id': 'derbyshire', 'name': 'Derbyshire Constabulary'},\n",
       " {'id': 'devon-and-cornwall', 'name': 'Devon & Cornwall Police'},\n",
       " {'id': 'dorset', 'name': 'Dorset Police'},\n",
       " {'id': 'durham', 'name': 'Durham Constabulary'},\n",
       " {'id': 'dyfed-powys', 'name': 'Dyfed-Powys Police'},\n",
       " {'id': 'essex', 'name': 'Essex Police'},\n",
       " {'id': 'gloucestershire', 'name': 'Gloucestershire Constabulary'},\n",
       " {'id': 'greater-manchester', 'name': 'Greater Manchester Police'},\n",
       " {'id': 'gwent', 'name': 'Gwent Police'},\n",
       " {'id': 'hampshire', 'name': 'Hampshire Constabulary'},\n",
       " {'id': 'hertfordshire', 'name': 'Hertfordshire Constabulary'},\n",
       " {'id': 'humberside', 'name': 'Humberside Police'},\n",
       " {'id': 'kent', 'name': 'Kent Police'},\n",
       " {'id': 'lancashire', 'name': 'Lancashire Constabulary'},\n",
       " {'id': 'leicestershire', 'name': 'Leicestershire Police'},\n",
       " {'id': 'lincolnshire', 'name': 'Lincolnshire Police'},\n",
       " {'id': 'merseyside', 'name': 'Merseyside Police'},\n",
       " {'id': 'metropolitan', 'name': 'Metropolitan Police Service'},\n",
       " {'id': 'norfolk', 'name': 'Norfolk Constabulary'},\n",
       " {'id': 'north-wales', 'name': 'North Wales Police'},\n",
       " {'id': 'north-yorkshire', 'name': 'North Yorkshire Police'},\n",
       " {'id': 'northamptonshire', 'name': 'Northamptonshire Police'},\n",
       " {'id': 'northumbria', 'name': 'Northumbria Police'},\n",
       " {'id': 'nottinghamshire', 'name': 'Nottinghamshire Police'},\n",
       " {'id': 'northern-ireland', 'name': 'Police Service of Northern Ireland'},\n",
       " {'id': 'south-wales', 'name': 'South Wales Police'},\n",
       " {'id': 'south-yorkshire', 'name': 'South Yorkshire Police'},\n",
       " {'id': 'staffordshire', 'name': 'Staffordshire Police'},\n",
       " {'id': 'suffolk', 'name': 'Suffolk Constabulary'},\n",
       " {'id': 'surrey', 'name': 'Surrey Police'},\n",
       " {'id': 'sussex', 'name': 'Sussex Police'},\n",
       " {'id': 'thames-valley', 'name': 'Thames Valley Police'},\n",
       " {'id': 'warwickshire', 'name': 'Warwickshire Police'},\n",
       " {'id': 'west-mercia', 'name': 'West Mercia Police'},\n",
       " {'id': 'west-midlands', 'name': 'West Midlands Police'},\n",
       " {'id': 'west-yorkshire', 'name': 'West Yorkshire Police'},\n",
       " {'id': 'wiltshire', 'name': 'Wiltshire Police'}]"
      ]
     },
     "execution_count": 8,
     "metadata": {},
     "output_type": "execute_result"
    }
   ],
   "source": [
    "response.json()"
   ]
  },
  {
   "cell_type": "code",
   "execution_count": 10,
   "metadata": {},
   "outputs": [],
   "source": [
    "# https://data.police.uk/api/crime-categories?date=2011-08\n",
    "\n",
    "suc_kategorileri_URL = 'https://data.police.uk/api/crime-categories'\n",
    "payload = {'date': '2020-01'}\n",
    "response = requests.get(suc_kategorileri_URL, params=payload)"
   ]
  },
  {
   "cell_type": "code",
   "execution_count": 11,
   "metadata": {},
   "outputs": [
    {
     "data": {
      "text/plain": [
       "200"
      ]
     },
     "execution_count": 11,
     "metadata": {},
     "output_type": "execute_result"
    }
   ],
   "source": [
    "response.status_code"
   ]
  },
  {
   "cell_type": "code",
   "execution_count": 12,
   "metadata": {},
   "outputs": [
    {
     "data": {
      "text/plain": [
       "'https://data.police.uk/api/crime-categories?date=2020-01'"
      ]
     },
     "execution_count": 12,
     "metadata": {},
     "output_type": "execute_result"
    }
   ],
   "source": [
    "response.url"
   ]
  },
  {
   "cell_type": "code",
   "execution_count": 13,
   "metadata": {},
   "outputs": [
    {
     "data": {
      "text/plain": [
       "[{'url': 'all-crime', 'name': 'All crime'},\n",
       " {'url': 'anti-social-behaviour', 'name': 'Anti-social behaviour'},\n",
       " {'url': 'bicycle-theft', 'name': 'Bicycle theft'},\n",
       " {'url': 'burglary', 'name': 'Burglary'},\n",
       " {'url': 'criminal-damage-arson', 'name': 'Criminal damage and arson'},\n",
       " {'url': 'drugs', 'name': 'Drugs'},\n",
       " {'url': 'other-theft', 'name': 'Other theft'},\n",
       " {'url': 'possession-of-weapons', 'name': 'Possession of weapons'},\n",
       " {'url': 'public-order', 'name': 'Public order'},\n",
       " {'url': 'robbery', 'name': 'Robbery'},\n",
       " {'url': 'shoplifting', 'name': 'Shoplifting'},\n",
       " {'url': 'theft-from-the-person', 'name': 'Theft from the person'},\n",
       " {'url': 'vehicle-crime', 'name': 'Vehicle crime'},\n",
       " {'url': 'violent-crime', 'name': 'Violence and sexual offences'},\n",
       " {'url': 'other-crime', 'name': 'Other crime'}]"
      ]
     },
     "execution_count": 13,
     "metadata": {},
     "output_type": "execute_result"
    }
   ],
   "source": [
    "response.json()"
   ]
  },
  {
   "cell_type": "code",
   "execution_count": 16,
   "metadata": {},
   "outputs": [],
   "source": [
    "suc_URL = 'https://data.police.uk/api/crimes-no-location'\n",
    "\n",
    "payload = {\n",
    "    'category': 'all-crime',\n",
    "    'force': 'city-of-london',\n",
    "    'date': '2020-01'\n",
    "}\n",
    "response = requests.get(suc_URL, params=payload)"
   ]
  },
  {
   "cell_type": "code",
   "execution_count": 17,
   "metadata": {},
   "outputs": [
    {
     "data": {
      "text/plain": [
       "[{'category': 'anti-social-behaviour',\n",
       "  'location_type': None,\n",
       "  'location': None,\n",
       "  'context': '',\n",
       "  'outcome_status': None,\n",
       "  'persistent_id': '',\n",
       "  'id': 80721793,\n",
       "  'location_subtype': '',\n",
       "  'month': '2020-01'},\n",
       " {'category': 'anti-social-behaviour',\n",
       "  'location_type': None,\n",
       "  'location': None,\n",
       "  'context': '',\n",
       "  'outcome_status': None,\n",
       "  'persistent_id': '',\n",
       "  'id': 80721237,\n",
       "  'location_subtype': '',\n",
       "  'month': '2020-01'},\n",
       " {'category': 'anti-social-behaviour',\n",
       "  'location_type': None,\n",
       "  'location': None,\n",
       "  'context': '',\n",
       "  'outcome_status': None,\n",
       "  'persistent_id': '',\n",
       "  'id': 80721883,\n",
       "  'location_subtype': '',\n",
       "  'month': '2020-01'},\n",
       " {'category': 'anti-social-behaviour',\n",
       "  'location_type': None,\n",
       "  'location': None,\n",
       "  'context': '',\n",
       "  'outcome_status': None,\n",
       "  'persistent_id': '',\n",
       "  'id': 80721359,\n",
       "  'location_subtype': '',\n",
       "  'month': '2020-01'},\n",
       " {'category': 'anti-social-behaviour',\n",
       "  'location_type': None,\n",
       "  'location': None,\n",
       "  'context': '',\n",
       "  'outcome_status': None,\n",
       "  'persistent_id': '',\n",
       "  'id': 80721386,\n",
       "  'location_subtype': '',\n",
       "  'month': '2020-01'},\n",
       " {'category': 'anti-social-behaviour',\n",
       "  'location_type': None,\n",
       "  'location': None,\n",
       "  'context': '',\n",
       "  'outcome_status': None,\n",
       "  'persistent_id': '',\n",
       "  'id': 80721412,\n",
       "  'location_subtype': '',\n",
       "  'month': '2020-01'},\n",
       " {'category': 'anti-social-behaviour',\n",
       "  'location_type': None,\n",
       "  'location': None,\n",
       "  'context': '',\n",
       "  'outcome_status': None,\n",
       "  'persistent_id': '',\n",
       "  'id': 80721710,\n",
       "  'location_subtype': '',\n",
       "  'month': '2020-01'},\n",
       " {'category': 'anti-social-behaviour',\n",
       "  'location_type': None,\n",
       "  'location': None,\n",
       "  'context': '',\n",
       "  'outcome_status': None,\n",
       "  'persistent_id': '',\n",
       "  'id': 80721788,\n",
       "  'location_subtype': '',\n",
       "  'month': '2020-01'},\n",
       " {'category': 'anti-social-behaviour',\n",
       "  'location_type': None,\n",
       "  'location': None,\n",
       "  'context': '',\n",
       "  'outcome_status': None,\n",
       "  'persistent_id': '',\n",
       "  'id': 80721946,\n",
       "  'location_subtype': '',\n",
       "  'month': '2020-01'},\n",
       " {'category': 'anti-social-behaviour',\n",
       "  'location_type': None,\n",
       "  'location': None,\n",
       "  'context': '',\n",
       "  'outcome_status': None,\n",
       "  'persistent_id': '',\n",
       "  'id': 80721911,\n",
       "  'location_subtype': '',\n",
       "  'month': '2020-01'},\n",
       " {'category': 'anti-social-behaviour',\n",
       "  'location_type': None,\n",
       "  'location': None,\n",
       "  'context': '',\n",
       "  'outcome_status': None,\n",
       "  'persistent_id': '',\n",
       "  'id': 80721263,\n",
       "  'location_subtype': '',\n",
       "  'month': '2020-01'},\n",
       " {'category': 'anti-social-behaviour',\n",
       "  'location_type': None,\n",
       "  'location': None,\n",
       "  'context': '',\n",
       "  'outcome_status': None,\n",
       "  'persistent_id': '',\n",
       "  'id': 80721264,\n",
       "  'location_subtype': '',\n",
       "  'month': '2020-01'},\n",
       " {'category': 'anti-social-behaviour',\n",
       "  'location_type': None,\n",
       "  'location': None,\n",
       "  'context': '',\n",
       "  'outcome_status': None,\n",
       "  'persistent_id': '',\n",
       "  'id': 80721316,\n",
       "  'location_subtype': '',\n",
       "  'month': '2020-01'},\n",
       " {'category': 'anti-social-behaviour',\n",
       "  'location_type': None,\n",
       "  'location': None,\n",
       "  'context': '',\n",
       "  'outcome_status': None,\n",
       "  'persistent_id': '',\n",
       "  'id': 80721413,\n",
       "  'location_subtype': '',\n",
       "  'month': '2020-01'},\n",
       " {'category': 'bicycle-theft',\n",
       "  'location_type': None,\n",
       "  'location': None,\n",
       "  'context': '',\n",
       "  'outcome_status': {'category': 'Investigation complete; no suspect identified',\n",
       "   'date': '2020-01'},\n",
       "  'persistent_id': '74b38832e0cc62af7cbd5cde4b784ad2578fbf489fa40db4f49f3274ea2a996f',\n",
       "  'id': 80721759,\n",
       "  'location_subtype': '',\n",
       "  'month': '2020-01'},\n",
       " {'category': 'burglary',\n",
       "  'location_type': None,\n",
       "  'location': None,\n",
       "  'context': '',\n",
       "  'outcome_status': {'category': 'Investigation complete; no suspect identified',\n",
       "   'date': '2020-01'},\n",
       "  'persistent_id': '7eccf964ded0c63a4e84e8865451ba7d1b1f8655f9e516c6613fddb62d70bb1e',\n",
       "  'id': 80721589,\n",
       "  'location_subtype': '',\n",
       "  'month': '2020-01'},\n",
       " {'category': 'burglary',\n",
       "  'location_type': None,\n",
       "  'location': None,\n",
       "  'context': '',\n",
       "  'outcome_status': {'category': 'Unable to prosecute suspect',\n",
       "   'date': '2020-09'},\n",
       "  'persistent_id': '66cdf400ea9ab411be85ded2e1b436782be206673e8565a471ebe64a2f50a69e',\n",
       "  'id': 80721588,\n",
       "  'location_subtype': '',\n",
       "  'month': '2020-01'},\n",
       " {'category': 'burglary',\n",
       "  'location_type': None,\n",
       "  'location': None,\n",
       "  'context': '',\n",
       "  'outcome_status': {'category': 'Investigation complete; no suspect identified',\n",
       "   'date': '2020-02'},\n",
       "  'persistent_id': 'c9a9cbbf3842711c51ceafd35102a0d1f3cbe1d25d7d688afe493d6727dc9325',\n",
       "  'id': 80721537,\n",
       "  'location_subtype': '',\n",
       "  'month': '2020-01'},\n",
       " {'category': 'criminal-damage-arson',\n",
       "  'location_type': None,\n",
       "  'location': None,\n",
       "  'context': '',\n",
       "  'outcome_status': {'category': 'Status update unavailable',\n",
       "   'date': '2020-05'},\n",
       "  'persistent_id': '311e136635b128e8685cdd0cccb90b1ded2ec4ab5b85bfc8361f06e3e1f41950',\n",
       "  'id': 80721538,\n",
       "  'location_subtype': '',\n",
       "  'month': '2020-01'},\n",
       " {'category': 'drugs',\n",
       "  'location_type': None,\n",
       "  'location': None,\n",
       "  'context': '',\n",
       "  'outcome_status': {'category': 'Court result unavailable',\n",
       "   'date': '2020-08'},\n",
       "  'persistent_id': 'c8ccb38b3e9946cbc6061421520e304ae56424307fd784b5e81d2fa2f98087a2',\n",
       "  'id': 80721286,\n",
       "  'location_subtype': '',\n",
       "  'month': '2020-01'},\n",
       " {'category': 'drugs',\n",
       "  'location_type': None,\n",
       "  'location': None,\n",
       "  'context': '',\n",
       "  'outcome_status': {'category': 'Court result unavailable',\n",
       "   'date': '2020-08'},\n",
       "  'persistent_id': '8ec48429615168edb7599db1d95ec937caa2350aa355435788d13139c8f6a98c',\n",
       "  'id': 80721318,\n",
       "  'location_subtype': '',\n",
       "  'month': '2020-01'},\n",
       " {'category': 'drugs',\n",
       "  'location_type': None,\n",
       "  'location': None,\n",
       "  'context': '',\n",
       "  'outcome_status': {'category': 'Formal action is not in the public interest',\n",
       "   'date': '2020-02'},\n",
       "  'persistent_id': 'bb42cac3a457628b3dceee5a7c8ad24a03bc2b8dabd76da8234b974e841a2b67',\n",
       "  'id': 80721882,\n",
       "  'location_subtype': '',\n",
       "  'month': '2020-01'},\n",
       " {'category': 'drugs',\n",
       "  'location_type': None,\n",
       "  'location': None,\n",
       "  'context': '',\n",
       "  'outcome_status': {'category': 'Offender given a caution',\n",
       "   'date': '2020-07'},\n",
       "  'persistent_id': 'b7d6c4fdfe6779c6b6d2db0c3f8f42ac0dc2326b8ba904e5fd90afb612096bb1',\n",
       "  'id': 80721512,\n",
       "  'location_subtype': '',\n",
       "  'month': '2020-01'},\n",
       " {'category': 'drugs',\n",
       "  'location_type': None,\n",
       "  'location': None,\n",
       "  'context': '',\n",
       "  'outcome_status': {'category': 'Court result unavailable',\n",
       "   'date': '2020-07'},\n",
       "  'persistent_id': '3db1cdc0c10c64c65b1e24450b271fbd9b3bd7893fa7bac57b9ac85ce43131c5',\n",
       "  'id': 80721388,\n",
       "  'location_subtype': '',\n",
       "  'month': '2020-01'},\n",
       " {'category': 'other-theft',\n",
       "  'location_type': None,\n",
       "  'location': None,\n",
       "  'context': '',\n",
       "  'outcome_status': {'category': 'Offender given a caution',\n",
       "   'date': '2020-03'},\n",
       "  'persistent_id': '4403bd3529ecf6c6676845085fd69d313ce4688930a6dee24171f52b09b36755',\n",
       "  'id': 80721513,\n",
       "  'location_subtype': '',\n",
       "  'month': '2020-01'},\n",
       " {'category': 'other-theft',\n",
       "  'location_type': None,\n",
       "  'location': None,\n",
       "  'context': '',\n",
       "  'outcome_status': {'category': 'Investigation complete; no suspect identified',\n",
       "   'date': '2020-03'},\n",
       "  'persistent_id': '0b48956d131846ec3d76707ffcaee8c6b7a29cf90a4b8aa9239a3fc5df5fbf35',\n",
       "  'id': 80721681,\n",
       "  'location_subtype': '',\n",
       "  'month': '2020-01'},\n",
       " {'category': 'other-theft',\n",
       "  'location_type': None,\n",
       "  'location': None,\n",
       "  'context': '',\n",
       "  'outcome_status': {'category': 'Unable to prosecute suspect',\n",
       "   'date': '2021-06'},\n",
       "  'persistent_id': '678f9a511288b2ee3ea8b3b5a9ba7a311fce71fdeea903dbea9451cf444f0ae2',\n",
       "  'id': 80721884,\n",
       "  'location_subtype': '',\n",
       "  'month': '2020-01'},\n",
       " {'category': 'other-theft',\n",
       "  'location_type': None,\n",
       "  'location': None,\n",
       "  'context': '',\n",
       "  'outcome_status': {'category': 'Investigation complete; no suspect identified',\n",
       "   'date': '2020-01'},\n",
       "  'persistent_id': 'c619e0625ef6067ff68e5f99f5eab04f6ebbf5ab79232c29f11b7617ed640b8f',\n",
       "  'id': 80721711,\n",
       "  'location_subtype': '',\n",
       "  'month': '2020-01'},\n",
       " {'category': 'other-theft',\n",
       "  'location_type': None,\n",
       "  'location': None,\n",
       "  'context': '',\n",
       "  'outcome_status': {'category': 'Further investigation is not in the public interest',\n",
       "   'date': '2020-01'},\n",
       "  'persistent_id': 'acd1dfc648d0e0ef41c1f86854f4c04941d8e4f2736d49190c2c2db6624a54dd',\n",
       "  'id': 80721315,\n",
       "  'location_subtype': '',\n",
       "  'month': '2020-01'},\n",
       " {'category': 'other-theft',\n",
       "  'location_type': None,\n",
       "  'location': None,\n",
       "  'context': '',\n",
       "  'outcome_status': {'category': 'Investigation complete; no suspect identified',\n",
       "   'date': '2020-01'},\n",
       "  'persistent_id': '978fc64dd12331d7fa77e4ffe2bfd66cc79a78f16bd438b912aeb64bc912c795',\n",
       "  'id': 80721791,\n",
       "  'location_subtype': '',\n",
       "  'month': '2020-01'},\n",
       " {'category': 'other-theft',\n",
       "  'location_type': None,\n",
       "  'location': None,\n",
       "  'context': '',\n",
       "  'outcome_status': {'category': 'Investigation complete; no suspect identified',\n",
       "   'date': '2020-01'},\n",
       "  'persistent_id': 'b5e0b3a2f625aa0cfb3175a2ab68d69f3159e1435c6e86bf1b77005167ff5075',\n",
       "  'id': 80721514,\n",
       "  'location_subtype': '',\n",
       "  'month': '2020-01'},\n",
       " {'category': 'other-theft',\n",
       "  'location_type': None,\n",
       "  'location': None,\n",
       "  'context': '',\n",
       "  'outcome_status': {'category': 'Investigation complete; no suspect identified',\n",
       "   'date': '2020-01'},\n",
       "  'persistent_id': '054fc78e5bb03867d2ac8264ce6d64594f400b9ca85d21bc5f555b7ec88dd5c3',\n",
       "  'id': 80721287,\n",
       "  'location_subtype': '',\n",
       "  'month': '2020-01'},\n",
       " {'category': 'other-theft',\n",
       "  'location_type': None,\n",
       "  'location': None,\n",
       "  'context': '',\n",
       "  'outcome_status': {'category': 'Investigation complete; no suspect identified',\n",
       "   'date': '2020-01'},\n",
       "  'persistent_id': '7239150dba80611e6c06153cab32e33566ab4267b18ad050f2d1a5fb9fec2368',\n",
       "  'id': 80721238,\n",
       "  'location_subtype': '',\n",
       "  'month': '2020-01'},\n",
       " {'category': 'other-theft',\n",
       "  'location_type': None,\n",
       "  'location': None,\n",
       "  'context': '',\n",
       "  'outcome_status': {'category': 'Investigation complete; no suspect identified',\n",
       "   'date': '2020-01'},\n",
       "  'persistent_id': '213739311d8242c2b9a9ece1621de396a58e075094e1bd401759b815713264b4',\n",
       "  'id': 80721456,\n",
       "  'location_subtype': '',\n",
       "  'month': '2020-01'},\n",
       " {'category': 'other-theft',\n",
       "  'location_type': None,\n",
       "  'location': None,\n",
       "  'context': '',\n",
       "  'outcome_status': {'category': 'Investigation complete; no suspect identified',\n",
       "   'date': '2020-01'},\n",
       "  'persistent_id': 'e333dff315006dd1f2a758ce10d9f7ce0f0adcd4f9efc26a280b6c8b5885864b',\n",
       "  'id': 80722009,\n",
       "  'location_subtype': '',\n",
       "  'month': '2020-01'},\n",
       " {'category': 'other-theft',\n",
       "  'location_type': None,\n",
       "  'location': None,\n",
       "  'context': '',\n",
       "  'outcome_status': {'category': 'Unable to prosecute suspect',\n",
       "   'date': '2021-03'},\n",
       "  'persistent_id': '7b324525cd639be1271e516843ae3bfa307520346336c195f13dd5a64439afc8',\n",
       "  'id': 80721709,\n",
       "  'location_subtype': '',\n",
       "  'month': '2020-01'},\n",
       " {'category': 'other-theft',\n",
       "  'location_type': None,\n",
       "  'location': None,\n",
       "  'context': '',\n",
       "  'outcome_status': {'category': 'Status update unavailable',\n",
       "   'date': '2020-05'},\n",
       "  'persistent_id': '788448c0193241e5f5c536ed16736fd70e890aaa3dd3ef12d8f3924ad61e3f00',\n",
       "  'id': 80721317,\n",
       "  'location_subtype': '',\n",
       "  'month': '2020-01'},\n",
       " {'category': 'other-theft',\n",
       "  'location_type': None,\n",
       "  'location': None,\n",
       "  'context': '',\n",
       "  'outcome_status': {'category': 'Status update unavailable',\n",
       "   'date': '2020-05'},\n",
       "  'persistent_id': '844724ff10dbfb0a51aad15f23eb66cbe674cbb4f58ec69ecb1610a6c6f0153e',\n",
       "  'id': 80721912,\n",
       "  'location_subtype': '',\n",
       "  'month': '2020-01'},\n",
       " {'category': 'other-theft',\n",
       "  'location_type': None,\n",
       "  'location': None,\n",
       "  'context': '',\n",
       "  'outcome_status': {'category': 'Investigation complete; no suspect identified',\n",
       "   'date': '2020-01'},\n",
       "  'persistent_id': 'e82990d98a37125f4985ce9433e0788e44f9d5fb5189d39f075582003f896d4c',\n",
       "  'id': 80721653,\n",
       "  'location_subtype': '',\n",
       "  'month': '2020-01'},\n",
       " {'category': 'other-theft',\n",
       "  'location_type': None,\n",
       "  'location': None,\n",
       "  'context': '',\n",
       "  'outcome_status': {'category': 'Investigation complete; no suspect identified',\n",
       "   'date': '2020-01'},\n",
       "  'persistent_id': '0b4a092a58ba0664aef4f4eeae5503ee4b1c3d8181bd01fd31486eedfe27b07d',\n",
       "  'id': 80721790,\n",
       "  'location_subtype': '',\n",
       "  'month': '2020-01'},\n",
       " {'category': 'public-order',\n",
       "  'location_type': None,\n",
       "  'location': None,\n",
       "  'context': '',\n",
       "  'outcome_status': {'category': 'Investigation complete; no suspect identified',\n",
       "   'date': '2020-04'},\n",
       "  'persistent_id': '05a1260c0f9bf1f0ed82999dade3a17c3d90b98d1cc427e49099da9e61639fde',\n",
       "  'id': 80721361,\n",
       "  'location_subtype': '',\n",
       "  'month': '2020-01'},\n",
       " {'category': 'public-order',\n",
       "  'location_type': None,\n",
       "  'location': None,\n",
       "  'context': '',\n",
       "  'outcome_status': {'category': 'Status update unavailable',\n",
       "   'date': '2020-05'},\n",
       "  'persistent_id': '200af083133bc5deaa625e80c6598d3ea7b8c33ef1c72868ffbd6560e3fb540a',\n",
       "  'id': 80721789,\n",
       "  'location_subtype': '',\n",
       "  'month': '2020-01'},\n",
       " {'category': 'public-order',\n",
       "  'location_type': None,\n",
       "  'location': None,\n",
       "  'context': '',\n",
       "  'outcome_status': {'category': 'Court result unavailable',\n",
       "   'date': '2020-07'},\n",
       "  'persistent_id': '6edbb1d6b4481228acf35f703692c8cb71997d70f1102fe49a63056438419b9b',\n",
       "  'id': 80721792,\n",
       "  'location_subtype': '',\n",
       "  'month': '2020-01'},\n",
       " {'category': 'shoplifting',\n",
       "  'location_type': None,\n",
       "  'location': None,\n",
       "  'context': '',\n",
       "  'outcome_status': {'category': 'Offender given a caution',\n",
       "   'date': '2020-02'},\n",
       "  'persistent_id': 'f4e75526f93f7c28f9b320aed205ec9325becde2d5a40f29966d293efbecf7f1',\n",
       "  'id': 80721682,\n",
       "  'location_subtype': '',\n",
       "  'month': '2020-01'},\n",
       " {'category': 'shoplifting',\n",
       "  'location_type': None,\n",
       "  'location': None,\n",
       "  'context': '',\n",
       "  'outcome_status': {'category': 'Investigation complete; no suspect identified',\n",
       "   'date': '2020-01'},\n",
       "  'persistent_id': '0be8d871ee00e9966202f7320227be162e0d53e80b5c8e81dd659ad3a61bbb13',\n",
       "  'id': 80721360,\n",
       "  'location_subtype': '',\n",
       "  'month': '2020-01'},\n",
       " {'category': 'shoplifting',\n",
       "  'location_type': None,\n",
       "  'location': None,\n",
       "  'context': '',\n",
       "  'outcome_status': {'category': 'Court result unavailable',\n",
       "   'date': '2020-07'},\n",
       "  'persistent_id': 'fed107976d3964ac0bae13b9c1f33bd0ccb8652b7e88eaa21afa1fbedea3752f',\n",
       "  'id': 80721568,\n",
       "  'location_subtype': '',\n",
       "  'month': '2020-01'},\n",
       " {'category': 'shoplifting',\n",
       "  'location_type': None,\n",
       "  'location': None,\n",
       "  'context': '',\n",
       "  'outcome_status': {'category': 'Status update unavailable',\n",
       "   'date': '2020-05'},\n",
       "  'persistent_id': '80ae835765245e775baeb43cdf8c8bef354af5b7c86ab7f20e72dbf4e41f5b46',\n",
       "  'id': 80721569,\n",
       "  'location_subtype': '',\n",
       "  'month': '2020-01'},\n",
       " {'category': 'shoplifting',\n",
       "  'location_type': None,\n",
       "  'location': None,\n",
       "  'context': '',\n",
       "  'outcome_status': {'category': 'Investigation complete; no suspect identified',\n",
       "   'date': '2020-01'},\n",
       "  'persistent_id': 'da4605ba352d3c5573fceac405fe7c38af4190d24f5f6fbb4949102124fd731a',\n",
       "  'id': 80721618,\n",
       "  'location_subtype': '',\n",
       "  'month': '2020-01'},\n",
       " {'category': 'theft-from-the-person',\n",
       "  'location_type': None,\n",
       "  'location': None,\n",
       "  'context': '',\n",
       "  'outcome_status': {'category': 'Investigation complete; no suspect identified',\n",
       "   'date': '2020-01'},\n",
       "  'persistent_id': '6f9372afda5894701a33cbd86cc5343467d70af3a13d04db88815f59a2cd579a',\n",
       "  'id': 80721387,\n",
       "  'location_subtype': '',\n",
       "  'month': '2020-01'},\n",
       " {'category': 'theft-from-the-person',\n",
       "  'location_type': None,\n",
       "  'location': None,\n",
       "  'context': '',\n",
       "  'outcome_status': {'category': 'Investigation complete; no suspect identified',\n",
       "   'date': '2020-01'},\n",
       "  'persistent_id': 'a2fd4713b7fc26d56a3f850c9de90726c4d8b3be89aa5d480f5141f2b460cb53',\n",
       "  'id': 80721945,\n",
       "  'location_subtype': '',\n",
       "  'month': '2020-01'},\n",
       " {'category': 'theft-from-the-person',\n",
       "  'location_type': None,\n",
       "  'location': None,\n",
       "  'context': '',\n",
       "  'outcome_status': {'category': 'Investigation complete; no suspect identified',\n",
       "   'date': '2020-01'},\n",
       "  'persistent_id': '7622c7b9285516539fb187769ae5b7abec9b6b6f8a9ce2d5d0f18c5661b35361',\n",
       "  'id': 80721414,\n",
       "  'location_subtype': '',\n",
       "  'month': '2020-01'},\n",
       " {'category': 'theft-from-the-person',\n",
       "  'location_type': None,\n",
       "  'location': None,\n",
       "  'context': '',\n",
       "  'outcome_status': {'category': 'Investigation complete; no suspect identified',\n",
       "   'date': '2020-01'},\n",
       "  'persistent_id': 'fcaa00872983974ea91084b36e1bb7b868247df5ceb299a5fa7ec9f62a690860',\n",
       "  'id': 80721288,\n",
       "  'location_subtype': '',\n",
       "  'month': '2020-01'},\n",
       " {'category': 'theft-from-the-person',\n",
       "  'location_type': None,\n",
       "  'location': None,\n",
       "  'context': '',\n",
       "  'outcome_status': {'category': 'Investigation complete; no suspect identified',\n",
       "   'date': '2020-01'},\n",
       "  'persistent_id': '098c771d27064c9c795817b63116c03fedf9ac7b65c99024d21898e2b87b20c3',\n",
       "  'id': 80721617,\n",
       "  'location_subtype': '',\n",
       "  'month': '2020-01'},\n",
       " {'category': 'theft-from-the-person',\n",
       "  'location_type': None,\n",
       "  'location': None,\n",
       "  'context': '',\n",
       "  'outcome_status': {'category': 'Investigation complete; no suspect identified',\n",
       "   'date': '2020-01'},\n",
       "  'persistent_id': 'c23fc5f9c5654c8f20e4be618e8f6986c6414d5e087cab97ad7032bf49b73858',\n",
       "  'id': 80721587,\n",
       "  'location_subtype': '',\n",
       "  'month': '2020-01'},\n",
       " {'category': 'vehicle-crime',\n",
       "  'location_type': None,\n",
       "  'location': None,\n",
       "  'context': '',\n",
       "  'outcome_status': {'category': 'Status update unavailable',\n",
       "   'date': '2020-05'},\n",
       "  'persistent_id': '512906eb174830cc15766f90e613e6048b844d8b4976d373b362946ff4e48a36',\n",
       "  'id': 80721846,\n",
       "  'location_subtype': '',\n",
       "  'month': '2020-01'},\n",
       " {'category': 'vehicle-crime',\n",
       "  'location_type': None,\n",
       "  'location': None,\n",
       "  'context': '',\n",
       "  'outcome_status': {'category': 'Investigation complete; no suspect identified',\n",
       "   'date': '2020-01'},\n",
       "  'persistent_id': 'e0414be6cc7f8fd5e03ac9e7aea8888590ae331733cd624247d544137fb134a2',\n",
       "  'id': 80721331,\n",
       "  'location_subtype': '',\n",
       "  'month': '2020-01'},\n",
       " {'category': 'violent-crime',\n",
       "  'location_type': None,\n",
       "  'location': None,\n",
       "  'context': '',\n",
       "  'outcome_status': {'category': 'Status update unavailable',\n",
       "   'date': '2020-05'},\n",
       "  'persistent_id': 'f4371d135549714330e28aeb061ed366c02b75bbbcb0bb46e4076e67952c297e',\n",
       "  'id': 80721941,\n",
       "  'location_subtype': '',\n",
       "  'month': '2020-01'},\n",
       " {'category': 'violent-crime',\n",
       "  'location_type': None,\n",
       "  'location': None,\n",
       "  'context': '',\n",
       "  'outcome_status': {'category': 'Status update unavailable',\n",
       "   'date': '2020-05'},\n",
       "  'persistent_id': 'c41e990b2258cfb649caf5b22abc634a12f592415c3585b0bd35ecb0e4bd8885',\n",
       "  'id': 80721944,\n",
       "  'location_subtype': '',\n",
       "  'month': '2020-01'},\n",
       " {'category': 'violent-crime',\n",
       "  'location_type': None,\n",
       "  'location': None,\n",
       "  'context': '',\n",
       "  'outcome_status': {'category': 'Unable to prosecute suspect',\n",
       "   'date': '2020-02'},\n",
       "  'persistent_id': '05e69e8ed5beafcef77eb0a08eef371b2e0c88cbaf213594149f7ab12adfc346',\n",
       "  'id': 80721436,\n",
       "  'location_subtype': '',\n",
       "  'month': '2020-01'},\n",
       " {'category': 'violent-crime',\n",
       "  'location_type': None,\n",
       "  'location': None,\n",
       "  'context': '',\n",
       "  'outcome_status': {'category': 'Status update unavailable',\n",
       "   'date': '2020-05'},\n",
       "  'persistent_id': '3acd69aab7098d02500814e16816dd0f5f3efe596f37e0f38cff1f7792f61004',\n",
       "  'id': 80721881,\n",
       "  'location_subtype': '',\n",
       "  'month': '2020-01'},\n",
       " {'category': 'violent-crime',\n",
       "  'location_type': None,\n",
       "  'location': None,\n",
       "  'context': '',\n",
       "  'outcome_status': {'category': 'Status update unavailable',\n",
       "   'date': '2020-05'},\n",
       "  'persistent_id': 'd901837987fd929c9dfc1020a05f85771a5447262a834c1ecf5403ac83c2a324',\n",
       "  'id': 80721975,\n",
       "  'location_subtype': '',\n",
       "  'month': '2020-01'},\n",
       " {'category': 'violent-crime',\n",
       "  'location_type': None,\n",
       "  'location': None,\n",
       "  'context': '',\n",
       "  'outcome_status': {'category': 'Status update unavailable',\n",
       "   'date': '2020-05'},\n",
       "  'persistent_id': 'efdcc2833f5dfc8ae5732e277f71b40b04c1c00d6ae15d59e79f176800061332',\n",
       "  'id': 80721942,\n",
       "  'location_subtype': '',\n",
       "  'month': '2020-01'},\n",
       " {'category': 'violent-crime',\n",
       "  'location_type': None,\n",
       "  'location': None,\n",
       "  'context': '',\n",
       "  'outcome_status': {'category': 'Status update unavailable',\n",
       "   'date': '2020-05'},\n",
       "  'persistent_id': 'e0ab84fecfd71f6481dbd079f51b5e70bb1ba68fb93080a8b3fd8b9b85a0f1e3',\n",
       "  'id': 80721943,\n",
       "  'location_subtype': '',\n",
       "  'month': '2020-01'},\n",
       " {'category': 'other-crime',\n",
       "  'location_type': None,\n",
       "  'location': None,\n",
       "  'context': '',\n",
       "  'outcome_status': {'category': 'Status update unavailable',\n",
       "   'date': '2020-05'},\n",
       "  'persistent_id': '295d1dac24600a390016952a8e612d1f2d22270784da88f4a54f82a552c0e2cf',\n",
       "  'id': 80721478,\n",
       "  'location_subtype': '',\n",
       "  'month': '2020-01'},\n",
       " {'category': 'other-crime',\n",
       "  'location_type': None,\n",
       "  'location': None,\n",
       "  'context': '',\n",
       "  'outcome_status': {'category': 'Investigation complete; no suspect identified',\n",
       "   'date': '2021-07'},\n",
       "  'persistent_id': 'ebd23a8f2377aee9e1b1a09df0f02f3065275efab170fb579334620c4c67af91',\n",
       "  'id': 80721977,\n",
       "  'location_subtype': '',\n",
       "  'month': '2020-01'},\n",
       " {'category': 'other-crime',\n",
       "  'location_type': None,\n",
       "  'location': None,\n",
       "  'context': '',\n",
       "  'outcome_status': {'category': 'Investigation complete; no suspect identified',\n",
       "   'date': '2020-03'},\n",
       "  'persistent_id': '095dfa4b8a07684dec597af8df4a80366ace8cd6a7d4bae8cfe58cb3c0f72725',\n",
       "  'id': 80721976,\n",
       "  'location_subtype': '',\n",
       "  'month': '2020-01'},\n",
       " {'category': 'other-crime',\n",
       "  'location_type': None,\n",
       "  'location': None,\n",
       "  'context': '',\n",
       "  'outcome_status': {'category': 'Local resolution', 'date': '2020-03'},\n",
       "  'persistent_id': 'c12c84ade24eb9c15f311c8d7fdabf32a73b576f855b90be47f2a884a412cf93',\n",
       "  'id': 80721362,\n",
       "  'location_subtype': '',\n",
       "  'month': '2020-01'},\n",
       " {'category': 'other-crime',\n",
       "  'location_type': None,\n",
       "  'location': None,\n",
       "  'context': '',\n",
       "  'outcome_status': {'category': 'Unable to prosecute suspect',\n",
       "   'date': '2022-01'},\n",
       "  'persistent_id': '579b6100a5d1f6a960cbe5601f24a35b07da5914e608545a410e5a3e5e308923',\n",
       "  'id': 80721567,\n",
       "  'location_subtype': '',\n",
       "  'month': '2020-01'}]"
      ]
     },
     "execution_count": 17,
     "metadata": {},
     "output_type": "execute_result"
    }
   ],
   "source": [
    "response.json()"
   ]
  },
  {
   "cell_type": "code",
   "execution_count": 41,
   "metadata": {},
   "outputs": [],
   "source": [
    "from collections import Counter\n",
    "class SucRaporu():\n",
    "    def __init__(self, bolge, tarih, suc_tipi='all-crime'):\n",
    "        self.bolge = bolge\n",
    "        self.tarih = tarih\n",
    "        self.suc_tipi = suc_tipi\n",
    "        self.suclar = self.suclari_bul()\n",
    "\n",
    "    def suclari_bul(self):\n",
    "        suc_URL = 'https://data.police.uk/api/crimes-no-location'\n",
    "\n",
    "        payload = {\n",
    "            'category': self.suc_tipi,\n",
    "            'force': self.bolge,\n",
    "            'date': self.tarih}\n",
    "        response = requests.get(suc_URL, params=payload)\n",
    "\n",
    "        if response.status_code == 200:\n",
    "            return response.json()\n",
    "        else:\n",
    "            return None\n",
    "    \n",
    "    def suclari_raporla(self):\n",
    "        suclar_listesi = []\n",
    "\n",
    "        if self.suclar is not None:\n",
    "            for suc in self.suclar:\n",
    "                suclar_listesi.append(suc['category'])\n",
    "\n",
    "            return Counter(suclar_listesi)"
   ]
  },
  {
   "cell_type": "code",
   "execution_count": 49,
   "metadata": {},
   "outputs": [],
   "source": [
    "sr = SucRaporu('norfolk', '2020-02', 'bicycle-theft')"
   ]
  },
  {
   "cell_type": "code",
   "execution_count": 43,
   "metadata": {},
   "outputs": [
    {
     "data": {
      "text/plain": [
       "[{'category': 'anti-social-behaviour',\n",
       "  'location_type': None,\n",
       "  'location': None,\n",
       "  'context': '',\n",
       "  'outcome_status': None,\n",
       "  'persistent_id': '',\n",
       "  'id': 80721793,\n",
       "  'location_subtype': '',\n",
       "  'month': '2020-01'},\n",
       " {'category': 'anti-social-behaviour',\n",
       "  'location_type': None,\n",
       "  'location': None,\n",
       "  'context': '',\n",
       "  'outcome_status': None,\n",
       "  'persistent_id': '',\n",
       "  'id': 80721237,\n",
       "  'location_subtype': '',\n",
       "  'month': '2020-01'},\n",
       " {'category': 'anti-social-behaviour',\n",
       "  'location_type': None,\n",
       "  'location': None,\n",
       "  'context': '',\n",
       "  'outcome_status': None,\n",
       "  'persistent_id': '',\n",
       "  'id': 80721883,\n",
       "  'location_subtype': '',\n",
       "  'month': '2020-01'},\n",
       " {'category': 'anti-social-behaviour',\n",
       "  'location_type': None,\n",
       "  'location': None,\n",
       "  'context': '',\n",
       "  'outcome_status': None,\n",
       "  'persistent_id': '',\n",
       "  'id': 80721359,\n",
       "  'location_subtype': '',\n",
       "  'month': '2020-01'},\n",
       " {'category': 'anti-social-behaviour',\n",
       "  'location_type': None,\n",
       "  'location': None,\n",
       "  'context': '',\n",
       "  'outcome_status': None,\n",
       "  'persistent_id': '',\n",
       "  'id': 80721386,\n",
       "  'location_subtype': '',\n",
       "  'month': '2020-01'},\n",
       " {'category': 'anti-social-behaviour',\n",
       "  'location_type': None,\n",
       "  'location': None,\n",
       "  'context': '',\n",
       "  'outcome_status': None,\n",
       "  'persistent_id': '',\n",
       "  'id': 80721412,\n",
       "  'location_subtype': '',\n",
       "  'month': '2020-01'},\n",
       " {'category': 'anti-social-behaviour',\n",
       "  'location_type': None,\n",
       "  'location': None,\n",
       "  'context': '',\n",
       "  'outcome_status': None,\n",
       "  'persistent_id': '',\n",
       "  'id': 80721710,\n",
       "  'location_subtype': '',\n",
       "  'month': '2020-01'},\n",
       " {'category': 'anti-social-behaviour',\n",
       "  'location_type': None,\n",
       "  'location': None,\n",
       "  'context': '',\n",
       "  'outcome_status': None,\n",
       "  'persistent_id': '',\n",
       "  'id': 80721788,\n",
       "  'location_subtype': '',\n",
       "  'month': '2020-01'},\n",
       " {'category': 'anti-social-behaviour',\n",
       "  'location_type': None,\n",
       "  'location': None,\n",
       "  'context': '',\n",
       "  'outcome_status': None,\n",
       "  'persistent_id': '',\n",
       "  'id': 80721946,\n",
       "  'location_subtype': '',\n",
       "  'month': '2020-01'},\n",
       " {'category': 'anti-social-behaviour',\n",
       "  'location_type': None,\n",
       "  'location': None,\n",
       "  'context': '',\n",
       "  'outcome_status': None,\n",
       "  'persistent_id': '',\n",
       "  'id': 80721911,\n",
       "  'location_subtype': '',\n",
       "  'month': '2020-01'},\n",
       " {'category': 'anti-social-behaviour',\n",
       "  'location_type': None,\n",
       "  'location': None,\n",
       "  'context': '',\n",
       "  'outcome_status': None,\n",
       "  'persistent_id': '',\n",
       "  'id': 80721263,\n",
       "  'location_subtype': '',\n",
       "  'month': '2020-01'},\n",
       " {'category': 'anti-social-behaviour',\n",
       "  'location_type': None,\n",
       "  'location': None,\n",
       "  'context': '',\n",
       "  'outcome_status': None,\n",
       "  'persistent_id': '',\n",
       "  'id': 80721264,\n",
       "  'location_subtype': '',\n",
       "  'month': '2020-01'},\n",
       " {'category': 'anti-social-behaviour',\n",
       "  'location_type': None,\n",
       "  'location': None,\n",
       "  'context': '',\n",
       "  'outcome_status': None,\n",
       "  'persistent_id': '',\n",
       "  'id': 80721316,\n",
       "  'location_subtype': '',\n",
       "  'month': '2020-01'},\n",
       " {'category': 'anti-social-behaviour',\n",
       "  'location_type': None,\n",
       "  'location': None,\n",
       "  'context': '',\n",
       "  'outcome_status': None,\n",
       "  'persistent_id': '',\n",
       "  'id': 80721413,\n",
       "  'location_subtype': '',\n",
       "  'month': '2020-01'},\n",
       " {'category': 'bicycle-theft',\n",
       "  'location_type': None,\n",
       "  'location': None,\n",
       "  'context': '',\n",
       "  'outcome_status': {'category': 'Investigation complete; no suspect identified',\n",
       "   'date': '2020-01'},\n",
       "  'persistent_id': '74b38832e0cc62af7cbd5cde4b784ad2578fbf489fa40db4f49f3274ea2a996f',\n",
       "  'id': 80721759,\n",
       "  'location_subtype': '',\n",
       "  'month': '2020-01'},\n",
       " {'category': 'burglary',\n",
       "  'location_type': None,\n",
       "  'location': None,\n",
       "  'context': '',\n",
       "  'outcome_status': {'category': 'Investigation complete; no suspect identified',\n",
       "   'date': '2020-01'},\n",
       "  'persistent_id': '7eccf964ded0c63a4e84e8865451ba7d1b1f8655f9e516c6613fddb62d70bb1e',\n",
       "  'id': 80721589,\n",
       "  'location_subtype': '',\n",
       "  'month': '2020-01'},\n",
       " {'category': 'burglary',\n",
       "  'location_type': None,\n",
       "  'location': None,\n",
       "  'context': '',\n",
       "  'outcome_status': {'category': 'Unable to prosecute suspect',\n",
       "   'date': '2020-09'},\n",
       "  'persistent_id': '66cdf400ea9ab411be85ded2e1b436782be206673e8565a471ebe64a2f50a69e',\n",
       "  'id': 80721588,\n",
       "  'location_subtype': '',\n",
       "  'month': '2020-01'},\n",
       " {'category': 'burglary',\n",
       "  'location_type': None,\n",
       "  'location': None,\n",
       "  'context': '',\n",
       "  'outcome_status': {'category': 'Investigation complete; no suspect identified',\n",
       "   'date': '2020-02'},\n",
       "  'persistent_id': 'c9a9cbbf3842711c51ceafd35102a0d1f3cbe1d25d7d688afe493d6727dc9325',\n",
       "  'id': 80721537,\n",
       "  'location_subtype': '',\n",
       "  'month': '2020-01'},\n",
       " {'category': 'criminal-damage-arson',\n",
       "  'location_type': None,\n",
       "  'location': None,\n",
       "  'context': '',\n",
       "  'outcome_status': {'category': 'Status update unavailable',\n",
       "   'date': '2020-05'},\n",
       "  'persistent_id': '311e136635b128e8685cdd0cccb90b1ded2ec4ab5b85bfc8361f06e3e1f41950',\n",
       "  'id': 80721538,\n",
       "  'location_subtype': '',\n",
       "  'month': '2020-01'},\n",
       " {'category': 'drugs',\n",
       "  'location_type': None,\n",
       "  'location': None,\n",
       "  'context': '',\n",
       "  'outcome_status': {'category': 'Court result unavailable',\n",
       "   'date': '2020-08'},\n",
       "  'persistent_id': 'c8ccb38b3e9946cbc6061421520e304ae56424307fd784b5e81d2fa2f98087a2',\n",
       "  'id': 80721286,\n",
       "  'location_subtype': '',\n",
       "  'month': '2020-01'},\n",
       " {'category': 'drugs',\n",
       "  'location_type': None,\n",
       "  'location': None,\n",
       "  'context': '',\n",
       "  'outcome_status': {'category': 'Court result unavailable',\n",
       "   'date': '2020-08'},\n",
       "  'persistent_id': '8ec48429615168edb7599db1d95ec937caa2350aa355435788d13139c8f6a98c',\n",
       "  'id': 80721318,\n",
       "  'location_subtype': '',\n",
       "  'month': '2020-01'},\n",
       " {'category': 'drugs',\n",
       "  'location_type': None,\n",
       "  'location': None,\n",
       "  'context': '',\n",
       "  'outcome_status': {'category': 'Formal action is not in the public interest',\n",
       "   'date': '2020-02'},\n",
       "  'persistent_id': 'bb42cac3a457628b3dceee5a7c8ad24a03bc2b8dabd76da8234b974e841a2b67',\n",
       "  'id': 80721882,\n",
       "  'location_subtype': '',\n",
       "  'month': '2020-01'},\n",
       " {'category': 'drugs',\n",
       "  'location_type': None,\n",
       "  'location': None,\n",
       "  'context': '',\n",
       "  'outcome_status': {'category': 'Offender given a caution',\n",
       "   'date': '2020-07'},\n",
       "  'persistent_id': 'b7d6c4fdfe6779c6b6d2db0c3f8f42ac0dc2326b8ba904e5fd90afb612096bb1',\n",
       "  'id': 80721512,\n",
       "  'location_subtype': '',\n",
       "  'month': '2020-01'},\n",
       " {'category': 'drugs',\n",
       "  'location_type': None,\n",
       "  'location': None,\n",
       "  'context': '',\n",
       "  'outcome_status': {'category': 'Court result unavailable',\n",
       "   'date': '2020-07'},\n",
       "  'persistent_id': '3db1cdc0c10c64c65b1e24450b271fbd9b3bd7893fa7bac57b9ac85ce43131c5',\n",
       "  'id': 80721388,\n",
       "  'location_subtype': '',\n",
       "  'month': '2020-01'},\n",
       " {'category': 'other-theft',\n",
       "  'location_type': None,\n",
       "  'location': None,\n",
       "  'context': '',\n",
       "  'outcome_status': {'category': 'Offender given a caution',\n",
       "   'date': '2020-03'},\n",
       "  'persistent_id': '4403bd3529ecf6c6676845085fd69d313ce4688930a6dee24171f52b09b36755',\n",
       "  'id': 80721513,\n",
       "  'location_subtype': '',\n",
       "  'month': '2020-01'},\n",
       " {'category': 'other-theft',\n",
       "  'location_type': None,\n",
       "  'location': None,\n",
       "  'context': '',\n",
       "  'outcome_status': {'category': 'Investigation complete; no suspect identified',\n",
       "   'date': '2020-03'},\n",
       "  'persistent_id': '0b48956d131846ec3d76707ffcaee8c6b7a29cf90a4b8aa9239a3fc5df5fbf35',\n",
       "  'id': 80721681,\n",
       "  'location_subtype': '',\n",
       "  'month': '2020-01'},\n",
       " {'category': 'other-theft',\n",
       "  'location_type': None,\n",
       "  'location': None,\n",
       "  'context': '',\n",
       "  'outcome_status': {'category': 'Unable to prosecute suspect',\n",
       "   'date': '2021-06'},\n",
       "  'persistent_id': '678f9a511288b2ee3ea8b3b5a9ba7a311fce71fdeea903dbea9451cf444f0ae2',\n",
       "  'id': 80721884,\n",
       "  'location_subtype': '',\n",
       "  'month': '2020-01'},\n",
       " {'category': 'other-theft',\n",
       "  'location_type': None,\n",
       "  'location': None,\n",
       "  'context': '',\n",
       "  'outcome_status': {'category': 'Investigation complete; no suspect identified',\n",
       "   'date': '2020-01'},\n",
       "  'persistent_id': 'c619e0625ef6067ff68e5f99f5eab04f6ebbf5ab79232c29f11b7617ed640b8f',\n",
       "  'id': 80721711,\n",
       "  'location_subtype': '',\n",
       "  'month': '2020-01'},\n",
       " {'category': 'other-theft',\n",
       "  'location_type': None,\n",
       "  'location': None,\n",
       "  'context': '',\n",
       "  'outcome_status': {'category': 'Further investigation is not in the public interest',\n",
       "   'date': '2020-01'},\n",
       "  'persistent_id': 'acd1dfc648d0e0ef41c1f86854f4c04941d8e4f2736d49190c2c2db6624a54dd',\n",
       "  'id': 80721315,\n",
       "  'location_subtype': '',\n",
       "  'month': '2020-01'},\n",
       " {'category': 'other-theft',\n",
       "  'location_type': None,\n",
       "  'location': None,\n",
       "  'context': '',\n",
       "  'outcome_status': {'category': 'Investigation complete; no suspect identified',\n",
       "   'date': '2020-01'},\n",
       "  'persistent_id': '978fc64dd12331d7fa77e4ffe2bfd66cc79a78f16bd438b912aeb64bc912c795',\n",
       "  'id': 80721791,\n",
       "  'location_subtype': '',\n",
       "  'month': '2020-01'},\n",
       " {'category': 'other-theft',\n",
       "  'location_type': None,\n",
       "  'location': None,\n",
       "  'context': '',\n",
       "  'outcome_status': {'category': 'Investigation complete; no suspect identified',\n",
       "   'date': '2020-01'},\n",
       "  'persistent_id': 'b5e0b3a2f625aa0cfb3175a2ab68d69f3159e1435c6e86bf1b77005167ff5075',\n",
       "  'id': 80721514,\n",
       "  'location_subtype': '',\n",
       "  'month': '2020-01'},\n",
       " {'category': 'other-theft',\n",
       "  'location_type': None,\n",
       "  'location': None,\n",
       "  'context': '',\n",
       "  'outcome_status': {'category': 'Investigation complete; no suspect identified',\n",
       "   'date': '2020-01'},\n",
       "  'persistent_id': '054fc78e5bb03867d2ac8264ce6d64594f400b9ca85d21bc5f555b7ec88dd5c3',\n",
       "  'id': 80721287,\n",
       "  'location_subtype': '',\n",
       "  'month': '2020-01'},\n",
       " {'category': 'other-theft',\n",
       "  'location_type': None,\n",
       "  'location': None,\n",
       "  'context': '',\n",
       "  'outcome_status': {'category': 'Investigation complete; no suspect identified',\n",
       "   'date': '2020-01'},\n",
       "  'persistent_id': '7239150dba80611e6c06153cab32e33566ab4267b18ad050f2d1a5fb9fec2368',\n",
       "  'id': 80721238,\n",
       "  'location_subtype': '',\n",
       "  'month': '2020-01'},\n",
       " {'category': 'other-theft',\n",
       "  'location_type': None,\n",
       "  'location': None,\n",
       "  'context': '',\n",
       "  'outcome_status': {'category': 'Investigation complete; no suspect identified',\n",
       "   'date': '2020-01'},\n",
       "  'persistent_id': '213739311d8242c2b9a9ece1621de396a58e075094e1bd401759b815713264b4',\n",
       "  'id': 80721456,\n",
       "  'location_subtype': '',\n",
       "  'month': '2020-01'},\n",
       " {'category': 'other-theft',\n",
       "  'location_type': None,\n",
       "  'location': None,\n",
       "  'context': '',\n",
       "  'outcome_status': {'category': 'Investigation complete; no suspect identified',\n",
       "   'date': '2020-01'},\n",
       "  'persistent_id': 'e333dff315006dd1f2a758ce10d9f7ce0f0adcd4f9efc26a280b6c8b5885864b',\n",
       "  'id': 80722009,\n",
       "  'location_subtype': '',\n",
       "  'month': '2020-01'},\n",
       " {'category': 'other-theft',\n",
       "  'location_type': None,\n",
       "  'location': None,\n",
       "  'context': '',\n",
       "  'outcome_status': {'category': 'Unable to prosecute suspect',\n",
       "   'date': '2021-03'},\n",
       "  'persistent_id': '7b324525cd639be1271e516843ae3bfa307520346336c195f13dd5a64439afc8',\n",
       "  'id': 80721709,\n",
       "  'location_subtype': '',\n",
       "  'month': '2020-01'},\n",
       " {'category': 'other-theft',\n",
       "  'location_type': None,\n",
       "  'location': None,\n",
       "  'context': '',\n",
       "  'outcome_status': {'category': 'Status update unavailable',\n",
       "   'date': '2020-05'},\n",
       "  'persistent_id': '788448c0193241e5f5c536ed16736fd70e890aaa3dd3ef12d8f3924ad61e3f00',\n",
       "  'id': 80721317,\n",
       "  'location_subtype': '',\n",
       "  'month': '2020-01'},\n",
       " {'category': 'other-theft',\n",
       "  'location_type': None,\n",
       "  'location': None,\n",
       "  'context': '',\n",
       "  'outcome_status': {'category': 'Status update unavailable',\n",
       "   'date': '2020-05'},\n",
       "  'persistent_id': '844724ff10dbfb0a51aad15f23eb66cbe674cbb4f58ec69ecb1610a6c6f0153e',\n",
       "  'id': 80721912,\n",
       "  'location_subtype': '',\n",
       "  'month': '2020-01'},\n",
       " {'category': 'other-theft',\n",
       "  'location_type': None,\n",
       "  'location': None,\n",
       "  'context': '',\n",
       "  'outcome_status': {'category': 'Investigation complete; no suspect identified',\n",
       "   'date': '2020-01'},\n",
       "  'persistent_id': 'e82990d98a37125f4985ce9433e0788e44f9d5fb5189d39f075582003f896d4c',\n",
       "  'id': 80721653,\n",
       "  'location_subtype': '',\n",
       "  'month': '2020-01'},\n",
       " {'category': 'other-theft',\n",
       "  'location_type': None,\n",
       "  'location': None,\n",
       "  'context': '',\n",
       "  'outcome_status': {'category': 'Investigation complete; no suspect identified',\n",
       "   'date': '2020-01'},\n",
       "  'persistent_id': '0b4a092a58ba0664aef4f4eeae5503ee4b1c3d8181bd01fd31486eedfe27b07d',\n",
       "  'id': 80721790,\n",
       "  'location_subtype': '',\n",
       "  'month': '2020-01'},\n",
       " {'category': 'public-order',\n",
       "  'location_type': None,\n",
       "  'location': None,\n",
       "  'context': '',\n",
       "  'outcome_status': {'category': 'Investigation complete; no suspect identified',\n",
       "   'date': '2020-04'},\n",
       "  'persistent_id': '05a1260c0f9bf1f0ed82999dade3a17c3d90b98d1cc427e49099da9e61639fde',\n",
       "  'id': 80721361,\n",
       "  'location_subtype': '',\n",
       "  'month': '2020-01'},\n",
       " {'category': 'public-order',\n",
       "  'location_type': None,\n",
       "  'location': None,\n",
       "  'context': '',\n",
       "  'outcome_status': {'category': 'Status update unavailable',\n",
       "   'date': '2020-05'},\n",
       "  'persistent_id': '200af083133bc5deaa625e80c6598d3ea7b8c33ef1c72868ffbd6560e3fb540a',\n",
       "  'id': 80721789,\n",
       "  'location_subtype': '',\n",
       "  'month': '2020-01'},\n",
       " {'category': 'public-order',\n",
       "  'location_type': None,\n",
       "  'location': None,\n",
       "  'context': '',\n",
       "  'outcome_status': {'category': 'Court result unavailable',\n",
       "   'date': '2020-07'},\n",
       "  'persistent_id': '6edbb1d6b4481228acf35f703692c8cb71997d70f1102fe49a63056438419b9b',\n",
       "  'id': 80721792,\n",
       "  'location_subtype': '',\n",
       "  'month': '2020-01'},\n",
       " {'category': 'shoplifting',\n",
       "  'location_type': None,\n",
       "  'location': None,\n",
       "  'context': '',\n",
       "  'outcome_status': {'category': 'Offender given a caution',\n",
       "   'date': '2020-02'},\n",
       "  'persistent_id': 'f4e75526f93f7c28f9b320aed205ec9325becde2d5a40f29966d293efbecf7f1',\n",
       "  'id': 80721682,\n",
       "  'location_subtype': '',\n",
       "  'month': '2020-01'},\n",
       " {'category': 'shoplifting',\n",
       "  'location_type': None,\n",
       "  'location': None,\n",
       "  'context': '',\n",
       "  'outcome_status': {'category': 'Investigation complete; no suspect identified',\n",
       "   'date': '2020-01'},\n",
       "  'persistent_id': '0be8d871ee00e9966202f7320227be162e0d53e80b5c8e81dd659ad3a61bbb13',\n",
       "  'id': 80721360,\n",
       "  'location_subtype': '',\n",
       "  'month': '2020-01'},\n",
       " {'category': 'shoplifting',\n",
       "  'location_type': None,\n",
       "  'location': None,\n",
       "  'context': '',\n",
       "  'outcome_status': {'category': 'Court result unavailable',\n",
       "   'date': '2020-07'},\n",
       "  'persistent_id': 'fed107976d3964ac0bae13b9c1f33bd0ccb8652b7e88eaa21afa1fbedea3752f',\n",
       "  'id': 80721568,\n",
       "  'location_subtype': '',\n",
       "  'month': '2020-01'},\n",
       " {'category': 'shoplifting',\n",
       "  'location_type': None,\n",
       "  'location': None,\n",
       "  'context': '',\n",
       "  'outcome_status': {'category': 'Status update unavailable',\n",
       "   'date': '2020-05'},\n",
       "  'persistent_id': '80ae835765245e775baeb43cdf8c8bef354af5b7c86ab7f20e72dbf4e41f5b46',\n",
       "  'id': 80721569,\n",
       "  'location_subtype': '',\n",
       "  'month': '2020-01'},\n",
       " {'category': 'shoplifting',\n",
       "  'location_type': None,\n",
       "  'location': None,\n",
       "  'context': '',\n",
       "  'outcome_status': {'category': 'Investigation complete; no suspect identified',\n",
       "   'date': '2020-01'},\n",
       "  'persistent_id': 'da4605ba352d3c5573fceac405fe7c38af4190d24f5f6fbb4949102124fd731a',\n",
       "  'id': 80721618,\n",
       "  'location_subtype': '',\n",
       "  'month': '2020-01'},\n",
       " {'category': 'theft-from-the-person',\n",
       "  'location_type': None,\n",
       "  'location': None,\n",
       "  'context': '',\n",
       "  'outcome_status': {'category': 'Investigation complete; no suspect identified',\n",
       "   'date': '2020-01'},\n",
       "  'persistent_id': '6f9372afda5894701a33cbd86cc5343467d70af3a13d04db88815f59a2cd579a',\n",
       "  'id': 80721387,\n",
       "  'location_subtype': '',\n",
       "  'month': '2020-01'},\n",
       " {'category': 'theft-from-the-person',\n",
       "  'location_type': None,\n",
       "  'location': None,\n",
       "  'context': '',\n",
       "  'outcome_status': {'category': 'Investigation complete; no suspect identified',\n",
       "   'date': '2020-01'},\n",
       "  'persistent_id': 'a2fd4713b7fc26d56a3f850c9de90726c4d8b3be89aa5d480f5141f2b460cb53',\n",
       "  'id': 80721945,\n",
       "  'location_subtype': '',\n",
       "  'month': '2020-01'},\n",
       " {'category': 'theft-from-the-person',\n",
       "  'location_type': None,\n",
       "  'location': None,\n",
       "  'context': '',\n",
       "  'outcome_status': {'category': 'Investigation complete; no suspect identified',\n",
       "   'date': '2020-01'},\n",
       "  'persistent_id': '7622c7b9285516539fb187769ae5b7abec9b6b6f8a9ce2d5d0f18c5661b35361',\n",
       "  'id': 80721414,\n",
       "  'location_subtype': '',\n",
       "  'month': '2020-01'},\n",
       " {'category': 'theft-from-the-person',\n",
       "  'location_type': None,\n",
       "  'location': None,\n",
       "  'context': '',\n",
       "  'outcome_status': {'category': 'Investigation complete; no suspect identified',\n",
       "   'date': '2020-01'},\n",
       "  'persistent_id': 'fcaa00872983974ea91084b36e1bb7b868247df5ceb299a5fa7ec9f62a690860',\n",
       "  'id': 80721288,\n",
       "  'location_subtype': '',\n",
       "  'month': '2020-01'},\n",
       " {'category': 'theft-from-the-person',\n",
       "  'location_type': None,\n",
       "  'location': None,\n",
       "  'context': '',\n",
       "  'outcome_status': {'category': 'Investigation complete; no suspect identified',\n",
       "   'date': '2020-01'},\n",
       "  'persistent_id': '098c771d27064c9c795817b63116c03fedf9ac7b65c99024d21898e2b87b20c3',\n",
       "  'id': 80721617,\n",
       "  'location_subtype': '',\n",
       "  'month': '2020-01'},\n",
       " {'category': 'theft-from-the-person',\n",
       "  'location_type': None,\n",
       "  'location': None,\n",
       "  'context': '',\n",
       "  'outcome_status': {'category': 'Investigation complete; no suspect identified',\n",
       "   'date': '2020-01'},\n",
       "  'persistent_id': 'c23fc5f9c5654c8f20e4be618e8f6986c6414d5e087cab97ad7032bf49b73858',\n",
       "  'id': 80721587,\n",
       "  'location_subtype': '',\n",
       "  'month': '2020-01'},\n",
       " {'category': 'vehicle-crime',\n",
       "  'location_type': None,\n",
       "  'location': None,\n",
       "  'context': '',\n",
       "  'outcome_status': {'category': 'Status update unavailable',\n",
       "   'date': '2020-05'},\n",
       "  'persistent_id': '512906eb174830cc15766f90e613e6048b844d8b4976d373b362946ff4e48a36',\n",
       "  'id': 80721846,\n",
       "  'location_subtype': '',\n",
       "  'month': '2020-01'},\n",
       " {'category': 'vehicle-crime',\n",
       "  'location_type': None,\n",
       "  'location': None,\n",
       "  'context': '',\n",
       "  'outcome_status': {'category': 'Investigation complete; no suspect identified',\n",
       "   'date': '2020-01'},\n",
       "  'persistent_id': 'e0414be6cc7f8fd5e03ac9e7aea8888590ae331733cd624247d544137fb134a2',\n",
       "  'id': 80721331,\n",
       "  'location_subtype': '',\n",
       "  'month': '2020-01'},\n",
       " {'category': 'violent-crime',\n",
       "  'location_type': None,\n",
       "  'location': None,\n",
       "  'context': '',\n",
       "  'outcome_status': {'category': 'Status update unavailable',\n",
       "   'date': '2020-05'},\n",
       "  'persistent_id': 'f4371d135549714330e28aeb061ed366c02b75bbbcb0bb46e4076e67952c297e',\n",
       "  'id': 80721941,\n",
       "  'location_subtype': '',\n",
       "  'month': '2020-01'},\n",
       " {'category': 'violent-crime',\n",
       "  'location_type': None,\n",
       "  'location': None,\n",
       "  'context': '',\n",
       "  'outcome_status': {'category': 'Status update unavailable',\n",
       "   'date': '2020-05'},\n",
       "  'persistent_id': 'c41e990b2258cfb649caf5b22abc634a12f592415c3585b0bd35ecb0e4bd8885',\n",
       "  'id': 80721944,\n",
       "  'location_subtype': '',\n",
       "  'month': '2020-01'},\n",
       " {'category': 'violent-crime',\n",
       "  'location_type': None,\n",
       "  'location': None,\n",
       "  'context': '',\n",
       "  'outcome_status': {'category': 'Unable to prosecute suspect',\n",
       "   'date': '2020-02'},\n",
       "  'persistent_id': '05e69e8ed5beafcef77eb0a08eef371b2e0c88cbaf213594149f7ab12adfc346',\n",
       "  'id': 80721436,\n",
       "  'location_subtype': '',\n",
       "  'month': '2020-01'},\n",
       " {'category': 'violent-crime',\n",
       "  'location_type': None,\n",
       "  'location': None,\n",
       "  'context': '',\n",
       "  'outcome_status': {'category': 'Status update unavailable',\n",
       "   'date': '2020-05'},\n",
       "  'persistent_id': '3acd69aab7098d02500814e16816dd0f5f3efe596f37e0f38cff1f7792f61004',\n",
       "  'id': 80721881,\n",
       "  'location_subtype': '',\n",
       "  'month': '2020-01'},\n",
       " {'category': 'violent-crime',\n",
       "  'location_type': None,\n",
       "  'location': None,\n",
       "  'context': '',\n",
       "  'outcome_status': {'category': 'Status update unavailable',\n",
       "   'date': '2020-05'},\n",
       "  'persistent_id': 'd901837987fd929c9dfc1020a05f85771a5447262a834c1ecf5403ac83c2a324',\n",
       "  'id': 80721975,\n",
       "  'location_subtype': '',\n",
       "  'month': '2020-01'},\n",
       " {'category': 'violent-crime',\n",
       "  'location_type': None,\n",
       "  'location': None,\n",
       "  'context': '',\n",
       "  'outcome_status': {'category': 'Status update unavailable',\n",
       "   'date': '2020-05'},\n",
       "  'persistent_id': 'efdcc2833f5dfc8ae5732e277f71b40b04c1c00d6ae15d59e79f176800061332',\n",
       "  'id': 80721942,\n",
       "  'location_subtype': '',\n",
       "  'month': '2020-01'},\n",
       " {'category': 'violent-crime',\n",
       "  'location_type': None,\n",
       "  'location': None,\n",
       "  'context': '',\n",
       "  'outcome_status': {'category': 'Status update unavailable',\n",
       "   'date': '2020-05'},\n",
       "  'persistent_id': 'e0ab84fecfd71f6481dbd079f51b5e70bb1ba68fb93080a8b3fd8b9b85a0f1e3',\n",
       "  'id': 80721943,\n",
       "  'location_subtype': '',\n",
       "  'month': '2020-01'},\n",
       " {'category': 'other-crime',\n",
       "  'location_type': None,\n",
       "  'location': None,\n",
       "  'context': '',\n",
       "  'outcome_status': {'category': 'Status update unavailable',\n",
       "   'date': '2020-05'},\n",
       "  'persistent_id': '295d1dac24600a390016952a8e612d1f2d22270784da88f4a54f82a552c0e2cf',\n",
       "  'id': 80721478,\n",
       "  'location_subtype': '',\n",
       "  'month': '2020-01'},\n",
       " {'category': 'other-crime',\n",
       "  'location_type': None,\n",
       "  'location': None,\n",
       "  'context': '',\n",
       "  'outcome_status': {'category': 'Investigation complete; no suspect identified',\n",
       "   'date': '2021-07'},\n",
       "  'persistent_id': 'ebd23a8f2377aee9e1b1a09df0f02f3065275efab170fb579334620c4c67af91',\n",
       "  'id': 80721977,\n",
       "  'location_subtype': '',\n",
       "  'month': '2020-01'},\n",
       " {'category': 'other-crime',\n",
       "  'location_type': None,\n",
       "  'location': None,\n",
       "  'context': '',\n",
       "  'outcome_status': {'category': 'Investigation complete; no suspect identified',\n",
       "   'date': '2020-03'},\n",
       "  'persistent_id': '095dfa4b8a07684dec597af8df4a80366ace8cd6a7d4bae8cfe58cb3c0f72725',\n",
       "  'id': 80721976,\n",
       "  'location_subtype': '',\n",
       "  'month': '2020-01'},\n",
       " {'category': 'other-crime',\n",
       "  'location_type': None,\n",
       "  'location': None,\n",
       "  'context': '',\n",
       "  'outcome_status': {'category': 'Local resolution', 'date': '2020-03'},\n",
       "  'persistent_id': 'c12c84ade24eb9c15f311c8d7fdabf32a73b576f855b90be47f2a884a412cf93',\n",
       "  'id': 80721362,\n",
       "  'location_subtype': '',\n",
       "  'month': '2020-01'},\n",
       " {'category': 'other-crime',\n",
       "  'location_type': None,\n",
       "  'location': None,\n",
       "  'context': '',\n",
       "  'outcome_status': {'category': 'Unable to prosecute suspect',\n",
       "   'date': '2022-01'},\n",
       "  'persistent_id': '579b6100a5d1f6a960cbe5601f24a35b07da5914e608545a410e5a3e5e308923',\n",
       "  'id': 80721567,\n",
       "  'location_subtype': '',\n",
       "  'month': '2020-01'}]"
      ]
     },
     "execution_count": 43,
     "metadata": {},
     "output_type": "execute_result"
    }
   ],
   "source": [
    "sr.suclar"
   ]
  },
  {
   "cell_type": "code",
   "execution_count": 50,
   "metadata": {},
   "outputs": [
    {
     "data": {
      "text/plain": [
       "Counter({'bicycle-theft': 2})"
      ]
     },
     "execution_count": 50,
     "metadata": {},
     "output_type": "execute_result"
    }
   ],
   "source": [
    "sr.suclari_raporla()"
   ]
  }
 ],
 "metadata": {
  "kernelspec": {
   "display_name": "Python 3.11.0 64-bit (microsoft store)",
   "language": "python",
   "name": "python3"
  },
  "language_info": {
   "codemirror_mode": {
    "name": "ipython",
    "version": 3
   },
   "file_extension": ".py",
   "mimetype": "text/x-python",
   "name": "python",
   "nbconvert_exporter": "python",
   "pygments_lexer": "ipython3",
   "version": "3.11.1"
  },
  "orig_nbformat": 4,
  "vscode": {
   "interpreter": {
    "hash": "4395795c0bc8c4448d773fc2b5b6d7fa347e4114afc3bc6e1097a337bc3c7c3a"
   }
  }
 },
 "nbformat": 4,
 "nbformat_minor": 2
}
